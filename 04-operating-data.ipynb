{
 "cells": [
  {
   "cell_type": "markdown",
   "metadata": {
    "slideshow": {
     "slide_type": "slide"
    }
   },
   "source": [
    "# SQL 語法入門\n",
    "\n",
    "> 操作資料\n",
    "\n",
    "郭耀仁"
   ]
  },
  {
   "cell_type": "code",
   "execution_count": 1,
   "metadata": {
    "slideshow": {
     "slide_type": "subslide"
    }
   },
   "outputs": [],
   "source": [
    "# 連結資料庫\n",
    "import sqlite3\n",
    "import pandas as pd\n",
    "\n",
    "conn = sqlite3.connect('nba.db')"
   ]
  },
  {
   "cell_type": "markdown",
   "metadata": {
    "slideshow": {
     "slide_type": "subslide"
    }
   },
   "source": [
    "## 摘要\n",
    "\n",
    "- 安裝 DB Browser for SQLite(DB4S)\n",
    "- 創建、更新與刪除"
   ]
  },
  {
   "cell_type": "markdown",
   "metadata": {
    "slideshow": {
     "slide_type": "slide"
    }
   },
   "source": [
    "## 安裝 DB Browser for SQLite(DB4S)"
   ]
  },
  {
   "cell_type": "markdown",
   "metadata": {
    "slideshow": {
     "slide_type": "subslide"
    }
   },
   "source": [
    "## 下載 [DB Browser for SQLite(DB4S)](https://sqlitebrowser.org/dl/)"
   ]
  },
  {
   "cell_type": "markdown",
   "metadata": {
    "slideshow": {
     "slide_type": "subslide"
    }
   },
   "source": [
    "## 按「下一步」完成安裝\n",
    "\n",
    "![Imgur](https://i.imgur.com/55GrwYW.png?1)"
   ]
  },
  {
   "cell_type": "markdown",
   "metadata": {
    "slideshow": {
     "slide_type": "subslide"
    }
   },
   "source": [
    "## 按「下一步」完成安裝\n",
    "\n",
    "![Imgur](https://i.imgur.com/col4ZxO.png?1)"
   ]
  },
  {
   "cell_type": "markdown",
   "metadata": {
    "slideshow": {
     "slide_type": "subslide"
    }
   },
   "source": [
    "## 按「下一步」完成安裝\n",
    "\n",
    "![Imgur](https://i.imgur.com/WpZ72tQ.png?1)"
   ]
  },
  {
   "cell_type": "markdown",
   "metadata": {
    "slideshow": {
     "slide_type": "subslide"
    }
   },
   "source": [
    "## 按「下一步」完成安裝\n",
    "\n",
    "![Imgur](https://i.imgur.com/bw899dD.png?1)"
   ]
  },
  {
   "cell_type": "markdown",
   "metadata": {
    "slideshow": {
     "slide_type": "subslide"
    }
   },
   "source": [
    "## 按「下一步」完成安裝\n",
    "\n",
    "![Imgur](https://i.imgur.com/djPnZEm.png?1)"
   ]
  },
  {
   "cell_type": "markdown",
   "metadata": {
    "slideshow": {
     "slide_type": "subslide"
    }
   },
   "source": [
    "## 什麼是 [DB Browser for SQLite(DB4S)](https://sqlitebrowser.org/dl/)\n",
    "\n",
    "> 支援 SQLite 資料庫系統的開源使用者介面軟體。"
   ]
  },
  {
   "cell_type": "markdown",
   "metadata": {
    "slideshow": {
     "slide_type": "subslide"
    }
   },
   "source": [
    "## 為什麼 [DB Browser for SQLite(DB4S)](https://sqlitebrowser.org/dl/)\n",
    "\n",
    "> [DB Browser for SQLite(DB4S)](https://sqlitebrowser.org/dl/) 提供了像是試算表一樣的介面供使用者除了可以透過 SQL 指令也能夠以介面對資料進行操作。"
   ]
  },
  {
   "cell_type": "markdown",
   "metadata": {
    "slideshow": {
     "slide_type": "subslide"
    }
   },
   "source": [
    "## 舉 2019 年的 [Kaggle ML & DS Survey](https://www.kaggle.com/c/kaggle-survey-2019) 為例"
   ]
  },
  {
   "cell_type": "code",
   "execution_count": 2,
   "metadata": {
    "slideshow": {
     "slide_type": "skip"
    }
   },
   "outputs": [],
   "source": [
    "import pandas as pd\n",
    "import matplotlib.pyplot as plt\n",
    "\n",
    "def get_value_ratios(df, col_name):\n",
    "    return df[col_name].value_counts() / df[col_name].value_counts().sum()\n",
    "    \n",
    "def get_checkbox_ratios(df, col_pattern):\n",
    "    channel_names = []\n",
    "    channel_checks = []\n",
    "    for col_name in df.columns:\n",
    "        if (col_pattern in col_name) and ('OTHER_TEXT' not in col_name):\n",
    "            channel_name = df[col_name].value_counts().index\n",
    "            channel_check = df[col_name].value_counts().values\n",
    "            if channel_name.size != 0:\n",
    "                channel_names.append(channel_name[0])\n",
    "                channel_checks.append(channel_check[0])\n",
    "    channel_counts = pd.Series(channel_checks, index=channel_names)\n",
    "    channel_ratios = channel_counts / channel_counts.sum()\n",
    "    channel_ratios_sorted = channel_ratios.sort_values(ascending=False)\n",
    "    return channel_ratios_sorted\n",
    "\n",
    "def get_ax(ans_ser, plot_title, ax):\n",
    "    ax = ax\n",
    "    ans_ser = ans_ser[:10][::-1]\n",
    "    ax.barh(ans_ser.index, ans_ser.values, color=['c', 'c', 'c', 'c', 'c', 'r', 'c', 'c', 'c', 'c'])\n",
    "    ax.spines['top'].set_visible(False)\n",
    "    ax.spines['right'].set_visible(False)\n",
    "    ax.spines['bottom'].set_visible(False)\n",
    "    xtick_labels = [\"{}%\".format(i) for i in range(0, 30, 5)]\n",
    "    ax.set_xticklabels(xtick_labels)\n",
    "    ax.set_title(plot_title)\n",
    "    \n",
    "def plot_ans_34(ans_34_ser):\n",
    "    fig = plt.figure()\n",
    "    ax = plt.axes()\n",
    "    get_ax(ans_34_ser, \"Which of the following relational database products do you use on a regular basis?\", ax)\n",
    "    plt.show()\n",
    "\n",
    "survey_2019 = pd.read_csv(\"https://kaggle-ml-ds-survey.s3-ap-northeast-1.amazonaws.com/kaggle-survey-2019/multiple_choice_responses.csv\", encoding='ISO-8859-1', skiprows=[1], low_memory=False)\n",
    "da_2019 = survey_2019[survey_2019['Q5'] == 'Data Analyst']\n",
    "ans_34_ser = get_checkbox_ratios(da_2019, 'Q34')"
   ]
  },
  {
   "cell_type": "code",
   "execution_count": 3,
   "metadata": {
    "slideshow": {
     "slide_type": "-"
    }
   },
   "outputs": [
    {
     "data": {
      "image/png": "[encoded data removed]",
      "text/plain": [
       "<Figure size 432x288 with 1 Axes>"
      ]
     },
     "metadata": {
      "needs_background": "light"
     },
     "output_type": "display_data"
    }
   ],
   "source": [
    "plot_ans_34(ans_34_ser)"
   ]
  },
  {
   "cell_type": "markdown",
   "metadata": {
    "slideshow": {
     "slide_type": "subslide"
    }
   },
   "source": [
    "## 除此之外 SQLite 還有\n",
    "\n",
    "- 開源\n",
    "- 自我包含\n",
    "- 輕量\n",
    "\n",
    "...等優點。"
   ]
  },
  {
   "cell_type": "markdown",
   "metadata": {
    "slideshow": {
     "slide_type": "slide"
    }
   },
   "source": [
    "## 創建、更新與刪除"
   ]
  },
  {
   "cell_type": "markdown",
   "metadata": {
    "slideshow": {
     "slide_type": "subslide"
    }
   },
   "source": [
    "## 透過資料庫實現規模化且自動化的資料操作\n",
    "\n",
    "- C(reate) 創建\n",
    "- R(ead) 讀取\n",
    "- U(pdate) 更新\n",
    "- D(elete) 刪除"
   ]
  },
  {
   "cell_type": "markdown",
   "metadata": {
    "slideshow": {
     "slide_type": "subslide"
    }
   },
   "source": [
    "## 讀取以外，尚有創建、更新與刪除等操作"
   ]
  },
  {
   "cell_type": "markdown",
   "metadata": {
    "slideshow": {
     "slide_type": "subslide"
    }
   },
   "source": [
    "## 使用 DB4S 在本機端創建一個資料庫 `movies`\n",
    "\n",
    "![Imgur](https://i.imgur.com/p4lMISB.png)"
   ]
  },
  {
   "cell_type": "markdown",
   "metadata": {
    "slideshow": {
     "slide_type": "subslide"
    }
   },
   "source": [
    "## 以 DB4S 執行 SQL 語法\n",
    "\n",
    "![Imgur](https://i.imgur.com/1peBYBr.png)"
   ]
  },
  {
   "cell_type": "markdown",
   "metadata": {
    "slideshow": {
     "slide_type": "subslide"
    }
   },
   "source": [
    "## 以 `INSERT INTO` 語法插入觀測值\n",
    "\n",
    "```sql\n",
    "INSERT INTO movies (title, year, rating)\n",
    "VALUES \n",
    "       ('The Shawshank Redemption', 1995, 9.2),\n",
    "       ('The Godfather', 1972, 9.1),\n",
    "       ('The Dark Knight', 2008, 9.0),\n",
    "       ('Forrest Gump', 1994, 8.8);\n",
    "```"
   ]
  },
  {
   "cell_type": "markdown",
   "metadata": {
    "slideshow": {
     "slide_type": "subslide"
    }
   },
   "source": [
    "## 以 `UPDATE` 語法更新觀測值\n",
    "\n",
    "\"The Shawshank Redemption\" 於 1994 年在美國上映, 但是當年在台灣 1995 年才上映，片名取為「刺激1995」。\n",
    "\n",
    "```sql\n",
    "UPDATE movies\n",
    "   SET year = 1994\n",
    " WHERE title = 'The Shawshank Redemption';\n",
    "```"
   ]
  },
  {
   "cell_type": "markdown",
   "metadata": {
    "slideshow": {
     "slide_type": "subslide"
    }
   },
   "source": [
    "## 以 `DELETE` 語法刪除觀測值\n",
    "\n",
    "```sql\n",
    "DELETE FROM movies\n",
    "      WHERE title = 'The Godfather';\n",
    "```"
   ]
  },
  {
   "cell_type": "markdown",
   "metadata": {
    "slideshow": {
     "slide_type": "subslide"
    }
   },
   "source": [
    "## 以 `DROP` 語法刪除表格\n",
    "\n",
    "```sql\n",
    "DROP TABLE movies;\n",
    "```"
   ]
  },
  {
   "cell_type": "markdown",
   "metadata": {
    "slideshow": {
     "slide_type": "subslide"
    }
   },
   "source": [
    "## 亦可以使用者介面匯入 CSV 檔案成為表格\n",
    "\n",
    "![Imgur](https://i.imgur.com/DP97sJh.png)"
   ]
  }
 ],
 "metadata": {
  "celltoolbar": "Slideshow",
  "kernelspec": {
   "display_name": "Python Data Analysis",
   "language": "python",
   "name": "pyda"
  },
  "language_info": {
   "codemirror_mode": {
    "name": "ipython",
    "version": 3
   },
   "file_extension": ".py",
   "mimetype": "text/x-python",
   "name": "python",
   "nbconvert_exporter": "python",
   "pygments_lexer": "ipython3",
   "version": "3.6.8"
  }
 },
 "nbformat": 4,
 "nbformat_minor": 4
}
