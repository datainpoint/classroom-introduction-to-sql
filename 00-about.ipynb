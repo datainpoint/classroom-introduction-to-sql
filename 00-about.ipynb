{
 "cells": [
  {
   "cell_type": "markdown",
   "metadata": {
    "slideshow": {
     "slide_type": "slide"
    }
   },
   "source": [
    "## SQL 入門\n",
    "\n",
    "> 簡介\n",
    "\n",
    "郭耀仁"
   ]
  },
  {
   "cell_type": "code",
   "execution_count": 1,
   "metadata": {
    "slideshow": {
     "slide_type": "skip"
    }
   },
   "outputs": [],
   "source": [
    "import sqlite3\n",
    "import pandas as pd\n",
    "from test_queries.test_queries_03 import extract_test_queries as etq\n",
    "\n",
    "conn_twelection = sqlite3.connect('twelection.db')\n",
    "conn_nba = sqlite3.connect('nba.db')"
   ]
  },
  {
   "cell_type": "markdown",
   "metadata": {
    "slideshow": {
     "slide_type": "subslide"
    }
   },
   "source": [
    "## 在這門課程中，我們將入門 SQL\n",
    "\n",
    "- [快速啟動](https://yaojenkuo.io/introduction-to-sql/01-getting-started.slides.html)\n",
    "- [基本查詢](https://yaojenkuo.io/introduction-to-sql/02-retrieving-data.slides.html)\n",
    "- [資料分析](https://yaojenkuo.io/introduction-to-sql/03-analyzing-data.slides.html)\n",
    "- [操作資料](https://yaojenkuo.io/introduction-to-sql/04-operating-data.slides.html)"
   ]
  },
  {
   "cell_type": "markdown",
   "metadata": {
    "slideshow": {
     "slide_type": "subslide"
    }
   },
   "source": [
    "## 課程進行的方式\n",
    "\n",
    "- 首先是授課\n",
    "- 接著是範例\n",
    "- 最後是隨堂練習"
   ]
  },
  {
   "cell_type": "markdown",
   "metadata": {
    "slideshow": {
     "slide_type": "subslide"
    }
   },
   "source": [
    "## 我們將從最基礎的 `SELECT` 與 `FROM` 開始"
   ]
  },
  {
   "cell_type": "code",
   "execution_count": 2,
   "metadata": {},
   "outputs": [],
   "source": [
    "sql_query = \"\"\"\n",
    "SELECT * \n",
    "  FROM players;\n",
    "\"\"\""
   ]
  },
  {
   "cell_type": "code",
   "execution_count": 3,
   "metadata": {
    "slideshow": {
     "slide_type": "subslide"
    }
   },
   "outputs": [
    {
     "data": {
      "text/html": [
       "<div>\n",
       "<style scoped>\n",
       "    .dataframe tbody tr th:only-of-type {\n",
       "        vertical-align: middle;\n",
       "    }\n",
       "\n",
       "    .dataframe tbody tr th {\n",
       "        vertical-align: top;\n",
       "    }\n",
       "\n",
       "    .dataframe thead th {\n",
       "        text-align: right;\n",
       "    }\n",
       "</style>\n",
       "<table border=\"1\" class=\"dataframe\">\n",
       "  <thead>\n",
       "    <tr style=\"text-align: right;\">\n",
       "      <th></th>\n",
       "      <th>firstName</th>\n",
       "      <th>lastName</th>\n",
       "      <th>temporaryDisplayName</th>\n",
       "      <th>personId</th>\n",
       "      <th>teamId</th>\n",
       "      <th>jersey</th>\n",
       "      <th>isActive</th>\n",
       "      <th>pos</th>\n",
       "      <th>heightFeet</th>\n",
       "      <th>heightInches</th>\n",
       "      <th>heightMeters</th>\n",
       "      <th>weightPounds</th>\n",
       "      <th>weightKilograms</th>\n",
       "      <th>dateOfBirthUTC</th>\n",
       "      <th>nbaDebutYear</th>\n",
       "      <th>yearsPro</th>\n",
       "      <th>collegeName</th>\n",
       "      <th>lastAffiliation</th>\n",
       "      <th>country</th>\n",
       "      <th>isallStar</th>\n",
       "    </tr>\n",
       "  </thead>\n",
       "  <tbody>\n",
       "    <tr>\n",
       "      <th>0</th>\n",
       "      <td>Vince</td>\n",
       "      <td>Carter</td>\n",
       "      <td>Carter, Vince</td>\n",
       "      <td>1713</td>\n",
       "      <td>1610612737</td>\n",
       "      <td>15.0</td>\n",
       "      <td>True</td>\n",
       "      <td>G-F</td>\n",
       "      <td>6</td>\n",
       "      <td>6</td>\n",
       "      <td>1.98</td>\n",
       "      <td>220</td>\n",
       "      <td>99.8</td>\n",
       "      <td>1977-01-26</td>\n",
       "      <td>1998</td>\n",
       "      <td>21</td>\n",
       "      <td>North Carolina</td>\n",
       "      <td>North Carolina/USA</td>\n",
       "      <td>USA</td>\n",
       "      <td>None</td>\n",
       "    </tr>\n",
       "    <tr>\n",
       "      <th>1</th>\n",
       "      <td>Tyson</td>\n",
       "      <td>Chandler</td>\n",
       "      <td>Chandler, Tyson</td>\n",
       "      <td>2199</td>\n",
       "      <td>1610612745</td>\n",
       "      <td>19.0</td>\n",
       "      <td>True</td>\n",
       "      <td>C</td>\n",
       "      <td>7</td>\n",
       "      <td>0</td>\n",
       "      <td>2.13</td>\n",
       "      <td>235</td>\n",
       "      <td>106.6</td>\n",
       "      <td>1982-10-02</td>\n",
       "      <td>2001</td>\n",
       "      <td>18</td>\n",
       "      <td>No College</td>\n",
       "      <td>Dominguez HS (CA)/USA</td>\n",
       "      <td>USA</td>\n",
       "      <td>None</td>\n",
       "    </tr>\n",
       "    <tr>\n",
       "      <th>2</th>\n",
       "      <td>LeBron</td>\n",
       "      <td>James</td>\n",
       "      <td>James, LeBron</td>\n",
       "      <td>2544</td>\n",
       "      <td>1610612747</td>\n",
       "      <td>23.0</td>\n",
       "      <td>True</td>\n",
       "      <td>F</td>\n",
       "      <td>6</td>\n",
       "      <td>9</td>\n",
       "      <td>2.06</td>\n",
       "      <td>250</td>\n",
       "      <td>113.4</td>\n",
       "      <td>1984-12-30</td>\n",
       "      <td>2003</td>\n",
       "      <td>16</td>\n",
       "      <td>None</td>\n",
       "      <td>St. Vincent-St. Mary HS (OH)/USA</td>\n",
       "      <td>USA</td>\n",
       "      <td>None</td>\n",
       "    </tr>\n",
       "    <tr>\n",
       "      <th>3</th>\n",
       "      <td>Carmelo</td>\n",
       "      <td>Anthony</td>\n",
       "      <td>Anthony, Carmelo</td>\n",
       "      <td>2546</td>\n",
       "      <td>1610612757</td>\n",
       "      <td>0.0</td>\n",
       "      <td>True</td>\n",
       "      <td>F</td>\n",
       "      <td>6</td>\n",
       "      <td>8</td>\n",
       "      <td>2.03</td>\n",
       "      <td>238</td>\n",
       "      <td>108.0</td>\n",
       "      <td>1984-05-29</td>\n",
       "      <td>2003</td>\n",
       "      <td>16</td>\n",
       "      <td>Syracuse</td>\n",
       "      <td>Syracuse/USA</td>\n",
       "      <td>USA</td>\n",
       "      <td>None</td>\n",
       "    </tr>\n",
       "    <tr>\n",
       "      <th>4</th>\n",
       "      <td>Kyle</td>\n",
       "      <td>Korver</td>\n",
       "      <td>Korver, Kyle</td>\n",
       "      <td>2594</td>\n",
       "      <td>1610612749</td>\n",
       "      <td>26.0</td>\n",
       "      <td>True</td>\n",
       "      <td>G-F</td>\n",
       "      <td>6</td>\n",
       "      <td>7</td>\n",
       "      <td>2.01</td>\n",
       "      <td>212</td>\n",
       "      <td>96.2</td>\n",
       "      <td>1981-03-17</td>\n",
       "      <td>2003</td>\n",
       "      <td>16</td>\n",
       "      <td>Creighton</td>\n",
       "      <td>Creighton/USA</td>\n",
       "      <td>USA</td>\n",
       "      <td>None</td>\n",
       "    </tr>\n",
       "    <tr>\n",
       "      <th>...</th>\n",
       "      <td>...</td>\n",
       "      <td>...</td>\n",
       "      <td>...</td>\n",
       "      <td>...</td>\n",
       "      <td>...</td>\n",
       "      <td>...</td>\n",
       "      <td>...</td>\n",
       "      <td>...</td>\n",
       "      <td>...</td>\n",
       "      <td>...</td>\n",
       "      <td>...</td>\n",
       "      <td>...</td>\n",
       "      <td>...</td>\n",
       "      <td>...</td>\n",
       "      <td>...</td>\n",
       "      <td>...</td>\n",
       "      <td>...</td>\n",
       "      <td>...</td>\n",
       "      <td>...</td>\n",
       "      <td>...</td>\n",
       "    </tr>\n",
       "    <tr>\n",
       "      <th>499</th>\n",
       "      <td>Matt</td>\n",
       "      <td>Thomas</td>\n",
       "      <td>Thomas, Matt</td>\n",
       "      <td>1629744</td>\n",
       "      <td>1610612761</td>\n",
       "      <td>21.0</td>\n",
       "      <td>True</td>\n",
       "      <td>G</td>\n",
       "      <td>6</td>\n",
       "      <td>4</td>\n",
       "      <td>1.93</td>\n",
       "      <td>190</td>\n",
       "      <td>86.2</td>\n",
       "      <td>1994-08-04</td>\n",
       "      <td>2019</td>\n",
       "      <td>0</td>\n",
       "      <td>Iowa State</td>\n",
       "      <td>Iowa State/USA</td>\n",
       "      <td>USA</td>\n",
       "      <td>None</td>\n",
       "    </tr>\n",
       "    <tr>\n",
       "      <th>500</th>\n",
       "      <td>Tariq</td>\n",
       "      <td>Owens</td>\n",
       "      <td>Owens, Tariq</td>\n",
       "      <td>1629745</td>\n",
       "      <td>1610612756</td>\n",
       "      <td>41.0</td>\n",
       "      <td>True</td>\n",
       "      <td>F</td>\n",
       "      <td>6</td>\n",
       "      <td>10</td>\n",
       "      <td>2.08</td>\n",
       "      <td>205</td>\n",
       "      <td>93.0</td>\n",
       "      <td>1995-06-30</td>\n",
       "      <td>2019</td>\n",
       "      <td>0</td>\n",
       "      <td>Texas Tech</td>\n",
       "      <td>Texas Tech/USA</td>\n",
       "      <td>USA</td>\n",
       "      <td>None</td>\n",
       "    </tr>\n",
       "    <tr>\n",
       "      <th>501</th>\n",
       "      <td>Javonte</td>\n",
       "      <td>Green</td>\n",
       "      <td>Green, Javonte</td>\n",
       "      <td>1629750</td>\n",
       "      <td>1610612738</td>\n",
       "      <td>43.0</td>\n",
       "      <td>True</td>\n",
       "      <td>G-F</td>\n",
       "      <td>6</td>\n",
       "      <td>4</td>\n",
       "      <td>1.93</td>\n",
       "      <td>205</td>\n",
       "      <td>93.0</td>\n",
       "      <td>1993-07-23</td>\n",
       "      <td>2019</td>\n",
       "      <td>0</td>\n",
       "      <td>Radford University</td>\n",
       "      <td>Radford/USA</td>\n",
       "      <td>USA</td>\n",
       "      <td>None</td>\n",
       "    </tr>\n",
       "    <tr>\n",
       "      <th>502</th>\n",
       "      <td>Juwan</td>\n",
       "      <td>Morgan</td>\n",
       "      <td>Morgan, Juwan</td>\n",
       "      <td>1629752</td>\n",
       "      <td>1610612762</td>\n",
       "      <td>16.0</td>\n",
       "      <td>True</td>\n",
       "      <td>F</td>\n",
       "      <td>6</td>\n",
       "      <td>7</td>\n",
       "      <td>2.01</td>\n",
       "      <td>232</td>\n",
       "      <td>105.2</td>\n",
       "      <td>1997-04-17</td>\n",
       "      <td>2019</td>\n",
       "      <td>0</td>\n",
       "      <td>Indiana</td>\n",
       "      <td>Indiana/USA</td>\n",
       "      <td>USA</td>\n",
       "      <td>None</td>\n",
       "    </tr>\n",
       "    <tr>\n",
       "      <th>503</th>\n",
       "      <td>Matt</td>\n",
       "      <td>Mooney</td>\n",
       "      <td>Mooney, Matt</td>\n",
       "      <td>1629760</td>\n",
       "      <td>1610612739</td>\n",
       "      <td>31.0</td>\n",
       "      <td>True</td>\n",
       "      <td>G</td>\n",
       "      <td>6</td>\n",
       "      <td>2</td>\n",
       "      <td>1.88</td>\n",
       "      <td>199</td>\n",
       "      <td>90.3</td>\n",
       "      <td>1997-02-07</td>\n",
       "      <td>2019</td>\n",
       "      <td>0</td>\n",
       "      <td>Texas Tech</td>\n",
       "      <td>Texas Tech/USA</td>\n",
       "      <td>USA</td>\n",
       "      <td>None</td>\n",
       "    </tr>\n",
       "  </tbody>\n",
       "</table>\n",
       "<p>504 rows × 20 columns</p>\n",
       "</div>"
      ],
      "text/plain": [
       "    firstName  lastName temporaryDisplayName  personId      teamId  jersey  \\\n",
       "0       Vince    Carter        Carter, Vince      1713  1610612737    15.0   \n",
       "1       Tyson  Chandler      Chandler, Tyson      2199  1610612745    19.0   \n",
       "2      LeBron     James        James, LeBron      2544  1610612747    23.0   \n",
       "3     Carmelo   Anthony     Anthony, Carmelo      2546  1610612757     0.0   \n",
       "4        Kyle    Korver         Korver, Kyle      2594  1610612749    26.0   \n",
       "..        ...       ...                  ...       ...         ...     ...   \n",
       "499      Matt    Thomas         Thomas, Matt   1629744  1610612761    21.0   \n",
       "500     Tariq     Owens         Owens, Tariq   1629745  1610612756    41.0   \n",
       "501   Javonte     Green       Green, Javonte   1629750  1610612738    43.0   \n",
       "502     Juwan    Morgan        Morgan, Juwan   1629752  1610612762    16.0   \n",
       "503      Matt    Mooney         Mooney, Matt   1629760  1610612739    31.0   \n",
       "\n",
       "    isActive  pos  heightFeet  heightInches  heightMeters  weightPounds  \\\n",
       "0       True  G-F           6             6          1.98           220   \n",
       "1       True    C           7             0          2.13           235   \n",
       "2       True    F           6             9          2.06           250   \n",
       "3       True    F           6             8          2.03           238   \n",
       "4       True  G-F           6             7          2.01           212   \n",
       "..       ...  ...         ...           ...           ...           ...   \n",
       "499     True    G           6             4          1.93           190   \n",
       "500     True    F           6            10          2.08           205   \n",
       "501     True  G-F           6             4          1.93           205   \n",
       "502     True    F           6             7          2.01           232   \n",
       "503     True    G           6             2          1.88           199   \n",
       "\n",
       "     weightKilograms dateOfBirthUTC nbaDebutYear  yearsPro  \\\n",
       "0               99.8     1977-01-26         1998        21   \n",
       "1              106.6     1982-10-02         2001        18   \n",
       "2              113.4     1984-12-30         2003        16   \n",
       "3              108.0     1984-05-29         2003        16   \n",
       "4               96.2     1981-03-17         2003        16   \n",
       "..               ...            ...          ...       ...   \n",
       "499             86.2     1994-08-04         2019         0   \n",
       "500             93.0     1995-06-30         2019         0   \n",
       "501             93.0     1993-07-23         2019         0   \n",
       "502            105.2     1997-04-17         2019         0   \n",
       "503             90.3     1997-02-07         2019         0   \n",
       "\n",
       "            collegeName                   lastAffiliation country isallStar  \n",
       "0        North Carolina                North Carolina/USA     USA      None  \n",
       "1            No College             Dominguez HS (CA)/USA     USA      None  \n",
       "2                  None  St. Vincent-St. Mary HS (OH)/USA     USA      None  \n",
       "3              Syracuse                      Syracuse/USA     USA      None  \n",
       "4             Creighton                     Creighton/USA     USA      None  \n",
       "..                  ...                               ...     ...       ...  \n",
       "499          Iowa State                    Iowa State/USA     USA      None  \n",
       "500          Texas Tech                    Texas Tech/USA     USA      None  \n",
       "501  Radford University                       Radford/USA     USA      None  \n",
       "502             Indiana                       Indiana/USA     USA      None  \n",
       "503          Texas Tech                    Texas Tech/USA     USA      None  \n",
       "\n",
       "[504 rows x 20 columns]"
      ]
     },
     "execution_count": 3,
     "metadata": {},
     "output_type": "execute_result"
    }
   ],
   "source": [
    "pd.read_sql(sql_query, conn_nba)"
   ]
  },
  {
   "cell_type": "markdown",
   "metadata": {
    "slideshow": {
     "slide_type": "subslide"
    }
   },
   "source": [
    "## 到能夠回答複雜的資料分析問題\n",
    "\n",
    "> 計算 presidential2020 韓國瑜/張善政與蔡英文/賴清德這兩組候選人在臺北市 12 個行政區中各自的得票數。"
   ]
  },
  {
   "cell_type": "code",
   "execution_count": 4,
   "metadata": {
    "slideshow": {
     "slide_type": "skip"
    }
   },
   "outputs": [],
   "source": [
    "expected_output = pd.read_sql(etq('0318'), conn_twelection)"
   ]
  },
  {
   "cell_type": "code",
   "execution_count": 5,
   "metadata": {
    "slideshow": {
     "slide_type": "subslide"
    }
   },
   "outputs": [
    {
     "data": {
      "text/html": [
       "<div>\n",
       "<style scoped>\n",
       "    .dataframe tbody tr th:only-of-type {\n",
       "        vertical-align: middle;\n",
       "    }\n",
       "\n",
       "    .dataframe tbody tr th {\n",
       "        vertical-align: top;\n",
       "    }\n",
       "\n",
       "    .dataframe thead th {\n",
       "        text-align: right;\n",
       "    }\n",
       "</style>\n",
       "<table border=\"1\" class=\"dataframe\">\n",
       "  <thead>\n",
       "    <tr style=\"text-align: right;\">\n",
       "      <th></th>\n",
       "      <th>town</th>\n",
       "      <th>Kuo_Cheng</th>\n",
       "      <th>Ing_Te</th>\n",
       "    </tr>\n",
       "  </thead>\n",
       "  <tbody>\n",
       "    <tr>\n",
       "      <th>0</th>\n",
       "      <td>中山區</td>\n",
       "      <td>56491</td>\n",
       "      <td>79022</td>\n",
       "    </tr>\n",
       "    <tr>\n",
       "      <th>1</th>\n",
       "      <td>中正區</td>\n",
       "      <td>41461</td>\n",
       "      <td>48183</td>\n",
       "    </tr>\n",
       "    <tr>\n",
       "      <th>2</th>\n",
       "      <td>信義區</td>\n",
       "      <td>62353</td>\n",
       "      <td>70285</td>\n",
       "    </tr>\n",
       "    <tr>\n",
       "      <th>3</th>\n",
       "      <td>內湖區</td>\n",
       "      <td>74437</td>\n",
       "      <td>94269</td>\n",
       "    </tr>\n",
       "    <tr>\n",
       "      <th>4</th>\n",
       "      <td>北投區</td>\n",
       "      <td>59851</td>\n",
       "      <td>90060</td>\n",
       "    </tr>\n",
       "    <tr>\n",
       "      <th>5</th>\n",
       "      <td>南港區</td>\n",
       "      <td>30968</td>\n",
       "      <td>40969</td>\n",
       "    </tr>\n",
       "    <tr>\n",
       "      <th>6</th>\n",
       "      <td>士林區</td>\n",
       "      <td>65183</td>\n",
       "      <td>104881</td>\n",
       "    </tr>\n",
       "    <tr>\n",
       "      <th>7</th>\n",
       "      <td>大同區</td>\n",
       "      <td>24673</td>\n",
       "      <td>50006</td>\n",
       "    </tr>\n",
       "    <tr>\n",
       "      <th>8</th>\n",
       "      <td>大安區</td>\n",
       "      <td>85490</td>\n",
       "      <td>88977</td>\n",
       "    </tr>\n",
       "    <tr>\n",
       "      <th>9</th>\n",
       "      <td>文山區</td>\n",
       "      <td>82305</td>\n",
       "      <td>78129</td>\n",
       "    </tr>\n",
       "    <tr>\n",
       "      <th>10</th>\n",
       "      <td>松山區</td>\n",
       "      <td>55918</td>\n",
       "      <td>64207</td>\n",
       "    </tr>\n",
       "    <tr>\n",
       "      <th>11</th>\n",
       "      <td>萬華區</td>\n",
       "      <td>46700</td>\n",
       "      <td>66866</td>\n",
       "    </tr>\n",
       "  </tbody>\n",
       "</table>\n",
       "</div>"
      ],
      "text/plain": [
       "   town  Kuo_Cheng  Ing_Te\n",
       "0   中山區      56491   79022\n",
       "1   中正區      41461   48183\n",
       "2   信義區      62353   70285\n",
       "3   內湖區      74437   94269\n",
       "4   北投區      59851   90060\n",
       "5   南港區      30968   40969\n",
       "6   士林區      65183  104881\n",
       "7   大同區      24673   50006\n",
       "8   大安區      85490   88977\n",
       "9   文山區      82305   78129\n",
       "10  松山區      55918   64207\n",
       "11  萬華區      46700   66866"
      ]
     },
     "execution_count": 5,
     "metadata": {},
     "output_type": "execute_result"
    }
   ],
   "source": [
    "expected_output"
   ]
  },
  {
   "cell_type": "markdown",
   "metadata": {
    "slideshow": {
     "slide_type": "subslide"
    }
   },
   "source": [
    "## About me\n",
    "\n",
    "A data enthusiast and instructor focused on practical Python/R/SQL"
   ]
  },
  {
   "cell_type": "markdown",
   "metadata": {
    "slideshow": {
     "slide_type": "subslide"
    }
   },
   "source": [
    "## Teaching practical data science online/offline\n",
    "\n",
    "- [如何成為資料分析師：從問題解決到行動方案，Hahow 好學校](https://hahow.in/cr/dajourney)\n",
    "- Visualization and modern data science, Adjunct Instructor, National Taiwan University\n",
    "- Python for data analysis, Instructor, Chunghwa Telecom Academy\n",
    "- Python for data science, Machine learning from scratch, Senior Instructor, CSIE Train, National Taiwan University"
   ]
  },
  {
   "cell_type": "markdown",
   "metadata": {
    "slideshow": {
     "slide_type": "subslide"
    }
   },
   "source": [
    "## Data science instructor focused on commercial banking clients\n",
    "\n",
    "- 2020 DBS Python Training Program\n",
    "- 2019 HNCB Python Training Program\n",
    "- 2017 ESUN Python Training Program"
   ]
  },
  {
   "cell_type": "markdown",
   "metadata": {
    "slideshow": {
     "slide_type": "subslide"
    }
   },
   "source": [
    "## Writing books on data science\n",
    "\n",
    "- [輕鬆學習 R 語言](https://www.datainpoint.com/r-essentials/)\n",
    "- [進擊的資料科學](https://www.datainpoint.com/data-science-in-action/)\n",
    "- [新手村逃脫！初心者的 Python 機器學習攻略](https://yaojenkuo.io/ml-newbies/index.html)"
   ]
  },
  {
   "cell_type": "markdown",
   "metadata": {
    "slideshow": {
     "slide_type": "subslide"
    }
   },
   "source": [
    "## Writing tutorials on [Medium](https://medium.com/) with 3k+ followers\n",
    "\n",
    "- Follow my Medium account [@tonykuoyj](https://medium.com/@tonykuoyj)\n",
    "- Or, follow my publication [DataInPoint](https://medium.com/datainpoint)\n",
    "- Or, follow [DataInPoint](https://www.facebook.com/datainpoint) on Facebook"
   ]
  },
  {
   "cell_type": "markdown",
   "metadata": {
    "slideshow": {
     "slide_type": "subslide"
    }
   },
   "source": [
    "## Working experience\n",
    "\n",
    "- Senior Data Analyst, Coupang Shanghai\n",
    "- Analytical Consultant, SAS Taiwan\n",
    "- Management Associate, Chinatrust Banking Corporation Taiwan\n",
    "- Research Assistant, McKinsey & Company Taiwan"
   ]
  },
  {
   "cell_type": "markdown",
   "metadata": {
    "slideshow": {
     "slide_type": "subslide"
    }
   },
   "source": [
    "## Education\n",
    "\n",
    "- MBA, National Taiwan University\n",
    "- BA, National Taiwan University"
   ]
  },
  {
   "cell_type": "markdown",
   "metadata": {
    "slideshow": {
     "slide_type": "subslide"
    }
   },
   "source": [
    "## Loves running with a marathon PR of 2:43:12 at 2019 Seoul Marathon"
   ]
  },
  {
   "cell_type": "markdown",
   "metadata": {
    "slideshow": {
     "slide_type": "subslide"
    }
   },
   "source": [
    "## Future initiatives\n",
    "\n",
    "Make [DataInPoint](https://www.datainpoint.com/) a text-based, in-browser, and subscription-only data science bootcamp. "
   ]
  }
 ],
 "metadata": {
  "celltoolbar": "Slideshow",
  "kernelspec": {
   "display_name": "Python Machine Learning",
   "language": "python",
   "name": "pyml"
  },
  "language_info": {
   "codemirror_mode": {
    "name": "ipython",
    "version": 3
   },
   "file_extension": ".py",
   "mimetype": "text/x-python",
   "name": "python",
   "nbconvert_exporter": "python",
   "pygments_lexer": "ipython3",
   "version": "3.6.8"
  }
 },
 "nbformat": 4,
 "nbformat_minor": 2
}
