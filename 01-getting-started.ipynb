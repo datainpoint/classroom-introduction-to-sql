{
 "cells": [
  {
   "cell_type": "markdown",
   "metadata": {
    "slideshow": {
     "slide_type": "slide"
    }
   },
   "source": [
    "# SQL 語法入門\n",
    "\n",
    "> 快速啟動\n",
    "\n",
    "郭耀仁"
   ]
  },
  {
   "cell_type": "markdown",
   "metadata": {
    "slideshow": {
     "slide_type": "subslide"
    }
   },
   "source": [
    "## 摘要\n",
    "\n",
    "- 環境設定\n",
    "- 釋義的部分\n",
    "- 從 `SELECT` 與 `FROM` 開始"
   ]
  },
  {
   "cell_type": "markdown",
   "metadata": {
    "slideshow": {
     "slide_type": "slide"
    }
   },
   "source": [
    "## 環境設定"
   ]
  },
  {
   "cell_type": "markdown",
   "metadata": {
    "slideshow": {
     "slide_type": "subslide"
    }
   },
   "source": [
    "## 為了讓學生能夠直接進入學習 SQL 的環節，我們設置了一個[雲端環境](https://mybinder.org/v2/gh/yaojenkuo/introduction-to-sql/master)\n",
    "\n",
    "這個[雲端環境](https://mybinder.org/v2/gh/yaojenkuo/introduction-to-sql/master)是透過下面幾個應用程式所搭建而成：\n",
    "- [Binder](https://mybinder.org/)\n",
    "- [GitHub](https://github.com/)\n",
    "- [Project Jupyter](https://jupyter.org/)\n",
    "- [SQLite](https://www.sqlite.org/index.html)\n",
    "- [Python](https://www.python.org/)"
   ]
  },
  {
   "cell_type": "markdown",
   "metadata": {
    "slideshow": {
     "slide_type": "subslide"
    }
   },
   "source": [
    "## SQL 語法會用一個 Python 長字串包裝起來\n",
    "\n",
    "長字串由開頭的 `\"\"\"` 與結尾的 `\"\"\"`組合起來。\n",
    "\n",
    "```python\n",
    "sql_query = \"\"\"\n",
    "SELECT column_name FROM table_name; -- SQL 語法用一個長字串包裝起來\n",
    "\"\"\"\n",
    "```"
   ]
  },
  {
   "cell_type": "markdown",
   "metadata": {
    "slideshow": {
     "slide_type": "subslide"
    }
   },
   "source": [
    "## SQL 語法會透過 `pandas` 與 `sqlite3` 傳送給 SQLite 資料庫\n",
    "\n",
    "```python\n",
    "# 連結資料庫\n",
    "import sqlite3\n",
    "import pandas as pd\n",
    "\n",
    "conn = sqlite3.connect('database_name.db')\n",
    "pd.read_sql(sql_query, conn)\n",
    "```"
   ]
  },
  {
   "cell_type": "markdown",
   "metadata": {
    "slideshow": {
     "slide_type": "subslide"
    }
   },
   "source": [
    "## 輸出會得到一個 `DataFrame`，舉例來說"
   ]
  },
  {
   "cell_type": "code",
   "execution_count": 1,
   "metadata": {
    "slideshow": {
     "slide_type": "-"
    }
   },
   "outputs": [],
   "source": [
    "# 連結資料庫\n",
    "import sqlite3\n",
    "import pandas as pd\n",
    "\n",
    "conn = sqlite3.connect('nba.db')"
   ]
  },
  {
   "cell_type": "code",
   "execution_count": 2,
   "metadata": {
    "slideshow": {
     "slide_type": "subslide"
    }
   },
   "outputs": [
    {
     "data": {
      "text/html": [
       "<div>\n",
       "<style scoped>\n",
       "    .dataframe tbody tr th:only-of-type {\n",
       "        vertical-align: middle;\n",
       "    }\n",
       "\n",
       "    .dataframe tbody tr th {\n",
       "        vertical-align: top;\n",
       "    }\n",
       "\n",
       "    .dataframe thead th {\n",
       "        text-align: right;\n",
       "    }\n",
       "</style>\n",
       "<table border=\"1\" class=\"dataframe\">\n",
       "  <thead>\n",
       "    <tr style=\"text-align: right;\">\n",
       "      <th></th>\n",
       "      <th>firstName</th>\n",
       "      <th>lastName</th>\n",
       "      <th>temporaryDisplayName</th>\n",
       "      <th>personId</th>\n",
       "      <th>teamId</th>\n",
       "      <th>jersey</th>\n",
       "      <th>isActive</th>\n",
       "      <th>pos</th>\n",
       "      <th>heightFeet</th>\n",
       "      <th>heightInches</th>\n",
       "      <th>heightMeters</th>\n",
       "      <th>weightPounds</th>\n",
       "      <th>weightKilograms</th>\n",
       "      <th>dateOfBirthUTC</th>\n",
       "      <th>nbaDebutYear</th>\n",
       "      <th>yearsPro</th>\n",
       "      <th>collegeName</th>\n",
       "      <th>lastAffiliation</th>\n",
       "      <th>country</th>\n",
       "      <th>isallStar</th>\n",
       "    </tr>\n",
       "  </thead>\n",
       "  <tbody>\n",
       "    <tr>\n",
       "      <th>0</th>\n",
       "      <td>LeBron</td>\n",
       "      <td>James</td>\n",
       "      <td>James, LeBron</td>\n",
       "      <td>2544</td>\n",
       "      <td>1610612747</td>\n",
       "      <td>23</td>\n",
       "      <td>True</td>\n",
       "      <td>F</td>\n",
       "      <td>6</td>\n",
       "      <td>9</td>\n",
       "      <td>2.06</td>\n",
       "      <td>250</td>\n",
       "      <td>113.4</td>\n",
       "      <td>1984-12-30</td>\n",
       "      <td>2003</td>\n",
       "      <td>16</td>\n",
       "      <td>None</td>\n",
       "      <td>St. Vincent-St. Mary HS (OH)/USA</td>\n",
       "      <td>USA</td>\n",
       "      <td>None</td>\n",
       "    </tr>\n",
       "  </tbody>\n",
       "</table>\n",
       "</div>"
      ],
      "text/plain": [
       "  firstName lastName temporaryDisplayName  personId      teamId  jersey  \\\n",
       "0    LeBron    James        James, LeBron      2544  1610612747      23   \n",
       "\n",
       "  isActive pos  heightFeet  heightInches  heightMeters  weightPounds  \\\n",
       "0     True   F           6             9          2.06           250   \n",
       "\n",
       "   weightKilograms dateOfBirthUTC nbaDebutYear  yearsPro collegeName  \\\n",
       "0            113.4     1984-12-30         2003        16        None   \n",
       "\n",
       "                    lastAffiliation country isallStar  \n",
       "0  St. Vincent-St. Mary HS (OH)/USA     USA      None  "
      ]
     },
     "execution_count": 2,
     "metadata": {},
     "output_type": "execute_result"
    }
   ],
   "source": [
    "sql_query = \"\"\"\n",
    "SELECT * FROM players WHERE firstName = 'LeBron';\n",
    "\"\"\"\n",
    "pd.read_sql(sql_query, conn)"
   ]
  },
  {
   "cell_type": "markdown",
   "metadata": {
    "slideshow": {
     "slide_type": "slide"
    }
   },
   "source": [
    "## 釋義的部分"
   ]
  },
  {
   "cell_type": "markdown",
   "metadata": {
    "slideshow": {
     "slide_type": "subslide"
    }
   },
   "source": [
    "## 什麼是 SQL\n",
    "\n",
    "> SQL(發音為 ess-que-ell 或 sequel)，是一個為資料庫所設計的語法，於 1970 年代由 IBM 開發問世，後來成為業界通用的資料庫標準語法。使用 SQL 可以針對資料庫進行 CRUD 的操作，其中 C 指的是創建（Create）、R 指的是查詢（Read）、U 指的是更新（Update）、D 指的是刪除（Delete）。"
   ]
  },
  {
   "cell_type": "markdown",
   "metadata": {
    "slideshow": {
     "slide_type": "subslide"
    }
   },
   "source": [
    "## 什麼是資料庫\n",
    "\n",
    "> 資料庫是具有屬性（Attributes）的觀測值（Records）集合，由資料與資料描述（Metadata）組合而成。"
   ]
  },
  {
   "cell_type": "markdown",
   "metadata": {
    "slideshow": {
     "slide_type": "subslide"
    }
   },
   "source": [
    "## 例如具有多個屬性的隊伍觀測值"
   ]
  },
  {
   "cell_type": "code",
   "execution_count": 3,
   "metadata": {},
   "outputs": [
    {
     "data": {
      "text/html": [
       "<div>\n",
       "<style scoped>\n",
       "    .dataframe tbody tr th:only-of-type {\n",
       "        vertical-align: middle;\n",
       "    }\n",
       "\n",
       "    .dataframe tbody tr th {\n",
       "        vertical-align: top;\n",
       "    }\n",
       "\n",
       "    .dataframe thead th {\n",
       "        text-align: right;\n",
       "    }\n",
       "</style>\n",
       "<table border=\"1\" class=\"dataframe\">\n",
       "  <thead>\n",
       "    <tr style=\"text-align: right;\">\n",
       "      <th></th>\n",
       "      <th>isNBAFranchise</th>\n",
       "      <th>isAllStar</th>\n",
       "      <th>city</th>\n",
       "      <th>altCityName</th>\n",
       "      <th>fullName</th>\n",
       "      <th>tricode</th>\n",
       "      <th>teamId</th>\n",
       "      <th>nickname</th>\n",
       "      <th>urlName</th>\n",
       "      <th>teamShortName</th>\n",
       "      <th>confName</th>\n",
       "      <th>divName</th>\n",
       "    </tr>\n",
       "  </thead>\n",
       "  <tbody>\n",
       "    <tr>\n",
       "      <th>0</th>\n",
       "      <td>True</td>\n",
       "      <td>False</td>\n",
       "      <td>Atlanta</td>\n",
       "      <td>Atlanta</td>\n",
       "      <td>Atlanta Hawks</td>\n",
       "      <td>ATL</td>\n",
       "      <td>1610612737</td>\n",
       "      <td>Hawks</td>\n",
       "      <td>hawks</td>\n",
       "      <td>Atlanta</td>\n",
       "      <td>East</td>\n",
       "      <td>Southeast</td>\n",
       "    </tr>\n",
       "  </tbody>\n",
       "</table>\n",
       "</div>"
      ],
      "text/plain": [
       "  isNBAFranchise isAllStar     city altCityName       fullName tricode  \\\n",
       "0           True     False  Atlanta     Atlanta  Atlanta Hawks     ATL   \n",
       "\n",
       "       teamId nickname urlName teamShortName confName    divName  \n",
       "0  1610612737    Hawks   hawks       Atlanta     East  Southeast  "
      ]
     },
     "execution_count": 3,
     "metadata": {},
     "output_type": "execute_result"
    }
   ],
   "source": [
    "sql_query = \"\"\"\n",
    "SELECT * FROM teams LIMIT 1;\n",
    "\"\"\"\n",
    "pd.read_sql(sql_query, conn)"
   ]
  },
  {
   "cell_type": "markdown",
   "metadata": {
    "slideshow": {
     "slide_type": "subslide"
    }
   },
   "source": [
    "## 例如具有多個屬性的球員觀測值"
   ]
  },
  {
   "cell_type": "code",
   "execution_count": 4,
   "metadata": {},
   "outputs": [
    {
     "data": {
      "text/html": [
       "<div>\n",
       "<style scoped>\n",
       "    .dataframe tbody tr th:only-of-type {\n",
       "        vertical-align: middle;\n",
       "    }\n",
       "\n",
       "    .dataframe tbody tr th {\n",
       "        vertical-align: top;\n",
       "    }\n",
       "\n",
       "    .dataframe thead th {\n",
       "        text-align: right;\n",
       "    }\n",
       "</style>\n",
       "<table border=\"1\" class=\"dataframe\">\n",
       "  <thead>\n",
       "    <tr style=\"text-align: right;\">\n",
       "      <th></th>\n",
       "      <th>firstName</th>\n",
       "      <th>lastName</th>\n",
       "      <th>temporaryDisplayName</th>\n",
       "      <th>personId</th>\n",
       "      <th>teamId</th>\n",
       "      <th>jersey</th>\n",
       "      <th>isActive</th>\n",
       "      <th>pos</th>\n",
       "      <th>heightFeet</th>\n",
       "      <th>heightInches</th>\n",
       "      <th>heightMeters</th>\n",
       "      <th>weightPounds</th>\n",
       "      <th>weightKilograms</th>\n",
       "      <th>dateOfBirthUTC</th>\n",
       "      <th>nbaDebutYear</th>\n",
       "      <th>yearsPro</th>\n",
       "      <th>collegeName</th>\n",
       "      <th>lastAffiliation</th>\n",
       "      <th>country</th>\n",
       "      <th>isallStar</th>\n",
       "    </tr>\n",
       "  </thead>\n",
       "  <tbody>\n",
       "    <tr>\n",
       "      <th>0</th>\n",
       "      <td>Vince</td>\n",
       "      <td>Carter</td>\n",
       "      <td>Carter, Vince</td>\n",
       "      <td>1713</td>\n",
       "      <td>1610612737</td>\n",
       "      <td>15</td>\n",
       "      <td>True</td>\n",
       "      <td>G-F</td>\n",
       "      <td>6</td>\n",
       "      <td>6</td>\n",
       "      <td>1.98</td>\n",
       "      <td>220</td>\n",
       "      <td>99.8</td>\n",
       "      <td>1977-01-26</td>\n",
       "      <td>1998</td>\n",
       "      <td>21</td>\n",
       "      <td>North Carolina</td>\n",
       "      <td>North Carolina/USA</td>\n",
       "      <td>USA</td>\n",
       "      <td>None</td>\n",
       "    </tr>\n",
       "  </tbody>\n",
       "</table>\n",
       "</div>"
      ],
      "text/plain": [
       "  firstName lastName temporaryDisplayName  personId      teamId  jersey  \\\n",
       "0     Vince   Carter        Carter, Vince      1713  1610612737      15   \n",
       "\n",
       "  isActive  pos  heightFeet  heightInches  heightMeters  weightPounds  \\\n",
       "0     True  G-F           6             6          1.98           220   \n",
       "\n",
       "   weightKilograms dateOfBirthUTC nbaDebutYear  yearsPro     collegeName  \\\n",
       "0             99.8     1977-01-26         1998        21  North Carolina   \n",
       "\n",
       "      lastAffiliation country isallStar  \n",
       "0  North Carolina/USA     USA      None  "
      ]
     },
     "execution_count": 4,
     "metadata": {},
     "output_type": "execute_result"
    }
   ],
   "source": [
    "sql_query = \"\"\"\n",
    "SELECT * FROM players LIMIT 1;\n",
    "\"\"\"\n",
    "pd.read_sql(sql_query, conn)"
   ]
  },
  {
   "cell_type": "markdown",
   "metadata": {
    "slideshow": {
     "slide_type": "subslide"
    }
   },
   "source": [
    "## 所以，Metadata 到底是什麼\n",
    "\n",
    "![](https://media.giphy.com/media/xT0xeif517lOYwnH2g/giphy.gif)\n",
    "\n",
    "Source: <https://giphy.com/>"
   ]
  },
  {
   "cell_type": "markdown",
   "metadata": {
    "slideshow": {
     "slide_type": "subslide"
    }
   },
   "source": [
    "## Metadata 是描述資料庫中結構的內容，也以資料的形式存在於資料庫中"
   ]
  },
  {
   "cell_type": "markdown",
   "metadata": {
    "slideshow": {
     "slide_type": "subslide"
    }
   },
   "source": [
    "## 描述資料庫中有哪些表格\n",
    "\n",
    "從 `sqlite_master` 表格中查詢。"
   ]
  },
  {
   "cell_type": "code",
   "execution_count": 5,
   "metadata": {},
   "outputs": [
    {
     "data": {
      "text/html": [
       "<div>\n",
       "<style scoped>\n",
       "    .dataframe tbody tr th:only-of-type {\n",
       "        vertical-align: middle;\n",
       "    }\n",
       "\n",
       "    .dataframe tbody tr th {\n",
       "        vertical-align: top;\n",
       "    }\n",
       "\n",
       "    .dataframe thead th {\n",
       "        text-align: right;\n",
       "    }\n",
       "</style>\n",
       "<table border=\"1\" class=\"dataframe\">\n",
       "  <thead>\n",
       "    <tr style=\"text-align: right;\">\n",
       "      <th></th>\n",
       "      <th>type</th>\n",
       "      <th>name</th>\n",
       "    </tr>\n",
       "  </thead>\n",
       "  <tbody>\n",
       "    <tr>\n",
       "      <th>0</th>\n",
       "      <td>table</td>\n",
       "      <td>teams</td>\n",
       "    </tr>\n",
       "    <tr>\n",
       "      <th>1</th>\n",
       "      <td>table</td>\n",
       "      <td>rosters</td>\n",
       "    </tr>\n",
       "    <tr>\n",
       "      <th>2</th>\n",
       "      <td>table</td>\n",
       "      <td>players</td>\n",
       "    </tr>\n",
       "    <tr>\n",
       "      <th>3</th>\n",
       "      <td>table</td>\n",
       "      <td>careerSummaries</td>\n",
       "    </tr>\n",
       "  </tbody>\n",
       "</table>\n",
       "</div>"
      ],
      "text/plain": [
       "    type             name\n",
       "0  table            teams\n",
       "1  table          rosters\n",
       "2  table          players\n",
       "3  table  careerSummaries"
      ]
     },
     "execution_count": 5,
     "metadata": {},
     "output_type": "execute_result"
    }
   ],
   "source": [
    "sql_query = \"\"\"\n",
    "SELECT type, name FROM sqlite_master;\n",
    "\"\"\"\n",
    "pd.read_sql(sql_query, conn)"
   ]
  },
  {
   "cell_type": "markdown",
   "metadata": {
    "slideshow": {
     "slide_type": "subslide"
    }
   },
   "source": [
    "## 描述資料庫中表格有哪些欄位\n",
    "\n",
    "`PRAGMA table_info(tbl_name);`"
   ]
  },
  {
   "cell_type": "code",
   "execution_count": 6,
   "metadata": {},
   "outputs": [],
   "source": [
    "sql_query = \"\"\"\n",
    "PRAGMA table_info(teams);\n",
    "\"\"\""
   ]
  },
  {
   "cell_type": "code",
   "execution_count": 7,
   "metadata": {
    "slideshow": {
     "slide_type": "subslide"
    }
   },
   "outputs": [
    {
     "data": {
      "text/html": [
       "<div>\n",
       "<style scoped>\n",
       "    .dataframe tbody tr th:only-of-type {\n",
       "        vertical-align: middle;\n",
       "    }\n",
       "\n",
       "    .dataframe tbody tr th {\n",
       "        vertical-align: top;\n",
       "    }\n",
       "\n",
       "    .dataframe thead th {\n",
       "        text-align: right;\n",
       "    }\n",
       "</style>\n",
       "<table border=\"1\" class=\"dataframe\">\n",
       "  <thead>\n",
       "    <tr style=\"text-align: right;\">\n",
       "      <th></th>\n",
       "      <th>cid</th>\n",
       "      <th>name</th>\n",
       "      <th>type</th>\n",
       "      <th>notnull</th>\n",
       "      <th>dflt_value</th>\n",
       "      <th>pk</th>\n",
       "    </tr>\n",
       "  </thead>\n",
       "  <tbody>\n",
       "    <tr>\n",
       "      <th>0</th>\n",
       "      <td>0</td>\n",
       "      <td>isNBAFranchise</td>\n",
       "      <td>TEXT</td>\n",
       "      <td>0</td>\n",
       "      <td>None</td>\n",
       "      <td>0</td>\n",
       "    </tr>\n",
       "    <tr>\n",
       "      <th>1</th>\n",
       "      <td>1</td>\n",
       "      <td>isAllStar</td>\n",
       "      <td>TEXT</td>\n",
       "      <td>0</td>\n",
       "      <td>None</td>\n",
       "      <td>0</td>\n",
       "    </tr>\n",
       "    <tr>\n",
       "      <th>2</th>\n",
       "      <td>2</td>\n",
       "      <td>city</td>\n",
       "      <td>TEXT</td>\n",
       "      <td>0</td>\n",
       "      <td>None</td>\n",
       "      <td>0</td>\n",
       "    </tr>\n",
       "    <tr>\n",
       "      <th>3</th>\n",
       "      <td>3</td>\n",
       "      <td>altCityName</td>\n",
       "      <td>TEXT</td>\n",
       "      <td>0</td>\n",
       "      <td>None</td>\n",
       "      <td>0</td>\n",
       "    </tr>\n",
       "    <tr>\n",
       "      <th>4</th>\n",
       "      <td>4</td>\n",
       "      <td>fullName</td>\n",
       "      <td>TEXT</td>\n",
       "      <td>0</td>\n",
       "      <td>None</td>\n",
       "      <td>0</td>\n",
       "    </tr>\n",
       "    <tr>\n",
       "      <th>5</th>\n",
       "      <td>5</td>\n",
       "      <td>tricode</td>\n",
       "      <td>TEXT</td>\n",
       "      <td>0</td>\n",
       "      <td>None</td>\n",
       "      <td>0</td>\n",
       "    </tr>\n",
       "    <tr>\n",
       "      <th>6</th>\n",
       "      <td>6</td>\n",
       "      <td>teamId</td>\n",
       "      <td>INTEGER</td>\n",
       "      <td>0</td>\n",
       "      <td>None</td>\n",
       "      <td>1</td>\n",
       "    </tr>\n",
       "    <tr>\n",
       "      <th>7</th>\n",
       "      <td>7</td>\n",
       "      <td>nickname</td>\n",
       "      <td>TEXT</td>\n",
       "      <td>0</td>\n",
       "      <td>None</td>\n",
       "      <td>0</td>\n",
       "    </tr>\n",
       "    <tr>\n",
       "      <th>8</th>\n",
       "      <td>8</td>\n",
       "      <td>urlName</td>\n",
       "      <td>TEXT</td>\n",
       "      <td>0</td>\n",
       "      <td>None</td>\n",
       "      <td>0</td>\n",
       "    </tr>\n",
       "    <tr>\n",
       "      <th>9</th>\n",
       "      <td>9</td>\n",
       "      <td>teamShortName</td>\n",
       "      <td>TEXT</td>\n",
       "      <td>0</td>\n",
       "      <td>None</td>\n",
       "      <td>0</td>\n",
       "    </tr>\n",
       "    <tr>\n",
       "      <th>10</th>\n",
       "      <td>10</td>\n",
       "      <td>confName</td>\n",
       "      <td>TEXT</td>\n",
       "      <td>0</td>\n",
       "      <td>None</td>\n",
       "      <td>0</td>\n",
       "    </tr>\n",
       "    <tr>\n",
       "      <th>11</th>\n",
       "      <td>11</td>\n",
       "      <td>divName</td>\n",
       "      <td>TEXT</td>\n",
       "      <td>0</td>\n",
       "      <td>None</td>\n",
       "      <td>0</td>\n",
       "    </tr>\n",
       "  </tbody>\n",
       "</table>\n",
       "</div>"
      ],
      "text/plain": [
       "    cid            name     type  notnull dflt_value  pk\n",
       "0     0  isNBAFranchise     TEXT        0       None   0\n",
       "1     1       isAllStar     TEXT        0       None   0\n",
       "2     2            city     TEXT        0       None   0\n",
       "3     3     altCityName     TEXT        0       None   0\n",
       "4     4        fullName     TEXT        0       None   0\n",
       "5     5         tricode     TEXT        0       None   0\n",
       "6     6          teamId  INTEGER        0       None   1\n",
       "7     7        nickname     TEXT        0       None   0\n",
       "8     8         urlName     TEXT        0       None   0\n",
       "9     9   teamShortName     TEXT        0       None   0\n",
       "10   10        confName     TEXT        0       None   0\n",
       "11   11         divName     TEXT        0       None   0"
      ]
     },
     "execution_count": 7,
     "metadata": {},
     "output_type": "execute_result"
    }
   ],
   "source": [
    "pd.read_sql(sql_query, conn)"
   ]
  },
  {
   "cell_type": "markdown",
   "metadata": {
    "slideshow": {
     "slide_type": "subslide"
    }
   },
   "source": [
    "## 為什麼 SQL\n",
    "\n",
    "- SQL 是資料科學團隊、軟體開發團隊最為倚賴的語言之一\n",
    "- SQL 對程式語言有良好的介接"
   ]
  },
  {
   "cell_type": "code",
   "execution_count": 8,
   "metadata": {
    "slideshow": {
     "slide_type": "skip"
    }
   },
   "outputs": [],
   "source": [
    "import pandas as pd\n",
    "import matplotlib.pyplot as plt\n",
    "\n",
    "def get_value_ratios(df, col_name):\n",
    "    return df[col_name].value_counts() / df[col_name].value_counts().sum()\n",
    "    \n",
    "def get_checkbox_ratios(df, col_pattern):\n",
    "    channel_names = []\n",
    "    channel_checks = []\n",
    "    for col_name in df.columns:\n",
    "        if (col_pattern in col_name) and ('OTHER_TEXT' not in col_name):\n",
    "            channel_name = df[col_name].value_counts().index\n",
    "            channel_check = df[col_name].value_counts().values\n",
    "            if channel_name.size != 0:\n",
    "                channel_names.append(channel_name[0])\n",
    "                channel_checks.append(channel_check[0])\n",
    "    channel_counts = pd.Series(channel_checks, index=channel_names)\n",
    "    channel_ratios = channel_counts / channel_counts.sum()\n",
    "    channel_ratios_sorted = channel_ratios.sort_values(ascending=False)\n",
    "    return channel_ratios_sorted\n",
    "\n",
    "survey_2019 = pd.read_csv(\"https://kaggle-ml-ds-survey.s3-ap-northeast-1.amazonaws.com/kaggle-survey-2019/multiple_choice_responses.csv\", encoding='ISO-8859-1', skiprows=[1], low_memory=False)\n",
    "da_2019 = survey_2019[survey_2019['Q5'] == 'Data Analyst']"
   ]
  },
  {
   "cell_type": "code",
   "execution_count": 9,
   "metadata": {
    "slideshow": {
     "slide_type": "skip"
    }
   },
   "outputs": [],
   "source": [
    "def get_ax(ans_ser, plot_title, ax):\n",
    "    ax = ax\n",
    "    ans_ser = ans_ser[:10][::-1]\n",
    "    ax.barh(ans_ser.index, ans_ser.values, color=['c', 'c', 'c', 'c', 'c', 'c', 'c', 'c', 'r', 'c'])\n",
    "    ax.spines['top'].set_visible(False)\n",
    "    ax.spines['right'].set_visible(False)\n",
    "    ax.spines['bottom'].set_visible(False)\n",
    "    ax.set_title(plot_title)\n",
    "    \n",
    "def plot_ans_18_19(ans_18_ser, ans_19_ser):\n",
    "    fig, (ax1, ax2) = plt.subplots(1, 2, figsize=(14, 4))\n",
    "    get_ax(ans_18_ser, \"What programming languages do you use on a regular basis?\", ax1)\n",
    "    get_ax(ans_19_ser, \"What programming language would you recommend \\n an aspiring data scientist to learn first?\", ax2)\n",
    "    plt.tight_layout()\n",
    "    plt.show()\n",
    "    \n",
    "ans_18 = get_checkbox_ratios(da_2019, 'Q18')\n",
    "ans_19 = get_value_ratios(da_2019, 'Q19')"
   ]
  },
  {
   "cell_type": "markdown",
   "metadata": {
    "slideshow": {
     "slide_type": "subslide"
    }
   },
   "source": [
    "## 舉 2019 年的 [Kaggle ML & DS Survey](https://www.kaggle.com/c/kaggle-survey-2019) 為例"
   ]
  },
  {
   "cell_type": "code",
   "execution_count": 10,
   "metadata": {
    "slideshow": {
     "slide_type": "-"
    }
   },
   "outputs": [
    {
     "data": {
      "image/png": "[encoded data removed]",
      "text/plain": [
       "<Figure size 1008x288 with 2 Axes>"
      ]
     },
     "metadata": {
      "needs_background": "light"
     },
     "output_type": "display_data"
    }
   ],
   "source": [
    "plot_ans_18_19(ans_18, ans_19)"
   ]
  },
  {
   "cell_type": "markdown",
   "metadata": {
    "slideshow": {
     "slide_type": "subslide"
    }
   },
   "source": [
    "## 為什麼資料庫\n",
    "\n",
    "- 資料庫是網頁應用程式、互動地圖或內容管理系統不可或缺的後端\n",
    "- 使用資料庫可以幫助我們將資料的 CRUD 規模化與自動化"
   ]
  },
  {
   "cell_type": "markdown",
   "metadata": {
    "slideshow": {
     "slide_type": "subslide"
    }
   },
   "source": [
    "## 資料的 CRUD\n",
    "\n",
    "- C(reate) 創建\n",
    "- R(ead) 讀取\n",
    "- U(pdate) 更新\n",
    "- D(elete) 刪除"
   ]
  },
  {
   "cell_type": "markdown",
   "metadata": {
    "slideshow": {
     "slide_type": "slide"
    }
   },
   "source": [
    "## 從 `SELECT` 與 `FROM` 開始"
   ]
  },
  {
   "cell_type": "markdown",
   "metadata": {
    "slideshow": {
     "slide_type": "subslide"
    }
   },
   "source": [
    "## 兩個維度的資料\n",
    "\n",
    "- 水平：觀測值（Observations）、列（Rows）\n",
    "- 垂直：變數（Variables）、欄（Columns）"
   ]
  },
  {
   "cell_type": "markdown",
   "metadata": {
    "slideshow": {
     "slide_type": "subslide"
    }
   },
   "source": [
    "## 使用 `SELECT *` 查詢表格 `teams` 中的所有觀測值與變數\n",
    "\n",
    "- 使用 `*` 代表「所有」的變數\n",
    "- 使用 `FROM` 指定表格\n",
    "- 使用 `;` 表示查詢的終結"
   ]
  },
  {
   "cell_type": "code",
   "execution_count": 11,
   "metadata": {
    "slideshow": {
     "slide_type": "subslide"
    }
   },
   "outputs": [
    {
     "data": {
      "text/html": [
       "<div>\n",
       "<style scoped>\n",
       "    .dataframe tbody tr th:only-of-type {\n",
       "        vertical-align: middle;\n",
       "    }\n",
       "\n",
       "    .dataframe tbody tr th {\n",
       "        vertical-align: top;\n",
       "    }\n",
       "\n",
       "    .dataframe thead th {\n",
       "        text-align: right;\n",
       "    }\n",
       "</style>\n",
       "<table border=\"1\" class=\"dataframe\">\n",
       "  <thead>\n",
       "    <tr style=\"text-align: right;\">\n",
       "      <th></th>\n",
       "      <th>isNBAFranchise</th>\n",
       "      <th>isAllStar</th>\n",
       "      <th>city</th>\n",
       "      <th>altCityName</th>\n",
       "      <th>fullName</th>\n",
       "      <th>tricode</th>\n",
       "      <th>teamId</th>\n",
       "      <th>nickname</th>\n",
       "      <th>urlName</th>\n",
       "      <th>teamShortName</th>\n",
       "      <th>confName</th>\n",
       "      <th>divName</th>\n",
       "    </tr>\n",
       "  </thead>\n",
       "  <tbody>\n",
       "    <tr>\n",
       "      <th>0</th>\n",
       "      <td>True</td>\n",
       "      <td>False</td>\n",
       "      <td>Atlanta</td>\n",
       "      <td>Atlanta</td>\n",
       "      <td>Atlanta Hawks</td>\n",
       "      <td>ATL</td>\n",
       "      <td>1610612737</td>\n",
       "      <td>Hawks</td>\n",
       "      <td>hawks</td>\n",
       "      <td>Atlanta</td>\n",
       "      <td>East</td>\n",
       "      <td>Southeast</td>\n",
       "    </tr>\n",
       "    <tr>\n",
       "      <th>1</th>\n",
       "      <td>True</td>\n",
       "      <td>False</td>\n",
       "      <td>Boston</td>\n",
       "      <td>Boston</td>\n",
       "      <td>Boston Celtics</td>\n",
       "      <td>BOS</td>\n",
       "      <td>1610612738</td>\n",
       "      <td>Celtics</td>\n",
       "      <td>celtics</td>\n",
       "      <td>Boston</td>\n",
       "      <td>East</td>\n",
       "      <td>Atlantic</td>\n",
       "    </tr>\n",
       "    <tr>\n",
       "      <th>2</th>\n",
       "      <td>True</td>\n",
       "      <td>False</td>\n",
       "      <td>Cleveland</td>\n",
       "      <td>Cleveland</td>\n",
       "      <td>Cleveland Cavaliers</td>\n",
       "      <td>CLE</td>\n",
       "      <td>1610612739</td>\n",
       "      <td>Cavaliers</td>\n",
       "      <td>cavaliers</td>\n",
       "      <td>Cleveland</td>\n",
       "      <td>East</td>\n",
       "      <td>Central</td>\n",
       "    </tr>\n",
       "    <tr>\n",
       "      <th>3</th>\n",
       "      <td>True</td>\n",
       "      <td>False</td>\n",
       "      <td>New Orleans</td>\n",
       "      <td>New Orleans</td>\n",
       "      <td>New Orleans Pelicans</td>\n",
       "      <td>NOP</td>\n",
       "      <td>1610612740</td>\n",
       "      <td>Pelicans</td>\n",
       "      <td>pelicans</td>\n",
       "      <td>New Orleans</td>\n",
       "      <td>West</td>\n",
       "      <td>Southwest</td>\n",
       "    </tr>\n",
       "    <tr>\n",
       "      <th>4</th>\n",
       "      <td>True</td>\n",
       "      <td>False</td>\n",
       "      <td>Chicago</td>\n",
       "      <td>Chicago</td>\n",
       "      <td>Chicago Bulls</td>\n",
       "      <td>CHI</td>\n",
       "      <td>1610612741</td>\n",
       "      <td>Bulls</td>\n",
       "      <td>bulls</td>\n",
       "      <td>Chicago</td>\n",
       "      <td>East</td>\n",
       "      <td>Central</td>\n",
       "    </tr>\n",
       "    <tr>\n",
       "      <th>5</th>\n",
       "      <td>True</td>\n",
       "      <td>False</td>\n",
       "      <td>Dallas</td>\n",
       "      <td>Dallas</td>\n",
       "      <td>Dallas Mavericks</td>\n",
       "      <td>DAL</td>\n",
       "      <td>1610612742</td>\n",
       "      <td>Mavericks</td>\n",
       "      <td>mavericks</td>\n",
       "      <td>Dallas</td>\n",
       "      <td>West</td>\n",
       "      <td>Southwest</td>\n",
       "    </tr>\n",
       "    <tr>\n",
       "      <th>6</th>\n",
       "      <td>True</td>\n",
       "      <td>False</td>\n",
       "      <td>Denver</td>\n",
       "      <td>Denver</td>\n",
       "      <td>Denver Nuggets</td>\n",
       "      <td>DEN</td>\n",
       "      <td>1610612743</td>\n",
       "      <td>Nuggets</td>\n",
       "      <td>nuggets</td>\n",
       "      <td>Denver</td>\n",
       "      <td>West</td>\n",
       "      <td>Northwest</td>\n",
       "    </tr>\n",
       "    <tr>\n",
       "      <th>7</th>\n",
       "      <td>True</td>\n",
       "      <td>False</td>\n",
       "      <td>Golden State</td>\n",
       "      <td>Golden State</td>\n",
       "      <td>Golden State Warriors</td>\n",
       "      <td>GSW</td>\n",
       "      <td>1610612744</td>\n",
       "      <td>Warriors</td>\n",
       "      <td>warriors</td>\n",
       "      <td>Golden State</td>\n",
       "      <td>West</td>\n",
       "      <td>Pacific</td>\n",
       "    </tr>\n",
       "    <tr>\n",
       "      <th>8</th>\n",
       "      <td>True</td>\n",
       "      <td>False</td>\n",
       "      <td>Houston</td>\n",
       "      <td>Houston</td>\n",
       "      <td>Houston Rockets</td>\n",
       "      <td>HOU</td>\n",
       "      <td>1610612745</td>\n",
       "      <td>Rockets</td>\n",
       "      <td>rockets</td>\n",
       "      <td>Houston</td>\n",
       "      <td>West</td>\n",
       "      <td>Southwest</td>\n",
       "    </tr>\n",
       "    <tr>\n",
       "      <th>9</th>\n",
       "      <td>True</td>\n",
       "      <td>False</td>\n",
       "      <td>LA</td>\n",
       "      <td>LA Clippers</td>\n",
       "      <td>LA Clippers</td>\n",
       "      <td>LAC</td>\n",
       "      <td>1610612746</td>\n",
       "      <td>Clippers</td>\n",
       "      <td>clippers</td>\n",
       "      <td>LA Clippers</td>\n",
       "      <td>West</td>\n",
       "      <td>Pacific</td>\n",
       "    </tr>\n",
       "    <tr>\n",
       "      <th>10</th>\n",
       "      <td>True</td>\n",
       "      <td>False</td>\n",
       "      <td>Los Angeles</td>\n",
       "      <td>Los Angeles Lakers</td>\n",
       "      <td>Los Angeles Lakers</td>\n",
       "      <td>LAL</td>\n",
       "      <td>1610612747</td>\n",
       "      <td>Lakers</td>\n",
       "      <td>lakers</td>\n",
       "      <td>L.A. Lakers</td>\n",
       "      <td>West</td>\n",
       "      <td>Pacific</td>\n",
       "    </tr>\n",
       "    <tr>\n",
       "      <th>11</th>\n",
       "      <td>True</td>\n",
       "      <td>False</td>\n",
       "      <td>Miami</td>\n",
       "      <td>Miami</td>\n",
       "      <td>Miami Heat</td>\n",
       "      <td>MIA</td>\n",
       "      <td>1610612748</td>\n",
       "      <td>Heat</td>\n",
       "      <td>heat</td>\n",
       "      <td>Miami</td>\n",
       "      <td>East</td>\n",
       "      <td>Southeast</td>\n",
       "    </tr>\n",
       "    <tr>\n",
       "      <th>12</th>\n",
       "      <td>True</td>\n",
       "      <td>False</td>\n",
       "      <td>Milwaukee</td>\n",
       "      <td>Milwaukee</td>\n",
       "      <td>Milwaukee Bucks</td>\n",
       "      <td>MIL</td>\n",
       "      <td>1610612749</td>\n",
       "      <td>Bucks</td>\n",
       "      <td>bucks</td>\n",
       "      <td>Milwaukee</td>\n",
       "      <td>East</td>\n",
       "      <td>Central</td>\n",
       "    </tr>\n",
       "    <tr>\n",
       "      <th>13</th>\n",
       "      <td>True</td>\n",
       "      <td>False</td>\n",
       "      <td>Minnesota</td>\n",
       "      <td>Minnesota</td>\n",
       "      <td>Minnesota Timberwolves</td>\n",
       "      <td>MIN</td>\n",
       "      <td>1610612750</td>\n",
       "      <td>Timberwolves</td>\n",
       "      <td>timberwolves</td>\n",
       "      <td>Minnesota</td>\n",
       "      <td>West</td>\n",
       "      <td>Northwest</td>\n",
       "    </tr>\n",
       "    <tr>\n",
       "      <th>14</th>\n",
       "      <td>True</td>\n",
       "      <td>False</td>\n",
       "      <td>Brooklyn</td>\n",
       "      <td>Brooklyn</td>\n",
       "      <td>Brooklyn Nets</td>\n",
       "      <td>BKN</td>\n",
       "      <td>1610612751</td>\n",
       "      <td>Nets</td>\n",
       "      <td>nets</td>\n",
       "      <td>Brooklyn</td>\n",
       "      <td>East</td>\n",
       "      <td>Atlantic</td>\n",
       "    </tr>\n",
       "    <tr>\n",
       "      <th>15</th>\n",
       "      <td>True</td>\n",
       "      <td>False</td>\n",
       "      <td>New York</td>\n",
       "      <td>New York</td>\n",
       "      <td>New York Knicks</td>\n",
       "      <td>NYK</td>\n",
       "      <td>1610612752</td>\n",
       "      <td>Knicks</td>\n",
       "      <td>knicks</td>\n",
       "      <td>New York</td>\n",
       "      <td>East</td>\n",
       "      <td>Atlantic</td>\n",
       "    </tr>\n",
       "    <tr>\n",
       "      <th>16</th>\n",
       "      <td>True</td>\n",
       "      <td>False</td>\n",
       "      <td>Orlando</td>\n",
       "      <td>Orlando</td>\n",
       "      <td>Orlando Magic</td>\n",
       "      <td>ORL</td>\n",
       "      <td>1610612753</td>\n",
       "      <td>Magic</td>\n",
       "      <td>magic</td>\n",
       "      <td>Orlando</td>\n",
       "      <td>East</td>\n",
       "      <td>Southeast</td>\n",
       "    </tr>\n",
       "    <tr>\n",
       "      <th>17</th>\n",
       "      <td>True</td>\n",
       "      <td>False</td>\n",
       "      <td>Indiana</td>\n",
       "      <td>Indiana</td>\n",
       "      <td>Indiana Pacers</td>\n",
       "      <td>IND</td>\n",
       "      <td>1610612754</td>\n",
       "      <td>Pacers</td>\n",
       "      <td>pacers</td>\n",
       "      <td>Indiana</td>\n",
       "      <td>East</td>\n",
       "      <td>Central</td>\n",
       "    </tr>\n",
       "    <tr>\n",
       "      <th>18</th>\n",
       "      <td>True</td>\n",
       "      <td>False</td>\n",
       "      <td>Philadelphia</td>\n",
       "      <td>Philadelphia</td>\n",
       "      <td>Philadelphia 76ers</td>\n",
       "      <td>PHI</td>\n",
       "      <td>1610612755</td>\n",
       "      <td>76ers</td>\n",
       "      <td>sixers</td>\n",
       "      <td>Philadelphia</td>\n",
       "      <td>East</td>\n",
       "      <td>Atlantic</td>\n",
       "    </tr>\n",
       "    <tr>\n",
       "      <th>19</th>\n",
       "      <td>True</td>\n",
       "      <td>False</td>\n",
       "      <td>Phoenix</td>\n",
       "      <td>Phoenix</td>\n",
       "      <td>Phoenix Suns</td>\n",
       "      <td>PHX</td>\n",
       "      <td>1610612756</td>\n",
       "      <td>Suns</td>\n",
       "      <td>suns</td>\n",
       "      <td>Phoenix</td>\n",
       "      <td>West</td>\n",
       "      <td>Pacific</td>\n",
       "    </tr>\n",
       "    <tr>\n",
       "      <th>20</th>\n",
       "      <td>True</td>\n",
       "      <td>False</td>\n",
       "      <td>Portland</td>\n",
       "      <td>Portland</td>\n",
       "      <td>Portland Trail Blazers</td>\n",
       "      <td>POR</td>\n",
       "      <td>1610612757</td>\n",
       "      <td>Trail Blazers</td>\n",
       "      <td>blazers</td>\n",
       "      <td>Portland</td>\n",
       "      <td>West</td>\n",
       "      <td>Northwest</td>\n",
       "    </tr>\n",
       "    <tr>\n",
       "      <th>21</th>\n",
       "      <td>True</td>\n",
       "      <td>False</td>\n",
       "      <td>Sacramento</td>\n",
       "      <td>Sacramento</td>\n",
       "      <td>Sacramento Kings</td>\n",
       "      <td>SAC</td>\n",
       "      <td>1610612758</td>\n",
       "      <td>Kings</td>\n",
       "      <td>kings</td>\n",
       "      <td>Sacramento</td>\n",
       "      <td>West</td>\n",
       "      <td>Pacific</td>\n",
       "    </tr>\n",
       "    <tr>\n",
       "      <th>22</th>\n",
       "      <td>True</td>\n",
       "      <td>False</td>\n",
       "      <td>San Antonio</td>\n",
       "      <td>San Antonio</td>\n",
       "      <td>San Antonio Spurs</td>\n",
       "      <td>SAS</td>\n",
       "      <td>1610612759</td>\n",
       "      <td>Spurs</td>\n",
       "      <td>spurs</td>\n",
       "      <td>San Antonio</td>\n",
       "      <td>West</td>\n",
       "      <td>Southwest</td>\n",
       "    </tr>\n",
       "    <tr>\n",
       "      <th>23</th>\n",
       "      <td>True</td>\n",
       "      <td>False</td>\n",
       "      <td>Oklahoma City</td>\n",
       "      <td>Oklahoma City</td>\n",
       "      <td>Oklahoma City Thunder</td>\n",
       "      <td>OKC</td>\n",
       "      <td>1610612760</td>\n",
       "      <td>Thunder</td>\n",
       "      <td>thunder</td>\n",
       "      <td>Oklahoma City</td>\n",
       "      <td>West</td>\n",
       "      <td>Northwest</td>\n",
       "    </tr>\n",
       "    <tr>\n",
       "      <th>24</th>\n",
       "      <td>True</td>\n",
       "      <td>False</td>\n",
       "      <td>Toronto</td>\n",
       "      <td>Toronto</td>\n",
       "      <td>Toronto Raptors</td>\n",
       "      <td>TOR</td>\n",
       "      <td>1610612761</td>\n",
       "      <td>Raptors</td>\n",
       "      <td>raptors</td>\n",
       "      <td>Toronto</td>\n",
       "      <td>East</td>\n",
       "      <td>Atlantic</td>\n",
       "    </tr>\n",
       "    <tr>\n",
       "      <th>25</th>\n",
       "      <td>True</td>\n",
       "      <td>False</td>\n",
       "      <td>Utah</td>\n",
       "      <td>Utah</td>\n",
       "      <td>Utah Jazz</td>\n",
       "      <td>UTA</td>\n",
       "      <td>1610612762</td>\n",
       "      <td>Jazz</td>\n",
       "      <td>jazz</td>\n",
       "      <td>Utah</td>\n",
       "      <td>West</td>\n",
       "      <td>Northwest</td>\n",
       "    </tr>\n",
       "    <tr>\n",
       "      <th>26</th>\n",
       "      <td>True</td>\n",
       "      <td>False</td>\n",
       "      <td>Memphis</td>\n",
       "      <td>Memphis</td>\n",
       "      <td>Memphis Grizzlies</td>\n",
       "      <td>MEM</td>\n",
       "      <td>1610612763</td>\n",
       "      <td>Grizzlies</td>\n",
       "      <td>grizzlies</td>\n",
       "      <td>Memphis</td>\n",
       "      <td>West</td>\n",
       "      <td>Southwest</td>\n",
       "    </tr>\n",
       "    <tr>\n",
       "      <th>27</th>\n",
       "      <td>True</td>\n",
       "      <td>False</td>\n",
       "      <td>Washington</td>\n",
       "      <td>Washington</td>\n",
       "      <td>Washington Wizards</td>\n",
       "      <td>WAS</td>\n",
       "      <td>1610612764</td>\n",
       "      <td>Wizards</td>\n",
       "      <td>wizards</td>\n",
       "      <td>Washington</td>\n",
       "      <td>East</td>\n",
       "      <td>Southeast</td>\n",
       "    </tr>\n",
       "    <tr>\n",
       "      <th>28</th>\n",
       "      <td>True</td>\n",
       "      <td>False</td>\n",
       "      <td>Detroit</td>\n",
       "      <td>Detroit</td>\n",
       "      <td>Detroit Pistons</td>\n",
       "      <td>DET</td>\n",
       "      <td>1610612765</td>\n",
       "      <td>Pistons</td>\n",
       "      <td>pistons</td>\n",
       "      <td>Detroit</td>\n",
       "      <td>East</td>\n",
       "      <td>Central</td>\n",
       "    </tr>\n",
       "    <tr>\n",
       "      <th>29</th>\n",
       "      <td>True</td>\n",
       "      <td>False</td>\n",
       "      <td>Charlotte</td>\n",
       "      <td>Charlotte</td>\n",
       "      <td>Charlotte Hornets</td>\n",
       "      <td>CHA</td>\n",
       "      <td>1610612766</td>\n",
       "      <td>Hornets</td>\n",
       "      <td>hornets</td>\n",
       "      <td>Charlotte</td>\n",
       "      <td>East</td>\n",
       "      <td>Southeast</td>\n",
       "    </tr>\n",
       "  </tbody>\n",
       "</table>\n",
       "</div>"
      ],
      "text/plain": [
       "   isNBAFranchise isAllStar           city         altCityName  \\\n",
       "0            True     False        Atlanta             Atlanta   \n",
       "1            True     False         Boston              Boston   \n",
       "2            True     False      Cleveland           Cleveland   \n",
       "3            True     False    New Orleans         New Orleans   \n",
       "4            True     False        Chicago             Chicago   \n",
       "5            True     False         Dallas              Dallas   \n",
       "6            True     False         Denver              Denver   \n",
       "7            True     False   Golden State        Golden State   \n",
       "8            True     False        Houston             Houston   \n",
       "9            True     False             LA         LA Clippers   \n",
       "10           True     False    Los Angeles  Los Angeles Lakers   \n",
       "11           True     False          Miami               Miami   \n",
       "12           True     False      Milwaukee           Milwaukee   \n",
       "13           True     False      Minnesota           Minnesota   \n",
       "14           True     False       Brooklyn            Brooklyn   \n",
       "15           True     False       New York            New York   \n",
       "16           True     False        Orlando             Orlando   \n",
       "17           True     False        Indiana             Indiana   \n",
       "18           True     False   Philadelphia        Philadelphia   \n",
       "19           True     False        Phoenix             Phoenix   \n",
       "20           True     False       Portland            Portland   \n",
       "21           True     False     Sacramento          Sacramento   \n",
       "22           True     False    San Antonio         San Antonio   \n",
       "23           True     False  Oklahoma City       Oklahoma City   \n",
       "24           True     False        Toronto             Toronto   \n",
       "25           True     False           Utah                Utah   \n",
       "26           True     False        Memphis             Memphis   \n",
       "27           True     False     Washington          Washington   \n",
       "28           True     False        Detroit             Detroit   \n",
       "29           True     False      Charlotte           Charlotte   \n",
       "\n",
       "                  fullName tricode      teamId       nickname       urlName  \\\n",
       "0            Atlanta Hawks     ATL  1610612737          Hawks         hawks   \n",
       "1           Boston Celtics     BOS  1610612738        Celtics       celtics   \n",
       "2      Cleveland Cavaliers     CLE  1610612739      Cavaliers     cavaliers   \n",
       "3     New Orleans Pelicans     NOP  1610612740       Pelicans      pelicans   \n",
       "4            Chicago Bulls     CHI  1610612741          Bulls         bulls   \n",
       "5         Dallas Mavericks     DAL  1610612742      Mavericks     mavericks   \n",
       "6           Denver Nuggets     DEN  1610612743        Nuggets       nuggets   \n",
       "7    Golden State Warriors     GSW  1610612744       Warriors      warriors   \n",
       "8          Houston Rockets     HOU  1610612745        Rockets       rockets   \n",
       "9              LA Clippers     LAC  1610612746       Clippers      clippers   \n",
       "10      Los Angeles Lakers     LAL  1610612747         Lakers        lakers   \n",
       "11              Miami Heat     MIA  1610612748           Heat          heat   \n",
       "12         Milwaukee Bucks     MIL  1610612749          Bucks         bucks   \n",
       "13  Minnesota Timberwolves     MIN  1610612750   Timberwolves  timberwolves   \n",
       "14           Brooklyn Nets     BKN  1610612751           Nets          nets   \n",
       "15         New York Knicks     NYK  1610612752         Knicks        knicks   \n",
       "16           Orlando Magic     ORL  1610612753          Magic         magic   \n",
       "17          Indiana Pacers     IND  1610612754         Pacers        pacers   \n",
       "18      Philadelphia 76ers     PHI  1610612755          76ers        sixers   \n",
       "19            Phoenix Suns     PHX  1610612756           Suns          suns   \n",
       "20  Portland Trail Blazers     POR  1610612757  Trail Blazers       blazers   \n",
       "21        Sacramento Kings     SAC  1610612758          Kings         kings   \n",
       "22       San Antonio Spurs     SAS  1610612759          Spurs         spurs   \n",
       "23   Oklahoma City Thunder     OKC  1610612760        Thunder       thunder   \n",
       "24         Toronto Raptors     TOR  1610612761        Raptors       raptors   \n",
       "25               Utah Jazz     UTA  1610612762           Jazz          jazz   \n",
       "26       Memphis Grizzlies     MEM  1610612763      Grizzlies     grizzlies   \n",
       "27      Washington Wizards     WAS  1610612764        Wizards       wizards   \n",
       "28         Detroit Pistons     DET  1610612765        Pistons       pistons   \n",
       "29       Charlotte Hornets     CHA  1610612766        Hornets       hornets   \n",
       "\n",
       "    teamShortName confName    divName  \n",
       "0         Atlanta     East  Southeast  \n",
       "1          Boston     East   Atlantic  \n",
       "2       Cleveland     East    Central  \n",
       "3     New Orleans     West  Southwest  \n",
       "4         Chicago     East    Central  \n",
       "5          Dallas     West  Southwest  \n",
       "6          Denver     West  Northwest  \n",
       "7    Golden State     West    Pacific  \n",
       "8         Houston     West  Southwest  \n",
       "9     LA Clippers     West    Pacific  \n",
       "10    L.A. Lakers     West    Pacific  \n",
       "11          Miami     East  Southeast  \n",
       "12      Milwaukee     East    Central  \n",
       "13      Minnesota     West  Northwest  \n",
       "14       Brooklyn     East   Atlantic  \n",
       "15       New York     East   Atlantic  \n",
       "16        Orlando     East  Southeast  \n",
       "17        Indiana     East    Central  \n",
       "18   Philadelphia     East   Atlantic  \n",
       "19        Phoenix     West    Pacific  \n",
       "20       Portland     West  Northwest  \n",
       "21     Sacramento     West    Pacific  \n",
       "22    San Antonio     West  Southwest  \n",
       "23  Oklahoma City     West  Northwest  \n",
       "24        Toronto     East   Atlantic  \n",
       "25           Utah     West  Northwest  \n",
       "26        Memphis     West  Southwest  \n",
       "27     Washington     East  Southeast  \n",
       "28        Detroit     East    Central  \n",
       "29      Charlotte     East  Southeast  "
      ]
     },
     "execution_count": 11,
     "metadata": {},
     "output_type": "execute_result"
    }
   ],
   "source": [
    "sql_query = \"\"\"\n",
    "SELECT * FROM teams;\n",
    "\"\"\"\n",
    "pd.read_sql(sql_query, conn)"
   ]
  },
  {
   "cell_type": "markdown",
   "metadata": {
    "slideshow": {
     "slide_type": "subslide"
    }
   },
   "source": [
    "## 在 `SELECT` 後指定變數，並以逗號間隔"
   ]
  },
  {
   "cell_type": "code",
   "execution_count": 12,
   "metadata": {},
   "outputs": [
    {
     "data": {
      "text/html": [
       "<div>\n",
       "<style scoped>\n",
       "    .dataframe tbody tr th:only-of-type {\n",
       "        vertical-align: middle;\n",
       "    }\n",
       "\n",
       "    .dataframe tbody tr th {\n",
       "        vertical-align: top;\n",
       "    }\n",
       "\n",
       "    .dataframe thead th {\n",
       "        text-align: right;\n",
       "    }\n",
       "</style>\n",
       "<table border=\"1\" class=\"dataframe\">\n",
       "  <thead>\n",
       "    <tr style=\"text-align: right;\">\n",
       "      <th></th>\n",
       "      <th>firstName</th>\n",
       "      <th>lastName</th>\n",
       "      <th>dateOfBirthUTC</th>\n",
       "    </tr>\n",
       "  </thead>\n",
       "  <tbody>\n",
       "    <tr>\n",
       "      <th>0</th>\n",
       "      <td>Vince</td>\n",
       "      <td>Carter</td>\n",
       "      <td>1977-01-26</td>\n",
       "    </tr>\n",
       "    <tr>\n",
       "      <th>1</th>\n",
       "      <td>Tyson</td>\n",
       "      <td>Chandler</td>\n",
       "      <td>1982-10-02</td>\n",
       "    </tr>\n",
       "    <tr>\n",
       "      <th>2</th>\n",
       "      <td>LeBron</td>\n",
       "      <td>James</td>\n",
       "      <td>1984-12-30</td>\n",
       "    </tr>\n",
       "    <tr>\n",
       "      <th>3</th>\n",
       "      <td>Carmelo</td>\n",
       "      <td>Anthony</td>\n",
       "      <td>1984-05-29</td>\n",
       "    </tr>\n",
       "    <tr>\n",
       "      <th>4</th>\n",
       "      <td>Kyle</td>\n",
       "      <td>Korver</td>\n",
       "      <td>1981-03-17</td>\n",
       "    </tr>\n",
       "    <tr>\n",
       "      <th>...</th>\n",
       "      <td>...</td>\n",
       "      <td>...</td>\n",
       "      <td>...</td>\n",
       "    </tr>\n",
       "    <tr>\n",
       "      <th>499</th>\n",
       "      <td>Matt</td>\n",
       "      <td>Thomas</td>\n",
       "      <td>1994-08-04</td>\n",
       "    </tr>\n",
       "    <tr>\n",
       "      <th>500</th>\n",
       "      <td>Tariq</td>\n",
       "      <td>Owens</td>\n",
       "      <td>1995-06-30</td>\n",
       "    </tr>\n",
       "    <tr>\n",
       "      <th>501</th>\n",
       "      <td>Javonte</td>\n",
       "      <td>Green</td>\n",
       "      <td>1993-07-23</td>\n",
       "    </tr>\n",
       "    <tr>\n",
       "      <th>502</th>\n",
       "      <td>Juwan</td>\n",
       "      <td>Morgan</td>\n",
       "      <td>1997-04-17</td>\n",
       "    </tr>\n",
       "    <tr>\n",
       "      <th>503</th>\n",
       "      <td>Matt</td>\n",
       "      <td>Mooney</td>\n",
       "      <td>1997-02-07</td>\n",
       "    </tr>\n",
       "  </tbody>\n",
       "</table>\n",
       "<p>504 rows × 3 columns</p>\n",
       "</div>"
      ],
      "text/plain": [
       "    firstName  lastName dateOfBirthUTC\n",
       "0       Vince    Carter     1977-01-26\n",
       "1       Tyson  Chandler     1982-10-02\n",
       "2      LeBron     James     1984-12-30\n",
       "3     Carmelo   Anthony     1984-05-29\n",
       "4        Kyle    Korver     1981-03-17\n",
       "..        ...       ...            ...\n",
       "499      Matt    Thomas     1994-08-04\n",
       "500     Tariq     Owens     1995-06-30\n",
       "501   Javonte     Green     1993-07-23\n",
       "502     Juwan    Morgan     1997-04-17\n",
       "503      Matt    Mooney     1997-02-07\n",
       "\n",
       "[504 rows x 3 columns]"
      ]
     },
     "execution_count": 12,
     "metadata": {},
     "output_type": "execute_result"
    }
   ],
   "source": [
    "sql_query = \"\"\"\n",
    "SELECT firstName, lastName, dateOfBirthUTC FROM players;\n",
    "\"\"\"\n",
    "pd.read_sql(sql_query, conn)"
   ]
  },
  {
   "cell_type": "markdown",
   "metadata": {
    "slideshow": {
     "slide_type": "subslide"
    }
   },
   "source": [
    "## 使用 `DISTINCT` 暸解類別變數的獨一值"
   ]
  },
  {
   "cell_type": "code",
   "execution_count": 13,
   "metadata": {},
   "outputs": [
    {
     "data": {
      "text/html": [
       "<div>\n",
       "<style scoped>\n",
       "    .dataframe tbody tr th:only-of-type {\n",
       "        vertical-align: middle;\n",
       "    }\n",
       "\n",
       "    .dataframe tbody tr th {\n",
       "        vertical-align: top;\n",
       "    }\n",
       "\n",
       "    .dataframe thead th {\n",
       "        text-align: right;\n",
       "    }\n",
       "</style>\n",
       "<table border=\"1\" class=\"dataframe\">\n",
       "  <thead>\n",
       "    <tr style=\"text-align: right;\">\n",
       "      <th></th>\n",
       "      <th>confName</th>\n",
       "      <th>divName</th>\n",
       "    </tr>\n",
       "  </thead>\n",
       "  <tbody>\n",
       "    <tr>\n",
       "      <th>0</th>\n",
       "      <td>East</td>\n",
       "      <td>Southeast</td>\n",
       "    </tr>\n",
       "    <tr>\n",
       "      <th>1</th>\n",
       "      <td>East</td>\n",
       "      <td>Atlantic</td>\n",
       "    </tr>\n",
       "    <tr>\n",
       "      <th>2</th>\n",
       "      <td>East</td>\n",
       "      <td>Central</td>\n",
       "    </tr>\n",
       "    <tr>\n",
       "      <th>3</th>\n",
       "      <td>West</td>\n",
       "      <td>Southwest</td>\n",
       "    </tr>\n",
       "    <tr>\n",
       "      <th>4</th>\n",
       "      <td>West</td>\n",
       "      <td>Northwest</td>\n",
       "    </tr>\n",
       "    <tr>\n",
       "      <th>5</th>\n",
       "      <td>West</td>\n",
       "      <td>Pacific</td>\n",
       "    </tr>\n",
       "  </tbody>\n",
       "</table>\n",
       "</div>"
      ],
      "text/plain": [
       "  confName    divName\n",
       "0     East  Southeast\n",
       "1     East   Atlantic\n",
       "2     East    Central\n",
       "3     West  Southwest\n",
       "4     West  Northwest\n",
       "5     West    Pacific"
      ]
     },
     "execution_count": 13,
     "metadata": {},
     "output_type": "execute_result"
    }
   ],
   "source": [
    "sql_query = \"\"\"\n",
    "SELECT DISTINCT confName, divName FROM teams;\n",
    "\"\"\"\n",
    "pd.read_sql(sql_query, conn)"
   ]
  },
  {
   "cell_type": "markdown",
   "metadata": {
    "slideshow": {
     "slide_type": "subslide"
    }
   },
   "source": [
    "## 使用 `LIMIT` 侷限查詢結果的觀測值數"
   ]
  },
  {
   "cell_type": "code",
   "execution_count": 14,
   "metadata": {},
   "outputs": [
    {
     "data": {
      "text/html": [
       "<div>\n",
       "<style scoped>\n",
       "    .dataframe tbody tr th:only-of-type {\n",
       "        vertical-align: middle;\n",
       "    }\n",
       "\n",
       "    .dataframe tbody tr th {\n",
       "        vertical-align: top;\n",
       "    }\n",
       "\n",
       "    .dataframe thead th {\n",
       "        text-align: right;\n",
       "    }\n",
       "</style>\n",
       "<table border=\"1\" class=\"dataframe\">\n",
       "  <thead>\n",
       "    <tr style=\"text-align: right;\">\n",
       "      <th></th>\n",
       "      <th>city</th>\n",
       "    </tr>\n",
       "  </thead>\n",
       "  <tbody>\n",
       "    <tr>\n",
       "      <th>0</th>\n",
       "      <td>Atlanta</td>\n",
       "    </tr>\n",
       "    <tr>\n",
       "      <th>1</th>\n",
       "      <td>Boston</td>\n",
       "    </tr>\n",
       "    <tr>\n",
       "      <th>2</th>\n",
       "      <td>Cleveland</td>\n",
       "    </tr>\n",
       "    <tr>\n",
       "      <th>3</th>\n",
       "      <td>New Orleans</td>\n",
       "    </tr>\n",
       "    <tr>\n",
       "      <th>4</th>\n",
       "      <td>Chicago</td>\n",
       "    </tr>\n",
       "  </tbody>\n",
       "</table>\n",
       "</div>"
      ],
      "text/plain": [
       "          city\n",
       "0      Atlanta\n",
       "1       Boston\n",
       "2    Cleveland\n",
       "3  New Orleans\n",
       "4      Chicago"
      ]
     },
     "execution_count": 14,
     "metadata": {},
     "output_type": "execute_result"
    }
   ],
   "source": [
    "sql_query = \"\"\"\n",
    "SELECT city FROM teams LIMIT 5;\n",
    "\"\"\"\n",
    "pd.read_sql(sql_query, conn)"
   ]
  },
  {
   "cell_type": "markdown",
   "metadata": {
    "slideshow": {
     "slide_type": "subslide"
    }
   },
   "source": [
    "## 使用 `AS` 為查詢結果建立別名"
   ]
  },
  {
   "cell_type": "code",
   "execution_count": 15,
   "metadata": {},
   "outputs": [
    {
     "data": {
      "text/html": [
       "<div>\n",
       "<style scoped>\n",
       "    .dataframe tbody tr th:only-of-type {\n",
       "        vertical-align: middle;\n",
       "    }\n",
       "\n",
       "    .dataframe tbody tr th {\n",
       "        vertical-align: top;\n",
       "    }\n",
       "\n",
       "    .dataframe thead th {\n",
       "        text-align: right;\n",
       "    }\n",
       "</style>\n",
       "<table border=\"1\" class=\"dataframe\">\n",
       "  <thead>\n",
       "    <tr style=\"text-align: right;\">\n",
       "      <th></th>\n",
       "      <th>team_name</th>\n",
       "    </tr>\n",
       "  </thead>\n",
       "  <tbody>\n",
       "    <tr>\n",
       "      <th>0</th>\n",
       "      <td>Atlanta Hawks</td>\n",
       "    </tr>\n",
       "    <tr>\n",
       "      <th>1</th>\n",
       "      <td>Boston Celtics</td>\n",
       "    </tr>\n",
       "    <tr>\n",
       "      <th>2</th>\n",
       "      <td>Cleveland Cavaliers</td>\n",
       "    </tr>\n",
       "    <tr>\n",
       "      <th>3</th>\n",
       "      <td>New Orleans Pelicans</td>\n",
       "    </tr>\n",
       "    <tr>\n",
       "      <th>4</th>\n",
       "      <td>Chicago Bulls</td>\n",
       "    </tr>\n",
       "  </tbody>\n",
       "</table>\n",
       "</div>"
      ],
      "text/plain": [
       "              team_name\n",
       "0         Atlanta Hawks\n",
       "1        Boston Celtics\n",
       "2   Cleveland Cavaliers\n",
       "3  New Orleans Pelicans\n",
       "4         Chicago Bulls"
      ]
     },
     "execution_count": 15,
     "metadata": {},
     "output_type": "execute_result"
    }
   ],
   "source": [
    "sql_query = \"\"\"\n",
    "SELECT fullName AS team_name FROM teams LIMIT 5;\n",
    "\"\"\"\n",
    "pd.read_sql(sql_query, conn)"
   ]
  },
  {
   "cell_type": "markdown",
   "metadata": {
    "slideshow": {
     "slide_type": "subslide"
    }
   },
   "source": [
    "## 這是目前涵蓋的查詢保留字\n",
    "\n",
    "使用 SQL 語法時，保留字順序必須要遵守。\n",
    "\n",
    "```sql\n",
    "SELECT DISTINCT column_name AS alias_name FROM table_name LIMIT n_obs;\n",
    "```"
   ]
  },
  {
   "cell_type": "markdown",
   "metadata": {
    "slideshow": {
     "slide_type": "subslide"
    }
   },
   "source": [
    "## 前往快速啟動：隨堂練習\n",
    "\n",
    "[快速啟動：隨堂練習](https://mybinder.org/v2/gh/yaojenkuo/introduction-to-sql/master?filepath=01-exercises.ipynb)"
   ]
  }
 ],
 "metadata": {
  "celltoolbar": "Slideshow",
  "kernelspec": {
   "display_name": "Python Data Analysis",
   "language": "python",
   "name": "pyda"
  },
  "language_info": {
   "codemirror_mode": {
    "name": "ipython",
    "version": 3
   },
   "file_extension": ".py",
   "mimetype": "text/x-python",
   "name": "python",
   "nbconvert_exporter": "python",
   "pygments_lexer": "ipython3",
   "version": "3.6.8"
  }
 },
 "nbformat": 4,
 "nbformat_minor": 4
}
