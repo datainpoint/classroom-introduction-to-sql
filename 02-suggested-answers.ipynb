{
 "cells": [
  {
   "cell_type": "markdown",
   "metadata": {
    "slideshow": {
     "slide_type": "slide"
    }
   },
   "source": [
    "# SQL 語法入門\n",
    "\n",
    "> 基本查詢：隨堂練習參考解答\n",
    "\n",
    "郭耀仁"
   ]
  },
  {
   "cell_type": "code",
   "execution_count": 1,
   "metadata": {
    "slideshow": {
     "slide_type": "subslide"
    }
   },
   "outputs": [],
   "source": [
    "import sqlite3\n",
    "import pandas as pd\n",
    "from sqlFrameCheck import checkAnsQuery\n",
    "from test_queries.test_queries_02 import extract_test_queries as etq\n",
    "\n",
    "conn_twelection = sqlite3.connect('twelection.db')\n",
    "conn_nba = sqlite3.connect('nba.db')"
   ]
  },
  {
   "cell_type": "markdown",
   "metadata": {
    "slideshow": {
     "slide_type": "slide"
    }
   },
   "source": [
    "## 隨堂練習：以 `||`  運算符將 `presidential2020` 表格中 `county`、`town` 與 `village` 連結誠一個新的欄位並命名為 `combined_key`，再以 `DISTINCT` 暸解台灣獨一的選舉區有哪些"
   ]
  },
  {
   "cell_type": "code",
   "execution_count": 2,
   "metadata": {
    "slideshow": {
     "slide_type": "-"
    }
   },
   "outputs": [
    {
     "data": {
      "text/html": [
       "<div>\n",
       "<style scoped>\n",
       "    .dataframe tbody tr th:only-of-type {\n",
       "        vertical-align: middle;\n",
       "    }\n",
       "\n",
       "    .dataframe tbody tr th {\n",
       "        vertical-align: top;\n",
       "    }\n",
       "\n",
       "    .dataframe thead th {\n",
       "        text-align: right;\n",
       "    }\n",
       "</style>\n",
       "<table border=\"1\" class=\"dataframe\">\n",
       "  <thead>\n",
       "    <tr style=\"text-align: right;\">\n",
       "      <th></th>\n",
       "      <th>combined_key</th>\n",
       "    </tr>\n",
       "  </thead>\n",
       "  <tbody>\n",
       "    <tr>\n",
       "      <th>0</th>\n",
       "      <td>南投縣中寮鄉中寮村</td>\n",
       "    </tr>\n",
       "    <tr>\n",
       "      <th>1</th>\n",
       "      <td>南投縣中寮鄉內城村</td>\n",
       "    </tr>\n",
       "    <tr>\n",
       "      <th>2</th>\n",
       "      <td>南投縣中寮鄉八仙村</td>\n",
       "    </tr>\n",
       "    <tr>\n",
       "      <th>3</th>\n",
       "      <td>南投縣中寮鄉和興村</td>\n",
       "    </tr>\n",
       "    <tr>\n",
       "      <th>4</th>\n",
       "      <td>南投縣中寮鄉崁頂村</td>\n",
       "    </tr>\n",
       "    <tr>\n",
       "      <th>...</th>\n",
       "      <td>...</td>\n",
       "    </tr>\n",
       "    <tr>\n",
       "      <th>7732</th>\n",
       "      <td>高雄市鼓山區鼓岩里</td>\n",
       "    </tr>\n",
       "    <tr>\n",
       "      <th>7733</th>\n",
       "      <td>高雄市鼓山區鼓峰里</td>\n",
       "    </tr>\n",
       "    <tr>\n",
       "      <th>7734</th>\n",
       "      <td>高雄市鼓山區龍井里</td>\n",
       "    </tr>\n",
       "    <tr>\n",
       "      <th>7735</th>\n",
       "      <td>高雄市鼓山區龍子里</td>\n",
       "    </tr>\n",
       "    <tr>\n",
       "      <th>7736</th>\n",
       "      <td>高雄市鼓山區龍水里</td>\n",
       "    </tr>\n",
       "  </tbody>\n",
       "</table>\n",
       "<p>7737 rows × 1 columns</p>\n",
       "</div>"
      ],
      "text/plain": [
       "     combined_key\n",
       "0       南投縣中寮鄉中寮村\n",
       "1       南投縣中寮鄉內城村\n",
       "2       南投縣中寮鄉八仙村\n",
       "3       南投縣中寮鄉和興村\n",
       "4       南投縣中寮鄉崁頂村\n",
       "...           ...\n",
       "7732    高雄市鼓山區鼓岩里\n",
       "7733    高雄市鼓山區鼓峰里\n",
       "7734    高雄市鼓山區龍井里\n",
       "7735    高雄市鼓山區龍子里\n",
       "7736    高雄市鼓山區龍水里\n",
       "\n",
       "[7737 rows x 1 columns]"
      ]
     },
     "execution_count": 2,
     "metadata": {},
     "output_type": "execute_result"
    }
   ],
   "source": [
    "ans_query = \"\"\"\n",
    "SELECT DISTINCT county || town || village AS combined_key\n",
    "  FROM presidential2020;\n",
    "\"\"\"\n",
    "# 試跑看看結果\n",
    "pd.read_sql(ans_query, conn_twelection)"
   ]
  },
  {
   "cell_type": "markdown",
   "metadata": {
    "slideshow": {
     "slide_type": "subslide"
    }
   },
   "source": [
    "## 測資比對"
   ]
  },
  {
   "cell_type": "code",
   "execution_count": 3,
   "metadata": {},
   "outputs": [
    {
     "name": "stdout",
     "output_type": "stream",
     "text": [
      "測資比對正確！\n"
     ]
    }
   ],
   "source": [
    "caq = checkAnsQuery(etq('0201'), ans_query, conn_twelection)\n",
    "caq.run_test()"
   ]
  },
  {
   "cell_type": "markdown",
   "metadata": {
    "slideshow": {
     "slide_type": "slide"
    }
   },
   "source": [
    "## 隨堂練習：計算 NBA 球員的身體質量指數（BMI）並由大到小排序，選擇 `firstName`、`lastName` 與 `bmi` 這三個變數"
   ]
  },
  {
   "cell_type": "code",
   "execution_count": 4,
   "metadata": {},
   "outputs": [
    {
     "data": {
      "text/html": [
       "<div>\n",
       "<style scoped>\n",
       "    .dataframe tbody tr th:only-of-type {\n",
       "        vertical-align: middle;\n",
       "    }\n",
       "\n",
       "    .dataframe tbody tr th {\n",
       "        vertical-align: top;\n",
       "    }\n",
       "\n",
       "    .dataframe thead th {\n",
       "        text-align: right;\n",
       "    }\n",
       "</style>\n",
       "<table border=\"1\" class=\"dataframe\">\n",
       "  <thead>\n",
       "    <tr style=\"text-align: right;\">\n",
       "      <th></th>\n",
       "      <th>firstName</th>\n",
       "      <th>lastName</th>\n",
       "      <th>bmi</th>\n",
       "    </tr>\n",
       "  </thead>\n",
       "  <tbody>\n",
       "    <tr>\n",
       "      <th>0</th>\n",
       "      <td>Zion</td>\n",
       "      <td>Williamson</td>\n",
       "      <td>32.853790</td>\n",
       "    </tr>\n",
       "    <tr>\n",
       "      <th>1</th>\n",
       "      <td>Jaylen</td>\n",
       "      <td>Adams</td>\n",
       "      <td>30.487623</td>\n",
       "    </tr>\n",
       "    <tr>\n",
       "      <th>2</th>\n",
       "      <td>Jarrell</td>\n",
       "      <td>Brantley</td>\n",
       "      <td>29.518950</td>\n",
       "    </tr>\n",
       "    <tr>\n",
       "      <th>3</th>\n",
       "      <td>Eric</td>\n",
       "      <td>Paschall</td>\n",
       "      <td>29.512295</td>\n",
       "    </tr>\n",
       "    <tr>\n",
       "      <th>4</th>\n",
       "      <td>Andre</td>\n",
       "      <td>Drummond</td>\n",
       "      <td>29.262204</td>\n",
       "    </tr>\n",
       "    <tr>\n",
       "      <th>...</th>\n",
       "      <td>...</td>\n",
       "      <td>...</td>\n",
       "      <td>...</td>\n",
       "    </tr>\n",
       "    <tr>\n",
       "      <th>499</th>\n",
       "      <td>Kostas</td>\n",
       "      <td>Antetokounmpo</td>\n",
       "      <td>20.964312</td>\n",
       "    </tr>\n",
       "    <tr>\n",
       "      <th>500</th>\n",
       "      <td>Justin</td>\n",
       "      <td>Holiday</td>\n",
       "      <td>20.814203</td>\n",
       "    </tr>\n",
       "    <tr>\n",
       "      <th>501</th>\n",
       "      <td>Patrick</td>\n",
       "      <td>McCaw</td>\n",
       "      <td>20.321279</td>\n",
       "    </tr>\n",
       "    <tr>\n",
       "      <th>502</th>\n",
       "      <td>Corey</td>\n",
       "      <td>Brewer</td>\n",
       "      <td>20.100858</td>\n",
       "    </tr>\n",
       "    <tr>\n",
       "      <th>503</th>\n",
       "      <td>Isaac</td>\n",
       "      <td>Bonga</td>\n",
       "      <td>19.801500</td>\n",
       "    </tr>\n",
       "  </tbody>\n",
       "</table>\n",
       "<p>504 rows × 3 columns</p>\n",
       "</div>"
      ],
      "text/plain": [
       "    firstName       lastName        bmi\n",
       "0        Zion     Williamson  32.853790\n",
       "1      Jaylen          Adams  30.487623\n",
       "2     Jarrell       Brantley  29.518950\n",
       "3        Eric       Paschall  29.512295\n",
       "4       Andre       Drummond  29.262204\n",
       "..        ...            ...        ...\n",
       "499    Kostas  Antetokounmpo  20.964312\n",
       "500    Justin        Holiday  20.814203\n",
       "501   Patrick          McCaw  20.321279\n",
       "502     Corey         Brewer  20.100858\n",
       "503     Isaac          Bonga  19.801500\n",
       "\n",
       "[504 rows x 3 columns]"
      ]
     },
     "execution_count": 4,
     "metadata": {},
     "output_type": "execute_result"
    }
   ],
   "source": [
    "ans_query = \"\"\"\n",
    "SELECT firstName,\n",
    "       lastName,\n",
    "       weightKilograms / (heightMeters*heightMeters) AS bmi\n",
    "  FROM players\n",
    " ORDER BY bmi DESC;\n",
    "\"\"\"\n",
    "# 試跑看看結果\n",
    "pd.read_sql(ans_query, conn_nba)"
   ]
  },
  {
   "cell_type": "markdown",
   "metadata": {
    "slideshow": {
     "slide_type": "subslide"
    }
   },
   "source": [
    "## 測資比對"
   ]
  },
  {
   "cell_type": "code",
   "execution_count": 5,
   "metadata": {},
   "outputs": [
    {
     "name": "stdout",
     "output_type": "stream",
     "text": [
      "測資比對正確！\n"
     ]
    }
   ],
   "source": [
    "caq = checkAnsQuery(etq('0202'), ans_query, conn_nba)\n",
    "caq.run_test()"
   ]
  },
  {
   "cell_type": "markdown",
   "metadata": {
    "slideshow": {
     "slide_type": "slide"
    }
   },
   "source": [
    "## 隨堂練習：使用 `WHERE` 將 `presidential2020` 中臺北市的資料篩選出來"
   ]
  },
  {
   "cell_type": "code",
   "execution_count": 6,
   "metadata": {},
   "outputs": [
    {
     "data": {
      "text/html": [
       "<div>\n",
       "<style scoped>\n",
       "    .dataframe tbody tr th:only-of-type {\n",
       "        vertical-align: middle;\n",
       "    }\n",
       "\n",
       "    .dataframe tbody tr th {\n",
       "        vertical-align: top;\n",
       "    }\n",
       "\n",
       "    .dataframe thead th {\n",
       "        text-align: right;\n",
       "    }\n",
       "</style>\n",
       "<table border=\"1\" class=\"dataframe\">\n",
       "  <thead>\n",
       "    <tr style=\"text-align: right;\">\n",
       "      <th></th>\n",
       "      <th>county</th>\n",
       "      <th>town</th>\n",
       "      <th>village</th>\n",
       "      <th>office</th>\n",
       "      <th>number</th>\n",
       "      <th>candidates</th>\n",
       "      <th>votes</th>\n",
       "    </tr>\n",
       "  </thead>\n",
       "  <tbody>\n",
       "    <tr>\n",
       "      <th>0</th>\n",
       "      <td>臺北市</td>\n",
       "      <td>中山區</td>\n",
       "      <td>下埤里</td>\n",
       "      <td>524</td>\n",
       "      <td>1</td>\n",
       "      <td>宋楚瑜/余湘</td>\n",
       "      <td>48</td>\n",
       "    </tr>\n",
       "    <tr>\n",
       "      <th>1</th>\n",
       "      <td>臺北市</td>\n",
       "      <td>中山區</td>\n",
       "      <td>下埤里</td>\n",
       "      <td>524</td>\n",
       "      <td>2</td>\n",
       "      <td>韓國瑜/張善政</td>\n",
       "      <td>377</td>\n",
       "    </tr>\n",
       "    <tr>\n",
       "      <th>2</th>\n",
       "      <td>臺北市</td>\n",
       "      <td>中山區</td>\n",
       "      <td>下埤里</td>\n",
       "      <td>524</td>\n",
       "      <td>3</td>\n",
       "      <td>蔡英文/賴清德</td>\n",
       "      <td>581</td>\n",
       "    </tr>\n",
       "    <tr>\n",
       "      <th>3</th>\n",
       "      <td>臺北市</td>\n",
       "      <td>中山區</td>\n",
       "      <td>下埤里</td>\n",
       "      <td>525</td>\n",
       "      <td>1</td>\n",
       "      <td>宋楚瑜/余湘</td>\n",
       "      <td>53</td>\n",
       "    </tr>\n",
       "    <tr>\n",
       "      <th>4</th>\n",
       "      <td>臺北市</td>\n",
       "      <td>中山區</td>\n",
       "      <td>下埤里</td>\n",
       "      <td>525</td>\n",
       "      <td>2</td>\n",
       "      <td>韓國瑜/張善政</td>\n",
       "      <td>342</td>\n",
       "    </tr>\n",
       "    <tr>\n",
       "      <th>...</th>\n",
       "      <td>...</td>\n",
       "      <td>...</td>\n",
       "      <td>...</td>\n",
       "      <td>...</td>\n",
       "      <td>...</td>\n",
       "      <td>...</td>\n",
       "      <td>...</td>\n",
       "    </tr>\n",
       "    <tr>\n",
       "      <th>5179</th>\n",
       "      <td>臺北市</td>\n",
       "      <td>萬華區</td>\n",
       "      <td>騰雲里</td>\n",
       "      <td>1032</td>\n",
       "      <td>2</td>\n",
       "      <td>韓國瑜/張善政</td>\n",
       "      <td>528</td>\n",
       "    </tr>\n",
       "    <tr>\n",
       "      <th>5180</th>\n",
       "      <td>臺北市</td>\n",
       "      <td>萬華區</td>\n",
       "      <td>騰雲里</td>\n",
       "      <td>1032</td>\n",
       "      <td>3</td>\n",
       "      <td>蔡英文/賴清德</td>\n",
       "      <td>456</td>\n",
       "    </tr>\n",
       "    <tr>\n",
       "      <th>5181</th>\n",
       "      <td>臺北市</td>\n",
       "      <td>萬華區</td>\n",
       "      <td>騰雲里</td>\n",
       "      <td>1033</td>\n",
       "      <td>1</td>\n",
       "      <td>宋楚瑜/余湘</td>\n",
       "      <td>43</td>\n",
       "    </tr>\n",
       "    <tr>\n",
       "      <th>5182</th>\n",
       "      <td>臺北市</td>\n",
       "      <td>萬華區</td>\n",
       "      <td>騰雲里</td>\n",
       "      <td>1033</td>\n",
       "      <td>2</td>\n",
       "      <td>韓國瑜/張善政</td>\n",
       "      <td>502</td>\n",
       "    </tr>\n",
       "    <tr>\n",
       "      <th>5183</th>\n",
       "      <td>臺北市</td>\n",
       "      <td>萬華區</td>\n",
       "      <td>騰雲里</td>\n",
       "      <td>1033</td>\n",
       "      <td>3</td>\n",
       "      <td>蔡英文/賴清德</td>\n",
       "      <td>512</td>\n",
       "    </tr>\n",
       "  </tbody>\n",
       "</table>\n",
       "<p>5184 rows × 7 columns</p>\n",
       "</div>"
      ],
      "text/plain": [
       "     county town village  office  number candidates  votes\n",
       "0       臺北市  中山區     下埤里     524       1     宋楚瑜/余湘     48\n",
       "1       臺北市  中山區     下埤里     524       2    韓國瑜/張善政    377\n",
       "2       臺北市  中山區     下埤里     524       3    蔡英文/賴清德    581\n",
       "3       臺北市  中山區     下埤里     525       1     宋楚瑜/余湘     53\n",
       "4       臺北市  中山區     下埤里     525       2    韓國瑜/張善政    342\n",
       "...     ...  ...     ...     ...     ...        ...    ...\n",
       "5179    臺北市  萬華區     騰雲里    1032       2    韓國瑜/張善政    528\n",
       "5180    臺北市  萬華區     騰雲里    1032       3    蔡英文/賴清德    456\n",
       "5181    臺北市  萬華區     騰雲里    1033       1     宋楚瑜/余湘     43\n",
       "5182    臺北市  萬華區     騰雲里    1033       2    韓國瑜/張善政    502\n",
       "5183    臺北市  萬華區     騰雲里    1033       3    蔡英文/賴清德    512\n",
       "\n",
       "[5184 rows x 7 columns]"
      ]
     },
     "execution_count": 6,
     "metadata": {},
     "output_type": "execute_result"
    }
   ],
   "source": [
    "ans_query = \"\"\"\n",
    "SELECT *\n",
    "  FROM presidential2020\n",
    " WHERE county='臺北市';\n",
    "\"\"\"\n",
    "# 試跑看看結果\n",
    "pd.read_sql(ans_query, conn_twelection)"
   ]
  },
  {
   "cell_type": "markdown",
   "metadata": {
    "slideshow": {
     "slide_type": "subslide"
    }
   },
   "source": [
    "## 測資比對"
   ]
  },
  {
   "cell_type": "code",
   "execution_count": 7,
   "metadata": {},
   "outputs": [
    {
     "name": "stdout",
     "output_type": "stream",
     "text": [
      "測資比對正確！\n"
     ]
    }
   ],
   "source": [
    "caq = checkAnsQuery(etq('0203'), ans_query, conn_twelection)\n",
    "caq.run_test()"
   ]
  },
  {
   "cell_type": "markdown",
   "metadata": {
    "slideshow": {
     "slide_type": "slide"
    }
   },
   "source": [
    "## 隨堂練習：使用 `WHERE` 將 `presidential2020` 表格中的六都（臺北市、新北市、桃園市、臺中市、臺南市與高雄市）的資料篩選出來"
   ]
  },
  {
   "cell_type": "code",
   "execution_count": 8,
   "metadata": {},
   "outputs": [
    {
     "data": {
      "text/html": [
       "<div>\n",
       "<style scoped>\n",
       "    .dataframe tbody tr th:only-of-type {\n",
       "        vertical-align: middle;\n",
       "    }\n",
       "\n",
       "    .dataframe tbody tr th {\n",
       "        vertical-align: top;\n",
       "    }\n",
       "\n",
       "    .dataframe thead th {\n",
       "        text-align: right;\n",
       "    }\n",
       "</style>\n",
       "<table border=\"1\" class=\"dataframe\">\n",
       "  <thead>\n",
       "    <tr style=\"text-align: right;\">\n",
       "      <th></th>\n",
       "      <th>county</th>\n",
       "      <th>town</th>\n",
       "      <th>village</th>\n",
       "      <th>office</th>\n",
       "      <th>number</th>\n",
       "      <th>candidates</th>\n",
       "      <th>votes</th>\n",
       "    </tr>\n",
       "  </thead>\n",
       "  <tbody>\n",
       "    <tr>\n",
       "      <th>0</th>\n",
       "      <td>新北市</td>\n",
       "      <td>三峽區</td>\n",
       "      <td>三峽里</td>\n",
       "      <td>2010</td>\n",
       "      <td>1</td>\n",
       "      <td>宋楚瑜/余湘</td>\n",
       "      <td>11</td>\n",
       "    </tr>\n",
       "    <tr>\n",
       "      <th>1</th>\n",
       "      <td>新北市</td>\n",
       "      <td>三峽區</td>\n",
       "      <td>三峽里</td>\n",
       "      <td>2010</td>\n",
       "      <td>2</td>\n",
       "      <td>韓國瑜/張善政</td>\n",
       "      <td>83</td>\n",
       "    </tr>\n",
       "    <tr>\n",
       "      <th>2</th>\n",
       "      <td>新北市</td>\n",
       "      <td>三峽區</td>\n",
       "      <td>三峽里</td>\n",
       "      <td>2010</td>\n",
       "      <td>3</td>\n",
       "      <td>蔡英文/賴清德</td>\n",
       "      <td>124</td>\n",
       "    </tr>\n",
       "    <tr>\n",
       "      <th>3</th>\n",
       "      <td>新北市</td>\n",
       "      <td>三峽區</td>\n",
       "      <td>中埔里</td>\n",
       "      <td>2014</td>\n",
       "      <td>1</td>\n",
       "      <td>宋楚瑜/余湘</td>\n",
       "      <td>51</td>\n",
       "    </tr>\n",
       "    <tr>\n",
       "      <th>4</th>\n",
       "      <td>新北市</td>\n",
       "      <td>三峽區</td>\n",
       "      <td>中埔里</td>\n",
       "      <td>2014</td>\n",
       "      <td>2</td>\n",
       "      <td>韓國瑜/張善政</td>\n",
       "      <td>364</td>\n",
       "    </tr>\n",
       "    <tr>\n",
       "      <th>...</th>\n",
       "      <td>...</td>\n",
       "      <td>...</td>\n",
       "      <td>...</td>\n",
       "      <td>...</td>\n",
       "      <td>...</td>\n",
       "      <td>...</td>\n",
       "      <td>...</td>\n",
       "    </tr>\n",
       "    <tr>\n",
       "      <th>32668</th>\n",
       "      <td>高雄市</td>\n",
       "      <td>鼓山區</td>\n",
       "      <td>龍水里</td>\n",
       "      <td>1268</td>\n",
       "      <td>2</td>\n",
       "      <td>韓國瑜/張善政</td>\n",
       "      <td>477</td>\n",
       "    </tr>\n",
       "    <tr>\n",
       "      <th>32669</th>\n",
       "      <td>高雄市</td>\n",
       "      <td>鼓山區</td>\n",
       "      <td>龍水里</td>\n",
       "      <td>1268</td>\n",
       "      <td>3</td>\n",
       "      <td>蔡英文/賴清德</td>\n",
       "      <td>647</td>\n",
       "    </tr>\n",
       "    <tr>\n",
       "      <th>32670</th>\n",
       "      <td>高雄市</td>\n",
       "      <td>鼓山區</td>\n",
       "      <td>龍水里</td>\n",
       "      <td>1269</td>\n",
       "      <td>1</td>\n",
       "      <td>宋楚瑜/余湘</td>\n",
       "      <td>39</td>\n",
       "    </tr>\n",
       "    <tr>\n",
       "      <th>32671</th>\n",
       "      <td>高雄市</td>\n",
       "      <td>鼓山區</td>\n",
       "      <td>龍水里</td>\n",
       "      <td>1269</td>\n",
       "      <td>2</td>\n",
       "      <td>韓國瑜/張善政</td>\n",
       "      <td>520</td>\n",
       "    </tr>\n",
       "    <tr>\n",
       "      <th>32672</th>\n",
       "      <td>高雄市</td>\n",
       "      <td>鼓山區</td>\n",
       "      <td>龍水里</td>\n",
       "      <td>1269</td>\n",
       "      <td>3</td>\n",
       "      <td>蔡英文/賴清德</td>\n",
       "      <td>673</td>\n",
       "    </tr>\n",
       "  </tbody>\n",
       "</table>\n",
       "<p>32673 rows × 7 columns</p>\n",
       "</div>"
      ],
      "text/plain": [
       "      county town village  office  number candidates  votes\n",
       "0        新北市  三峽區     三峽里    2010       1     宋楚瑜/余湘     11\n",
       "1        新北市  三峽區     三峽里    2010       2    韓國瑜/張善政     83\n",
       "2        新北市  三峽區     三峽里    2010       3    蔡英文/賴清德    124\n",
       "3        新北市  三峽區     中埔里    2014       1     宋楚瑜/余湘     51\n",
       "4        新北市  三峽區     中埔里    2014       2    韓國瑜/張善政    364\n",
       "...      ...  ...     ...     ...     ...        ...    ...\n",
       "32668    高雄市  鼓山區     龍水里    1268       2    韓國瑜/張善政    477\n",
       "32669    高雄市  鼓山區     龍水里    1268       3    蔡英文/賴清德    647\n",
       "32670    高雄市  鼓山區     龍水里    1269       1     宋楚瑜/余湘     39\n",
       "32671    高雄市  鼓山區     龍水里    1269       2    韓國瑜/張善政    520\n",
       "32672    高雄市  鼓山區     龍水里    1269       3    蔡英文/賴清德    673\n",
       "\n",
       "[32673 rows x 7 columns]"
      ]
     },
     "execution_count": 8,
     "metadata": {},
     "output_type": "execute_result"
    }
   ],
   "source": [
    "ans_query = \"\"\"\n",
    "SELECT * \n",
    "  FROM presidential2020\n",
    " WHERE county IN ('臺北市', '新北市', '桃園市', '臺中市', '臺南市', '高雄市');\n",
    "\"\"\"\n",
    "# 試跑看看結果\n",
    "pd.read_sql(ans_query, conn_twelection)"
   ]
  },
  {
   "cell_type": "markdown",
   "metadata": {
    "slideshow": {
     "slide_type": "subslide"
    }
   },
   "source": [
    "## 測資比對"
   ]
  },
  {
   "cell_type": "code",
   "execution_count": 9,
   "metadata": {},
   "outputs": [
    {
     "name": "stdout",
     "output_type": "stream",
     "text": [
      "測資比對正確！\n"
     ]
    }
   ],
   "source": [
    "caq = checkAnsQuery(etq('0204'), ans_query, conn_twelection)\n",
    "caq.run_test()"
   ]
  },
  {
   "cell_type": "markdown",
   "metadata": {
    "slideshow": {
     "slide_type": "slide"
    }
   },
   "source": [
    "## 隨堂練習：查詢 `careerSummaries` 生涯場均得分 `ppg` 超過 20 分的球員 ID `personId`、場均得分 `ppg`"
   ]
  },
  {
   "cell_type": "code",
   "execution_count": 10,
   "metadata": {},
   "outputs": [
    {
     "data": {
      "text/html": [
       "<div>\n",
       "<style scoped>\n",
       "    .dataframe tbody tr th:only-of-type {\n",
       "        vertical-align: middle;\n",
       "    }\n",
       "\n",
       "    .dataframe tbody tr th {\n",
       "        vertical-align: top;\n",
       "    }\n",
       "\n",
       "    .dataframe thead th {\n",
       "        text-align: right;\n",
       "    }\n",
       "</style>\n",
       "<table border=\"1\" class=\"dataframe\">\n",
       "  <thead>\n",
       "    <tr style=\"text-align: right;\">\n",
       "      <th></th>\n",
       "      <th>personId</th>\n",
       "      <th>ppg</th>\n",
       "    </tr>\n",
       "  </thead>\n",
       "  <tbody>\n",
       "    <tr>\n",
       "      <th>0</th>\n",
       "      <td>2544</td>\n",
       "      <td>27.1</td>\n",
       "    </tr>\n",
       "    <tr>\n",
       "      <th>1</th>\n",
       "      <td>2546</td>\n",
       "      <td>23.6</td>\n",
       "    </tr>\n",
       "    <tr>\n",
       "      <th>2</th>\n",
       "      <td>201142</td>\n",
       "      <td>27.0</td>\n",
       "    </tr>\n",
       "    <tr>\n",
       "      <th>3</th>\n",
       "      <td>201566</td>\n",
       "      <td>23.2</td>\n",
       "    </tr>\n",
       "    <tr>\n",
       "      <th>4</th>\n",
       "      <td>201933</td>\n",
       "      <td>21.7</td>\n",
       "    </tr>\n",
       "    <tr>\n",
       "      <th>5</th>\n",
       "      <td>201935</td>\n",
       "      <td>25.1</td>\n",
       "    </tr>\n",
       "    <tr>\n",
       "      <th>6</th>\n",
       "      <td>201939</td>\n",
       "      <td>23.5</td>\n",
       "    </tr>\n",
       "    <tr>\n",
       "      <th>7</th>\n",
       "      <td>202681</td>\n",
       "      <td>22.4</td>\n",
       "    </tr>\n",
       "    <tr>\n",
       "      <th>8</th>\n",
       "      <td>203076</td>\n",
       "      <td>24.0</td>\n",
       "    </tr>\n",
       "    <tr>\n",
       "      <th>9</th>\n",
       "      <td>203078</td>\n",
       "      <td>21.0</td>\n",
       "    </tr>\n",
       "    <tr>\n",
       "      <th>10</th>\n",
       "      <td>203081</td>\n",
       "      <td>24.0</td>\n",
       "    </tr>\n",
       "    <tr>\n",
       "      <th>11</th>\n",
       "      <td>203954</td>\n",
       "      <td>24.1</td>\n",
       "    </tr>\n",
       "    <tr>\n",
       "      <th>12</th>\n",
       "      <td>1626157</td>\n",
       "      <td>22.7</td>\n",
       "    </tr>\n",
       "    <tr>\n",
       "      <th>13</th>\n",
       "      <td>1626164</td>\n",
       "      <td>22.3</td>\n",
       "    </tr>\n",
       "    <tr>\n",
       "      <th>14</th>\n",
       "      <td>1628378</td>\n",
       "      <td>22.7</td>\n",
       "    </tr>\n",
       "    <tr>\n",
       "      <th>15</th>\n",
       "      <td>1629027</td>\n",
       "      <td>23.6</td>\n",
       "    </tr>\n",
       "    <tr>\n",
       "      <th>16</th>\n",
       "      <td>1629029</td>\n",
       "      <td>24.4</td>\n",
       "    </tr>\n",
       "    <tr>\n",
       "      <th>17</th>\n",
       "      <td>1629627</td>\n",
       "      <td>23.6</td>\n",
       "    </tr>\n",
       "  </tbody>\n",
       "</table>\n",
       "</div>"
      ],
      "text/plain": [
       "    personId   ppg\n",
       "0       2544  27.1\n",
       "1       2546  23.6\n",
       "2     201142  27.0\n",
       "3     201566  23.2\n",
       "4     201933  21.7\n",
       "5     201935  25.1\n",
       "6     201939  23.5\n",
       "7     202681  22.4\n",
       "8     203076  24.0\n",
       "9     203078  21.0\n",
       "10    203081  24.0\n",
       "11    203954  24.1\n",
       "12   1626157  22.7\n",
       "13   1626164  22.3\n",
       "14   1628378  22.7\n",
       "15   1629027  23.6\n",
       "16   1629029  24.4\n",
       "17   1629627  23.6"
      ]
     },
     "execution_count": 10,
     "metadata": {},
     "output_type": "execute_result"
    }
   ],
   "source": [
    "ans_query = \"\"\"\n",
    "SELECT personId,\n",
    "       ppg\n",
    "  FROM careerSummaries\n",
    " WHERE ppg > 20;\n",
    "\"\"\"\n",
    "# 試跑看看結果\n",
    "pd.read_sql(ans_query, conn_nba)"
   ]
  },
  {
   "cell_type": "markdown",
   "metadata": {
    "slideshow": {
     "slide_type": "subslide"
    }
   },
   "source": [
    "## 測資比對"
   ]
  },
  {
   "cell_type": "code",
   "execution_count": 11,
   "metadata": {},
   "outputs": [
    {
     "name": "stdout",
     "output_type": "stream",
     "text": [
      "測資比對正確！\n"
     ]
    }
   ],
   "source": [
    "caq = checkAnsQuery(etq('0205'), ans_query, conn_nba)\n",
    "caq.run_test()"
   ]
  },
  {
   "cell_type": "markdown",
   "metadata": {
    "slideshow": {
     "slide_type": "slide"
    }
   },
   "source": [
    "## 隨堂練習：從 `careerSummaries` 中找出生涯助攻失誤比（assists/turnovers）最高的前 10 個球員 ID `personId`、助攻失誤比 `ast_to_ratio`\n",
    "\n",
    "\\begin{equation}\n",
    "ast\\_to\\_ratio = \\frac{assists}{turnovers}\n",
    "\\end{equation}"
   ]
  },
  {
   "cell_type": "code",
   "execution_count": 12,
   "metadata": {},
   "outputs": [
    {
     "data": {
      "text/html": [
       "<div>\n",
       "<style scoped>\n",
       "    .dataframe tbody tr th:only-of-type {\n",
       "        vertical-align: middle;\n",
       "    }\n",
       "\n",
       "    .dataframe tbody tr th {\n",
       "        vertical-align: top;\n",
       "    }\n",
       "\n",
       "    .dataframe thead th {\n",
       "        text-align: right;\n",
       "    }\n",
       "</style>\n",
       "<table border=\"1\" class=\"dataframe\">\n",
       "  <thead>\n",
       "    <tr style=\"text-align: right;\">\n",
       "      <th></th>\n",
       "      <th>personId</th>\n",
       "      <th>ast_to_ratio</th>\n",
       "    </tr>\n",
       "  </thead>\n",
       "  <tbody>\n",
       "    <tr>\n",
       "      <th>0</th>\n",
       "      <td>1629669</td>\n",
       "      <td>6.333333</td>\n",
       "    </tr>\n",
       "    <tr>\n",
       "      <th>1</th>\n",
       "      <td>1628420</td>\n",
       "      <td>5.448980</td>\n",
       "    </tr>\n",
       "    <tr>\n",
       "      <th>2</th>\n",
       "      <td>1626145</td>\n",
       "      <td>4.775862</td>\n",
       "    </tr>\n",
       "    <tr>\n",
       "      <th>3</th>\n",
       "      <td>1629162</td>\n",
       "      <td>4.032258</td>\n",
       "    </tr>\n",
       "    <tr>\n",
       "      <th>4</th>\n",
       "      <td>1629648</td>\n",
       "      <td>4.000000</td>\n",
       "    </tr>\n",
       "    <tr>\n",
       "      <th>5</th>\n",
       "      <td>101108</td>\n",
       "      <td>3.935682</td>\n",
       "    </tr>\n",
       "    <tr>\n",
       "      <th>6</th>\n",
       "      <td>1627853</td>\n",
       "      <td>3.539823</td>\n",
       "    </tr>\n",
       "    <tr>\n",
       "      <th>7</th>\n",
       "      <td>1629723</td>\n",
       "      <td>3.500000</td>\n",
       "    </tr>\n",
       "    <tr>\n",
       "      <th>8</th>\n",
       "      <td>1627832</td>\n",
       "      <td>3.209964</td>\n",
       "    </tr>\n",
       "    <tr>\n",
       "      <th>9</th>\n",
       "      <td>202397</td>\n",
       "      <td>3.071053</td>\n",
       "    </tr>\n",
       "  </tbody>\n",
       "</table>\n",
       "</div>"
      ],
      "text/plain": [
       "   personId  ast_to_ratio\n",
       "0   1629669      6.333333\n",
       "1   1628420      5.448980\n",
       "2   1626145      4.775862\n",
       "3   1629162      4.032258\n",
       "4   1629648      4.000000\n",
       "5    101108      3.935682\n",
       "6   1627853      3.539823\n",
       "7   1629723      3.500000\n",
       "8   1627832      3.209964\n",
       "9    202397      3.071053"
      ]
     },
     "execution_count": 12,
     "metadata": {},
     "output_type": "execute_result"
    }
   ],
   "source": [
    "ans_query = \"\"\"\n",
    "SELECT personId,\n",
    "       CAST(assists AS REAL) / CAST(turnovers AS REAL) AS ast_to_ratio\n",
    "  FROM careerSummaries\n",
    " ORDER BY ast_to_ratio DESC\n",
    " LIMIT 10;\n",
    "\"\"\"\n",
    "# 試跑看看結果\n",
    "pd.read_sql(ans_query, conn_nba)"
   ]
  },
  {
   "cell_type": "markdown",
   "metadata": {
    "slideshow": {
     "slide_type": "subslide"
    }
   },
   "source": [
    "## 測資比對"
   ]
  },
  {
   "cell_type": "code",
   "execution_count": 13,
   "metadata": {},
   "outputs": [
    {
     "name": "stdout",
     "output_type": "stream",
     "text": [
      "測資比對正確！\n"
     ]
    }
   ],
   "source": [
    "caq = checkAnsQuery(etq('0206'), ans_query, conn_nba)\n",
    "caq.run_test()"
   ]
  }
 ],
 "metadata": {
  "celltoolbar": "Slideshow",
  "kernelspec": {
   "display_name": "Python Data Analysis",
   "language": "python",
   "name": "pyda"
  },
  "language_info": {
   "codemirror_mode": {
    "name": "ipython",
    "version": 3
   },
   "file_extension": ".py",
   "mimetype": "text/x-python",
   "name": "python",
   "nbconvert_exporter": "python",
   "pygments_lexer": "ipython3",
   "version": "3.6.8"
  }
 },
 "nbformat": 4,
 "nbformat_minor": 4
}
