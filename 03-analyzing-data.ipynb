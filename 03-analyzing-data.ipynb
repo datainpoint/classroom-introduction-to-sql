{
 "cells": [
  {
   "cell_type": "markdown",
   "metadata": {
    "slideshow": {
     "slide_type": "slide"
    }
   },
   "source": [
    "# SQL 語法入門\n",
    "\n",
    "> 資料分析\n",
    "\n",
    "郭耀仁"
   ]
  },
  {
   "cell_type": "code",
   "execution_count": 1,
   "metadata": {
    "slideshow": {
     "slide_type": "subslide"
    }
   },
   "outputs": [],
   "source": [
    "# 連結資料庫\n",
    "import sqlite3\n",
    "import pandas as pd\n",
    "\n",
    "conn = sqlite3.connect('nba.db')"
   ]
  },
  {
   "cell_type": "markdown",
   "metadata": {
    "slideshow": {
     "slide_type": "subslide"
    }
   },
   "source": [
    "## 摘要\n",
    "\n",
    "- 聚合與分組\n",
    "- 進階的 SQL 查詢技巧\n",
    "- 聯結關聯式資料庫中的表格"
   ]
  },
  {
   "cell_type": "markdown",
   "metadata": {
    "slideshow": {
     "slide_type": "slide"
    }
   },
   "source": [
    "## 聚合與分組"
   ]
  },
  {
   "cell_type": "markdown",
   "metadata": {
    "slideshow": {
     "slide_type": "subslide"
    }
   },
   "source": [
    "## 我們可以將函式粗分為兩種類型\n",
    "\n",
    "- 通用函式（Universal functions）\n",
    "- 聚合函式（Aggregate functions）"
   ]
  },
  {
   "cell_type": "markdown",
   "metadata": {
    "slideshow": {
     "slide_type": "subslide"
    }
   },
   "source": [
    "## 其中通用函式的特性是輸入與輸出的列數相同"
   ]
  },
  {
   "cell_type": "code",
   "execution_count": 2,
   "metadata": {},
   "outputs": [],
   "source": [
    "sql_query = \"\"\"\n",
    "SELECT firstName,\n",
    "       UPPER(firstName) AS upper_first_name\n",
    "  FROM players\n",
    " LIMIT 10;\n",
    "\"\"\""
   ]
  },
  {
   "cell_type": "code",
   "execution_count": 3,
   "metadata": {
    "slideshow": {
     "slide_type": "subslide"
    }
   },
   "outputs": [
    {
     "data": {
      "text/html": [
       "<div>\n",
       "<style scoped>\n",
       "    .dataframe tbody tr th:only-of-type {\n",
       "        vertical-align: middle;\n",
       "    }\n",
       "\n",
       "    .dataframe tbody tr th {\n",
       "        vertical-align: top;\n",
       "    }\n",
       "\n",
       "    .dataframe thead th {\n",
       "        text-align: right;\n",
       "    }\n",
       "</style>\n",
       "<table border=\"1\" class=\"dataframe\">\n",
       "  <thead>\n",
       "    <tr style=\"text-align: right;\">\n",
       "      <th></th>\n",
       "      <th>firstName</th>\n",
       "      <th>upper_first_name</th>\n",
       "    </tr>\n",
       "  </thead>\n",
       "  <tbody>\n",
       "    <tr>\n",
       "      <th>0</th>\n",
       "      <td>Vince</td>\n",
       "      <td>VINCE</td>\n",
       "    </tr>\n",
       "    <tr>\n",
       "      <th>1</th>\n",
       "      <td>Tyson</td>\n",
       "      <td>TYSON</td>\n",
       "    </tr>\n",
       "    <tr>\n",
       "      <th>2</th>\n",
       "      <td>LeBron</td>\n",
       "      <td>LEBRON</td>\n",
       "    </tr>\n",
       "    <tr>\n",
       "      <th>3</th>\n",
       "      <td>Carmelo</td>\n",
       "      <td>CARMELO</td>\n",
       "    </tr>\n",
       "    <tr>\n",
       "      <th>4</th>\n",
       "      <td>Kyle</td>\n",
       "      <td>KYLE</td>\n",
       "    </tr>\n",
       "    <tr>\n",
       "      <th>5</th>\n",
       "      <td>Udonis</td>\n",
       "      <td>UDONIS</td>\n",
       "    </tr>\n",
       "    <tr>\n",
       "      <th>6</th>\n",
       "      <td>Dwight</td>\n",
       "      <td>DWIGHT</td>\n",
       "    </tr>\n",
       "    <tr>\n",
       "      <th>7</th>\n",
       "      <td>Andre</td>\n",
       "      <td>ANDRE</td>\n",
       "    </tr>\n",
       "    <tr>\n",
       "      <th>8</th>\n",
       "      <td>JR</td>\n",
       "      <td>JR</td>\n",
       "    </tr>\n",
       "    <tr>\n",
       "      <th>9</th>\n",
       "      <td>Trevor</td>\n",
       "      <td>TREVOR</td>\n",
       "    </tr>\n",
       "  </tbody>\n",
       "</table>\n",
       "</div>"
      ],
      "text/plain": [
       "  firstName upper_first_name\n",
       "0     Vince            VINCE\n",
       "1     Tyson            TYSON\n",
       "2    LeBron           LEBRON\n",
       "3   Carmelo          CARMELO\n",
       "4      Kyle             KYLE\n",
       "5    Udonis           UDONIS\n",
       "6    Dwight           DWIGHT\n",
       "7     Andre            ANDRE\n",
       "8        JR               JR\n",
       "9    Trevor           TREVOR"
      ]
     },
     "execution_count": 3,
     "metadata": {},
     "output_type": "execute_result"
    }
   ],
   "source": [
    "pd.read_sql(sql_query, conn)"
   ]
  },
  {
   "cell_type": "markdown",
   "metadata": {
    "slideshow": {
     "slide_type": "subslide"
    }
   },
   "source": [
    "## 聚合函式的特性則是輸出的列數多半遠少於輸入的列數"
   ]
  },
  {
   "cell_type": "code",
   "execution_count": 4,
   "metadata": {},
   "outputs": [
    {
     "data": {
      "text/html": [
       "<div>\n",
       "<style scoped>\n",
       "    .dataframe tbody tr th:only-of-type {\n",
       "        vertical-align: middle;\n",
       "    }\n",
       "\n",
       "    .dataframe tbody tr th {\n",
       "        vertical-align: top;\n",
       "    }\n",
       "\n",
       "    .dataframe thead th {\n",
       "        text-align: right;\n",
       "    }\n",
       "</style>\n",
       "<table border=\"1\" class=\"dataframe\">\n",
       "  <thead>\n",
       "    <tr style=\"text-align: right;\">\n",
       "      <th></th>\n",
       "      <th>avg_height_meters</th>\n",
       "    </tr>\n",
       "  </thead>\n",
       "  <tbody>\n",
       "    <tr>\n",
       "      <th>0</th>\n",
       "      <td>1.99121</td>\n",
       "    </tr>\n",
       "  </tbody>\n",
       "</table>\n",
       "</div>"
      ],
      "text/plain": [
       "   avg_height_meters\n",
       "0            1.99121"
      ]
     },
     "execution_count": 4,
     "metadata": {},
     "output_type": "execute_result"
    }
   ],
   "source": [
    "sql_query = \"\"\"\n",
    "SELECT AVG(heightMeters) AS avg_height_meters\n",
    "  FROM players;\n",
    "\"\"\"\n",
    "pd.read_sql(sql_query, conn)"
   ]
  },
  {
   "cell_type": "markdown",
   "metadata": {
    "slideshow": {
     "slide_type": "subslide"
    }
   },
   "source": [
    "## SQLite 常用的聚合函式\n",
    "\n",
    "<https://www.sqlitetutorial.net/sqlite-aggregate-functions/>\n",
    "\n",
    "Source: <https://www.sqlitetutorial.net/>"
   ]
  },
  {
   "cell_type": "markdown",
   "metadata": {
    "slideshow": {
     "slide_type": "subslide"
    }
   },
   "source": [
    "## 使用 `COUNT()` 暸解表格的觀測值數"
   ]
  },
  {
   "cell_type": "code",
   "execution_count": 5,
   "metadata": {},
   "outputs": [
    {
     "data": {
      "text/html": [
       "<div>\n",
       "<style scoped>\n",
       "    .dataframe tbody tr th:only-of-type {\n",
       "        vertical-align: middle;\n",
       "    }\n",
       "\n",
       "    .dataframe tbody tr th {\n",
       "        vertical-align: top;\n",
       "    }\n",
       "\n",
       "    .dataframe thead th {\n",
       "        text-align: right;\n",
       "    }\n",
       "</style>\n",
       "<table border=\"1\" class=\"dataframe\">\n",
       "  <thead>\n",
       "    <tr style=\"text-align: right;\">\n",
       "      <th></th>\n",
       "      <th>n_players</th>\n",
       "    </tr>\n",
       "  </thead>\n",
       "  <tbody>\n",
       "    <tr>\n",
       "      <th>0</th>\n",
       "      <td>504</td>\n",
       "    </tr>\n",
       "  </tbody>\n",
       "</table>\n",
       "</div>"
      ],
      "text/plain": [
       "   n_players\n",
       "0        504"
      ]
     },
     "execution_count": 5,
     "metadata": {},
     "output_type": "execute_result"
    }
   ],
   "source": [
    "sql_query = \"\"\"\n",
    "SELECT COUNT(*) AS n_players\n",
    "  FROM players;\n",
    "\"\"\"\n",
    "pd.read_sql(sql_query, conn)"
   ]
  },
  {
   "cell_type": "markdown",
   "metadata": {
    "slideshow": {
     "slide_type": "subslide"
    }
   },
   "source": [
    "## 使用 `COUNT()` 搭配 `PRAGMA_TABLE_INFO()` 暸解表格的欄位數"
   ]
  },
  {
   "cell_type": "code",
   "execution_count": 6,
   "metadata": {},
   "outputs": [
    {
     "data": {
      "text/html": [
       "<div>\n",
       "<style scoped>\n",
       "    .dataframe tbody tr th:only-of-type {\n",
       "        vertical-align: middle;\n",
       "    }\n",
       "\n",
       "    .dataframe tbody tr th {\n",
       "        vertical-align: top;\n",
       "    }\n",
       "\n",
       "    .dataframe thead th {\n",
       "        text-align: right;\n",
       "    }\n",
       "</style>\n",
       "<table border=\"1\" class=\"dataframe\">\n",
       "  <thead>\n",
       "    <tr style=\"text-align: right;\">\n",
       "      <th></th>\n",
       "      <th>n_columns</th>\n",
       "    </tr>\n",
       "  </thead>\n",
       "  <tbody>\n",
       "    <tr>\n",
       "      <th>0</th>\n",
       "      <td>20</td>\n",
       "    </tr>\n",
       "  </tbody>\n",
       "</table>\n",
       "</div>"
      ],
      "text/plain": [
       "   n_columns\n",
       "0         20"
      ]
     },
     "execution_count": 6,
     "metadata": {},
     "output_type": "execute_result"
    }
   ],
   "source": [
    "sql_query = \"\"\"\n",
    "SELECT COUNT(*) AS n_columns\n",
    "  FROM PRAGMA_TABLE_INFO('players');\n",
    "\"\"\"\n",
    "pd.read_sql(sql_query, conn)"
   ]
  },
  {
   "cell_type": "markdown",
   "metadata": {
    "slideshow": {
     "slide_type": "subslide"
    }
   },
   "source": [
    "## 使用 `MAX()` 與 `MIN()` 尋找最大與最小值"
   ]
  },
  {
   "cell_type": "code",
   "execution_count": 7,
   "metadata": {},
   "outputs": [
    {
     "data": {
      "text/html": [
       "<div>\n",
       "<style scoped>\n",
       "    .dataframe tbody tr th:only-of-type {\n",
       "        vertical-align: middle;\n",
       "    }\n",
       "\n",
       "    .dataframe tbody tr th {\n",
       "        vertical-align: top;\n",
       "    }\n",
       "\n",
       "    .dataframe thead th {\n",
       "        text-align: right;\n",
       "    }\n",
       "</style>\n",
       "<table border=\"1\" class=\"dataframe\">\n",
       "  <thead>\n",
       "    <tr style=\"text-align: right;\">\n",
       "      <th></th>\n",
       "      <th>MAX(heightMeters)</th>\n",
       "      <th>MIN(heightMeters)</th>\n",
       "    </tr>\n",
       "  </thead>\n",
       "  <tbody>\n",
       "    <tr>\n",
       "      <th>0</th>\n",
       "      <td>2.26</td>\n",
       "      <td>1.75</td>\n",
       "    </tr>\n",
       "  </tbody>\n",
       "</table>\n",
       "</div>"
      ],
      "text/plain": [
       "   MAX(heightMeters)  MIN(heightMeters)\n",
       "0               2.26               1.75"
      ]
     },
     "execution_count": 7,
     "metadata": {},
     "output_type": "execute_result"
    }
   ],
   "source": [
    "sql_query = \"\"\"\n",
    "SELECT MAX(heightMeters),\n",
    "       MIN(heightMeters)\n",
    "  FROM players;\n",
    "\"\"\"\n",
    "pd.read_sql(sql_query, conn)"
   ]
  },
  {
   "cell_type": "markdown",
   "metadata": {
    "slideshow": {
     "slide_type": "subslide"
    }
   },
   "source": [
    "## 使用 `GROUP BY`\n",
    "\n",
    "`GROUP BY` 如果單獨存在，作用與 `DISTINCT` 相同。"
   ]
  },
  {
   "cell_type": "code",
   "execution_count": 8,
   "metadata": {},
   "outputs": [],
   "source": [
    "sql_query = \"\"\"\n",
    "SELECT confName,\n",
    "       divName\n",
    "  FROM teams\n",
    " GROUP BY divName\n",
    " ORDER BY confName, divName;\n",
    "\"\"\""
   ]
  },
  {
   "cell_type": "code",
   "execution_count": 9,
   "metadata": {
    "slideshow": {
     "slide_type": "subslide"
    }
   },
   "outputs": [
    {
     "data": {
      "text/html": [
       "<div>\n",
       "<style scoped>\n",
       "    .dataframe tbody tr th:only-of-type {\n",
       "        vertical-align: middle;\n",
       "    }\n",
       "\n",
       "    .dataframe tbody tr th {\n",
       "        vertical-align: top;\n",
       "    }\n",
       "\n",
       "    .dataframe thead th {\n",
       "        text-align: right;\n",
       "    }\n",
       "</style>\n",
       "<table border=\"1\" class=\"dataframe\">\n",
       "  <thead>\n",
       "    <tr style=\"text-align: right;\">\n",
       "      <th></th>\n",
       "      <th>confName</th>\n",
       "      <th>divName</th>\n",
       "    </tr>\n",
       "  </thead>\n",
       "  <tbody>\n",
       "    <tr>\n",
       "      <th>0</th>\n",
       "      <td>East</td>\n",
       "      <td>Atlantic</td>\n",
       "    </tr>\n",
       "    <tr>\n",
       "      <th>1</th>\n",
       "      <td>East</td>\n",
       "      <td>Central</td>\n",
       "    </tr>\n",
       "    <tr>\n",
       "      <th>2</th>\n",
       "      <td>East</td>\n",
       "      <td>Southeast</td>\n",
       "    </tr>\n",
       "    <tr>\n",
       "      <th>3</th>\n",
       "      <td>West</td>\n",
       "      <td>Northwest</td>\n",
       "    </tr>\n",
       "    <tr>\n",
       "      <th>4</th>\n",
       "      <td>West</td>\n",
       "      <td>Pacific</td>\n",
       "    </tr>\n",
       "    <tr>\n",
       "      <th>5</th>\n",
       "      <td>West</td>\n",
       "      <td>Southwest</td>\n",
       "    </tr>\n",
       "  </tbody>\n",
       "</table>\n",
       "</div>"
      ],
      "text/plain": [
       "  confName    divName\n",
       "0     East   Atlantic\n",
       "1     East    Central\n",
       "2     East  Southeast\n",
       "3     West  Northwest\n",
       "4     West    Pacific\n",
       "5     West  Southwest"
      ]
     },
     "execution_count": 9,
     "metadata": {},
     "output_type": "execute_result"
    }
   ],
   "source": [
    "pd.read_sql(sql_query, conn)"
   ]
  },
  {
   "cell_type": "markdown",
   "metadata": {
    "slideshow": {
     "slide_type": "subslide"
    }
   },
   "source": [
    "## 使用 `GROUP BY` 搭配聚合函式就可以實現分組聚合"
   ]
  },
  {
   "cell_type": "code",
   "execution_count": 10,
   "metadata": {},
   "outputs": [],
   "source": [
    "sql_query = \"\"\"\n",
    "SELECT country,\n",
    "       COUNT(*) AS n_players\n",
    "  FROM players\n",
    " GROUP BY country\n",
    " ORDER BY n_players DESC, country\n",
    " LIMIT 10;\n",
    "\"\"\""
   ]
  },
  {
   "cell_type": "code",
   "execution_count": 11,
   "metadata": {
    "slideshow": {
     "slide_type": "subslide"
    }
   },
   "outputs": [
    {
     "data": {
      "text/html": [
       "<div>\n",
       "<style scoped>\n",
       "    .dataframe tbody tr th:only-of-type {\n",
       "        vertical-align: middle;\n",
       "    }\n",
       "\n",
       "    .dataframe tbody tr th {\n",
       "        vertical-align: top;\n",
       "    }\n",
       "\n",
       "    .dataframe thead th {\n",
       "        text-align: right;\n",
       "    }\n",
       "</style>\n",
       "<table border=\"1\" class=\"dataframe\">\n",
       "  <thead>\n",
       "    <tr style=\"text-align: right;\">\n",
       "      <th></th>\n",
       "      <th>country</th>\n",
       "      <th>n_players</th>\n",
       "    </tr>\n",
       "  </thead>\n",
       "  <tbody>\n",
       "    <tr>\n",
       "      <th>0</th>\n",
       "      <td>USA</td>\n",
       "      <td>384</td>\n",
       "    </tr>\n",
       "    <tr>\n",
       "      <th>1</th>\n",
       "      <td>Canada</td>\n",
       "      <td>20</td>\n",
       "    </tr>\n",
       "    <tr>\n",
       "      <th>2</th>\n",
       "      <td>France</td>\n",
       "      <td>11</td>\n",
       "    </tr>\n",
       "    <tr>\n",
       "      <th>3</th>\n",
       "      <td>Australia</td>\n",
       "      <td>8</td>\n",
       "    </tr>\n",
       "    <tr>\n",
       "      <th>4</th>\n",
       "      <td>Croatia</td>\n",
       "      <td>6</td>\n",
       "    </tr>\n",
       "    <tr>\n",
       "      <th>5</th>\n",
       "      <td>Serbia</td>\n",
       "      <td>6</td>\n",
       "    </tr>\n",
       "    <tr>\n",
       "      <th>6</th>\n",
       "      <td>Germany</td>\n",
       "      <td>5</td>\n",
       "    </tr>\n",
       "    <tr>\n",
       "      <th>7</th>\n",
       "      <td>Latvia</td>\n",
       "      <td>4</td>\n",
       "    </tr>\n",
       "    <tr>\n",
       "      <th>8</th>\n",
       "      <td>Spain</td>\n",
       "      <td>4</td>\n",
       "    </tr>\n",
       "    <tr>\n",
       "      <th>9</th>\n",
       "      <td>Turkey</td>\n",
       "      <td>4</td>\n",
       "    </tr>\n",
       "  </tbody>\n",
       "</table>\n",
       "</div>"
      ],
      "text/plain": [
       "     country  n_players\n",
       "0        USA        384\n",
       "1     Canada         20\n",
       "2     France         11\n",
       "3  Australia          8\n",
       "4    Croatia          6\n",
       "5     Serbia          6\n",
       "6    Germany          5\n",
       "7     Latvia          4\n",
       "8      Spain          4\n",
       "9     Turkey          4"
      ]
     },
     "execution_count": 11,
     "metadata": {},
     "output_type": "execute_result"
    }
   ],
   "source": [
    "pd.read_sql(sql_query, conn)"
   ]
  },
  {
   "cell_type": "code",
   "execution_count": 12,
   "metadata": {
    "slideshow": {
     "slide_type": "subslide"
    }
   },
   "outputs": [
    {
     "data": {
      "text/html": [
       "<div>\n",
       "<style scoped>\n",
       "    .dataframe tbody tr th:only-of-type {\n",
       "        vertical-align: middle;\n",
       "    }\n",
       "\n",
       "    .dataframe tbody tr th {\n",
       "        vertical-align: top;\n",
       "    }\n",
       "\n",
       "    .dataframe thead th {\n",
       "        text-align: right;\n",
       "    }\n",
       "</style>\n",
       "<table border=\"1\" class=\"dataframe\">\n",
       "  <thead>\n",
       "    <tr style=\"text-align: right;\">\n",
       "      <th></th>\n",
       "      <th>pos</th>\n",
       "      <th>avgHeightMeters</th>\n",
       "    </tr>\n",
       "  </thead>\n",
       "  <tbody>\n",
       "    <tr>\n",
       "      <th>0</th>\n",
       "      <td>G</td>\n",
       "      <td>1.90</td>\n",
       "    </tr>\n",
       "    <tr>\n",
       "      <th>1</th>\n",
       "      <td>G-F</td>\n",
       "      <td>1.98</td>\n",
       "    </tr>\n",
       "    <tr>\n",
       "      <th>2</th>\n",
       "      <td>F-G</td>\n",
       "      <td>2.00</td>\n",
       "    </tr>\n",
       "    <tr>\n",
       "      <th>3</th>\n",
       "      <td>F</td>\n",
       "      <td>2.03</td>\n",
       "    </tr>\n",
       "    <tr>\n",
       "      <th>4</th>\n",
       "      <td>F-C</td>\n",
       "      <td>2.09</td>\n",
       "    </tr>\n",
       "    <tr>\n",
       "      <th>5</th>\n",
       "      <td>C-F</td>\n",
       "      <td>2.10</td>\n",
       "    </tr>\n",
       "    <tr>\n",
       "      <th>6</th>\n",
       "      <td>C</td>\n",
       "      <td>2.12</td>\n",
       "    </tr>\n",
       "  </tbody>\n",
       "</table>\n",
       "</div>"
      ],
      "text/plain": [
       "   pos  avgHeightMeters\n",
       "0    G             1.90\n",
       "1  G-F             1.98\n",
       "2  F-G             2.00\n",
       "3    F             2.03\n",
       "4  F-C             2.09\n",
       "5  C-F             2.10\n",
       "6    C             2.12"
      ]
     },
     "execution_count": 12,
     "metadata": {},
     "output_type": "execute_result"
    }
   ],
   "source": [
    "sql_query = \"\"\"\n",
    "SELECT pos,\n",
    "       ROUND(AVG(heightMeters), 2) AS avgHeightMeters\n",
    "  FROM players\n",
    " GROUP BY pos\n",
    " ORDER BY avgHeightMeters,\n",
    "          pos;\n",
    "\"\"\"\n",
    "pd.read_sql(sql_query, conn)"
   ]
  },
  {
   "cell_type": "markdown",
   "metadata": {
    "slideshow": {
     "slide_type": "subslide"
    }
   },
   "source": [
    "## 使用 `HAVING` 篩選聚合後的數值\n",
    "\n",
    "- `WHERE` 應對以單個「觀測值」為層級的數值\n",
    "- `HAVING` 應對多個「觀測值」為層級的數值"
   ]
  },
  {
   "cell_type": "code",
   "execution_count": 13,
   "metadata": {
    "slideshow": {
     "slide_type": "-"
    }
   },
   "outputs": [],
   "source": [
    "sql_query = \"\"\"\n",
    "SELECT country,\n",
    "       COUNT(*) AS n_players\n",
    "  FROM players\n",
    " GROUP BY country\n",
    "HAVING n_players > 5\n",
    " ORDER BY n_players DESC;\n",
    "\"\"\""
   ]
  },
  {
   "cell_type": "code",
   "execution_count": 14,
   "metadata": {
    "slideshow": {
     "slide_type": "subslide"
    }
   },
   "outputs": [
    {
     "data": {
      "text/html": [
       "<div>\n",
       "<style scoped>\n",
       "    .dataframe tbody tr th:only-of-type {\n",
       "        vertical-align: middle;\n",
       "    }\n",
       "\n",
       "    .dataframe tbody tr th {\n",
       "        vertical-align: top;\n",
       "    }\n",
       "\n",
       "    .dataframe thead th {\n",
       "        text-align: right;\n",
       "    }\n",
       "</style>\n",
       "<table border=\"1\" class=\"dataframe\">\n",
       "  <thead>\n",
       "    <tr style=\"text-align: right;\">\n",
       "      <th></th>\n",
       "      <th>country</th>\n",
       "      <th>n_players</th>\n",
       "    </tr>\n",
       "  </thead>\n",
       "  <tbody>\n",
       "    <tr>\n",
       "      <th>0</th>\n",
       "      <td>USA</td>\n",
       "      <td>384</td>\n",
       "    </tr>\n",
       "    <tr>\n",
       "      <th>1</th>\n",
       "      <td>Canada</td>\n",
       "      <td>20</td>\n",
       "    </tr>\n",
       "    <tr>\n",
       "      <th>2</th>\n",
       "      <td>France</td>\n",
       "      <td>11</td>\n",
       "    </tr>\n",
       "    <tr>\n",
       "      <th>3</th>\n",
       "      <td>Australia</td>\n",
       "      <td>8</td>\n",
       "    </tr>\n",
       "    <tr>\n",
       "      <th>4</th>\n",
       "      <td>Croatia</td>\n",
       "      <td>6</td>\n",
       "    </tr>\n",
       "    <tr>\n",
       "      <th>5</th>\n",
       "      <td>Serbia</td>\n",
       "      <td>6</td>\n",
       "    </tr>\n",
       "  </tbody>\n",
       "</table>\n",
       "</div>"
      ],
      "text/plain": [
       "     country  n_players\n",
       "0        USA        384\n",
       "1     Canada         20\n",
       "2     France         11\n",
       "3  Australia          8\n",
       "4    Croatia          6\n",
       "5     Serbia          6"
      ]
     },
     "execution_count": 14,
     "metadata": {},
     "output_type": "execute_result"
    }
   ],
   "source": [
    "pd.read_sql(sql_query, conn)"
   ]
  },
  {
   "cell_type": "code",
   "execution_count": 15,
   "metadata": {
    "slideshow": {
     "slide_type": "subslide"
    }
   },
   "outputs": [
    {
     "data": {
      "text/html": [
       "<div>\n",
       "<style scoped>\n",
       "    .dataframe tbody tr th:only-of-type {\n",
       "        vertical-align: middle;\n",
       "    }\n",
       "\n",
       "    .dataframe tbody tr th {\n",
       "        vertical-align: top;\n",
       "    }\n",
       "\n",
       "    .dataframe thead th {\n",
       "        text-align: right;\n",
       "    }\n",
       "</style>\n",
       "<table border=\"1\" class=\"dataframe\">\n",
       "  <thead>\n",
       "    <tr style=\"text-align: right;\">\n",
       "      <th></th>\n",
       "      <th>pos</th>\n",
       "      <th>avgHeightMeters</th>\n",
       "    </tr>\n",
       "  </thead>\n",
       "  <tbody>\n",
       "    <tr>\n",
       "      <th>0</th>\n",
       "      <td>F</td>\n",
       "      <td>2.03</td>\n",
       "    </tr>\n",
       "    <tr>\n",
       "      <th>1</th>\n",
       "      <td>F-C</td>\n",
       "      <td>2.09</td>\n",
       "    </tr>\n",
       "    <tr>\n",
       "      <th>2</th>\n",
       "      <td>C-F</td>\n",
       "      <td>2.10</td>\n",
       "    </tr>\n",
       "    <tr>\n",
       "      <th>3</th>\n",
       "      <td>C</td>\n",
       "      <td>2.12</td>\n",
       "    </tr>\n",
       "  </tbody>\n",
       "</table>\n",
       "</div>"
      ],
      "text/plain": [
       "   pos  avgHeightMeters\n",
       "0    F             2.03\n",
       "1  F-C             2.09\n",
       "2  C-F             2.10\n",
       "3    C             2.12"
      ]
     },
     "execution_count": 15,
     "metadata": {},
     "output_type": "execute_result"
    }
   ],
   "source": [
    "sql_query = \"\"\"\n",
    "SELECT pos,\n",
    "       ROUND(AVG(heightMeters), 2) AS avgHeightMeters\n",
    "  FROM players\n",
    " GROUP BY pos\n",
    "HAVING avgHeightMeters > 2\n",
    " ORDER BY avgHeightMeters, pos;\n",
    "\"\"\"\n",
    "pd.read_sql(sql_query, conn)"
   ]
  },
  {
   "cell_type": "markdown",
   "metadata": {
    "slideshow": {
     "slide_type": "slide"
    }
   },
   "source": [
    "## 進階的 SQL 查詢技巧"
   ]
  },
  {
   "cell_type": "markdown",
   "metadata": {
    "slideshow": {
     "slide_type": "subslide"
    }
   },
   "source": [
    "## 使用 `CASE` 為資料重新歸類\n",
    "\n",
    "使用條件敘述作重新歸類的依據。\n",
    "\n",
    "```sql\n",
    "CASE WHEN condition THEN result\n",
    "     WHEN another_condition THEN result\n",
    "     ELSE result\n",
    "END AS variable_name\n",
    "```"
   ]
  },
  {
   "cell_type": "markdown",
   "metadata": {
    "slideshow": {
     "slide_type": "subslide"
    }
   },
   "source": [
    "## `CASE` 的不同用法\n",
    "\n",
    "- 將數值歸類成文字\n",
    "- 將細項歸類成大項"
   ]
  },
  {
   "cell_type": "code",
   "execution_count": 16,
   "metadata": {
    "slideshow": {
     "slide_type": "subslide"
    }
   },
   "outputs": [
    {
     "data": {
      "text/html": [
       "<div>\n",
       "<style scoped>\n",
       "    .dataframe tbody tr th:only-of-type {\n",
       "        vertical-align: middle;\n",
       "    }\n",
       "\n",
       "    .dataframe tbody tr th {\n",
       "        vertical-align: top;\n",
       "    }\n",
       "\n",
       "    .dataframe thead th {\n",
       "        text-align: right;\n",
       "    }\n",
       "</style>\n",
       "<table border=\"1\" class=\"dataframe\">\n",
       "  <thead>\n",
       "    <tr style=\"text-align: right;\">\n",
       "      <th></th>\n",
       "      <th>firstName</th>\n",
       "      <th>lastName</th>\n",
       "      <th>heightMeters</th>\n",
       "      <th>heightCategory</th>\n",
       "    </tr>\n",
       "  </thead>\n",
       "  <tbody>\n",
       "    <tr>\n",
       "      <th>0</th>\n",
       "      <td>Vince</td>\n",
       "      <td>Carter</td>\n",
       "      <td>1.98</td>\n",
       "      <td>Shorter than 2 m</td>\n",
       "    </tr>\n",
       "    <tr>\n",
       "      <th>1</th>\n",
       "      <td>Tyson</td>\n",
       "      <td>Chandler</td>\n",
       "      <td>2.13</td>\n",
       "      <td>Taller than 2 m</td>\n",
       "    </tr>\n",
       "    <tr>\n",
       "      <th>2</th>\n",
       "      <td>LeBron</td>\n",
       "      <td>James</td>\n",
       "      <td>2.06</td>\n",
       "      <td>Taller than 2 m</td>\n",
       "    </tr>\n",
       "    <tr>\n",
       "      <th>3</th>\n",
       "      <td>Carmelo</td>\n",
       "      <td>Anthony</td>\n",
       "      <td>2.03</td>\n",
       "      <td>Taller than 2 m</td>\n",
       "    </tr>\n",
       "    <tr>\n",
       "      <th>4</th>\n",
       "      <td>Kyle</td>\n",
       "      <td>Korver</td>\n",
       "      <td>2.01</td>\n",
       "      <td>Taller than 2 m</td>\n",
       "    </tr>\n",
       "    <tr>\n",
       "      <th>5</th>\n",
       "      <td>Udonis</td>\n",
       "      <td>Haslem</td>\n",
       "      <td>2.03</td>\n",
       "      <td>Taller than 2 m</td>\n",
       "    </tr>\n",
       "    <tr>\n",
       "      <th>6</th>\n",
       "      <td>Dwight</td>\n",
       "      <td>Howard</td>\n",
       "      <td>2.08</td>\n",
       "      <td>Taller than 2 m</td>\n",
       "    </tr>\n",
       "    <tr>\n",
       "      <th>7</th>\n",
       "      <td>Andre</td>\n",
       "      <td>Iguodala</td>\n",
       "      <td>1.98</td>\n",
       "      <td>Shorter than 2 m</td>\n",
       "    </tr>\n",
       "    <tr>\n",
       "      <th>8</th>\n",
       "      <td>JR</td>\n",
       "      <td>Smith</td>\n",
       "      <td>1.98</td>\n",
       "      <td>Shorter than 2 m</td>\n",
       "    </tr>\n",
       "    <tr>\n",
       "      <th>9</th>\n",
       "      <td>Trevor</td>\n",
       "      <td>Ariza</td>\n",
       "      <td>2.03</td>\n",
       "      <td>Taller than 2 m</td>\n",
       "    </tr>\n",
       "  </tbody>\n",
       "</table>\n",
       "</div>"
      ],
      "text/plain": [
       "  firstName  lastName  heightMeters    heightCategory\n",
       "0     Vince    Carter          1.98  Shorter than 2 m\n",
       "1     Tyson  Chandler          2.13   Taller than 2 m\n",
       "2    LeBron     James          2.06   Taller than 2 m\n",
       "3   Carmelo   Anthony          2.03   Taller than 2 m\n",
       "4      Kyle    Korver          2.01   Taller than 2 m\n",
       "5    Udonis    Haslem          2.03   Taller than 2 m\n",
       "6    Dwight    Howard          2.08   Taller than 2 m\n",
       "7     Andre  Iguodala          1.98  Shorter than 2 m\n",
       "8        JR     Smith          1.98  Shorter than 2 m\n",
       "9    Trevor     Ariza          2.03   Taller than 2 m"
      ]
     },
     "execution_count": 16,
     "metadata": {},
     "output_type": "execute_result"
    }
   ],
   "source": [
    "sql_query = \"\"\"\n",
    "SELECT firstName,\n",
    "       lastName,\n",
    "       heightMeters,\n",
    "       CASE WHEN heightMeters >= 2 THEN 'Taller than 2 m'\n",
    "            ELSE 'Shorter than 2 m'\n",
    "       END AS heightCategory\n",
    "  FROM players\n",
    " LIMIT 10;\n",
    "\"\"\"\n",
    "pd.read_sql(sql_query, conn)"
   ]
  },
  {
   "cell_type": "markdown",
   "metadata": {
    "slideshow": {
     "slide_type": "subslide"
    }
   },
   "source": [
    "## 細項歸類成大項的根據\n",
    "\n",
    "```python\n",
    "{\n",
    "    'G-F': 'G',\n",
    "    'G': 'G',\n",
    "    'F-G': 'F',\n",
    "    'F-C': 'F',\n",
    "    'F': 'F',\n",
    "    'C-F': 'C',\n",
    "    'C': 'C'\n",
    "}\n",
    "```"
   ]
  },
  {
   "cell_type": "code",
   "execution_count": 17,
   "metadata": {
    "slideshow": {
     "slide_type": "subslide"
    }
   },
   "outputs": [
    {
     "data": {
      "text/html": [
       "<div>\n",
       "<style scoped>\n",
       "    .dataframe tbody tr th:only-of-type {\n",
       "        vertical-align: middle;\n",
       "    }\n",
       "\n",
       "    .dataframe tbody tr th {\n",
       "        vertical-align: top;\n",
       "    }\n",
       "\n",
       "    .dataframe thead th {\n",
       "        text-align: right;\n",
       "    }\n",
       "</style>\n",
       "<table border=\"1\" class=\"dataframe\">\n",
       "  <thead>\n",
       "    <tr style=\"text-align: right;\">\n",
       "      <th></th>\n",
       "      <th>firstName</th>\n",
       "      <th>lastName</th>\n",
       "      <th>pos</th>\n",
       "      <th>posNew</th>\n",
       "    </tr>\n",
       "  </thead>\n",
       "  <tbody>\n",
       "    <tr>\n",
       "      <th>0</th>\n",
       "      <td>Vince</td>\n",
       "      <td>Carter</td>\n",
       "      <td>G-F</td>\n",
       "      <td>G</td>\n",
       "    </tr>\n",
       "    <tr>\n",
       "      <th>1</th>\n",
       "      <td>Tyson</td>\n",
       "      <td>Chandler</td>\n",
       "      <td>C</td>\n",
       "      <td>C</td>\n",
       "    </tr>\n",
       "    <tr>\n",
       "      <th>2</th>\n",
       "      <td>LeBron</td>\n",
       "      <td>James</td>\n",
       "      <td>F</td>\n",
       "      <td>F</td>\n",
       "    </tr>\n",
       "    <tr>\n",
       "      <th>3</th>\n",
       "      <td>Carmelo</td>\n",
       "      <td>Anthony</td>\n",
       "      <td>F</td>\n",
       "      <td>F</td>\n",
       "    </tr>\n",
       "    <tr>\n",
       "      <th>4</th>\n",
       "      <td>Kyle</td>\n",
       "      <td>Korver</td>\n",
       "      <td>G-F</td>\n",
       "      <td>G</td>\n",
       "    </tr>\n",
       "    <tr>\n",
       "      <th>5</th>\n",
       "      <td>Udonis</td>\n",
       "      <td>Haslem</td>\n",
       "      <td>F</td>\n",
       "      <td>F</td>\n",
       "    </tr>\n",
       "    <tr>\n",
       "      <th>6</th>\n",
       "      <td>Dwight</td>\n",
       "      <td>Howard</td>\n",
       "      <td>C-F</td>\n",
       "      <td>C</td>\n",
       "    </tr>\n",
       "    <tr>\n",
       "      <th>7</th>\n",
       "      <td>Andre</td>\n",
       "      <td>Iguodala</td>\n",
       "      <td>G-F</td>\n",
       "      <td>G</td>\n",
       "    </tr>\n",
       "    <tr>\n",
       "      <th>8</th>\n",
       "      <td>JR</td>\n",
       "      <td>Smith</td>\n",
       "      <td>G</td>\n",
       "      <td>G</td>\n",
       "    </tr>\n",
       "    <tr>\n",
       "      <th>9</th>\n",
       "      <td>Trevor</td>\n",
       "      <td>Ariza</td>\n",
       "      <td>F</td>\n",
       "      <td>F</td>\n",
       "    </tr>\n",
       "  </tbody>\n",
       "</table>\n",
       "</div>"
      ],
      "text/plain": [
       "  firstName  lastName  pos posNew\n",
       "0     Vince    Carter  G-F      G\n",
       "1     Tyson  Chandler    C      C\n",
       "2    LeBron     James    F      F\n",
       "3   Carmelo   Anthony    F      F\n",
       "4      Kyle    Korver  G-F      G\n",
       "5    Udonis    Haslem    F      F\n",
       "6    Dwight    Howard  C-F      C\n",
       "7     Andre  Iguodala  G-F      G\n",
       "8        JR     Smith    G      G\n",
       "9    Trevor     Ariza    F      F"
      ]
     },
     "execution_count": 17,
     "metadata": {},
     "output_type": "execute_result"
    }
   ],
   "source": [
    "sql_query = \"\"\"\n",
    "SELECT firstName,\n",
    "       lastName,\n",
    "       pos,\n",
    "       CASE WHEN pos IN ('G-F', 'G') THEN 'G'\n",
    "            WHEN pos IN ('C-F', 'C') THEN 'C'\n",
    "            ELSE 'F'\n",
    "       END AS posNew\n",
    "  FROM players\n",
    " LIMIT 10;\n",
    "\"\"\"\n",
    "pd.read_sql(sql_query, conn)"
   ]
  },
  {
   "cell_type": "markdown",
   "metadata": {
    "slideshow": {
     "slide_type": "subslide"
    }
   },
   "source": [
    "## 使用子查詢\n",
    "\n",
    "子查詢指的是在一段查詢語法之中嵌入另一段需要先執行的查詢語法，將子查詢擺放至小括號之中並且加上縮排。"
   ]
  },
  {
   "cell_type": "markdown",
   "metadata": {
    "slideshow": {
     "slide_type": "subslide"
    }
   },
   "source": [
    "## 目前誰是生涯總得分最高的球員\n",
    "\n",
    "- 首先要從 `careerSummaries` 著手\n",
    "- 接著利用在前一個查詢獲得的 `MAX(points)` 對 `careerSummaries` 進行篩選\n",
    "- 最後是利用前一個查詢獲得的 `personId` 對 `players` 進行篩選"
   ]
  },
  {
   "cell_type": "code",
   "execution_count": 18,
   "metadata": {
    "slideshow": {
     "slide_type": "subslide"
    }
   },
   "outputs": [
    {
     "data": {
      "text/html": [
       "<div>\n",
       "<style scoped>\n",
       "    .dataframe tbody tr th:only-of-type {\n",
       "        vertical-align: middle;\n",
       "    }\n",
       "\n",
       "    .dataframe tbody tr th {\n",
       "        vertical-align: top;\n",
       "    }\n",
       "\n",
       "    .dataframe thead th {\n",
       "        text-align: right;\n",
       "    }\n",
       "</style>\n",
       "<table border=\"1\" class=\"dataframe\">\n",
       "  <thead>\n",
       "    <tr style=\"text-align: right;\">\n",
       "      <th></th>\n",
       "      <th>MAX(points)</th>\n",
       "    </tr>\n",
       "  </thead>\n",
       "  <tbody>\n",
       "    <tr>\n",
       "      <th>0</th>\n",
       "      <td>34087</td>\n",
       "    </tr>\n",
       "  </tbody>\n",
       "</table>\n",
       "</div>"
      ],
      "text/plain": [
       "   MAX(points)\n",
       "0        34087"
      ]
     },
     "execution_count": 18,
     "metadata": {},
     "output_type": "execute_result"
    }
   ],
   "source": [
    "sql_query = \"\"\"\n",
    "SELECT MAX(points)\n",
    "  FROM careerSummaries;\n",
    "\"\"\"\n",
    "pd.read_sql(sql_query, conn)"
   ]
  },
  {
   "cell_type": "code",
   "execution_count": 19,
   "metadata": {
    "slideshow": {
     "slide_type": "subslide"
    }
   },
   "outputs": [
    {
     "data": {
      "text/html": [
       "<div>\n",
       "<style scoped>\n",
       "    .dataframe tbody tr th:only-of-type {\n",
       "        vertical-align: middle;\n",
       "    }\n",
       "\n",
       "    .dataframe tbody tr th {\n",
       "        vertical-align: top;\n",
       "    }\n",
       "\n",
       "    .dataframe thead th {\n",
       "        text-align: right;\n",
       "    }\n",
       "</style>\n",
       "<table border=\"1\" class=\"dataframe\">\n",
       "  <thead>\n",
       "    <tr style=\"text-align: right;\">\n",
       "      <th></th>\n",
       "      <th>personId</th>\n",
       "    </tr>\n",
       "  </thead>\n",
       "  <tbody>\n",
       "    <tr>\n",
       "      <th>0</th>\n",
       "      <td>2544</td>\n",
       "    </tr>\n",
       "  </tbody>\n",
       "</table>\n",
       "</div>"
      ],
      "text/plain": [
       "   personId\n",
       "0      2544"
      ]
     },
     "execution_count": 19,
     "metadata": {},
     "output_type": "execute_result"
    }
   ],
   "source": [
    "sql_query = \"\"\"\n",
    "SELECT personId\n",
    "  FROM careerSummaries\n",
    " WHERE points = 34087;\n",
    "\"\"\"\n",
    "pd.read_sql(sql_query, conn)"
   ]
  },
  {
   "cell_type": "code",
   "execution_count": 20,
   "metadata": {
    "slideshow": {
     "slide_type": "subslide"
    }
   },
   "outputs": [
    {
     "data": {
      "text/html": [
       "<div>\n",
       "<style scoped>\n",
       "    .dataframe tbody tr th:only-of-type {\n",
       "        vertical-align: middle;\n",
       "    }\n",
       "\n",
       "    .dataframe tbody tr th {\n",
       "        vertical-align: top;\n",
       "    }\n",
       "\n",
       "    .dataframe thead th {\n",
       "        text-align: right;\n",
       "    }\n",
       "</style>\n",
       "<table border=\"1\" class=\"dataframe\">\n",
       "  <thead>\n",
       "    <tr style=\"text-align: right;\">\n",
       "      <th></th>\n",
       "      <th>firstName</th>\n",
       "      <th>lastName</th>\n",
       "    </tr>\n",
       "  </thead>\n",
       "  <tbody>\n",
       "    <tr>\n",
       "      <th>0</th>\n",
       "      <td>LeBron</td>\n",
       "      <td>James</td>\n",
       "    </tr>\n",
       "  </tbody>\n",
       "</table>\n",
       "</div>"
      ],
      "text/plain": [
       "  firstName lastName\n",
       "0    LeBron    James"
      ]
     },
     "execution_count": 20,
     "metadata": {},
     "output_type": "execute_result"
    }
   ],
   "source": [
    "sql_query = \"\"\"\n",
    "SELECT firstName,\n",
    "       lastName\n",
    "  FROM players\n",
    " WHERE personId = 2544;\n",
    "\"\"\"\n",
    "pd.read_sql(sql_query, conn)"
   ]
  },
  {
   "cell_type": "code",
   "execution_count": 21,
   "metadata": {
    "slideshow": {
     "slide_type": "subslide"
    }
   },
   "outputs": [
    {
     "data": {
      "text/html": [
       "<div>\n",
       "<style scoped>\n",
       "    .dataframe tbody tr th:only-of-type {\n",
       "        vertical-align: middle;\n",
       "    }\n",
       "\n",
       "    .dataframe tbody tr th {\n",
       "        vertical-align: top;\n",
       "    }\n",
       "\n",
       "    .dataframe thead th {\n",
       "        text-align: right;\n",
       "    }\n",
       "</style>\n",
       "<table border=\"1\" class=\"dataframe\">\n",
       "  <thead>\n",
       "    <tr style=\"text-align: right;\">\n",
       "      <th></th>\n",
       "      <th>firstName</th>\n",
       "      <th>lastName</th>\n",
       "    </tr>\n",
       "  </thead>\n",
       "  <tbody>\n",
       "    <tr>\n",
       "      <th>0</th>\n",
       "      <td>LeBron</td>\n",
       "      <td>James</td>\n",
       "    </tr>\n",
       "  </tbody>\n",
       "</table>\n",
       "</div>"
      ],
      "text/plain": [
       "  firstName lastName\n",
       "0    LeBron    James"
      ]
     },
     "execution_count": 21,
     "metadata": {},
     "output_type": "execute_result"
    }
   ],
   "source": [
    "sql_query = \"\"\"\n",
    "SELECT firstName,\n",
    "       lastName\n",
    "  FROM players\n",
    " WHERE personId = (\n",
    "           SELECT personId\n",
    "             FROM careerSummaries\n",
    "            WHERE points = (\n",
    "                SELECT MAX(points)\n",
    "                  FROM careerSummaries\n",
    "            )\n",
    "       );\n",
    "\"\"\"\n",
    "pd.read_sql(sql_query, conn)"
   ]
  },
  {
   "cell_type": "markdown",
   "metadata": {
    "slideshow": {
     "slide_type": "subslide"
    }
   },
   "source": [
    "## 目前湖人隊的球員陣容有誰\n",
    "\n",
    "- 首先要從 `teams` 著手\n",
    "- 接著利用在前一個查詢獲得的 `teamId` 對 `rosters` 進行篩選\n",
    "- 最後是利用前一個查詢獲得的 `personId` 對 `players` 進行篩選"
   ]
  },
  {
   "cell_type": "code",
   "execution_count": 22,
   "metadata": {
    "slideshow": {
     "slide_type": "subslide"
    }
   },
   "outputs": [
    {
     "data": {
      "text/html": [
       "<div>\n",
       "<style scoped>\n",
       "    .dataframe tbody tr th:only-of-type {\n",
       "        vertical-align: middle;\n",
       "    }\n",
       "\n",
       "    .dataframe tbody tr th {\n",
       "        vertical-align: top;\n",
       "    }\n",
       "\n",
       "    .dataframe thead th {\n",
       "        text-align: right;\n",
       "    }\n",
       "</style>\n",
       "<table border=\"1\" class=\"dataframe\">\n",
       "  <thead>\n",
       "    <tr style=\"text-align: right;\">\n",
       "      <th></th>\n",
       "      <th>teamId</th>\n",
       "    </tr>\n",
       "  </thead>\n",
       "  <tbody>\n",
       "    <tr>\n",
       "      <th>0</th>\n",
       "      <td>1610612747</td>\n",
       "    </tr>\n",
       "  </tbody>\n",
       "</table>\n",
       "</div>"
      ],
      "text/plain": [
       "       teamId\n",
       "0  1610612747"
      ]
     },
     "execution_count": 22,
     "metadata": {},
     "output_type": "execute_result"
    }
   ],
   "source": [
    "sql_query = \"\"\"\n",
    "SELECT teamId\n",
    "    FROM teams\n",
    "    WHERE nickname = 'Lakers';\n",
    "\"\"\"\n",
    "pd.read_sql(sql_query, conn)"
   ]
  },
  {
   "cell_type": "code",
   "execution_count": 23,
   "metadata": {
    "slideshow": {
     "slide_type": "subslide"
    }
   },
   "outputs": [
    {
     "data": {
      "text/html": [
       "<div>\n",
       "<style scoped>\n",
       "    .dataframe tbody tr th:only-of-type {\n",
       "        vertical-align: middle;\n",
       "    }\n",
       "\n",
       "    .dataframe tbody tr th {\n",
       "        vertical-align: top;\n",
       "    }\n",
       "\n",
       "    .dataframe thead th {\n",
       "        text-align: right;\n",
       "    }\n",
       "</style>\n",
       "<table border=\"1\" class=\"dataframe\">\n",
       "  <thead>\n",
       "    <tr style=\"text-align: right;\">\n",
       "      <th></th>\n",
       "      <th>personId</th>\n",
       "    </tr>\n",
       "  </thead>\n",
       "  <tbody>\n",
       "    <tr>\n",
       "      <th>0</th>\n",
       "      <td>2544</td>\n",
       "    </tr>\n",
       "    <tr>\n",
       "      <th>1</th>\n",
       "      <td>2730</td>\n",
       "    </tr>\n",
       "    <tr>\n",
       "      <th>2</th>\n",
       "      <td>2747</td>\n",
       "    </tr>\n",
       "    <tr>\n",
       "      <th>3</th>\n",
       "      <td>200765</td>\n",
       "    </tr>\n",
       "    <tr>\n",
       "      <th>4</th>\n",
       "      <td>201162</td>\n",
       "    </tr>\n",
       "    <tr>\n",
       "      <th>5</th>\n",
       "      <td>201580</td>\n",
       "    </tr>\n",
       "    <tr>\n",
       "      <th>6</th>\n",
       "      <td>201980</td>\n",
       "    </tr>\n",
       "    <tr>\n",
       "      <th>7</th>\n",
       "      <td>202340</td>\n",
       "    </tr>\n",
       "    <tr>\n",
       "      <th>8</th>\n",
       "      <td>202693</td>\n",
       "    </tr>\n",
       "    <tr>\n",
       "      <th>9</th>\n",
       "      <td>203076</td>\n",
       "    </tr>\n",
       "    <tr>\n",
       "      <th>10</th>\n",
       "      <td>203079</td>\n",
       "    </tr>\n",
       "    <tr>\n",
       "      <th>11</th>\n",
       "      <td>203484</td>\n",
       "    </tr>\n",
       "    <tr>\n",
       "      <th>12</th>\n",
       "      <td>1626188</td>\n",
       "    </tr>\n",
       "    <tr>\n",
       "      <th>13</th>\n",
       "      <td>1627936</td>\n",
       "    </tr>\n",
       "    <tr>\n",
       "      <th>14</th>\n",
       "      <td>1628398</td>\n",
       "    </tr>\n",
       "    <tr>\n",
       "      <th>15</th>\n",
       "      <td>1628961</td>\n",
       "    </tr>\n",
       "    <tr>\n",
       "      <th>16</th>\n",
       "      <td>1629659</td>\n",
       "    </tr>\n",
       "    <tr>\n",
       "      <th>17</th>\n",
       "      <td>1629719</td>\n",
       "    </tr>\n",
       "  </tbody>\n",
       "</table>\n",
       "</div>"
      ],
      "text/plain": [
       "    personId\n",
       "0       2544\n",
       "1       2730\n",
       "2       2747\n",
       "3     200765\n",
       "4     201162\n",
       "5     201580\n",
       "6     201980\n",
       "7     202340\n",
       "8     202693\n",
       "9     203076\n",
       "10    203079\n",
       "11    203484\n",
       "12   1626188\n",
       "13   1627936\n",
       "14   1628398\n",
       "15   1628961\n",
       "16   1629659\n",
       "17   1629719"
      ]
     },
     "execution_count": 23,
     "metadata": {},
     "output_type": "execute_result"
    }
   ],
   "source": [
    "sql_query = \"\"\"\n",
    "SELECT personId\n",
    "  FROM rosters\n",
    " WHERE teamId = 1610612747;\n",
    "\"\"\"\n",
    "pd.read_sql(sql_query, conn)"
   ]
  },
  {
   "cell_type": "code",
   "execution_count": 24,
   "metadata": {
    "slideshow": {
     "slide_type": "subslide"
    }
   },
   "outputs": [
    {
     "data": {
      "text/html": [
       "<div>\n",
       "<style scoped>\n",
       "    .dataframe tbody tr th:only-of-type {\n",
       "        vertical-align: middle;\n",
       "    }\n",
       "\n",
       "    .dataframe tbody tr th {\n",
       "        vertical-align: top;\n",
       "    }\n",
       "\n",
       "    .dataframe thead th {\n",
       "        text-align: right;\n",
       "    }\n",
       "</style>\n",
       "<table border=\"1\" class=\"dataframe\">\n",
       "  <thead>\n",
       "    <tr style=\"text-align: right;\">\n",
       "      <th></th>\n",
       "      <th>firstName</th>\n",
       "      <th>lastName</th>\n",
       "    </tr>\n",
       "  </thead>\n",
       "  <tbody>\n",
       "    <tr>\n",
       "      <th>0</th>\n",
       "      <td>LeBron</td>\n",
       "      <td>James</td>\n",
       "    </tr>\n",
       "    <tr>\n",
       "      <th>1</th>\n",
       "      <td>Dwight</td>\n",
       "      <td>Howard</td>\n",
       "    </tr>\n",
       "    <tr>\n",
       "      <th>2</th>\n",
       "      <td>JR</td>\n",
       "      <td>Smith</td>\n",
       "    </tr>\n",
       "    <tr>\n",
       "      <th>3</th>\n",
       "      <td>Rajon</td>\n",
       "      <td>Rondo</td>\n",
       "    </tr>\n",
       "    <tr>\n",
       "      <th>4</th>\n",
       "      <td>Jared</td>\n",
       "      <td>Dudley</td>\n",
       "    </tr>\n",
       "    <tr>\n",
       "      <th>5</th>\n",
       "      <td>JaVale</td>\n",
       "      <td>McGee</td>\n",
       "    </tr>\n",
       "    <tr>\n",
       "      <th>6</th>\n",
       "      <td>Danny</td>\n",
       "      <td>Green</td>\n",
       "    </tr>\n",
       "    <tr>\n",
       "      <th>7</th>\n",
       "      <td>Avery</td>\n",
       "      <td>Bradley</td>\n",
       "    </tr>\n",
       "    <tr>\n",
       "      <th>8</th>\n",
       "      <td>Markieff</td>\n",
       "      <td>Morris</td>\n",
       "    </tr>\n",
       "    <tr>\n",
       "      <th>9</th>\n",
       "      <td>Anthony</td>\n",
       "      <td>Davis</td>\n",
       "    </tr>\n",
       "    <tr>\n",
       "      <th>10</th>\n",
       "      <td>Dion</td>\n",
       "      <td>Waiters</td>\n",
       "    </tr>\n",
       "    <tr>\n",
       "      <th>11</th>\n",
       "      <td>Kentavious</td>\n",
       "      <td>Caldwell-Pope</td>\n",
       "    </tr>\n",
       "    <tr>\n",
       "      <th>12</th>\n",
       "      <td>Quinn</td>\n",
       "      <td>Cook</td>\n",
       "    </tr>\n",
       "    <tr>\n",
       "      <th>13</th>\n",
       "      <td>Alex</td>\n",
       "      <td>Caruso</td>\n",
       "    </tr>\n",
       "    <tr>\n",
       "      <th>14</th>\n",
       "      <td>Kyle</td>\n",
       "      <td>Kuzma</td>\n",
       "    </tr>\n",
       "    <tr>\n",
       "      <th>15</th>\n",
       "      <td>Kostas</td>\n",
       "      <td>Antetokounmpo</td>\n",
       "    </tr>\n",
       "    <tr>\n",
       "      <th>16</th>\n",
       "      <td>Talen</td>\n",
       "      <td>Horton-Tucker</td>\n",
       "    </tr>\n",
       "    <tr>\n",
       "      <th>17</th>\n",
       "      <td>Devontae</td>\n",
       "      <td>Cacok</td>\n",
       "    </tr>\n",
       "  </tbody>\n",
       "</table>\n",
       "</div>"
      ],
      "text/plain": [
       "     firstName       lastName\n",
       "0       LeBron          James\n",
       "1       Dwight         Howard\n",
       "2           JR          Smith\n",
       "3        Rajon          Rondo\n",
       "4        Jared         Dudley\n",
       "5       JaVale          McGee\n",
       "6        Danny          Green\n",
       "7        Avery        Bradley\n",
       "8     Markieff         Morris\n",
       "9      Anthony          Davis\n",
       "10        Dion        Waiters\n",
       "11  Kentavious  Caldwell-Pope\n",
       "12       Quinn           Cook\n",
       "13        Alex         Caruso\n",
       "14        Kyle          Kuzma\n",
       "15      Kostas  Antetokounmpo\n",
       "16       Talen  Horton-Tucker\n",
       "17    Devontae          Cacok"
      ]
     },
     "execution_count": 24,
     "metadata": {},
     "output_type": "execute_result"
    }
   ],
   "source": [
    "sql_query = \"\"\"\n",
    "SELECT firstName,\n",
    "       lastName\n",
    "  FROM players\n",
    " WHERE personId IN (\n",
    "           SELECT personId\n",
    "             FROM rosters\n",
    "            WHERE teamId = 1610612747\n",
    "       );\n",
    "\"\"\"\n",
    "pd.read_sql(sql_query, conn)"
   ]
  },
  {
   "cell_type": "markdown",
   "metadata": {
    "slideshow": {
     "slide_type": "subslide"
    }
   },
   "source": [
    "## 使用子查詢來生成新欄位\n",
    "\n",
    "依據鋒衛暸解 NBA 球員的組成：\n",
    "- 首先要從 `players` 著手\n",
    "- 接著利用在前一個查詢獲得的 `pos` 對 `players` 進行聚合\n",
    "- 最後是利用前一個查詢獲得的 `n_players` 計算百分比"
   ]
  },
  {
   "cell_type": "code",
   "execution_count": 25,
   "metadata": {
    "slideshow": {
     "slide_type": "subslide"
    }
   },
   "outputs": [
    {
     "data": {
      "text/html": [
       "<div>\n",
       "<style scoped>\n",
       "    .dataframe tbody tr th:only-of-type {\n",
       "        vertical-align: middle;\n",
       "    }\n",
       "\n",
       "    .dataframe tbody tr th {\n",
       "        vertical-align: top;\n",
       "    }\n",
       "\n",
       "    .dataframe thead th {\n",
       "        text-align: right;\n",
       "    }\n",
       "</style>\n",
       "<table border=\"1\" class=\"dataframe\">\n",
       "  <thead>\n",
       "    <tr style=\"text-align: right;\">\n",
       "      <th></th>\n",
       "      <th>COUNT(*)</th>\n",
       "    </tr>\n",
       "  </thead>\n",
       "  <tbody>\n",
       "    <tr>\n",
       "      <th>0</th>\n",
       "      <td>504</td>\n",
       "    </tr>\n",
       "  </tbody>\n",
       "</table>\n",
       "</div>"
      ],
      "text/plain": [
       "   COUNT(*)\n",
       "0       504"
      ]
     },
     "execution_count": 25,
     "metadata": {},
     "output_type": "execute_result"
    }
   ],
   "source": [
    "sql_query = \"\"\"\n",
    "SELECT COUNT(*)\n",
    "  FROM players;\n",
    "\"\"\"\n",
    "pd.read_sql(sql_query, conn)"
   ]
  },
  {
   "cell_type": "code",
   "execution_count": 26,
   "metadata": {
    "slideshow": {
     "slide_type": "subslide"
    }
   },
   "outputs": [
    {
     "data": {
      "text/html": [
       "<div>\n",
       "<style scoped>\n",
       "    .dataframe tbody tr th:only-of-type {\n",
       "        vertical-align: middle;\n",
       "    }\n",
       "\n",
       "    .dataframe tbody tr th {\n",
       "        vertical-align: top;\n",
       "    }\n",
       "\n",
       "    .dataframe thead th {\n",
       "        text-align: right;\n",
       "    }\n",
       "</style>\n",
       "<table border=\"1\" class=\"dataframe\">\n",
       "  <thead>\n",
       "    <tr style=\"text-align: right;\">\n",
       "      <th></th>\n",
       "      <th>pos</th>\n",
       "      <th>player_count</th>\n",
       "      <th>ttl_player</th>\n",
       "    </tr>\n",
       "  </thead>\n",
       "  <tbody>\n",
       "    <tr>\n",
       "      <th>0</th>\n",
       "      <td>C</td>\n",
       "      <td>33</td>\n",
       "      <td>504</td>\n",
       "    </tr>\n",
       "    <tr>\n",
       "      <th>1</th>\n",
       "      <td>C-F</td>\n",
       "      <td>28</td>\n",
       "      <td>504</td>\n",
       "    </tr>\n",
       "    <tr>\n",
       "      <th>2</th>\n",
       "      <td>F</td>\n",
       "      <td>137</td>\n",
       "      <td>504</td>\n",
       "    </tr>\n",
       "    <tr>\n",
       "      <th>3</th>\n",
       "      <td>F-C</td>\n",
       "      <td>39</td>\n",
       "      <td>504</td>\n",
       "    </tr>\n",
       "    <tr>\n",
       "      <th>4</th>\n",
       "      <td>F-G</td>\n",
       "      <td>26</td>\n",
       "      <td>504</td>\n",
       "    </tr>\n",
       "    <tr>\n",
       "      <th>5</th>\n",
       "      <td>G</td>\n",
       "      <td>176</td>\n",
       "      <td>504</td>\n",
       "    </tr>\n",
       "    <tr>\n",
       "      <th>6</th>\n",
       "      <td>G-F</td>\n",
       "      <td>65</td>\n",
       "      <td>504</td>\n",
       "    </tr>\n",
       "  </tbody>\n",
       "</table>\n",
       "</div>"
      ],
      "text/plain": [
       "   pos  player_count  ttl_player\n",
       "0    C            33         504\n",
       "1  C-F            28         504\n",
       "2    F           137         504\n",
       "3  F-C            39         504\n",
       "4  F-G            26         504\n",
       "5    G           176         504\n",
       "6  G-F            65         504"
      ]
     },
     "execution_count": 26,
     "metadata": {},
     "output_type": "execute_result"
    }
   ],
   "source": [
    "sql_query = \"\"\"\n",
    "SELECT pos,\n",
    "       COUNT(*) player_count,\n",
    "       504 AS ttl_player\n",
    "  FROM players\n",
    " GROUP BY pos;\n",
    "\"\"\"\n",
    "pd.read_sql(sql_query, conn)"
   ]
  },
  {
   "cell_type": "code",
   "execution_count": 27,
   "metadata": {
    "slideshow": {
     "slide_type": "subslide"
    }
   },
   "outputs": [
    {
     "data": {
      "text/html": [
       "<div>\n",
       "<style scoped>\n",
       "    .dataframe tbody tr th:only-of-type {\n",
       "        vertical-align: middle;\n",
       "    }\n",
       "\n",
       "    .dataframe tbody tr th {\n",
       "        vertical-align: top;\n",
       "    }\n",
       "\n",
       "    .dataframe thead th {\n",
       "        text-align: right;\n",
       "    }\n",
       "</style>\n",
       "<table border=\"1\" class=\"dataframe\">\n",
       "  <thead>\n",
       "    <tr style=\"text-align: right;\">\n",
       "      <th></th>\n",
       "      <th>pos</th>\n",
       "      <th>player_count</th>\n",
       "      <th>ttl_player</th>\n",
       "      <th>ratio</th>\n",
       "    </tr>\n",
       "  </thead>\n",
       "  <tbody>\n",
       "    <tr>\n",
       "      <th>0</th>\n",
       "      <td>C</td>\n",
       "      <td>33</td>\n",
       "      <td>504</td>\n",
       "      <td>0.065476</td>\n",
       "    </tr>\n",
       "    <tr>\n",
       "      <th>1</th>\n",
       "      <td>C-F</td>\n",
       "      <td>28</td>\n",
       "      <td>504</td>\n",
       "      <td>0.055556</td>\n",
       "    </tr>\n",
       "    <tr>\n",
       "      <th>2</th>\n",
       "      <td>F</td>\n",
       "      <td>137</td>\n",
       "      <td>504</td>\n",
       "      <td>0.271825</td>\n",
       "    </tr>\n",
       "    <tr>\n",
       "      <th>3</th>\n",
       "      <td>F-C</td>\n",
       "      <td>39</td>\n",
       "      <td>504</td>\n",
       "      <td>0.077381</td>\n",
       "    </tr>\n",
       "    <tr>\n",
       "      <th>4</th>\n",
       "      <td>F-G</td>\n",
       "      <td>26</td>\n",
       "      <td>504</td>\n",
       "      <td>0.051587</td>\n",
       "    </tr>\n",
       "    <tr>\n",
       "      <th>5</th>\n",
       "      <td>G</td>\n",
       "      <td>176</td>\n",
       "      <td>504</td>\n",
       "      <td>0.349206</td>\n",
       "    </tr>\n",
       "    <tr>\n",
       "      <th>6</th>\n",
       "      <td>G-F</td>\n",
       "      <td>65</td>\n",
       "      <td>504</td>\n",
       "      <td>0.128968</td>\n",
       "    </tr>\n",
       "  </tbody>\n",
       "</table>\n",
       "</div>"
      ],
      "text/plain": [
       "   pos  player_count  ttl_player     ratio\n",
       "0    C            33         504  0.065476\n",
       "1  C-F            28         504  0.055556\n",
       "2    F           137         504  0.271825\n",
       "3  F-C            39         504  0.077381\n",
       "4  F-G            26         504  0.051587\n",
       "5    G           176         504  0.349206\n",
       "6  G-F            65         504  0.128968"
      ]
     },
     "execution_count": 27,
     "metadata": {},
     "output_type": "execute_result"
    }
   ],
   "source": [
    "sql_query = \"\"\"\n",
    "SELECT pos,\n",
    "       COUNT(*) player_count,\n",
    "       504 AS ttl_player,\n",
    "       CAST(COUNT(*) AS REAL) / CAST(504 AS REAL) AS ratio\n",
    "  FROM players\n",
    " GROUP BY pos;\n",
    "\"\"\"\n",
    "pd.read_sql(sql_query, conn)"
   ]
  },
  {
   "cell_type": "code",
   "execution_count": 28,
   "metadata": {
    "slideshow": {
     "slide_type": "subslide"
    }
   },
   "outputs": [
    {
     "data": {
      "text/html": [
       "<div>\n",
       "<style scoped>\n",
       "    .dataframe tbody tr th:only-of-type {\n",
       "        vertical-align: middle;\n",
       "    }\n",
       "\n",
       "    .dataframe tbody tr th {\n",
       "        vertical-align: top;\n",
       "    }\n",
       "\n",
       "    .dataframe thead th {\n",
       "        text-align: right;\n",
       "    }\n",
       "</style>\n",
       "<table border=\"1\" class=\"dataframe\">\n",
       "  <thead>\n",
       "    <tr style=\"text-align: right;\">\n",
       "      <th></th>\n",
       "      <th>pos</th>\n",
       "      <th>ratio</th>\n",
       "    </tr>\n",
       "  </thead>\n",
       "  <tbody>\n",
       "    <tr>\n",
       "      <th>0</th>\n",
       "      <td>C</td>\n",
       "      <td>0.065476</td>\n",
       "    </tr>\n",
       "    <tr>\n",
       "      <th>1</th>\n",
       "      <td>C-F</td>\n",
       "      <td>0.055556</td>\n",
       "    </tr>\n",
       "    <tr>\n",
       "      <th>2</th>\n",
       "      <td>F</td>\n",
       "      <td>0.271825</td>\n",
       "    </tr>\n",
       "    <tr>\n",
       "      <th>3</th>\n",
       "      <td>F-C</td>\n",
       "      <td>0.077381</td>\n",
       "    </tr>\n",
       "    <tr>\n",
       "      <th>4</th>\n",
       "      <td>F-G</td>\n",
       "      <td>0.051587</td>\n",
       "    </tr>\n",
       "    <tr>\n",
       "      <th>5</th>\n",
       "      <td>G</td>\n",
       "      <td>0.349206</td>\n",
       "    </tr>\n",
       "    <tr>\n",
       "      <th>6</th>\n",
       "      <td>G-F</td>\n",
       "      <td>0.128968</td>\n",
       "    </tr>\n",
       "  </tbody>\n",
       "</table>\n",
       "</div>"
      ],
      "text/plain": [
       "   pos     ratio\n",
       "0    C  0.065476\n",
       "1  C-F  0.055556\n",
       "2    F  0.271825\n",
       "3  F-C  0.077381\n",
       "4  F-G  0.051587\n",
       "5    G  0.349206\n",
       "6  G-F  0.128968"
      ]
     },
     "execution_count": 28,
     "metadata": {},
     "output_type": "execute_result"
    }
   ],
   "source": [
    "sql_query = \"\"\"\n",
    "SELECT pos,\n",
    "       CAST(COUNT(*) AS REAL) / (\n",
    "           SELECT CAST(COUNT(*) AS REAL)\n",
    "             FROM players\n",
    "       ) AS ratio\n",
    "  FROM players\n",
    " GROUP BY pos;\n",
    "\"\"\"\n",
    "pd.read_sql(sql_query, conn)"
   ]
  },
  {
   "cell_type": "markdown",
   "metadata": {
    "slideshow": {
     "slide_type": "slide"
    }
   },
   "source": [
    "## 聯結關聯式資料庫中的表格"
   ]
  },
  {
   "cell_type": "markdown",
   "metadata": {
    "slideshow": {
     "slide_type": "subslide"
    }
   },
   "source": [
    "## 什麼是關聯式資料庫\n",
    "\n",
    "> 依照關聯式模型所建構的多個有相關的表格，關聯式模型指的是每個表格的觀測值層級都是獨立並且獨一，並能夠透過表格聯結將不同表格的觀測值關聯至一個查詢結果。"
   ]
  },
  {
   "cell_type": "markdown",
   "metadata": {
    "slideshow": {
     "slide_type": "subslide"
    }
   },
   "source": [
    "## 為什麼關聯式模型\n",
    "\n",
    "> 採用關聯式模型能夠減少資料的重複並且讓維護變得簡單。"
   ]
  },
  {
   "cell_type": "markdown",
   "metadata": {
    "slideshow": {
     "slide_type": "subslide"
    }
   },
   "source": [
    "## 使用 `JOIN` 與 `ON` 保留字將資料進行關聯\n",
    "\n",
    "```sql\n",
    "SELECT *\n",
    "  FROM left_table JOIN right_table\n",
    "    ON left_table.primary_key_column = right_table.foreign_key_column\n",
    "```"
   ]
  },
  {
   "cell_type": "markdown",
   "metadata": {
    "slideshow": {
     "slide_type": "subslide"
    }
   },
   "source": [
    "## 聯結 `players` 與 `careerSummaries`"
   ]
  },
  {
   "cell_type": "code",
   "execution_count": 29,
   "metadata": {
    "slideshow": {
     "slide_type": "-"
    }
   },
   "outputs": [],
   "source": [
    "sql_query = \"\"\"\n",
    "SELECT *\n",
    "  FROM players\n",
    "  JOIN careerSummaries\n",
    "    ON players.personId = careerSummaries.personId;\n",
    "\"\"\""
   ]
  },
  {
   "cell_type": "code",
   "execution_count": 30,
   "metadata": {
    "slideshow": {
     "slide_type": "subslide"
    }
   },
   "outputs": [
    {
     "data": {
      "text/html": [
       "<div>\n",
       "<style scoped>\n",
       "    .dataframe tbody tr th:only-of-type {\n",
       "        vertical-align: middle;\n",
       "    }\n",
       "\n",
       "    .dataframe tbody tr th {\n",
       "        vertical-align: top;\n",
       "    }\n",
       "\n",
       "    .dataframe thead th {\n",
       "        text-align: right;\n",
       "    }\n",
       "</style>\n",
       "<table border=\"1\" class=\"dataframe\">\n",
       "  <thead>\n",
       "    <tr style=\"text-align: right;\">\n",
       "      <th></th>\n",
       "      <th>firstName</th>\n",
       "      <th>lastName</th>\n",
       "      <th>temporaryDisplayName</th>\n",
       "      <th>personId</th>\n",
       "      <th>teamId</th>\n",
       "      <th>jersey</th>\n",
       "      <th>isActive</th>\n",
       "      <th>pos</th>\n",
       "      <th>heightFeet</th>\n",
       "      <th>heightInches</th>\n",
       "      <th>...</th>\n",
       "      <th>ftm</th>\n",
       "      <th>fta</th>\n",
       "      <th>pFouls</th>\n",
       "      <th>points</th>\n",
       "      <th>gamesPlayed</th>\n",
       "      <th>gamesStarted</th>\n",
       "      <th>plusMinus</th>\n",
       "      <th>min</th>\n",
       "      <th>dd2</th>\n",
       "      <th>td3</th>\n",
       "    </tr>\n",
       "  </thead>\n",
       "  <tbody>\n",
       "    <tr>\n",
       "      <th>0</th>\n",
       "      <td>Vince</td>\n",
       "      <td>Carter</td>\n",
       "      <td>Carter, Vince</td>\n",
       "      <td>1713</td>\n",
       "      <td>1610612737</td>\n",
       "      <td>15.0</td>\n",
       "      <td>True</td>\n",
       "      <td>G-F</td>\n",
       "      <td>6</td>\n",
       "      <td>6</td>\n",
       "      <td>...</td>\n",
       "      <td>4852.0</td>\n",
       "      <td>6082.0</td>\n",
       "      <td>3995.0</td>\n",
       "      <td>25728.0</td>\n",
       "      <td>1541.0</td>\n",
       "      <td>982.0</td>\n",
       "      <td>1816.0</td>\n",
       "      <td>46371.0</td>\n",
       "      <td>90.0</td>\n",
       "      <td>5.0</td>\n",
       "    </tr>\n",
       "    <tr>\n",
       "      <th>1</th>\n",
       "      <td>Tyson</td>\n",
       "      <td>Chandler</td>\n",
       "      <td>Chandler, Tyson</td>\n",
       "      <td>2199</td>\n",
       "      <td>1610612745</td>\n",
       "      <td>19.0</td>\n",
       "      <td>True</td>\n",
       "      <td>C</td>\n",
       "      <td>7</td>\n",
       "      <td>0</td>\n",
       "      <td>...</td>\n",
       "      <td>2393.0</td>\n",
       "      <td>3714.0</td>\n",
       "      <td>3268.0</td>\n",
       "      <td>9509.0</td>\n",
       "      <td>1160.0</td>\n",
       "      <td>886.0</td>\n",
       "      <td>325.0</td>\n",
       "      <td>31617.0</td>\n",
       "      <td>292.0</td>\n",
       "      <td>0.0</td>\n",
       "    </tr>\n",
       "    <tr>\n",
       "      <th>2</th>\n",
       "      <td>LeBron</td>\n",
       "      <td>James</td>\n",
       "      <td>James, LeBron</td>\n",
       "      <td>2544</td>\n",
       "      <td>1610612747</td>\n",
       "      <td>23.0</td>\n",
       "      <td>True</td>\n",
       "      <td>F</td>\n",
       "      <td>6</td>\n",
       "      <td>9</td>\n",
       "      <td>...</td>\n",
       "      <td>7379.0</td>\n",
       "      <td>10044.0</td>\n",
       "      <td>2313.0</td>\n",
       "      <td>34087.0</td>\n",
       "      <td>1258.0</td>\n",
       "      <td>1257.0</td>\n",
       "      <td>6887.0</td>\n",
       "      <td>48327.0</td>\n",
       "      <td>485.0</td>\n",
       "      <td>94.0</td>\n",
       "    </tr>\n",
       "    <tr>\n",
       "      <th>3</th>\n",
       "      <td>Carmelo</td>\n",
       "      <td>Anthony</td>\n",
       "      <td>Anthony, Carmelo</td>\n",
       "      <td>2546</td>\n",
       "      <td>1610612757</td>\n",
       "      <td>0.0</td>\n",
       "      <td>True</td>\n",
       "      <td>F</td>\n",
       "      <td>6</td>\n",
       "      <td>8</td>\n",
       "      <td>...</td>\n",
       "      <td>6028.0</td>\n",
       "      <td>7424.0</td>\n",
       "      <td>3204.0</td>\n",
       "      <td>26314.0</td>\n",
       "      <td>1114.0</td>\n",
       "      <td>1106.0</td>\n",
       "      <td>1614.0</td>\n",
       "      <td>39750.0</td>\n",
       "      <td>171.0</td>\n",
       "      <td>2.0</td>\n",
       "    </tr>\n",
       "    <tr>\n",
       "      <th>4</th>\n",
       "      <td>Kyle</td>\n",
       "      <td>Korver</td>\n",
       "      <td>Korver, Kyle</td>\n",
       "      <td>2594</td>\n",
       "      <td>1610612749</td>\n",
       "      <td>26.0</td>\n",
       "      <td>True</td>\n",
       "      <td>G-F</td>\n",
       "      <td>6</td>\n",
       "      <td>7</td>\n",
       "      <td>...</td>\n",
       "      <td>1290.0</td>\n",
       "      <td>1472.0</td>\n",
       "      <td>2512.0</td>\n",
       "      <td>11903.0</td>\n",
       "      <td>1224.0</td>\n",
       "      <td>422.0</td>\n",
       "      <td>2885.0</td>\n",
       "      <td>31056.0</td>\n",
       "      <td>7.0</td>\n",
       "      <td>0.0</td>\n",
       "    </tr>\n",
       "    <tr>\n",
       "      <th>...</th>\n",
       "      <td>...</td>\n",
       "      <td>...</td>\n",
       "      <td>...</td>\n",
       "      <td>...</td>\n",
       "      <td>...</td>\n",
       "      <td>...</td>\n",
       "      <td>...</td>\n",
       "      <td>...</td>\n",
       "      <td>...</td>\n",
       "      <td>...</td>\n",
       "      <td>...</td>\n",
       "      <td>...</td>\n",
       "      <td>...</td>\n",
       "      <td>...</td>\n",
       "      <td>...</td>\n",
       "      <td>...</td>\n",
       "      <td>...</td>\n",
       "      <td>...</td>\n",
       "      <td>...</td>\n",
       "      <td>...</td>\n",
       "      <td>...</td>\n",
       "    </tr>\n",
       "    <tr>\n",
       "      <th>499</th>\n",
       "      <td>Matt</td>\n",
       "      <td>Thomas</td>\n",
       "      <td>Thomas, Matt</td>\n",
       "      <td>1629744</td>\n",
       "      <td>1610612761</td>\n",
       "      <td>21.0</td>\n",
       "      <td>True</td>\n",
       "      <td>G</td>\n",
       "      <td>6</td>\n",
       "      <td>4</td>\n",
       "      <td>...</td>\n",
       "      <td>7.0</td>\n",
       "      <td>10.0</td>\n",
       "      <td>31.0</td>\n",
       "      <td>150.0</td>\n",
       "      <td>33.0</td>\n",
       "      <td>0.0</td>\n",
       "      <td>22.0</td>\n",
       "      <td>321.0</td>\n",
       "      <td>0.0</td>\n",
       "      <td>0.0</td>\n",
       "    </tr>\n",
       "    <tr>\n",
       "      <th>500</th>\n",
       "      <td>Tariq</td>\n",
       "      <td>Owens</td>\n",
       "      <td>Owens, Tariq</td>\n",
       "      <td>1629745</td>\n",
       "      <td>1610612756</td>\n",
       "      <td>41.0</td>\n",
       "      <td>True</td>\n",
       "      <td>F</td>\n",
       "      <td>6</td>\n",
       "      <td>10</td>\n",
       "      <td>...</td>\n",
       "      <td>2.0</td>\n",
       "      <td>2.0</td>\n",
       "      <td>1.0</td>\n",
       "      <td>4.0</td>\n",
       "      <td>3.0</td>\n",
       "      <td>0.0</td>\n",
       "      <td>-16.0</td>\n",
       "      <td>15.0</td>\n",
       "      <td>0.0</td>\n",
       "      <td>0.0</td>\n",
       "    </tr>\n",
       "    <tr>\n",
       "      <th>501</th>\n",
       "      <td>Javonte</td>\n",
       "      <td>Green</td>\n",
       "      <td>Green, Javonte</td>\n",
       "      <td>1629750</td>\n",
       "      <td>1610612738</td>\n",
       "      <td>43.0</td>\n",
       "      <td>True</td>\n",
       "      <td>G-F</td>\n",
       "      <td>6</td>\n",
       "      <td>4</td>\n",
       "      <td>...</td>\n",
       "      <td>23.0</td>\n",
       "      <td>36.0</td>\n",
       "      <td>37.0</td>\n",
       "      <td>127.0</td>\n",
       "      <td>44.0</td>\n",
       "      <td>1.0</td>\n",
       "      <td>-5.0</td>\n",
       "      <td>414.0</td>\n",
       "      <td>0.0</td>\n",
       "      <td>0.0</td>\n",
       "    </tr>\n",
       "    <tr>\n",
       "      <th>502</th>\n",
       "      <td>Juwan</td>\n",
       "      <td>Morgan</td>\n",
       "      <td>Morgan, Juwan</td>\n",
       "      <td>1629752</td>\n",
       "      <td>1610612762</td>\n",
       "      <td>16.0</td>\n",
       "      <td>True</td>\n",
       "      <td>F</td>\n",
       "      <td>6</td>\n",
       "      <td>7</td>\n",
       "      <td>...</td>\n",
       "      <td>0.0</td>\n",
       "      <td>0.0</td>\n",
       "      <td>7.0</td>\n",
       "      <td>19.0</td>\n",
       "      <td>16.0</td>\n",
       "      <td>0.0</td>\n",
       "      <td>19.0</td>\n",
       "      <td>73.0</td>\n",
       "      <td>0.0</td>\n",
       "      <td>0.0</td>\n",
       "    </tr>\n",
       "    <tr>\n",
       "      <th>503</th>\n",
       "      <td>Matt</td>\n",
       "      <td>Mooney</td>\n",
       "      <td>Mooney, Matt</td>\n",
       "      <td>1629760</td>\n",
       "      <td>1610612739</td>\n",
       "      <td>31.0</td>\n",
       "      <td>True</td>\n",
       "      <td>G</td>\n",
       "      <td>6</td>\n",
       "      <td>2</td>\n",
       "      <td>...</td>\n",
       "      <td>0.0</td>\n",
       "      <td>0.0</td>\n",
       "      <td>1.0</td>\n",
       "      <td>2.0</td>\n",
       "      <td>4.0</td>\n",
       "      <td>0.0</td>\n",
       "      <td>7.0</td>\n",
       "      <td>18.0</td>\n",
       "      <td>0.0</td>\n",
       "      <td>0.0</td>\n",
       "    </tr>\n",
       "  </tbody>\n",
       "</table>\n",
       "<p>504 rows × 51 columns</p>\n",
       "</div>"
      ],
      "text/plain": [
       "    firstName  lastName temporaryDisplayName  personId      teamId  jersey  \\\n",
       "0       Vince    Carter        Carter, Vince      1713  1610612737    15.0   \n",
       "1       Tyson  Chandler      Chandler, Tyson      2199  1610612745    19.0   \n",
       "2      LeBron     James        James, LeBron      2544  1610612747    23.0   \n",
       "3     Carmelo   Anthony     Anthony, Carmelo      2546  1610612757     0.0   \n",
       "4        Kyle    Korver         Korver, Kyle      2594  1610612749    26.0   \n",
       "..        ...       ...                  ...       ...         ...     ...   \n",
       "499      Matt    Thomas         Thomas, Matt   1629744  1610612761    21.0   \n",
       "500     Tariq     Owens         Owens, Tariq   1629745  1610612756    41.0   \n",
       "501   Javonte     Green       Green, Javonte   1629750  1610612738    43.0   \n",
       "502     Juwan    Morgan        Morgan, Juwan   1629752  1610612762    16.0   \n",
       "503      Matt    Mooney         Mooney, Matt   1629760  1610612739    31.0   \n",
       "\n",
       "    isActive  pos  heightFeet  heightInches  ...     ftm      fta  pFouls  \\\n",
       "0       True  G-F           6             6  ...  4852.0   6082.0  3995.0   \n",
       "1       True    C           7             0  ...  2393.0   3714.0  3268.0   \n",
       "2       True    F           6             9  ...  7379.0  10044.0  2313.0   \n",
       "3       True    F           6             8  ...  6028.0   7424.0  3204.0   \n",
       "4       True  G-F           6             7  ...  1290.0   1472.0  2512.0   \n",
       "..       ...  ...         ...           ...  ...     ...      ...     ...   \n",
       "499     True    G           6             4  ...     7.0     10.0    31.0   \n",
       "500     True    F           6            10  ...     2.0      2.0     1.0   \n",
       "501     True  G-F           6             4  ...    23.0     36.0    37.0   \n",
       "502     True    F           6             7  ...     0.0      0.0     7.0   \n",
       "503     True    G           6             2  ...     0.0      0.0     1.0   \n",
       "\n",
       "      points gamesPlayed  gamesStarted plusMinus      min    dd2   td3  \n",
       "0    25728.0      1541.0         982.0    1816.0  46371.0   90.0   5.0  \n",
       "1     9509.0      1160.0         886.0     325.0  31617.0  292.0   0.0  \n",
       "2    34087.0      1258.0        1257.0    6887.0  48327.0  485.0  94.0  \n",
       "3    26314.0      1114.0        1106.0    1614.0  39750.0  171.0   2.0  \n",
       "4    11903.0      1224.0         422.0    2885.0  31056.0    7.0   0.0  \n",
       "..       ...         ...           ...       ...      ...    ...   ...  \n",
       "499    150.0        33.0           0.0      22.0    321.0    0.0   0.0  \n",
       "500      4.0         3.0           0.0     -16.0     15.0    0.0   0.0  \n",
       "501    127.0        44.0           1.0      -5.0    414.0    0.0   0.0  \n",
       "502     19.0        16.0           0.0      19.0     73.0    0.0   0.0  \n",
       "503      2.0         4.0           0.0       7.0     18.0    0.0   0.0  \n",
       "\n",
       "[504 rows x 51 columns]"
      ]
     },
     "execution_count": 30,
     "metadata": {},
     "output_type": "execute_result"
    }
   ],
   "source": [
    "pd.read_sql(sql_query, conn)"
   ]
  },
  {
   "cell_type": "markdown",
   "metadata": {
    "slideshow": {
     "slide_type": "subslide"
    }
   },
   "source": [
    "## 在變數上加上 key 的註記：主鍵（Primary key）\n",
    "\n",
    "主鍵用來標註一個表格中獨立的觀測值，什麼樣的變數可以被標記為主鍵？\n",
    "\n",
    "1. 必須獨一\n",
    "2. 不得有遺漏值"
   ]
  },
  {
   "cell_type": "code",
   "execution_count": 31,
   "metadata": {
    "slideshow": {
     "slide_type": "subslide"
    }
   },
   "outputs": [
    {
     "data": {
      "text/html": [
       "<div>\n",
       "<style scoped>\n",
       "    .dataframe tbody tr th:only-of-type {\n",
       "        vertical-align: middle;\n",
       "    }\n",
       "\n",
       "    .dataframe tbody tr th {\n",
       "        vertical-align: top;\n",
       "    }\n",
       "\n",
       "    .dataframe thead th {\n",
       "        text-align: right;\n",
       "    }\n",
       "</style>\n",
       "<table border=\"1\" class=\"dataframe\">\n",
       "  <thead>\n",
       "    <tr style=\"text-align: right;\">\n",
       "      <th></th>\n",
       "      <th>name</th>\n",
       "    </tr>\n",
       "  </thead>\n",
       "  <tbody>\n",
       "    <tr>\n",
       "      <th>0</th>\n",
       "      <td>personId</td>\n",
       "    </tr>\n",
       "  </tbody>\n",
       "</table>\n",
       "</div>"
      ],
      "text/plain": [
       "       name\n",
       "0  personId"
      ]
     },
     "execution_count": 31,
     "metadata": {},
     "output_type": "execute_result"
    }
   ],
   "source": [
    "sql_query = \"\"\"\n",
    "SELECT name\n",
    "  FROM PRAGMA_TABLE_INFO('players')\n",
    " WHERE pk = 1;\n",
    "\"\"\"\n",
    "pd.read_sql(sql_query, conn)"
   ]
  },
  {
   "cell_type": "markdown",
   "metadata": {
    "slideshow": {
     "slide_type": "subslide"
    }
   },
   "source": [
    "## 在變數上加上 key 的註記：外鍵（Foreign key）\n",
    "\n",
    "與其他具有相關的表格主鍵相對應的欄位可以被標註為外鍵。"
   ]
  },
  {
   "cell_type": "code",
   "execution_count": 32,
   "metadata": {},
   "outputs": [
    {
     "data": {
      "text/html": [
       "<div>\n",
       "<style scoped>\n",
       "    .dataframe tbody tr th:only-of-type {\n",
       "        vertical-align: middle;\n",
       "    }\n",
       "\n",
       "    .dataframe tbody tr th {\n",
       "        vertical-align: top;\n",
       "    }\n",
       "\n",
       "    .dataframe thead th {\n",
       "        text-align: right;\n",
       "    }\n",
       "</style>\n",
       "<table border=\"1\" class=\"dataframe\">\n",
       "  <thead>\n",
       "    <tr style=\"text-align: right;\">\n",
       "      <th></th>\n",
       "      <th>id</th>\n",
       "      <th>seq</th>\n",
       "      <th>table</th>\n",
       "      <th>from</th>\n",
       "      <th>to</th>\n",
       "      <th>on_update</th>\n",
       "      <th>on_delete</th>\n",
       "      <th>match</th>\n",
       "    </tr>\n",
       "  </thead>\n",
       "  <tbody>\n",
       "    <tr>\n",
       "      <th>0</th>\n",
       "      <td>0</td>\n",
       "      <td>0</td>\n",
       "      <td>careerSummaries</td>\n",
       "      <td>personId</td>\n",
       "      <td>personId</td>\n",
       "      <td>RESTRICT</td>\n",
       "      <td>RESTRICT</td>\n",
       "      <td>NONE</td>\n",
       "    </tr>\n",
       "    <tr>\n",
       "      <th>1</th>\n",
       "      <td>1</td>\n",
       "      <td>0</td>\n",
       "      <td>teams</td>\n",
       "      <td>teamId</td>\n",
       "      <td>teamId</td>\n",
       "      <td>RESTRICT</td>\n",
       "      <td>RESTRICT</td>\n",
       "      <td>NONE</td>\n",
       "    </tr>\n",
       "  </tbody>\n",
       "</table>\n",
       "</div>"
      ],
      "text/plain": [
       "   id  seq            table      from        to on_update on_delete match\n",
       "0   0    0  careerSummaries  personId  personId  RESTRICT  RESTRICT  NONE\n",
       "1   1    0            teams    teamId    teamId  RESTRICT  RESTRICT  NONE"
      ]
     },
     "execution_count": 32,
     "metadata": {},
     "output_type": "execute_result"
    }
   ],
   "source": [
    "sql_query = \"\"\"\n",
    "SELECT *\n",
    "  FROM PRAGMA_FOREIGN_KEY_LIST('players');\n",
    "\"\"\"\n",
    "pd.read_sql(sql_query, conn)"
   ]
  },
  {
   "cell_type": "markdown",
   "metadata": {
    "slideshow": {
     "slide_type": "subslide"
    }
   },
   "source": [
    "## `JOIN` 是預設的聯結邏輯\n",
    "\n",
    "- `JOIN` 將左右表格的「交集」觀測值回傳\n",
    "- `LEFT JOIN` 將左表格「所有」觀測值回傳，對應不到的以遺漏值填補\n",
    "- `RIGHT JOIN` 將右表格「所有」觀測值回傳，對應不到的以遺漏值填補（SQLite 不支援）\n",
    "- `FULL OUTER JOIN` 將左右表格的「聯集」觀測值回傳，對應不到的以遺漏值填補（SQLite 不支援）"
   ]
  },
  {
   "cell_type": "markdown",
   "metadata": {
    "slideshow": {
     "slide_type": "subslide"
    }
   },
   "source": [
    "## 建構一個左表格 `veteran_players`"
   ]
  },
  {
   "cell_type": "code",
   "execution_count": 33,
   "metadata": {},
   "outputs": [],
   "source": [
    "sql_query = \"\"\"\n",
    "SELECT personId,\n",
    "       temporaryDisplayName\n",
    "  FROM players\n",
    " LIMIT 10;\n",
    "\"\"\""
   ]
  },
  {
   "cell_type": "code",
   "execution_count": 34,
   "metadata": {
    "slideshow": {
     "slide_type": "subslide"
    }
   },
   "outputs": [
    {
     "data": {
      "text/html": [
       "<div>\n",
       "<style scoped>\n",
       "    .dataframe tbody tr th:only-of-type {\n",
       "        vertical-align: middle;\n",
       "    }\n",
       "\n",
       "    .dataframe tbody tr th {\n",
       "        vertical-align: top;\n",
       "    }\n",
       "\n",
       "    .dataframe thead th {\n",
       "        text-align: right;\n",
       "    }\n",
       "</style>\n",
       "<table border=\"1\" class=\"dataframe\">\n",
       "  <thead>\n",
       "    <tr style=\"text-align: right;\">\n",
       "      <th></th>\n",
       "      <th>personId</th>\n",
       "      <th>temporaryDisplayName</th>\n",
       "    </tr>\n",
       "  </thead>\n",
       "  <tbody>\n",
       "    <tr>\n",
       "      <th>0</th>\n",
       "      <td>1713</td>\n",
       "      <td>Carter, Vince</td>\n",
       "    </tr>\n",
       "    <tr>\n",
       "      <th>1</th>\n",
       "      <td>2199</td>\n",
       "      <td>Chandler, Tyson</td>\n",
       "    </tr>\n",
       "    <tr>\n",
       "      <th>2</th>\n",
       "      <td>2544</td>\n",
       "      <td>James, LeBron</td>\n",
       "    </tr>\n",
       "    <tr>\n",
       "      <th>3</th>\n",
       "      <td>2546</td>\n",
       "      <td>Anthony, Carmelo</td>\n",
       "    </tr>\n",
       "    <tr>\n",
       "      <th>4</th>\n",
       "      <td>2594</td>\n",
       "      <td>Korver, Kyle</td>\n",
       "    </tr>\n",
       "    <tr>\n",
       "      <th>5</th>\n",
       "      <td>2617</td>\n",
       "      <td>Haslem, Udonis</td>\n",
       "    </tr>\n",
       "    <tr>\n",
       "      <th>6</th>\n",
       "      <td>2730</td>\n",
       "      <td>Howard, Dwight</td>\n",
       "    </tr>\n",
       "    <tr>\n",
       "      <th>7</th>\n",
       "      <td>2738</td>\n",
       "      <td>Iguodala, Andre</td>\n",
       "    </tr>\n",
       "    <tr>\n",
       "      <th>8</th>\n",
       "      <td>2747</td>\n",
       "      <td>Smith, JR</td>\n",
       "    </tr>\n",
       "    <tr>\n",
       "      <th>9</th>\n",
       "      <td>2772</td>\n",
       "      <td>Ariza, Trevor</td>\n",
       "    </tr>\n",
       "  </tbody>\n",
       "</table>\n",
       "</div>"
      ],
      "text/plain": [
       "   personId temporaryDisplayName\n",
       "0      1713        Carter, Vince\n",
       "1      2199      Chandler, Tyson\n",
       "2      2544        James, LeBron\n",
       "3      2546     Anthony, Carmelo\n",
       "4      2594         Korver, Kyle\n",
       "5      2617       Haslem, Udonis\n",
       "6      2730       Howard, Dwight\n",
       "7      2738      Iguodala, Andre\n",
       "8      2747            Smith, JR\n",
       "9      2772        Ariza, Trevor"
      ]
     },
     "execution_count": 34,
     "metadata": {},
     "output_type": "execute_result"
    }
   ],
   "source": [
    "pd.read_sql(sql_query, conn)"
   ]
  },
  {
   "cell_type": "markdown",
   "metadata": {
    "slideshow": {
     "slide_type": "subslide"
    }
   },
   "source": [
    "## 建構一個右表格 `top_scorers`"
   ]
  },
  {
   "cell_type": "code",
   "execution_count": 35,
   "metadata": {},
   "outputs": [],
   "source": [
    "sql_query = \"\"\"\n",
    "SELECT personId,\n",
    "       ppg\n",
    "  FROM careerSummaries\n",
    " ORDER BY ppg DESC\n",
    " LIMIT 10;\n",
    "\"\"\""
   ]
  },
  {
   "cell_type": "code",
   "execution_count": 36,
   "metadata": {
    "slideshow": {
     "slide_type": "subslide"
    }
   },
   "outputs": [
    {
     "data": {
      "text/html": [
       "<div>\n",
       "<style scoped>\n",
       "    .dataframe tbody tr th:only-of-type {\n",
       "        vertical-align: middle;\n",
       "    }\n",
       "\n",
       "    .dataframe tbody tr th {\n",
       "        vertical-align: top;\n",
       "    }\n",
       "\n",
       "    .dataframe thead th {\n",
       "        text-align: right;\n",
       "    }\n",
       "</style>\n",
       "<table border=\"1\" class=\"dataframe\">\n",
       "  <thead>\n",
       "    <tr style=\"text-align: right;\">\n",
       "      <th></th>\n",
       "      <th>personId</th>\n",
       "      <th>ppg</th>\n",
       "    </tr>\n",
       "  </thead>\n",
       "  <tbody>\n",
       "    <tr>\n",
       "      <th>0</th>\n",
       "      <td>2544</td>\n",
       "      <td>27.1</td>\n",
       "    </tr>\n",
       "    <tr>\n",
       "      <th>1</th>\n",
       "      <td>201142</td>\n",
       "      <td>27.0</td>\n",
       "    </tr>\n",
       "    <tr>\n",
       "      <th>2</th>\n",
       "      <td>201935</td>\n",
       "      <td>25.1</td>\n",
       "    </tr>\n",
       "    <tr>\n",
       "      <th>3</th>\n",
       "      <td>1629029</td>\n",
       "      <td>24.4</td>\n",
       "    </tr>\n",
       "    <tr>\n",
       "      <th>4</th>\n",
       "      <td>203954</td>\n",
       "      <td>24.1</td>\n",
       "    </tr>\n",
       "    <tr>\n",
       "      <th>5</th>\n",
       "      <td>203076</td>\n",
       "      <td>24.0</td>\n",
       "    </tr>\n",
       "    <tr>\n",
       "      <th>6</th>\n",
       "      <td>203081</td>\n",
       "      <td>24.0</td>\n",
       "    </tr>\n",
       "    <tr>\n",
       "      <th>7</th>\n",
       "      <td>2546</td>\n",
       "      <td>23.6</td>\n",
       "    </tr>\n",
       "    <tr>\n",
       "      <th>8</th>\n",
       "      <td>1629027</td>\n",
       "      <td>23.6</td>\n",
       "    </tr>\n",
       "    <tr>\n",
       "      <th>9</th>\n",
       "      <td>1629627</td>\n",
       "      <td>23.6</td>\n",
       "    </tr>\n",
       "  </tbody>\n",
       "</table>\n",
       "</div>"
      ],
      "text/plain": [
       "   personId   ppg\n",
       "0      2544  27.1\n",
       "1    201142  27.0\n",
       "2    201935  25.1\n",
       "3   1629029  24.4\n",
       "4    203954  24.1\n",
       "5    203076  24.0\n",
       "6    203081  24.0\n",
       "7      2546  23.6\n",
       "8   1629027  23.6\n",
       "9   1629627  23.6"
      ]
     },
     "execution_count": 36,
     "metadata": {},
     "output_type": "execute_result"
    }
   ],
   "source": [
    "pd.read_sql(sql_query, conn)"
   ]
  },
  {
   "cell_type": "markdown",
   "metadata": {
    "slideshow": {
     "slide_type": "subslide"
    }
   },
   "source": [
    "## 預設的 `JOIN`"
   ]
  },
  {
   "cell_type": "code",
   "execution_count": 37,
   "metadata": {},
   "outputs": [],
   "source": [
    "sql_query = \"\"\"\n",
    "SELECT *\n",
    "  FROM (SELECT personId,\n",
    "               temporaryDisplayName\n",
    "          FROM players\n",
    "         LIMIT 10) AS veteran_players\n",
    "  JOIN (SELECT personId,\n",
    "               ppg\n",
    "          FROM careerSummaries\n",
    "         ORDER BY ppg DESC\n",
    "         LIMIT 10) AS top_scorers\n",
    "    ON veteran_players.personId = top_scorers.personId;\n",
    "\"\"\""
   ]
  },
  {
   "cell_type": "code",
   "execution_count": 38,
   "metadata": {
    "slideshow": {
     "slide_type": "subslide"
    }
   },
   "outputs": [
    {
     "data": {
      "text/html": [
       "<div>\n",
       "<style scoped>\n",
       "    .dataframe tbody tr th:only-of-type {\n",
       "        vertical-align: middle;\n",
       "    }\n",
       "\n",
       "    .dataframe tbody tr th {\n",
       "        vertical-align: top;\n",
       "    }\n",
       "\n",
       "    .dataframe thead th {\n",
       "        text-align: right;\n",
       "    }\n",
       "</style>\n",
       "<table border=\"1\" class=\"dataframe\">\n",
       "  <thead>\n",
       "    <tr style=\"text-align: right;\">\n",
       "      <th></th>\n",
       "      <th>personId</th>\n",
       "      <th>temporaryDisplayName</th>\n",
       "      <th>personId</th>\n",
       "      <th>ppg</th>\n",
       "    </tr>\n",
       "  </thead>\n",
       "  <tbody>\n",
       "    <tr>\n",
       "      <th>0</th>\n",
       "      <td>2544</td>\n",
       "      <td>James, LeBron</td>\n",
       "      <td>2544</td>\n",
       "      <td>27.1</td>\n",
       "    </tr>\n",
       "    <tr>\n",
       "      <th>1</th>\n",
       "      <td>2546</td>\n",
       "      <td>Anthony, Carmelo</td>\n",
       "      <td>2546</td>\n",
       "      <td>23.6</td>\n",
       "    </tr>\n",
       "  </tbody>\n",
       "</table>\n",
       "</div>"
      ],
      "text/plain": [
       "   personId temporaryDisplayName  personId   ppg\n",
       "0      2544        James, LeBron      2544  27.1\n",
       "1      2546     Anthony, Carmelo      2546  23.6"
      ]
     },
     "execution_count": 38,
     "metadata": {},
     "output_type": "execute_result"
    }
   ],
   "source": [
    "pd.read_sql(sql_query, conn)"
   ]
  },
  {
   "cell_type": "markdown",
   "metadata": {
    "slideshow": {
     "slide_type": "subslide"
    }
   },
   "source": [
    "## 改以 `LEFT JOIN` 聯結"
   ]
  },
  {
   "cell_type": "code",
   "execution_count": 39,
   "metadata": {},
   "outputs": [],
   "source": [
    "sql_query = \"\"\"\n",
    "SELECT *\n",
    "  FROM (SELECT personId,\n",
    "               temporaryDisplayName\n",
    "          FROM players\n",
    "         LIMIT 10) AS veteran_players\n",
    "  LEFT JOIN (SELECT personId,\n",
    "                    ppg\n",
    "               FROM careerSummaries\n",
    "              ORDER BY ppg DESC\n",
    "              LIMIT 10) AS top_scorers\n",
    "    ON veteran_players.personId = top_scorers.personId;\n",
    "\"\"\""
   ]
  },
  {
   "cell_type": "code",
   "execution_count": 40,
   "metadata": {
    "slideshow": {
     "slide_type": "subslide"
    }
   },
   "outputs": [
    {
     "data": {
      "text/html": [
       "<div>\n",
       "<style scoped>\n",
       "    .dataframe tbody tr th:only-of-type {\n",
       "        vertical-align: middle;\n",
       "    }\n",
       "\n",
       "    .dataframe tbody tr th {\n",
       "        vertical-align: top;\n",
       "    }\n",
       "\n",
       "    .dataframe thead th {\n",
       "        text-align: right;\n",
       "    }\n",
       "</style>\n",
       "<table border=\"1\" class=\"dataframe\">\n",
       "  <thead>\n",
       "    <tr style=\"text-align: right;\">\n",
       "      <th></th>\n",
       "      <th>personId</th>\n",
       "      <th>temporaryDisplayName</th>\n",
       "      <th>personId</th>\n",
       "      <th>ppg</th>\n",
       "    </tr>\n",
       "  </thead>\n",
       "  <tbody>\n",
       "    <tr>\n",
       "      <th>0</th>\n",
       "      <td>1713</td>\n",
       "      <td>Carter, Vince</td>\n",
       "      <td>NaN</td>\n",
       "      <td>NaN</td>\n",
       "    </tr>\n",
       "    <tr>\n",
       "      <th>1</th>\n",
       "      <td>2199</td>\n",
       "      <td>Chandler, Tyson</td>\n",
       "      <td>NaN</td>\n",
       "      <td>NaN</td>\n",
       "    </tr>\n",
       "    <tr>\n",
       "      <th>2</th>\n",
       "      <td>2544</td>\n",
       "      <td>James, LeBron</td>\n",
       "      <td>2544.0</td>\n",
       "      <td>27.1</td>\n",
       "    </tr>\n",
       "    <tr>\n",
       "      <th>3</th>\n",
       "      <td>2546</td>\n",
       "      <td>Anthony, Carmelo</td>\n",
       "      <td>2546.0</td>\n",
       "      <td>23.6</td>\n",
       "    </tr>\n",
       "    <tr>\n",
       "      <th>4</th>\n",
       "      <td>2594</td>\n",
       "      <td>Korver, Kyle</td>\n",
       "      <td>NaN</td>\n",
       "      <td>NaN</td>\n",
       "    </tr>\n",
       "    <tr>\n",
       "      <th>5</th>\n",
       "      <td>2617</td>\n",
       "      <td>Haslem, Udonis</td>\n",
       "      <td>NaN</td>\n",
       "      <td>NaN</td>\n",
       "    </tr>\n",
       "    <tr>\n",
       "      <th>6</th>\n",
       "      <td>2730</td>\n",
       "      <td>Howard, Dwight</td>\n",
       "      <td>NaN</td>\n",
       "      <td>NaN</td>\n",
       "    </tr>\n",
       "    <tr>\n",
       "      <th>7</th>\n",
       "      <td>2738</td>\n",
       "      <td>Iguodala, Andre</td>\n",
       "      <td>NaN</td>\n",
       "      <td>NaN</td>\n",
       "    </tr>\n",
       "    <tr>\n",
       "      <th>8</th>\n",
       "      <td>2747</td>\n",
       "      <td>Smith, JR</td>\n",
       "      <td>NaN</td>\n",
       "      <td>NaN</td>\n",
       "    </tr>\n",
       "    <tr>\n",
       "      <th>9</th>\n",
       "      <td>2772</td>\n",
       "      <td>Ariza, Trevor</td>\n",
       "      <td>NaN</td>\n",
       "      <td>NaN</td>\n",
       "    </tr>\n",
       "  </tbody>\n",
       "</table>\n",
       "</div>"
      ],
      "text/plain": [
       "   personId temporaryDisplayName  personId   ppg\n",
       "0      1713        Carter, Vince       NaN   NaN\n",
       "1      2199      Chandler, Tyson       NaN   NaN\n",
       "2      2544        James, LeBron    2544.0  27.1\n",
       "3      2546     Anthony, Carmelo    2546.0  23.6\n",
       "4      2594         Korver, Kyle       NaN   NaN\n",
       "5      2617       Haslem, Udonis       NaN   NaN\n",
       "6      2730       Howard, Dwight       NaN   NaN\n",
       "7      2738      Iguodala, Andre       NaN   NaN\n",
       "8      2747            Smith, JR       NaN   NaN\n",
       "9      2772        Ariza, Trevor       NaN   NaN"
      ]
     },
     "execution_count": 40,
     "metadata": {},
     "output_type": "execute_result"
    }
   ],
   "source": [
    "pd.read_sql(sql_query, conn)"
   ]
  },
  {
   "cell_type": "markdown",
   "metadata": {
    "slideshow": {
     "slide_type": "subslide"
    }
   },
   "source": [
    "## 以 Python pandas 示範 `RIGHT JOIN`"
   ]
  },
  {
   "cell_type": "code",
   "execution_count": 41,
   "metadata": {},
   "outputs": [
    {
     "data": {
      "text/html": [
       "<div>\n",
       "<style scoped>\n",
       "    .dataframe tbody tr th:only-of-type {\n",
       "        vertical-align: middle;\n",
       "    }\n",
       "\n",
       "    .dataframe tbody tr th {\n",
       "        vertical-align: top;\n",
       "    }\n",
       "\n",
       "    .dataframe thead th {\n",
       "        text-align: right;\n",
       "    }\n",
       "</style>\n",
       "<table border=\"1\" class=\"dataframe\">\n",
       "  <thead>\n",
       "    <tr style=\"text-align: right;\">\n",
       "      <th></th>\n",
       "      <th>personId</th>\n",
       "      <th>temporaryDisplayName</th>\n",
       "      <th>ppg</th>\n",
       "    </tr>\n",
       "  </thead>\n",
       "  <tbody>\n",
       "    <tr>\n",
       "      <th>0</th>\n",
       "      <td>2544</td>\n",
       "      <td>James, LeBron</td>\n",
       "      <td>27.1</td>\n",
       "    </tr>\n",
       "    <tr>\n",
       "      <th>1</th>\n",
       "      <td>2546</td>\n",
       "      <td>Anthony, Carmelo</td>\n",
       "      <td>23.6</td>\n",
       "    </tr>\n",
       "    <tr>\n",
       "      <th>2</th>\n",
       "      <td>201142</td>\n",
       "      <td>NaN</td>\n",
       "      <td>27.0</td>\n",
       "    </tr>\n",
       "    <tr>\n",
       "      <th>3</th>\n",
       "      <td>201935</td>\n",
       "      <td>NaN</td>\n",
       "      <td>25.1</td>\n",
       "    </tr>\n",
       "    <tr>\n",
       "      <th>4</th>\n",
       "      <td>1629029</td>\n",
       "      <td>NaN</td>\n",
       "      <td>24.4</td>\n",
       "    </tr>\n",
       "    <tr>\n",
       "      <th>5</th>\n",
       "      <td>203954</td>\n",
       "      <td>NaN</td>\n",
       "      <td>24.1</td>\n",
       "    </tr>\n",
       "    <tr>\n",
       "      <th>6</th>\n",
       "      <td>203076</td>\n",
       "      <td>NaN</td>\n",
       "      <td>24.0</td>\n",
       "    </tr>\n",
       "    <tr>\n",
       "      <th>7</th>\n",
       "      <td>203081</td>\n",
       "      <td>NaN</td>\n",
       "      <td>24.0</td>\n",
       "    </tr>\n",
       "    <tr>\n",
       "      <th>8</th>\n",
       "      <td>1629027</td>\n",
       "      <td>NaN</td>\n",
       "      <td>23.6</td>\n",
       "    </tr>\n",
       "    <tr>\n",
       "      <th>9</th>\n",
       "      <td>1629627</td>\n",
       "      <td>NaN</td>\n",
       "      <td>23.6</td>\n",
       "    </tr>\n",
       "  </tbody>\n",
       "</table>\n",
       "</div>"
      ],
      "text/plain": [
       "   personId temporaryDisplayName   ppg\n",
       "0      2544        James, LeBron  27.1\n",
       "1      2546     Anthony, Carmelo  23.6\n",
       "2    201142                  NaN  27.0\n",
       "3    201935                  NaN  25.1\n",
       "4   1629029                  NaN  24.4\n",
       "5    203954                  NaN  24.1\n",
       "6    203076                  NaN  24.0\n",
       "7    203081                  NaN  24.0\n",
       "8   1629027                  NaN  23.6\n",
       "9   1629627                  NaN  23.6"
      ]
     },
     "execution_count": 41,
     "metadata": {},
     "output_type": "execute_result"
    }
   ],
   "source": [
    "left_df = pd.read_sql(\"\"\"SELECT personId, temporaryDisplayName FROM players LIMIT 10\"\"\", conn)\n",
    "right_df = pd.read_sql(\"\"\"SELECT personId, ppg FROM careerSummaries ORDER BY ppg DESC LIMIT 10\"\"\", conn)\n",
    "pd.merge(left_df, right_df, left_on='personId', right_on='personId', how='right')"
   ]
  },
  {
   "cell_type": "markdown",
   "metadata": {
    "slideshow": {
     "slide_type": "subslide"
    }
   },
   "source": [
    "## 以 Python pandas 示範 `FULL OUTER JOIN`"
   ]
  },
  {
   "cell_type": "code",
   "execution_count": 42,
   "metadata": {},
   "outputs": [
    {
     "data": {
      "text/html": [
       "<div>\n",
       "<style scoped>\n",
       "    .dataframe tbody tr th:only-of-type {\n",
       "        vertical-align: middle;\n",
       "    }\n",
       "\n",
       "    .dataframe tbody tr th {\n",
       "        vertical-align: top;\n",
       "    }\n",
       "\n",
       "    .dataframe thead th {\n",
       "        text-align: right;\n",
       "    }\n",
       "</style>\n",
       "<table border=\"1\" class=\"dataframe\">\n",
       "  <thead>\n",
       "    <tr style=\"text-align: right;\">\n",
       "      <th></th>\n",
       "      <th>personId</th>\n",
       "      <th>temporaryDisplayName</th>\n",
       "      <th>ppg</th>\n",
       "    </tr>\n",
       "  </thead>\n",
       "  <tbody>\n",
       "    <tr>\n",
       "      <th>0</th>\n",
       "      <td>1713</td>\n",
       "      <td>Carter, Vince</td>\n",
       "      <td>NaN</td>\n",
       "    </tr>\n",
       "    <tr>\n",
       "      <th>1</th>\n",
       "      <td>2199</td>\n",
       "      <td>Chandler, Tyson</td>\n",
       "      <td>NaN</td>\n",
       "    </tr>\n",
       "    <tr>\n",
       "      <th>2</th>\n",
       "      <td>2544</td>\n",
       "      <td>James, LeBron</td>\n",
       "      <td>27.1</td>\n",
       "    </tr>\n",
       "    <tr>\n",
       "      <th>3</th>\n",
       "      <td>2546</td>\n",
       "      <td>Anthony, Carmelo</td>\n",
       "      <td>23.6</td>\n",
       "    </tr>\n",
       "    <tr>\n",
       "      <th>4</th>\n",
       "      <td>2594</td>\n",
       "      <td>Korver, Kyle</td>\n",
       "      <td>NaN</td>\n",
       "    </tr>\n",
       "    <tr>\n",
       "      <th>5</th>\n",
       "      <td>2617</td>\n",
       "      <td>Haslem, Udonis</td>\n",
       "      <td>NaN</td>\n",
       "    </tr>\n",
       "    <tr>\n",
       "      <th>6</th>\n",
       "      <td>2730</td>\n",
       "      <td>Howard, Dwight</td>\n",
       "      <td>NaN</td>\n",
       "    </tr>\n",
       "    <tr>\n",
       "      <th>7</th>\n",
       "      <td>2738</td>\n",
       "      <td>Iguodala, Andre</td>\n",
       "      <td>NaN</td>\n",
       "    </tr>\n",
       "    <tr>\n",
       "      <th>8</th>\n",
       "      <td>2747</td>\n",
       "      <td>Smith, JR</td>\n",
       "      <td>NaN</td>\n",
       "    </tr>\n",
       "    <tr>\n",
       "      <th>9</th>\n",
       "      <td>2772</td>\n",
       "      <td>Ariza, Trevor</td>\n",
       "      <td>NaN</td>\n",
       "    </tr>\n",
       "    <tr>\n",
       "      <th>10</th>\n",
       "      <td>201142</td>\n",
       "      <td>NaN</td>\n",
       "      <td>27.0</td>\n",
       "    </tr>\n",
       "    <tr>\n",
       "      <th>11</th>\n",
       "      <td>201935</td>\n",
       "      <td>NaN</td>\n",
       "      <td>25.1</td>\n",
       "    </tr>\n",
       "    <tr>\n",
       "      <th>12</th>\n",
       "      <td>1629029</td>\n",
       "      <td>NaN</td>\n",
       "      <td>24.4</td>\n",
       "    </tr>\n",
       "    <tr>\n",
       "      <th>13</th>\n",
       "      <td>203954</td>\n",
       "      <td>NaN</td>\n",
       "      <td>24.1</td>\n",
       "    </tr>\n",
       "    <tr>\n",
       "      <th>14</th>\n",
       "      <td>203076</td>\n",
       "      <td>NaN</td>\n",
       "      <td>24.0</td>\n",
       "    </tr>\n",
       "    <tr>\n",
       "      <th>15</th>\n",
       "      <td>203081</td>\n",
       "      <td>NaN</td>\n",
       "      <td>24.0</td>\n",
       "    </tr>\n",
       "    <tr>\n",
       "      <th>16</th>\n",
       "      <td>1629027</td>\n",
       "      <td>NaN</td>\n",
       "      <td>23.6</td>\n",
       "    </tr>\n",
       "    <tr>\n",
       "      <th>17</th>\n",
       "      <td>1629627</td>\n",
       "      <td>NaN</td>\n",
       "      <td>23.6</td>\n",
       "    </tr>\n",
       "  </tbody>\n",
       "</table>\n",
       "</div>"
      ],
      "text/plain": [
       "    personId temporaryDisplayName   ppg\n",
       "0       1713        Carter, Vince   NaN\n",
       "1       2199      Chandler, Tyson   NaN\n",
       "2       2544        James, LeBron  27.1\n",
       "3       2546     Anthony, Carmelo  23.6\n",
       "4       2594         Korver, Kyle   NaN\n",
       "5       2617       Haslem, Udonis   NaN\n",
       "6       2730       Howard, Dwight   NaN\n",
       "7       2738      Iguodala, Andre   NaN\n",
       "8       2747            Smith, JR   NaN\n",
       "9       2772        Ariza, Trevor   NaN\n",
       "10    201142                  NaN  27.0\n",
       "11    201935                  NaN  25.1\n",
       "12   1629029                  NaN  24.4\n",
       "13    203954                  NaN  24.1\n",
       "14    203076                  NaN  24.0\n",
       "15    203081                  NaN  24.0\n",
       "16   1629027                  NaN  23.6\n",
       "17   1629627                  NaN  23.6"
      ]
     },
     "execution_count": 42,
     "metadata": {},
     "output_type": "execute_result"
    }
   ],
   "source": [
    "pd.merge(left_df, right_df, left_on='personId', right_on='personId', how='outer')"
   ]
  },
  {
   "cell_type": "markdown",
   "metadata": {
    "slideshow": {
     "slide_type": "subslide"
    }
   },
   "source": [
    "## 使用 `IS NULL` 找出有遺漏的觀測值"
   ]
  },
  {
   "cell_type": "code",
   "execution_count": 43,
   "metadata": {},
   "outputs": [],
   "source": [
    "sql_query = \"\"\"\n",
    "SELECT veteran_players.personId,\n",
    "       veteran_players.temporaryDisplayName\n",
    "  FROM (SELECT personId,\n",
    "               temporaryDisplayName\n",
    "          FROM players\n",
    "         LIMIT 10) AS veteran_players\n",
    "  LEFT JOIN (SELECT personId,\n",
    "                    ppg\n",
    "               FROM careerSummaries\n",
    "              ORDER BY ppg DESC\n",
    "              LIMIT 10) AS top_scorers\n",
    "    ON veteran_players.personId = top_scorers.personId\n",
    " WHERE top_scorers.ppg IS NULL;\n",
    "\"\"\""
   ]
  },
  {
   "cell_type": "code",
   "execution_count": 44,
   "metadata": {
    "slideshow": {
     "slide_type": "subslide"
    }
   },
   "outputs": [
    {
     "data": {
      "text/html": [
       "<div>\n",
       "<style scoped>\n",
       "    .dataframe tbody tr th:only-of-type {\n",
       "        vertical-align: middle;\n",
       "    }\n",
       "\n",
       "    .dataframe tbody tr th {\n",
       "        vertical-align: top;\n",
       "    }\n",
       "\n",
       "    .dataframe thead th {\n",
       "        text-align: right;\n",
       "    }\n",
       "</style>\n",
       "<table border=\"1\" class=\"dataframe\">\n",
       "  <thead>\n",
       "    <tr style=\"text-align: right;\">\n",
       "      <th></th>\n",
       "      <th>personId</th>\n",
       "      <th>temporaryDisplayName</th>\n",
       "    </tr>\n",
       "  </thead>\n",
       "  <tbody>\n",
       "    <tr>\n",
       "      <th>0</th>\n",
       "      <td>1713</td>\n",
       "      <td>Carter, Vince</td>\n",
       "    </tr>\n",
       "    <tr>\n",
       "      <th>1</th>\n",
       "      <td>2199</td>\n",
       "      <td>Chandler, Tyson</td>\n",
       "    </tr>\n",
       "    <tr>\n",
       "      <th>2</th>\n",
       "      <td>2594</td>\n",
       "      <td>Korver, Kyle</td>\n",
       "    </tr>\n",
       "    <tr>\n",
       "      <th>3</th>\n",
       "      <td>2617</td>\n",
       "      <td>Haslem, Udonis</td>\n",
       "    </tr>\n",
       "    <tr>\n",
       "      <th>4</th>\n",
       "      <td>2730</td>\n",
       "      <td>Howard, Dwight</td>\n",
       "    </tr>\n",
       "    <tr>\n",
       "      <th>5</th>\n",
       "      <td>2738</td>\n",
       "      <td>Iguodala, Andre</td>\n",
       "    </tr>\n",
       "    <tr>\n",
       "      <th>6</th>\n",
       "      <td>2747</td>\n",
       "      <td>Smith, JR</td>\n",
       "    </tr>\n",
       "    <tr>\n",
       "      <th>7</th>\n",
       "      <td>2772</td>\n",
       "      <td>Ariza, Trevor</td>\n",
       "    </tr>\n",
       "  </tbody>\n",
       "</table>\n",
       "</div>"
      ],
      "text/plain": [
       "   personId temporaryDisplayName\n",
       "0      1713        Carter, Vince\n",
       "1      2199      Chandler, Tyson\n",
       "2      2594         Korver, Kyle\n",
       "3      2617       Haslem, Udonis\n",
       "4      2730       Howard, Dwight\n",
       "5      2738      Iguodala, Andre\n",
       "6      2747            Smith, JR\n",
       "7      2772        Ariza, Trevor"
      ]
     },
     "execution_count": 44,
     "metadata": {},
     "output_type": "execute_result"
    }
   ],
   "source": [
    "pd.read_sql(sql_query, conn)"
   ]
  },
  {
   "cell_type": "markdown",
   "metadata": {
    "slideshow": {
     "slide_type": "subslide"
    }
   },
   "source": [
    "## 關聯式模型定義了三種表格間的關係\n",
    "\n",
    "- 一對一\n",
    "- 一對多\n",
    "- 多對多"
   ]
  },
  {
   "cell_type": "code",
   "execution_count": 45,
   "metadata": {},
   "outputs": [],
   "source": [
    "sql_query = \"\"\"\n",
    "SELECT *\n",
    "  FROM players\n",
    "  JOIN careerSummaries\n",
    "    ON players.personId = careerSummaries.personId;\n",
    "\"\"\""
   ]
  },
  {
   "cell_type": "code",
   "execution_count": 46,
   "metadata": {
    "slideshow": {
     "slide_type": "subslide"
    }
   },
   "outputs": [
    {
     "data": {
      "text/html": [
       "<div>\n",
       "<style scoped>\n",
       "    .dataframe tbody tr th:only-of-type {\n",
       "        vertical-align: middle;\n",
       "    }\n",
       "\n",
       "    .dataframe tbody tr th {\n",
       "        vertical-align: top;\n",
       "    }\n",
       "\n",
       "    .dataframe thead th {\n",
       "        text-align: right;\n",
       "    }\n",
       "</style>\n",
       "<table border=\"1\" class=\"dataframe\">\n",
       "  <thead>\n",
       "    <tr style=\"text-align: right;\">\n",
       "      <th></th>\n",
       "      <th>firstName</th>\n",
       "      <th>lastName</th>\n",
       "      <th>temporaryDisplayName</th>\n",
       "      <th>personId</th>\n",
       "      <th>teamId</th>\n",
       "      <th>jersey</th>\n",
       "      <th>isActive</th>\n",
       "      <th>pos</th>\n",
       "      <th>heightFeet</th>\n",
       "      <th>heightInches</th>\n",
       "      <th>...</th>\n",
       "      <th>ftm</th>\n",
       "      <th>fta</th>\n",
       "      <th>pFouls</th>\n",
       "      <th>points</th>\n",
       "      <th>gamesPlayed</th>\n",
       "      <th>gamesStarted</th>\n",
       "      <th>plusMinus</th>\n",
       "      <th>min</th>\n",
       "      <th>dd2</th>\n",
       "      <th>td3</th>\n",
       "    </tr>\n",
       "  </thead>\n",
       "  <tbody>\n",
       "    <tr>\n",
       "      <th>0</th>\n",
       "      <td>Vince</td>\n",
       "      <td>Carter</td>\n",
       "      <td>Carter, Vince</td>\n",
       "      <td>1713</td>\n",
       "      <td>1610612737</td>\n",
       "      <td>15.0</td>\n",
       "      <td>True</td>\n",
       "      <td>G-F</td>\n",
       "      <td>6</td>\n",
       "      <td>6</td>\n",
       "      <td>...</td>\n",
       "      <td>4852.0</td>\n",
       "      <td>6082.0</td>\n",
       "      <td>3995.0</td>\n",
       "      <td>25728.0</td>\n",
       "      <td>1541.0</td>\n",
       "      <td>982.0</td>\n",
       "      <td>1816.0</td>\n",
       "      <td>46371.0</td>\n",
       "      <td>90.0</td>\n",
       "      <td>5.0</td>\n",
       "    </tr>\n",
       "    <tr>\n",
       "      <th>1</th>\n",
       "      <td>Tyson</td>\n",
       "      <td>Chandler</td>\n",
       "      <td>Chandler, Tyson</td>\n",
       "      <td>2199</td>\n",
       "      <td>1610612745</td>\n",
       "      <td>19.0</td>\n",
       "      <td>True</td>\n",
       "      <td>C</td>\n",
       "      <td>7</td>\n",
       "      <td>0</td>\n",
       "      <td>...</td>\n",
       "      <td>2393.0</td>\n",
       "      <td>3714.0</td>\n",
       "      <td>3268.0</td>\n",
       "      <td>9509.0</td>\n",
       "      <td>1160.0</td>\n",
       "      <td>886.0</td>\n",
       "      <td>325.0</td>\n",
       "      <td>31617.0</td>\n",
       "      <td>292.0</td>\n",
       "      <td>0.0</td>\n",
       "    </tr>\n",
       "    <tr>\n",
       "      <th>2</th>\n",
       "      <td>LeBron</td>\n",
       "      <td>James</td>\n",
       "      <td>James, LeBron</td>\n",
       "      <td>2544</td>\n",
       "      <td>1610612747</td>\n",
       "      <td>23.0</td>\n",
       "      <td>True</td>\n",
       "      <td>F</td>\n",
       "      <td>6</td>\n",
       "      <td>9</td>\n",
       "      <td>...</td>\n",
       "      <td>7379.0</td>\n",
       "      <td>10044.0</td>\n",
       "      <td>2313.0</td>\n",
       "      <td>34087.0</td>\n",
       "      <td>1258.0</td>\n",
       "      <td>1257.0</td>\n",
       "      <td>6887.0</td>\n",
       "      <td>48327.0</td>\n",
       "      <td>485.0</td>\n",
       "      <td>94.0</td>\n",
       "    </tr>\n",
       "    <tr>\n",
       "      <th>3</th>\n",
       "      <td>Carmelo</td>\n",
       "      <td>Anthony</td>\n",
       "      <td>Anthony, Carmelo</td>\n",
       "      <td>2546</td>\n",
       "      <td>1610612757</td>\n",
       "      <td>0.0</td>\n",
       "      <td>True</td>\n",
       "      <td>F</td>\n",
       "      <td>6</td>\n",
       "      <td>8</td>\n",
       "      <td>...</td>\n",
       "      <td>6028.0</td>\n",
       "      <td>7424.0</td>\n",
       "      <td>3204.0</td>\n",
       "      <td>26314.0</td>\n",
       "      <td>1114.0</td>\n",
       "      <td>1106.0</td>\n",
       "      <td>1614.0</td>\n",
       "      <td>39750.0</td>\n",
       "      <td>171.0</td>\n",
       "      <td>2.0</td>\n",
       "    </tr>\n",
       "    <tr>\n",
       "      <th>4</th>\n",
       "      <td>Kyle</td>\n",
       "      <td>Korver</td>\n",
       "      <td>Korver, Kyle</td>\n",
       "      <td>2594</td>\n",
       "      <td>1610612749</td>\n",
       "      <td>26.0</td>\n",
       "      <td>True</td>\n",
       "      <td>G-F</td>\n",
       "      <td>6</td>\n",
       "      <td>7</td>\n",
       "      <td>...</td>\n",
       "      <td>1290.0</td>\n",
       "      <td>1472.0</td>\n",
       "      <td>2512.0</td>\n",
       "      <td>11903.0</td>\n",
       "      <td>1224.0</td>\n",
       "      <td>422.0</td>\n",
       "      <td>2885.0</td>\n",
       "      <td>31056.0</td>\n",
       "      <td>7.0</td>\n",
       "      <td>0.0</td>\n",
       "    </tr>\n",
       "    <tr>\n",
       "      <th>...</th>\n",
       "      <td>...</td>\n",
       "      <td>...</td>\n",
       "      <td>...</td>\n",
       "      <td>...</td>\n",
       "      <td>...</td>\n",
       "      <td>...</td>\n",
       "      <td>...</td>\n",
       "      <td>...</td>\n",
       "      <td>...</td>\n",
       "      <td>...</td>\n",
       "      <td>...</td>\n",
       "      <td>...</td>\n",
       "      <td>...</td>\n",
       "      <td>...</td>\n",
       "      <td>...</td>\n",
       "      <td>...</td>\n",
       "      <td>...</td>\n",
       "      <td>...</td>\n",
       "      <td>...</td>\n",
       "      <td>...</td>\n",
       "      <td>...</td>\n",
       "    </tr>\n",
       "    <tr>\n",
       "      <th>499</th>\n",
       "      <td>Matt</td>\n",
       "      <td>Thomas</td>\n",
       "      <td>Thomas, Matt</td>\n",
       "      <td>1629744</td>\n",
       "      <td>1610612761</td>\n",
       "      <td>21.0</td>\n",
       "      <td>True</td>\n",
       "      <td>G</td>\n",
       "      <td>6</td>\n",
       "      <td>4</td>\n",
       "      <td>...</td>\n",
       "      <td>7.0</td>\n",
       "      <td>10.0</td>\n",
       "      <td>31.0</td>\n",
       "      <td>150.0</td>\n",
       "      <td>33.0</td>\n",
       "      <td>0.0</td>\n",
       "      <td>22.0</td>\n",
       "      <td>321.0</td>\n",
       "      <td>0.0</td>\n",
       "      <td>0.0</td>\n",
       "    </tr>\n",
       "    <tr>\n",
       "      <th>500</th>\n",
       "      <td>Tariq</td>\n",
       "      <td>Owens</td>\n",
       "      <td>Owens, Tariq</td>\n",
       "      <td>1629745</td>\n",
       "      <td>1610612756</td>\n",
       "      <td>41.0</td>\n",
       "      <td>True</td>\n",
       "      <td>F</td>\n",
       "      <td>6</td>\n",
       "      <td>10</td>\n",
       "      <td>...</td>\n",
       "      <td>2.0</td>\n",
       "      <td>2.0</td>\n",
       "      <td>1.0</td>\n",
       "      <td>4.0</td>\n",
       "      <td>3.0</td>\n",
       "      <td>0.0</td>\n",
       "      <td>-16.0</td>\n",
       "      <td>15.0</td>\n",
       "      <td>0.0</td>\n",
       "      <td>0.0</td>\n",
       "    </tr>\n",
       "    <tr>\n",
       "      <th>501</th>\n",
       "      <td>Javonte</td>\n",
       "      <td>Green</td>\n",
       "      <td>Green, Javonte</td>\n",
       "      <td>1629750</td>\n",
       "      <td>1610612738</td>\n",
       "      <td>43.0</td>\n",
       "      <td>True</td>\n",
       "      <td>G-F</td>\n",
       "      <td>6</td>\n",
       "      <td>4</td>\n",
       "      <td>...</td>\n",
       "      <td>23.0</td>\n",
       "      <td>36.0</td>\n",
       "      <td>37.0</td>\n",
       "      <td>127.0</td>\n",
       "      <td>44.0</td>\n",
       "      <td>1.0</td>\n",
       "      <td>-5.0</td>\n",
       "      <td>414.0</td>\n",
       "      <td>0.0</td>\n",
       "      <td>0.0</td>\n",
       "    </tr>\n",
       "    <tr>\n",
       "      <th>502</th>\n",
       "      <td>Juwan</td>\n",
       "      <td>Morgan</td>\n",
       "      <td>Morgan, Juwan</td>\n",
       "      <td>1629752</td>\n",
       "      <td>1610612762</td>\n",
       "      <td>16.0</td>\n",
       "      <td>True</td>\n",
       "      <td>F</td>\n",
       "      <td>6</td>\n",
       "      <td>7</td>\n",
       "      <td>...</td>\n",
       "      <td>0.0</td>\n",
       "      <td>0.0</td>\n",
       "      <td>7.0</td>\n",
       "      <td>19.0</td>\n",
       "      <td>16.0</td>\n",
       "      <td>0.0</td>\n",
       "      <td>19.0</td>\n",
       "      <td>73.0</td>\n",
       "      <td>0.0</td>\n",
       "      <td>0.0</td>\n",
       "    </tr>\n",
       "    <tr>\n",
       "      <th>503</th>\n",
       "      <td>Matt</td>\n",
       "      <td>Mooney</td>\n",
       "      <td>Mooney, Matt</td>\n",
       "      <td>1629760</td>\n",
       "      <td>1610612739</td>\n",
       "      <td>31.0</td>\n",
       "      <td>True</td>\n",
       "      <td>G</td>\n",
       "      <td>6</td>\n",
       "      <td>2</td>\n",
       "      <td>...</td>\n",
       "      <td>0.0</td>\n",
       "      <td>0.0</td>\n",
       "      <td>1.0</td>\n",
       "      <td>2.0</td>\n",
       "      <td>4.0</td>\n",
       "      <td>0.0</td>\n",
       "      <td>7.0</td>\n",
       "      <td>18.0</td>\n",
       "      <td>0.0</td>\n",
       "      <td>0.0</td>\n",
       "    </tr>\n",
       "  </tbody>\n",
       "</table>\n",
       "<p>504 rows × 51 columns</p>\n",
       "</div>"
      ],
      "text/plain": [
       "    firstName  lastName temporaryDisplayName  personId      teamId  jersey  \\\n",
       "0       Vince    Carter        Carter, Vince      1713  1610612737    15.0   \n",
       "1       Tyson  Chandler      Chandler, Tyson      2199  1610612745    19.0   \n",
       "2      LeBron     James        James, LeBron      2544  1610612747    23.0   \n",
       "3     Carmelo   Anthony     Anthony, Carmelo      2546  1610612757     0.0   \n",
       "4        Kyle    Korver         Korver, Kyle      2594  1610612749    26.0   \n",
       "..        ...       ...                  ...       ...         ...     ...   \n",
       "499      Matt    Thomas         Thomas, Matt   1629744  1610612761    21.0   \n",
       "500     Tariq     Owens         Owens, Tariq   1629745  1610612756    41.0   \n",
       "501   Javonte     Green       Green, Javonte   1629750  1610612738    43.0   \n",
       "502     Juwan    Morgan        Morgan, Juwan   1629752  1610612762    16.0   \n",
       "503      Matt    Mooney         Mooney, Matt   1629760  1610612739    31.0   \n",
       "\n",
       "    isActive  pos  heightFeet  heightInches  ...     ftm      fta  pFouls  \\\n",
       "0       True  G-F           6             6  ...  4852.0   6082.0  3995.0   \n",
       "1       True    C           7             0  ...  2393.0   3714.0  3268.0   \n",
       "2       True    F           6             9  ...  7379.0  10044.0  2313.0   \n",
       "3       True    F           6             8  ...  6028.0   7424.0  3204.0   \n",
       "4       True  G-F           6             7  ...  1290.0   1472.0  2512.0   \n",
       "..       ...  ...         ...           ...  ...     ...      ...     ...   \n",
       "499     True    G           6             4  ...     7.0     10.0    31.0   \n",
       "500     True    F           6            10  ...     2.0      2.0     1.0   \n",
       "501     True  G-F           6             4  ...    23.0     36.0    37.0   \n",
       "502     True    F           6             7  ...     0.0      0.0     7.0   \n",
       "503     True    G           6             2  ...     0.0      0.0     1.0   \n",
       "\n",
       "      points gamesPlayed  gamesStarted plusMinus      min    dd2   td3  \n",
       "0    25728.0      1541.0         982.0    1816.0  46371.0   90.0   5.0  \n",
       "1     9509.0      1160.0         886.0     325.0  31617.0  292.0   0.0  \n",
       "2    34087.0      1258.0        1257.0    6887.0  48327.0  485.0  94.0  \n",
       "3    26314.0      1114.0        1106.0    1614.0  39750.0  171.0   2.0  \n",
       "4    11903.0      1224.0         422.0    2885.0  31056.0    7.0   0.0  \n",
       "..       ...         ...           ...       ...      ...    ...   ...  \n",
       "499    150.0        33.0           0.0      22.0    321.0    0.0   0.0  \n",
       "500      4.0         3.0           0.0     -16.0     15.0    0.0   0.0  \n",
       "501    127.0        44.0           1.0      -5.0    414.0    0.0   0.0  \n",
       "502     19.0        16.0           0.0      19.0     73.0    0.0   0.0  \n",
       "503      2.0         4.0           0.0       7.0     18.0    0.0   0.0  \n",
       "\n",
       "[504 rows x 51 columns]"
      ]
     },
     "execution_count": 46,
     "metadata": {},
     "output_type": "execute_result"
    }
   ],
   "source": [
    "pd.read_sql(sql_query, conn)"
   ]
  },
  {
   "cell_type": "code",
   "execution_count": 47,
   "metadata": {
    "slideshow": {
     "slide_type": "subslide"
    }
   },
   "outputs": [
    {
     "data": {
      "text/html": [
       "<div>\n",
       "<style scoped>\n",
       "    .dataframe tbody tr th:only-of-type {\n",
       "        vertical-align: middle;\n",
       "    }\n",
       "\n",
       "    .dataframe tbody tr th {\n",
       "        vertical-align: top;\n",
       "    }\n",
       "\n",
       "    .dataframe thead th {\n",
       "        text-align: right;\n",
       "    }\n",
       "</style>\n",
       "<table border=\"1\" class=\"dataframe\">\n",
       "  <thead>\n",
       "    <tr style=\"text-align: right;\">\n",
       "      <th></th>\n",
       "      <th>isNBAFranchise</th>\n",
       "      <th>isAllStar</th>\n",
       "      <th>city</th>\n",
       "      <th>altCityName</th>\n",
       "      <th>fullName</th>\n",
       "      <th>tricode</th>\n",
       "      <th>teamId</th>\n",
       "      <th>nickname</th>\n",
       "      <th>urlName</th>\n",
       "      <th>teamShortName</th>\n",
       "      <th>confName</th>\n",
       "      <th>divName</th>\n",
       "      <th>personId</th>\n",
       "      <th>teamId</th>\n",
       "    </tr>\n",
       "  </thead>\n",
       "  <tbody>\n",
       "    <tr>\n",
       "      <th>0</th>\n",
       "      <td>True</td>\n",
       "      <td>False</td>\n",
       "      <td>Atlanta</td>\n",
       "      <td>Atlanta</td>\n",
       "      <td>Atlanta Hawks</td>\n",
       "      <td>ATL</td>\n",
       "      <td>1610612737</td>\n",
       "      <td>Hawks</td>\n",
       "      <td>hawks</td>\n",
       "      <td>Atlanta</td>\n",
       "      <td>East</td>\n",
       "      <td>Southeast</td>\n",
       "      <td>1713</td>\n",
       "      <td>1610612737</td>\n",
       "    </tr>\n",
       "    <tr>\n",
       "      <th>1</th>\n",
       "      <td>True</td>\n",
       "      <td>False</td>\n",
       "      <td>Houston</td>\n",
       "      <td>Houston</td>\n",
       "      <td>Houston Rockets</td>\n",
       "      <td>HOU</td>\n",
       "      <td>1610612745</td>\n",
       "      <td>Rockets</td>\n",
       "      <td>rockets</td>\n",
       "      <td>Houston</td>\n",
       "      <td>West</td>\n",
       "      <td>Southwest</td>\n",
       "      <td>2199</td>\n",
       "      <td>1610612745</td>\n",
       "    </tr>\n",
       "    <tr>\n",
       "      <th>2</th>\n",
       "      <td>True</td>\n",
       "      <td>False</td>\n",
       "      <td>Los Angeles</td>\n",
       "      <td>Los Angeles Lakers</td>\n",
       "      <td>Los Angeles Lakers</td>\n",
       "      <td>LAL</td>\n",
       "      <td>1610612747</td>\n",
       "      <td>Lakers</td>\n",
       "      <td>lakers</td>\n",
       "      <td>L.A. Lakers</td>\n",
       "      <td>West</td>\n",
       "      <td>Pacific</td>\n",
       "      <td>2544</td>\n",
       "      <td>1610612747</td>\n",
       "    </tr>\n",
       "    <tr>\n",
       "      <th>3</th>\n",
       "      <td>True</td>\n",
       "      <td>False</td>\n",
       "      <td>Portland</td>\n",
       "      <td>Portland</td>\n",
       "      <td>Portland Trail Blazers</td>\n",
       "      <td>POR</td>\n",
       "      <td>1610612757</td>\n",
       "      <td>Trail Blazers</td>\n",
       "      <td>blazers</td>\n",
       "      <td>Portland</td>\n",
       "      <td>West</td>\n",
       "      <td>Northwest</td>\n",
       "      <td>2546</td>\n",
       "      <td>1610612757</td>\n",
       "    </tr>\n",
       "    <tr>\n",
       "      <th>4</th>\n",
       "      <td>True</td>\n",
       "      <td>False</td>\n",
       "      <td>Milwaukee</td>\n",
       "      <td>Milwaukee</td>\n",
       "      <td>Milwaukee Bucks</td>\n",
       "      <td>MIL</td>\n",
       "      <td>1610612749</td>\n",
       "      <td>Bucks</td>\n",
       "      <td>bucks</td>\n",
       "      <td>Milwaukee</td>\n",
       "      <td>East</td>\n",
       "      <td>Central</td>\n",
       "      <td>2594</td>\n",
       "      <td>1610612749</td>\n",
       "    </tr>\n",
       "    <tr>\n",
       "      <th>...</th>\n",
       "      <td>...</td>\n",
       "      <td>...</td>\n",
       "      <td>...</td>\n",
       "      <td>...</td>\n",
       "      <td>...</td>\n",
       "      <td>...</td>\n",
       "      <td>...</td>\n",
       "      <td>...</td>\n",
       "      <td>...</td>\n",
       "      <td>...</td>\n",
       "      <td>...</td>\n",
       "      <td>...</td>\n",
       "      <td>...</td>\n",
       "      <td>...</td>\n",
       "    </tr>\n",
       "    <tr>\n",
       "      <th>499</th>\n",
       "      <td>True</td>\n",
       "      <td>False</td>\n",
       "      <td>Toronto</td>\n",
       "      <td>Toronto</td>\n",
       "      <td>Toronto Raptors</td>\n",
       "      <td>TOR</td>\n",
       "      <td>1610612761</td>\n",
       "      <td>Raptors</td>\n",
       "      <td>raptors</td>\n",
       "      <td>Toronto</td>\n",
       "      <td>East</td>\n",
       "      <td>Atlantic</td>\n",
       "      <td>1629744</td>\n",
       "      <td>1610612761</td>\n",
       "    </tr>\n",
       "    <tr>\n",
       "      <th>500</th>\n",
       "      <td>True</td>\n",
       "      <td>False</td>\n",
       "      <td>Phoenix</td>\n",
       "      <td>Phoenix</td>\n",
       "      <td>Phoenix Suns</td>\n",
       "      <td>PHX</td>\n",
       "      <td>1610612756</td>\n",
       "      <td>Suns</td>\n",
       "      <td>suns</td>\n",
       "      <td>Phoenix</td>\n",
       "      <td>West</td>\n",
       "      <td>Pacific</td>\n",
       "      <td>1629745</td>\n",
       "      <td>1610612756</td>\n",
       "    </tr>\n",
       "    <tr>\n",
       "      <th>501</th>\n",
       "      <td>True</td>\n",
       "      <td>False</td>\n",
       "      <td>Boston</td>\n",
       "      <td>Boston</td>\n",
       "      <td>Boston Celtics</td>\n",
       "      <td>BOS</td>\n",
       "      <td>1610612738</td>\n",
       "      <td>Celtics</td>\n",
       "      <td>celtics</td>\n",
       "      <td>Boston</td>\n",
       "      <td>East</td>\n",
       "      <td>Atlantic</td>\n",
       "      <td>1629750</td>\n",
       "      <td>1610612738</td>\n",
       "    </tr>\n",
       "    <tr>\n",
       "      <th>502</th>\n",
       "      <td>True</td>\n",
       "      <td>False</td>\n",
       "      <td>Utah</td>\n",
       "      <td>Utah</td>\n",
       "      <td>Utah Jazz</td>\n",
       "      <td>UTA</td>\n",
       "      <td>1610612762</td>\n",
       "      <td>Jazz</td>\n",
       "      <td>jazz</td>\n",
       "      <td>Utah</td>\n",
       "      <td>West</td>\n",
       "      <td>Northwest</td>\n",
       "      <td>1629752</td>\n",
       "      <td>1610612762</td>\n",
       "    </tr>\n",
       "    <tr>\n",
       "      <th>503</th>\n",
       "      <td>True</td>\n",
       "      <td>False</td>\n",
       "      <td>Cleveland</td>\n",
       "      <td>Cleveland</td>\n",
       "      <td>Cleveland Cavaliers</td>\n",
       "      <td>CLE</td>\n",
       "      <td>1610612739</td>\n",
       "      <td>Cavaliers</td>\n",
       "      <td>cavaliers</td>\n",
       "      <td>Cleveland</td>\n",
       "      <td>East</td>\n",
       "      <td>Central</td>\n",
       "      <td>1629760</td>\n",
       "      <td>1610612739</td>\n",
       "    </tr>\n",
       "  </tbody>\n",
       "</table>\n",
       "<p>504 rows × 14 columns</p>\n",
       "</div>"
      ],
      "text/plain": [
       "    isNBAFranchise isAllStar         city         altCityName  \\\n",
       "0             True     False      Atlanta             Atlanta   \n",
       "1             True     False      Houston             Houston   \n",
       "2             True     False  Los Angeles  Los Angeles Lakers   \n",
       "3             True     False     Portland            Portland   \n",
       "4             True     False    Milwaukee           Milwaukee   \n",
       "..             ...       ...          ...                 ...   \n",
       "499           True     False      Toronto             Toronto   \n",
       "500           True     False      Phoenix             Phoenix   \n",
       "501           True     False       Boston              Boston   \n",
       "502           True     False         Utah                Utah   \n",
       "503           True     False    Cleveland           Cleveland   \n",
       "\n",
       "                   fullName tricode      teamId       nickname    urlName  \\\n",
       "0             Atlanta Hawks     ATL  1610612737          Hawks      hawks   \n",
       "1           Houston Rockets     HOU  1610612745        Rockets    rockets   \n",
       "2        Los Angeles Lakers     LAL  1610612747         Lakers     lakers   \n",
       "3    Portland Trail Blazers     POR  1610612757  Trail Blazers    blazers   \n",
       "4           Milwaukee Bucks     MIL  1610612749          Bucks      bucks   \n",
       "..                      ...     ...         ...            ...        ...   \n",
       "499         Toronto Raptors     TOR  1610612761        Raptors    raptors   \n",
       "500            Phoenix Suns     PHX  1610612756           Suns       suns   \n",
       "501          Boston Celtics     BOS  1610612738        Celtics    celtics   \n",
       "502               Utah Jazz     UTA  1610612762           Jazz       jazz   \n",
       "503     Cleveland Cavaliers     CLE  1610612739      Cavaliers  cavaliers   \n",
       "\n",
       "    teamShortName confName    divName  personId      teamId  \n",
       "0         Atlanta     East  Southeast      1713  1610612737  \n",
       "1         Houston     West  Southwest      2199  1610612745  \n",
       "2     L.A. Lakers     West    Pacific      2544  1610612747  \n",
       "3        Portland     West  Northwest      2546  1610612757  \n",
       "4       Milwaukee     East    Central      2594  1610612749  \n",
       "..            ...      ...        ...       ...         ...  \n",
       "499       Toronto     East   Atlantic   1629744  1610612761  \n",
       "500       Phoenix     West    Pacific   1629745  1610612756  \n",
       "501        Boston     East   Atlantic   1629750  1610612738  \n",
       "502          Utah     West  Northwest   1629752  1610612762  \n",
       "503     Cleveland     East    Central   1629760  1610612739  \n",
       "\n",
       "[504 rows x 14 columns]"
      ]
     },
     "execution_count": 47,
     "metadata": {},
     "output_type": "execute_result"
    }
   ],
   "source": [
    "sql_query = \"\"\"\n",
    "SELECT *\n",
    "  FROM teams\n",
    "  JOIN rosters\n",
    "    ON teams.teamId = rosters.teamId;\n",
    "\"\"\"\n",
    "pd.read_sql(sql_query, conn)"
   ]
  },
  {
   "cell_type": "markdown",
   "metadata": {
    "slideshow": {
     "slide_type": "subslide"
    }
   },
   "source": [
    "## 表格聯結就如同水平合併\n",
    "\n",
    "![Imgur](https://i.imgur.com/hq7fS67.png)\n",
    "\n",
    "Source: [Pandas User Guide](https://pandas.pydata.org/pandas-docs/stable/user_guide/merging.html)"
   ]
  },
  {
   "cell_type": "markdown",
   "metadata": {
    "slideshow": {
     "slide_type": "subslide"
    }
   },
   "source": [
    "## 也能透過 `UNION` 垂直合併表格\n",
    "\n",
    "![Imgur](https://i.imgur.com/B7xawvp.png)\n",
    "\n",
    "Source: [Pandas User Guide](https://pandas.pydata.org/pandas-docs/stable/user_guide/merging.html)"
   ]
  },
  {
   "cell_type": "code",
   "execution_count": 48,
   "metadata": {
    "slideshow": {
     "slide_type": "subslide"
    }
   },
   "outputs": [],
   "source": [
    "sql_query = \"\"\"\n",
    "SELECT firstName,\n",
    "       lastName,\n",
    "       'height' AS category,\n",
    "       heightmeters AS value\n",
    "  FROM players\n",
    " WHERE firstName = 'LeBron'\n",
    " UNION\n",
    "SELECT firstName,\n",
    "       lastName,\n",
    "       'weight' AS category,\n",
    "       weightKilograms AS value\n",
    "  FROM players\n",
    " WHERE firstName = 'LeBron';\n",
    "\"\"\""
   ]
  },
  {
   "cell_type": "code",
   "execution_count": 49,
   "metadata": {
    "slideshow": {
     "slide_type": "subslide"
    }
   },
   "outputs": [
    {
     "data": {
      "text/html": [
       "<div>\n",
       "<style scoped>\n",
       "    .dataframe tbody tr th:only-of-type {\n",
       "        vertical-align: middle;\n",
       "    }\n",
       "\n",
       "    .dataframe tbody tr th {\n",
       "        vertical-align: top;\n",
       "    }\n",
       "\n",
       "    .dataframe thead th {\n",
       "        text-align: right;\n",
       "    }\n",
       "</style>\n",
       "<table border=\"1\" class=\"dataframe\">\n",
       "  <thead>\n",
       "    <tr style=\"text-align: right;\">\n",
       "      <th></th>\n",
       "      <th>firstName</th>\n",
       "      <th>lastName</th>\n",
       "      <th>category</th>\n",
       "      <th>value</th>\n",
       "    </tr>\n",
       "  </thead>\n",
       "  <tbody>\n",
       "    <tr>\n",
       "      <th>0</th>\n",
       "      <td>LeBron</td>\n",
       "      <td>James</td>\n",
       "      <td>height</td>\n",
       "      <td>2.06</td>\n",
       "    </tr>\n",
       "    <tr>\n",
       "      <th>1</th>\n",
       "      <td>LeBron</td>\n",
       "      <td>James</td>\n",
       "      <td>weight</td>\n",
       "      <td>113.40</td>\n",
       "    </tr>\n",
       "  </tbody>\n",
       "</table>\n",
       "</div>"
      ],
      "text/plain": [
       "  firstName lastName category   value\n",
       "0    LeBron    James   height    2.06\n",
       "1    LeBron    James   weight  113.40"
      ]
     },
     "execution_count": 49,
     "metadata": {},
     "output_type": "execute_result"
    }
   ],
   "source": [
    "pd.read_sql(sql_query, conn)"
   ]
  },
  {
   "cell_type": "markdown",
   "metadata": {
    "slideshow": {
     "slide_type": "subslide"
    }
   },
   "source": [
    "## 這是目前涵蓋的查詢保留字\n",
    "\n",
    "使用 SQL 語法時，保留字順序必須要遵守。\n",
    "\n",
    "```sql\n",
    "SELECT DISTINCT CAST(column_name AS data_type) AS alias_name\n",
    "  FROM table_name\n",
    "  JOIN table_name\n",
    "    ON table_name.pk = table_name.fk\n",
    " WHERE conditions\n",
    " GROUP BY column_name\n",
    "HAVING conditions\n",
    " ORDER BY column_name\n",
    " LIMIT n_obs DESC\n",
    "UNION;\n",
    "```"
   ]
  },
  {
   "cell_type": "markdown",
   "metadata": {
    "slideshow": {
     "slide_type": "subslide"
    }
   },
   "source": [
    "## 前往資料分析：隨堂練習\n",
    "\n",
    "[資料分析：隨堂練習](https://mybinder.org/v2/gh/yaojenkuo/introduction-to-sql/master?filepath=03-exercises.ipynb)"
   ]
  }
 ],
 "metadata": {
  "celltoolbar": "Slideshow",
  "kernelspec": {
   "display_name": "Python Data Analysis",
   "language": "python",
   "name": "pyda"
  },
  "language_info": {
   "codemirror_mode": {
    "name": "ipython",
    "version": 3
   },
   "file_extension": ".py",
   "mimetype": "text/x-python",
   "name": "python",
   "nbconvert_exporter": "python",
   "pygments_lexer": "ipython3",
   "version": "3.6.8"
  }
 },
 "nbformat": 4,
 "nbformat_minor": 4
}
