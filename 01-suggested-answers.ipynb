{
 "cells": [
  {
   "cell_type": "markdown",
   "metadata": {
    "slideshow": {
     "slide_type": "slide"
    }
   },
   "source": [
    "# SQL 語法入門\n",
    "\n",
    "> 快速啟動：隨堂練習參考解答\n",
    "\n",
    "郭耀仁"
   ]
  },
  {
   "cell_type": "code",
   "execution_count": 1,
   "metadata": {
    "slideshow": {
     "slide_type": "subslide"
    }
   },
   "outputs": [],
   "source": [
    "import sqlite3\n",
    "import pandas as pd\n",
    "from sqlFrameCheck import checkAnsQuery\n",
    "from test_queries.test_queries_01 import extract_test_queries as etq\n",
    "\n",
    "conn_twelection = sqlite3.connect('twelection.db')"
   ]
  },
  {
   "cell_type": "markdown",
   "metadata": {
    "slideshow": {
     "slide_type": "slide"
    }
   },
   "source": [
    "## 隨堂練習：由 `sqlite_master` 表格中選擇 `type` 與 `name` 這兩個欄位暸解 `twelection.db` 中有哪些表格"
   ]
  },
  {
   "cell_type": "code",
   "execution_count": 2,
   "metadata": {},
   "outputs": [
    {
     "data": {
      "text/html": [
       "<div>\n",
       "<style scoped>\n",
       "    .dataframe tbody tr th:only-of-type {\n",
       "        vertical-align: middle;\n",
       "    }\n",
       "\n",
       "    .dataframe tbody tr th {\n",
       "        vertical-align: top;\n",
       "    }\n",
       "\n",
       "    .dataframe thead th {\n",
       "        text-align: right;\n",
       "    }\n",
       "</style>\n",
       "<table border=\"1\" class=\"dataframe\">\n",
       "  <thead>\n",
       "    <tr style=\"text-align: right;\">\n",
       "      <th></th>\n",
       "      <th>type</th>\n",
       "      <th>name</th>\n",
       "    </tr>\n",
       "  </thead>\n",
       "  <tbody>\n",
       "    <tr>\n",
       "      <th>0</th>\n",
       "      <td>table</td>\n",
       "      <td>presidential2016</td>\n",
       "    </tr>\n",
       "    <tr>\n",
       "      <th>1</th>\n",
       "      <td>table</td>\n",
       "      <td>presidential2020</td>\n",
       "    </tr>\n",
       "  </tbody>\n",
       "</table>\n",
       "</div>"
      ],
      "text/plain": [
       "    type              name\n",
       "0  table  presidential2016\n",
       "1  table  presidential2020"
      ]
     },
     "execution_count": 2,
     "metadata": {},
     "output_type": "execute_result"
    }
   ],
   "source": [
    "ans_query = \"\"\"\n",
    "SELECT type,\n",
    "       name\n",
    "  FROM sqlite_master;\n",
    "\"\"\"\n",
    "# 試跑看看結果\n",
    "pd.read_sql(ans_query, conn_twelection)"
   ]
  },
  {
   "cell_type": "markdown",
   "metadata": {
    "slideshow": {
     "slide_type": "subslide"
    }
   },
   "source": [
    "## 測資比對"
   ]
  },
  {
   "cell_type": "code",
   "execution_count": 3,
   "metadata": {},
   "outputs": [
    {
     "name": "stdout",
     "output_type": "stream",
     "text": [
      "測資比對正確！\n"
     ]
    }
   ],
   "source": [
    "caq = checkAnsQuery(etq('0101'), ans_query, conn_twelection)\n",
    "caq.run_test()"
   ]
  },
  {
   "cell_type": "markdown",
   "metadata": {
    "slideshow": {
     "slide_type": "slide"
    }
   },
   "source": [
    "## 隨堂練習：使用 `PRAGMA` 指令與 `TABLE_INFO()` 函式暸解 `presidential2020` 中有哪些欄位"
   ]
  },
  {
   "cell_type": "code",
   "execution_count": 4,
   "metadata": {},
   "outputs": [
    {
     "data": {
      "text/html": [
       "<div>\n",
       "<style scoped>\n",
       "    .dataframe tbody tr th:only-of-type {\n",
       "        vertical-align: middle;\n",
       "    }\n",
       "\n",
       "    .dataframe tbody tr th {\n",
       "        vertical-align: top;\n",
       "    }\n",
       "\n",
       "    .dataframe thead th {\n",
       "        text-align: right;\n",
       "    }\n",
       "</style>\n",
       "<table border=\"1\" class=\"dataframe\">\n",
       "  <thead>\n",
       "    <tr style=\"text-align: right;\">\n",
       "      <th></th>\n",
       "      <th>cid</th>\n",
       "      <th>name</th>\n",
       "      <th>type</th>\n",
       "      <th>notnull</th>\n",
       "      <th>dflt_value</th>\n",
       "      <th>pk</th>\n",
       "    </tr>\n",
       "  </thead>\n",
       "  <tbody>\n",
       "    <tr>\n",
       "      <th>0</th>\n",
       "      <td>0</td>\n",
       "      <td>county</td>\n",
       "      <td>TEXT</td>\n",
       "      <td>0</td>\n",
       "      <td>None</td>\n",
       "      <td>0</td>\n",
       "    </tr>\n",
       "    <tr>\n",
       "      <th>1</th>\n",
       "      <td>1</td>\n",
       "      <td>town</td>\n",
       "      <td>TEXT</td>\n",
       "      <td>0</td>\n",
       "      <td>None</td>\n",
       "      <td>0</td>\n",
       "    </tr>\n",
       "    <tr>\n",
       "      <th>2</th>\n",
       "      <td>2</td>\n",
       "      <td>village</td>\n",
       "      <td>TEXT</td>\n",
       "      <td>0</td>\n",
       "      <td>None</td>\n",
       "      <td>0</td>\n",
       "    </tr>\n",
       "    <tr>\n",
       "      <th>3</th>\n",
       "      <td>3</td>\n",
       "      <td>office</td>\n",
       "      <td>INTEGER</td>\n",
       "      <td>0</td>\n",
       "      <td>None</td>\n",
       "      <td>0</td>\n",
       "    </tr>\n",
       "    <tr>\n",
       "      <th>4</th>\n",
       "      <td>4</td>\n",
       "      <td>number</td>\n",
       "      <td>INTEGER</td>\n",
       "      <td>0</td>\n",
       "      <td>None</td>\n",
       "      <td>0</td>\n",
       "    </tr>\n",
       "    <tr>\n",
       "      <th>5</th>\n",
       "      <td>5</td>\n",
       "      <td>candidates</td>\n",
       "      <td>TEXT</td>\n",
       "      <td>0</td>\n",
       "      <td>None</td>\n",
       "      <td>0</td>\n",
       "    </tr>\n",
       "    <tr>\n",
       "      <th>6</th>\n",
       "      <td>6</td>\n",
       "      <td>votes</td>\n",
       "      <td>INTEGER</td>\n",
       "      <td>0</td>\n",
       "      <td>None</td>\n",
       "      <td>0</td>\n",
       "    </tr>\n",
       "  </tbody>\n",
       "</table>\n",
       "</div>"
      ],
      "text/plain": [
       "   cid        name     type  notnull dflt_value  pk\n",
       "0    0      county     TEXT        0       None   0\n",
       "1    1        town     TEXT        0       None   0\n",
       "2    2     village     TEXT        0       None   0\n",
       "3    3      office  INTEGER        0       None   0\n",
       "4    4      number  INTEGER        0       None   0\n",
       "5    5  candidates     TEXT        0       None   0\n",
       "6    6       votes  INTEGER        0       None   0"
      ]
     },
     "execution_count": 4,
     "metadata": {},
     "output_type": "execute_result"
    }
   ],
   "source": [
    "ans_query = \"\"\"\n",
    "PRAGMA TABLE_INFO(presidential2020);\n",
    "\"\"\"\n",
    "# 試跑看看結果\n",
    "pd.read_sql(ans_query, conn_twelection)"
   ]
  },
  {
   "cell_type": "markdown",
   "metadata": {
    "slideshow": {
     "slide_type": "subslide"
    }
   },
   "source": [
    "## 測資比對"
   ]
  },
  {
   "cell_type": "code",
   "execution_count": 5,
   "metadata": {},
   "outputs": [
    {
     "name": "stdout",
     "output_type": "stream",
     "text": [
      "測資比對正確！\n"
     ]
    }
   ],
   "source": [
    "caq = checkAnsQuery(etq('0102'), ans_query, conn_twelection)\n",
    "caq.run_test()"
   ]
  },
  {
   "cell_type": "markdown",
   "metadata": {
    "slideshow": {
     "slide_type": "slide"
    }
   },
   "source": [
    "## 隨堂練習：使用 `SELECT *` 將 `presidential2020` 中有哪些資料都查詢出來"
   ]
  },
  {
   "cell_type": "code",
   "execution_count": 6,
   "metadata": {},
   "outputs": [
    {
     "data": {
      "text/html": [
       "<div>\n",
       "<style scoped>\n",
       "    .dataframe tbody tr th:only-of-type {\n",
       "        vertical-align: middle;\n",
       "    }\n",
       "\n",
       "    .dataframe tbody tr th {\n",
       "        vertical-align: top;\n",
       "    }\n",
       "\n",
       "    .dataframe thead th {\n",
       "        text-align: right;\n",
       "    }\n",
       "</style>\n",
       "<table border=\"1\" class=\"dataframe\">\n",
       "  <thead>\n",
       "    <tr style=\"text-align: right;\">\n",
       "      <th></th>\n",
       "      <th>county</th>\n",
       "      <th>town</th>\n",
       "      <th>village</th>\n",
       "      <th>office</th>\n",
       "      <th>number</th>\n",
       "      <th>candidates</th>\n",
       "      <th>votes</th>\n",
       "    </tr>\n",
       "  </thead>\n",
       "  <tbody>\n",
       "    <tr>\n",
       "      <th>0</th>\n",
       "      <td>南投縣</td>\n",
       "      <td>中寮鄉</td>\n",
       "      <td>中寮村</td>\n",
       "      <td>366</td>\n",
       "      <td>1</td>\n",
       "      <td>宋楚瑜/余湘</td>\n",
       "      <td>18</td>\n",
       "    </tr>\n",
       "    <tr>\n",
       "      <th>1</th>\n",
       "      <td>南投縣</td>\n",
       "      <td>中寮鄉</td>\n",
       "      <td>中寮村</td>\n",
       "      <td>366</td>\n",
       "      <td>2</td>\n",
       "      <td>韓國瑜/張善政</td>\n",
       "      <td>217</td>\n",
       "    </tr>\n",
       "    <tr>\n",
       "      <th>2</th>\n",
       "      <td>南投縣</td>\n",
       "      <td>中寮鄉</td>\n",
       "      <td>中寮村</td>\n",
       "      <td>366</td>\n",
       "      <td>3</td>\n",
       "      <td>蔡英文/賴清德</td>\n",
       "      <td>208</td>\n",
       "    </tr>\n",
       "    <tr>\n",
       "      <th>3</th>\n",
       "      <td>南投縣</td>\n",
       "      <td>中寮鄉</td>\n",
       "      <td>內城村</td>\n",
       "      <td>373</td>\n",
       "      <td>1</td>\n",
       "      <td>宋楚瑜/余湘</td>\n",
       "      <td>17</td>\n",
       "    </tr>\n",
       "    <tr>\n",
       "      <th>4</th>\n",
       "      <td>南投縣</td>\n",
       "      <td>中寮鄉</td>\n",
       "      <td>內城村</td>\n",
       "      <td>373</td>\n",
       "      <td>2</td>\n",
       "      <td>韓國瑜/張善政</td>\n",
       "      <td>141</td>\n",
       "    </tr>\n",
       "    <tr>\n",
       "      <th>...</th>\n",
       "      <td>...</td>\n",
       "      <td>...</td>\n",
       "      <td>...</td>\n",
       "      <td>...</td>\n",
       "      <td>...</td>\n",
       "      <td>...</td>\n",
       "      <td>...</td>\n",
       "    </tr>\n",
       "    <tr>\n",
       "      <th>51673</th>\n",
       "      <td>高雄市</td>\n",
       "      <td>鼓山區</td>\n",
       "      <td>龍水里</td>\n",
       "      <td>1268</td>\n",
       "      <td>2</td>\n",
       "      <td>韓國瑜/張善政</td>\n",
       "      <td>477</td>\n",
       "    </tr>\n",
       "    <tr>\n",
       "      <th>51674</th>\n",
       "      <td>高雄市</td>\n",
       "      <td>鼓山區</td>\n",
       "      <td>龍水里</td>\n",
       "      <td>1268</td>\n",
       "      <td>3</td>\n",
       "      <td>蔡英文/賴清德</td>\n",
       "      <td>647</td>\n",
       "    </tr>\n",
       "    <tr>\n",
       "      <th>51675</th>\n",
       "      <td>高雄市</td>\n",
       "      <td>鼓山區</td>\n",
       "      <td>龍水里</td>\n",
       "      <td>1269</td>\n",
       "      <td>1</td>\n",
       "      <td>宋楚瑜/余湘</td>\n",
       "      <td>39</td>\n",
       "    </tr>\n",
       "    <tr>\n",
       "      <th>51676</th>\n",
       "      <td>高雄市</td>\n",
       "      <td>鼓山區</td>\n",
       "      <td>龍水里</td>\n",
       "      <td>1269</td>\n",
       "      <td>2</td>\n",
       "      <td>韓國瑜/張善政</td>\n",
       "      <td>520</td>\n",
       "    </tr>\n",
       "    <tr>\n",
       "      <th>51677</th>\n",
       "      <td>高雄市</td>\n",
       "      <td>鼓山區</td>\n",
       "      <td>龍水里</td>\n",
       "      <td>1269</td>\n",
       "      <td>3</td>\n",
       "      <td>蔡英文/賴清德</td>\n",
       "      <td>673</td>\n",
       "    </tr>\n",
       "  </tbody>\n",
       "</table>\n",
       "<p>51678 rows × 7 columns</p>\n",
       "</div>"
      ],
      "text/plain": [
       "      county town village  office  number candidates  votes\n",
       "0        南投縣  中寮鄉     中寮村     366       1     宋楚瑜/余湘     18\n",
       "1        南投縣  中寮鄉     中寮村     366       2    韓國瑜/張善政    217\n",
       "2        南投縣  中寮鄉     中寮村     366       3    蔡英文/賴清德    208\n",
       "3        南投縣  中寮鄉     內城村     373       1     宋楚瑜/余湘     17\n",
       "4        南投縣  中寮鄉     內城村     373       2    韓國瑜/張善政    141\n",
       "...      ...  ...     ...     ...     ...        ...    ...\n",
       "51673    高雄市  鼓山區     龍水里    1268       2    韓國瑜/張善政    477\n",
       "51674    高雄市  鼓山區     龍水里    1268       3    蔡英文/賴清德    647\n",
       "51675    高雄市  鼓山區     龍水里    1269       1     宋楚瑜/余湘     39\n",
       "51676    高雄市  鼓山區     龍水里    1269       2    韓國瑜/張善政    520\n",
       "51677    高雄市  鼓山區     龍水里    1269       3    蔡英文/賴清德    673\n",
       "\n",
       "[51678 rows x 7 columns]"
      ]
     },
     "execution_count": 6,
     "metadata": {},
     "output_type": "execute_result"
    }
   ],
   "source": [
    "ans_query = \"\"\"\n",
    "SELECT * \n",
    "  FROM presidential2020;\n",
    "\"\"\"\n",
    "# 試跑看看結果\n",
    "pd.read_sql(ans_query, conn_twelection)"
   ]
  },
  {
   "cell_type": "markdown",
   "metadata": {
    "slideshow": {
     "slide_type": "subslide"
    }
   },
   "source": [
    "## 測資比對"
   ]
  },
  {
   "cell_type": "code",
   "execution_count": 7,
   "metadata": {},
   "outputs": [
    {
     "name": "stdout",
     "output_type": "stream",
     "text": [
      "測資比對正確！\n"
     ]
    }
   ],
   "source": [
    "caq = checkAnsQuery(etq('0103'), ans_query, conn_twelection)\n",
    "caq.run_test()"
   ]
  },
  {
   "cell_type": "markdown",
   "metadata": {
    "slideshow": {
     "slide_type": "slide"
    }
   },
   "source": [
    "## 隨堂練習：使用 `SELECT ` 將 `presidential2020` 表格中的 `county`、`town` 與 `village` 三個欄位選擇出來"
   ]
  },
  {
   "cell_type": "code",
   "execution_count": 8,
   "metadata": {},
   "outputs": [
    {
     "data": {
      "text/html": [
       "<div>\n",
       "<style scoped>\n",
       "    .dataframe tbody tr th:only-of-type {\n",
       "        vertical-align: middle;\n",
       "    }\n",
       "\n",
       "    .dataframe tbody tr th {\n",
       "        vertical-align: top;\n",
       "    }\n",
       "\n",
       "    .dataframe thead th {\n",
       "        text-align: right;\n",
       "    }\n",
       "</style>\n",
       "<table border=\"1\" class=\"dataframe\">\n",
       "  <thead>\n",
       "    <tr style=\"text-align: right;\">\n",
       "      <th></th>\n",
       "      <th>county</th>\n",
       "      <th>town</th>\n",
       "      <th>village</th>\n",
       "    </tr>\n",
       "  </thead>\n",
       "  <tbody>\n",
       "    <tr>\n",
       "      <th>0</th>\n",
       "      <td>南投縣</td>\n",
       "      <td>中寮鄉</td>\n",
       "      <td>中寮村</td>\n",
       "    </tr>\n",
       "    <tr>\n",
       "      <th>1</th>\n",
       "      <td>南投縣</td>\n",
       "      <td>中寮鄉</td>\n",
       "      <td>中寮村</td>\n",
       "    </tr>\n",
       "    <tr>\n",
       "      <th>2</th>\n",
       "      <td>南投縣</td>\n",
       "      <td>中寮鄉</td>\n",
       "      <td>中寮村</td>\n",
       "    </tr>\n",
       "    <tr>\n",
       "      <th>3</th>\n",
       "      <td>南投縣</td>\n",
       "      <td>中寮鄉</td>\n",
       "      <td>內城村</td>\n",
       "    </tr>\n",
       "    <tr>\n",
       "      <th>4</th>\n",
       "      <td>南投縣</td>\n",
       "      <td>中寮鄉</td>\n",
       "      <td>內城村</td>\n",
       "    </tr>\n",
       "    <tr>\n",
       "      <th>...</th>\n",
       "      <td>...</td>\n",
       "      <td>...</td>\n",
       "      <td>...</td>\n",
       "    </tr>\n",
       "    <tr>\n",
       "      <th>51673</th>\n",
       "      <td>高雄市</td>\n",
       "      <td>鼓山區</td>\n",
       "      <td>龍水里</td>\n",
       "    </tr>\n",
       "    <tr>\n",
       "      <th>51674</th>\n",
       "      <td>高雄市</td>\n",
       "      <td>鼓山區</td>\n",
       "      <td>龍水里</td>\n",
       "    </tr>\n",
       "    <tr>\n",
       "      <th>51675</th>\n",
       "      <td>高雄市</td>\n",
       "      <td>鼓山區</td>\n",
       "      <td>龍水里</td>\n",
       "    </tr>\n",
       "    <tr>\n",
       "      <th>51676</th>\n",
       "      <td>高雄市</td>\n",
       "      <td>鼓山區</td>\n",
       "      <td>龍水里</td>\n",
       "    </tr>\n",
       "    <tr>\n",
       "      <th>51677</th>\n",
       "      <td>高雄市</td>\n",
       "      <td>鼓山區</td>\n",
       "      <td>龍水里</td>\n",
       "    </tr>\n",
       "  </tbody>\n",
       "</table>\n",
       "<p>51678 rows × 3 columns</p>\n",
       "</div>"
      ],
      "text/plain": [
       "      county town village\n",
       "0        南投縣  中寮鄉     中寮村\n",
       "1        南投縣  中寮鄉     中寮村\n",
       "2        南投縣  中寮鄉     中寮村\n",
       "3        南投縣  中寮鄉     內城村\n",
       "4        南投縣  中寮鄉     內城村\n",
       "...      ...  ...     ...\n",
       "51673    高雄市  鼓山區     龍水里\n",
       "51674    高雄市  鼓山區     龍水里\n",
       "51675    高雄市  鼓山區     龍水里\n",
       "51676    高雄市  鼓山區     龍水里\n",
       "51677    高雄市  鼓山區     龍水里\n",
       "\n",
       "[51678 rows x 3 columns]"
      ]
     },
     "execution_count": 8,
     "metadata": {},
     "output_type": "execute_result"
    }
   ],
   "source": [
    "ans_query = \"\"\"\n",
    "SELECT county,\n",
    "       town,\n",
    "       village\n",
    "  FROM presidential2020;\n",
    "\"\"\"\n",
    "# 試跑看看結果\n",
    "pd.read_sql(ans_query, conn_twelection)"
   ]
  },
  {
   "cell_type": "markdown",
   "metadata": {
    "slideshow": {
     "slide_type": "subslide"
    }
   },
   "source": [
    "## 測資比對"
   ]
  },
  {
   "cell_type": "code",
   "execution_count": 9,
   "metadata": {},
   "outputs": [
    {
     "name": "stdout",
     "output_type": "stream",
     "text": [
      "測資比對正確！\n"
     ]
    }
   ],
   "source": [
    "caq = checkAnsQuery(etq('0104'), ans_query, conn_twelection)\n",
    "caq.run_test()"
   ]
  },
  {
   "cell_type": "markdown",
   "metadata": {
    "slideshow": {
     "slide_type": "slide"
    }
   },
   "source": [
    "## 隨堂練習：使用 `DISTINCT ` 檢視 `presidential2020` 表格中的 `candidates` 有幾組候選人參選"
   ]
  },
  {
   "cell_type": "code",
   "execution_count": 10,
   "metadata": {},
   "outputs": [
    {
     "data": {
      "text/html": [
       "<div>\n",
       "<style scoped>\n",
       "    .dataframe tbody tr th:only-of-type {\n",
       "        vertical-align: middle;\n",
       "    }\n",
       "\n",
       "    .dataframe tbody tr th {\n",
       "        vertical-align: top;\n",
       "    }\n",
       "\n",
       "    .dataframe thead th {\n",
       "        text-align: right;\n",
       "    }\n",
       "</style>\n",
       "<table border=\"1\" class=\"dataframe\">\n",
       "  <thead>\n",
       "    <tr style=\"text-align: right;\">\n",
       "      <th></th>\n",
       "      <th>candidates</th>\n",
       "    </tr>\n",
       "  </thead>\n",
       "  <tbody>\n",
       "    <tr>\n",
       "      <th>0</th>\n",
       "      <td>宋楚瑜/余湘</td>\n",
       "    </tr>\n",
       "    <tr>\n",
       "      <th>1</th>\n",
       "      <td>韓國瑜/張善政</td>\n",
       "    </tr>\n",
       "    <tr>\n",
       "      <th>2</th>\n",
       "      <td>蔡英文/賴清德</td>\n",
       "    </tr>\n",
       "  </tbody>\n",
       "</table>\n",
       "</div>"
      ],
      "text/plain": [
       "  candidates\n",
       "0     宋楚瑜/余湘\n",
       "1    韓國瑜/張善政\n",
       "2    蔡英文/賴清德"
      ]
     },
     "execution_count": 10,
     "metadata": {},
     "output_type": "execute_result"
    }
   ],
   "source": [
    "ans_query = \"\"\"\n",
    "SELECT DISTINCT candidates\n",
    "  FROM presidential2020;\n",
    "\"\"\"\n",
    "# 試跑看看結果\n",
    "pd.read_sql(ans_query, conn_twelection)"
   ]
  },
  {
   "cell_type": "markdown",
   "metadata": {
    "slideshow": {
     "slide_type": "subslide"
    }
   },
   "source": [
    "## 測資比對"
   ]
  },
  {
   "cell_type": "code",
   "execution_count": 11,
   "metadata": {},
   "outputs": [
    {
     "name": "stdout",
     "output_type": "stream",
     "text": [
      "測資比對正確！\n"
     ]
    }
   ],
   "source": [
    "caq = checkAnsQuery(etq('0105'), ans_query, conn_twelection)\n",
    "caq.run_test()"
   ]
  },
  {
   "cell_type": "markdown",
   "metadata": {
    "slideshow": {
     "slide_type": "slide"
    }
   },
   "source": [
    "## 隨堂練習：使用 `DISTINCT ` 檢視 `presidential2016` 表格中的 `candidates` 有幾組候選人參選"
   ]
  },
  {
   "cell_type": "code",
   "execution_count": 12,
   "metadata": {},
   "outputs": [
    {
     "data": {
      "text/html": [
       "<div>\n",
       "<style scoped>\n",
       "    .dataframe tbody tr th:only-of-type {\n",
       "        vertical-align: middle;\n",
       "    }\n",
       "\n",
       "    .dataframe tbody tr th {\n",
       "        vertical-align: top;\n",
       "    }\n",
       "\n",
       "    .dataframe thead th {\n",
       "        text-align: right;\n",
       "    }\n",
       "</style>\n",
       "<table border=\"1\" class=\"dataframe\">\n",
       "  <thead>\n",
       "    <tr style=\"text-align: right;\">\n",
       "      <th></th>\n",
       "      <th>candidates</th>\n",
       "    </tr>\n",
       "  </thead>\n",
       "  <tbody>\n",
       "    <tr>\n",
       "      <th>0</th>\n",
       "      <td>朱立倫/王如玄</td>\n",
       "    </tr>\n",
       "    <tr>\n",
       "      <th>1</th>\n",
       "      <td>蔡英文/陳建仁</td>\n",
       "    </tr>\n",
       "    <tr>\n",
       "      <th>2</th>\n",
       "      <td>宋楚瑜/徐欣瑩</td>\n",
       "    </tr>\n",
       "  </tbody>\n",
       "</table>\n",
       "</div>"
      ],
      "text/plain": [
       "  candidates\n",
       "0    朱立倫/王如玄\n",
       "1    蔡英文/陳建仁\n",
       "2    宋楚瑜/徐欣瑩"
      ]
     },
     "execution_count": 12,
     "metadata": {},
     "output_type": "execute_result"
    }
   ],
   "source": [
    "ans_query = \"\"\"\n",
    "SELECT DISTINCT candidates\n",
    "  FROM presidential2016;\n",
    "\"\"\"\n",
    "# 試跑看看結果\n",
    "pd.read_sql(ans_query, conn_twelection)"
   ]
  },
  {
   "cell_type": "markdown",
   "metadata": {
    "slideshow": {
     "slide_type": "subslide"
    }
   },
   "source": [
    "## 測資比對"
   ]
  },
  {
   "cell_type": "code",
   "execution_count": 13,
   "metadata": {},
   "outputs": [
    {
     "name": "stdout",
     "output_type": "stream",
     "text": [
      "測資比對正確！\n"
     ]
    }
   ],
   "source": [
    "caq = checkAnsQuery(etq('0106'), ans_query, conn_twelection)\n",
    "caq.run_test()"
   ]
  },
  {
   "cell_type": "markdown",
   "metadata": {
    "slideshow": {
     "slide_type": "slide"
    }
   },
   "source": [
    "## 隨堂練習：使用 `LIMIT ` 檢視 `presidential2020` 表格中的前 10 個觀測值"
   ]
  },
  {
   "cell_type": "code",
   "execution_count": 14,
   "metadata": {},
   "outputs": [
    {
     "data": {
      "text/html": [
       "<div>\n",
       "<style scoped>\n",
       "    .dataframe tbody tr th:only-of-type {\n",
       "        vertical-align: middle;\n",
       "    }\n",
       "\n",
       "    .dataframe tbody tr th {\n",
       "        vertical-align: top;\n",
       "    }\n",
       "\n",
       "    .dataframe thead th {\n",
       "        text-align: right;\n",
       "    }\n",
       "</style>\n",
       "<table border=\"1\" class=\"dataframe\">\n",
       "  <thead>\n",
       "    <tr style=\"text-align: right;\">\n",
       "      <th></th>\n",
       "      <th>county</th>\n",
       "      <th>town</th>\n",
       "      <th>village</th>\n",
       "      <th>office</th>\n",
       "      <th>number</th>\n",
       "      <th>candidates</th>\n",
       "      <th>votes</th>\n",
       "    </tr>\n",
       "  </thead>\n",
       "  <tbody>\n",
       "    <tr>\n",
       "      <th>0</th>\n",
       "      <td>南投縣</td>\n",
       "      <td>中寮鄉</td>\n",
       "      <td>中寮村</td>\n",
       "      <td>366</td>\n",
       "      <td>1</td>\n",
       "      <td>宋楚瑜/余湘</td>\n",
       "      <td>18</td>\n",
       "    </tr>\n",
       "    <tr>\n",
       "      <th>1</th>\n",
       "      <td>南投縣</td>\n",
       "      <td>中寮鄉</td>\n",
       "      <td>中寮村</td>\n",
       "      <td>366</td>\n",
       "      <td>2</td>\n",
       "      <td>韓國瑜/張善政</td>\n",
       "      <td>217</td>\n",
       "    </tr>\n",
       "    <tr>\n",
       "      <th>2</th>\n",
       "      <td>南投縣</td>\n",
       "      <td>中寮鄉</td>\n",
       "      <td>中寮村</td>\n",
       "      <td>366</td>\n",
       "      <td>3</td>\n",
       "      <td>蔡英文/賴清德</td>\n",
       "      <td>208</td>\n",
       "    </tr>\n",
       "    <tr>\n",
       "      <th>3</th>\n",
       "      <td>南投縣</td>\n",
       "      <td>中寮鄉</td>\n",
       "      <td>內城村</td>\n",
       "      <td>373</td>\n",
       "      <td>1</td>\n",
       "      <td>宋楚瑜/余湘</td>\n",
       "      <td>17</td>\n",
       "    </tr>\n",
       "    <tr>\n",
       "      <th>4</th>\n",
       "      <td>南投縣</td>\n",
       "      <td>中寮鄉</td>\n",
       "      <td>內城村</td>\n",
       "      <td>373</td>\n",
       "      <td>2</td>\n",
       "      <td>韓國瑜/張善政</td>\n",
       "      <td>141</td>\n",
       "    </tr>\n",
       "    <tr>\n",
       "      <th>5</th>\n",
       "      <td>南投縣</td>\n",
       "      <td>中寮鄉</td>\n",
       "      <td>內城村</td>\n",
       "      <td>373</td>\n",
       "      <td>3</td>\n",
       "      <td>蔡英文/賴清德</td>\n",
       "      <td>139</td>\n",
       "    </tr>\n",
       "    <tr>\n",
       "      <th>6</th>\n",
       "      <td>南投縣</td>\n",
       "      <td>中寮鄉</td>\n",
       "      <td>八仙村</td>\n",
       "      <td>358</td>\n",
       "      <td>1</td>\n",
       "      <td>宋楚瑜/余湘</td>\n",
       "      <td>13</td>\n",
       "    </tr>\n",
       "    <tr>\n",
       "      <th>7</th>\n",
       "      <td>南投縣</td>\n",
       "      <td>中寮鄉</td>\n",
       "      <td>八仙村</td>\n",
       "      <td>358</td>\n",
       "      <td>2</td>\n",
       "      <td>韓國瑜/張善政</td>\n",
       "      <td>111</td>\n",
       "    </tr>\n",
       "    <tr>\n",
       "      <th>8</th>\n",
       "      <td>南投縣</td>\n",
       "      <td>中寮鄉</td>\n",
       "      <td>八仙村</td>\n",
       "      <td>358</td>\n",
       "      <td>3</td>\n",
       "      <td>蔡英文/賴清德</td>\n",
       "      <td>119</td>\n",
       "    </tr>\n",
       "    <tr>\n",
       "      <th>9</th>\n",
       "      <td>南投縣</td>\n",
       "      <td>中寮鄉</td>\n",
       "      <td>八仙村</td>\n",
       "      <td>359</td>\n",
       "      <td>1</td>\n",
       "      <td>宋楚瑜/余湘</td>\n",
       "      <td>8</td>\n",
       "    </tr>\n",
       "  </tbody>\n",
       "</table>\n",
       "</div>"
      ],
      "text/plain": [
       "  county town village  office  number candidates  votes\n",
       "0    南投縣  中寮鄉     中寮村     366       1     宋楚瑜/余湘     18\n",
       "1    南投縣  中寮鄉     中寮村     366       2    韓國瑜/張善政    217\n",
       "2    南投縣  中寮鄉     中寮村     366       3    蔡英文/賴清德    208\n",
       "3    南投縣  中寮鄉     內城村     373       1     宋楚瑜/余湘     17\n",
       "4    南投縣  中寮鄉     內城村     373       2    韓國瑜/張善政    141\n",
       "5    南投縣  中寮鄉     內城村     373       3    蔡英文/賴清德    139\n",
       "6    南投縣  中寮鄉     八仙村     358       1     宋楚瑜/余湘     13\n",
       "7    南投縣  中寮鄉     八仙村     358       2    韓國瑜/張善政    111\n",
       "8    南投縣  中寮鄉     八仙村     358       3    蔡英文/賴清德    119\n",
       "9    南投縣  中寮鄉     八仙村     359       1     宋楚瑜/余湘      8"
      ]
     },
     "execution_count": 14,
     "metadata": {},
     "output_type": "execute_result"
    }
   ],
   "source": [
    "ans_query = \"\"\"\n",
    "SELECT * \n",
    "  FROM presidential2020\n",
    " LIMIT 10;\n",
    "\"\"\"\n",
    "# 試跑看看結果\n",
    "pd.read_sql(ans_query, conn_twelection)"
   ]
  },
  {
   "cell_type": "markdown",
   "metadata": {
    "slideshow": {
     "slide_type": "subslide"
    }
   },
   "source": [
    "## 測資比對"
   ]
  },
  {
   "cell_type": "code",
   "execution_count": 15,
   "metadata": {},
   "outputs": [
    {
     "name": "stdout",
     "output_type": "stream",
     "text": [
      "測資比對正確！\n"
     ]
    }
   ],
   "source": [
    "caq = checkAnsQuery(etq('0107'), ans_query, conn_twelection)\n",
    "caq.run_test()"
   ]
  },
  {
   "cell_type": "markdown",
   "metadata": {
    "slideshow": {
     "slide_type": "slide"
    }
   },
   "source": [
    "## 隨堂練習：使用 `DISTINCT` 檢視 `presidential2020` 表格中的 `county` 有幾個縣市，並以 `AS` 將 `county` 命名為 `distinct_counties`"
   ]
  },
  {
   "cell_type": "code",
   "execution_count": 16,
   "metadata": {},
   "outputs": [
    {
     "data": {
      "text/html": [
       "<div>\n",
       "<style scoped>\n",
       "    .dataframe tbody tr th:only-of-type {\n",
       "        vertical-align: middle;\n",
       "    }\n",
       "\n",
       "    .dataframe tbody tr th {\n",
       "        vertical-align: top;\n",
       "    }\n",
       "\n",
       "    .dataframe thead th {\n",
       "        text-align: right;\n",
       "    }\n",
       "</style>\n",
       "<table border=\"1\" class=\"dataframe\">\n",
       "  <thead>\n",
       "    <tr style=\"text-align: right;\">\n",
       "      <th></th>\n",
       "      <th>distinct_counties</th>\n",
       "    </tr>\n",
       "  </thead>\n",
       "  <tbody>\n",
       "    <tr>\n",
       "      <th>0</th>\n",
       "      <td>南投縣</td>\n",
       "    </tr>\n",
       "    <tr>\n",
       "      <th>1</th>\n",
       "      <td>嘉義市</td>\n",
       "    </tr>\n",
       "    <tr>\n",
       "      <th>2</th>\n",
       "      <td>嘉義縣</td>\n",
       "    </tr>\n",
       "    <tr>\n",
       "      <th>3</th>\n",
       "      <td>基隆市</td>\n",
       "    </tr>\n",
       "    <tr>\n",
       "      <th>4</th>\n",
       "      <td>宜蘭縣</td>\n",
       "    </tr>\n",
       "    <tr>\n",
       "      <th>5</th>\n",
       "      <td>屏東縣</td>\n",
       "    </tr>\n",
       "    <tr>\n",
       "      <th>6</th>\n",
       "      <td>彰化縣</td>\n",
       "    </tr>\n",
       "    <tr>\n",
       "      <th>7</th>\n",
       "      <td>新北市</td>\n",
       "    </tr>\n",
       "    <tr>\n",
       "      <th>8</th>\n",
       "      <td>新竹市</td>\n",
       "    </tr>\n",
       "    <tr>\n",
       "      <th>9</th>\n",
       "      <td>新竹縣</td>\n",
       "    </tr>\n",
       "    <tr>\n",
       "      <th>10</th>\n",
       "      <td>桃園市</td>\n",
       "    </tr>\n",
       "    <tr>\n",
       "      <th>11</th>\n",
       "      <td>澎湖縣</td>\n",
       "    </tr>\n",
       "    <tr>\n",
       "      <th>12</th>\n",
       "      <td>臺中市</td>\n",
       "    </tr>\n",
       "    <tr>\n",
       "      <th>13</th>\n",
       "      <td>臺北市</td>\n",
       "    </tr>\n",
       "    <tr>\n",
       "      <th>14</th>\n",
       "      <td>臺南市</td>\n",
       "    </tr>\n",
       "    <tr>\n",
       "      <th>15</th>\n",
       "      <td>臺東縣</td>\n",
       "    </tr>\n",
       "    <tr>\n",
       "      <th>16</th>\n",
       "      <td>花蓮縣</td>\n",
       "    </tr>\n",
       "    <tr>\n",
       "      <th>17</th>\n",
       "      <td>苗栗縣</td>\n",
       "    </tr>\n",
       "    <tr>\n",
       "      <th>18</th>\n",
       "      <td>連江縣</td>\n",
       "    </tr>\n",
       "    <tr>\n",
       "      <th>19</th>\n",
       "      <td>金門縣</td>\n",
       "    </tr>\n",
       "    <tr>\n",
       "      <th>20</th>\n",
       "      <td>雲林縣</td>\n",
       "    </tr>\n",
       "    <tr>\n",
       "      <th>21</th>\n",
       "      <td>高雄市</td>\n",
       "    </tr>\n",
       "  </tbody>\n",
       "</table>\n",
       "</div>"
      ],
      "text/plain": [
       "   distinct_counties\n",
       "0                南投縣\n",
       "1                嘉義市\n",
       "2                嘉義縣\n",
       "3                基隆市\n",
       "4                宜蘭縣\n",
       "5                屏東縣\n",
       "6                彰化縣\n",
       "7                新北市\n",
       "8                新竹市\n",
       "9                新竹縣\n",
       "10               桃園市\n",
       "11               澎湖縣\n",
       "12               臺中市\n",
       "13               臺北市\n",
       "14               臺南市\n",
       "15               臺東縣\n",
       "16               花蓮縣\n",
       "17               苗栗縣\n",
       "18               連江縣\n",
       "19               金門縣\n",
       "20               雲林縣\n",
       "21               高雄市"
      ]
     },
     "execution_count": 16,
     "metadata": {},
     "output_type": "execute_result"
    }
   ],
   "source": [
    "ans_query = \"\"\"\n",
    "SELECT DISTINCT county AS distinct_counties\n",
    "  FROM presidential2020;\n",
    "\"\"\"\n",
    "# 試跑看看結果\n",
    "pd.read_sql(ans_query, conn_twelection)"
   ]
  },
  {
   "cell_type": "markdown",
   "metadata": {
    "slideshow": {
     "slide_type": "subslide"
    }
   },
   "source": [
    "## 測資比對"
   ]
  },
  {
   "cell_type": "code",
   "execution_count": 17,
   "metadata": {},
   "outputs": [
    {
     "name": "stdout",
     "output_type": "stream",
     "text": [
      "測資比對正確！\n"
     ]
    }
   ],
   "source": [
    "caq = checkAnsQuery(etq('0108'), ans_query, conn_twelection)\n",
    "caq.run_test()"
   ]
  }
 ],
 "metadata": {
  "celltoolbar": "Slideshow",
  "kernelspec": {
   "display_name": "Python Data Analysis",
   "language": "python",
   "name": "pyda"
  },
  "language_info": {
   "codemirror_mode": {
    "name": "ipython",
    "version": 3
   },
   "file_extension": ".py",
   "mimetype": "text/x-python",
   "name": "python",
   "nbconvert_exporter": "python",
   "pygments_lexer": "ipython3",
   "version": "3.6.8"
  }
 },
 "nbformat": 4,
 "nbformat_minor": 4
}
