{
 "cells": [
  {
   "cell_type": "markdown",
   "metadata": {
    "slideshow": {
     "slide_type": "slide"
    }
   },
   "source": [
    "# SQL 入門\n",
    "\n",
    "> 操作資料\n",
    "\n",
    "郭耀仁"
   ]
  },
  {
   "cell_type": "markdown",
   "metadata": {
    "slideshow": {
     "slide_type": "subslide"
    }
   },
   "source": [
    "## 摘要\n",
    "\n",
    "- 創建\n",
    "- 更新\n",
    "- 刪除"
   ]
  },
  {
   "cell_type": "markdown",
   "metadata": {
    "slideshow": {
     "slide_type": "slide"
    }
   },
   "source": [
    "## 創建"
   ]
  },
  {
   "cell_type": "markdown",
   "metadata": {
    "slideshow": {
     "slide_type": "subslide"
    }
   },
   "source": [
    "## 透過資料庫實現規模化且自動化的資料操作\n",
    "\n",
    "- C(reate) 創建\n",
    "- R(ead) 讀取\n",
    "- U(pdate) 更新\n",
    "- D(elete) 刪除"
   ]
  },
  {
   "cell_type": "markdown",
   "metadata": {
    "slideshow": {
     "slide_type": "subslide"
    }
   },
   "source": [
    "## 讀取以外，尚有創建、更新與刪除等操作"
   ]
  },
  {
   "cell_type": "markdown",
   "metadata": {
    "slideshow": {
     "slide_type": "subslide"
    }
   },
   "source": [
    "## 使用 DB4S 在本機端創建一個資料庫 `movies`\n",
    "\n",
    "![Imgur](https://i.imgur.com/p4lMISB.png)"
   ]
  },
  {
   "cell_type": "markdown",
   "metadata": {
    "slideshow": {
     "slide_type": "subslide"
    }
   },
   "source": [
    "## 以 DB4S 執行 SQL 語法\n",
    "\n",
    "![Imgur](https://i.imgur.com/1peBYBr.png)"
   ]
  },
  {
   "cell_type": "markdown",
   "metadata": {
    "slideshow": {
     "slide_type": "subslide"
    }
   },
   "source": [
    "## 亦可以使用者介面匯入 CSV 檔案成為表格\n",
    "\n",
    "![Imgur](https://i.imgur.com/DP97sJh.png)"
   ]
  },
  {
   "cell_type": "markdown",
   "metadata": {
    "slideshow": {
     "slide_type": "slide"
    }
   },
   "source": [
    "## 更新"
   ]
  },
  {
   "cell_type": "markdown",
   "metadata": {
    "slideshow": {
     "slide_type": "subslide"
    }
   },
   "source": [
    "## 以 `INSERT INTO` 語法插入觀測值\n",
    "\n",
    "```sql\n",
    "INSERT INTO movies (title, year, rating)\n",
    "VALUES \n",
    "       ('The Shawshank Redemption', 1995, 9.2),\n",
    "       ('The Godfather', 1972, 9.1),\n",
    "       ('The Dark Knight', 2008, 9.0),\n",
    "       ('Forrest Gump', 1994, 8.8);\n",
    "```"
   ]
  },
  {
   "cell_type": "markdown",
   "metadata": {
    "slideshow": {
     "slide_type": "subslide"
    }
   },
   "source": [
    "## 以 `UPDATE` 語法更新觀測值\n",
    "\n",
    "\"The Shawshank Redemption\" 於 1994 年在美國上映, 但是當年在台灣 1995 年才上映，片名取為「刺激1995」。\n",
    "\n",
    "```sql\n",
    "UPDATE movies\n",
    "   SET year = 1994\n",
    " WHERE title = 'The Shawshank Redemption';\n",
    "```"
   ]
  },
  {
   "cell_type": "markdown",
   "metadata": {
    "slideshow": {
     "slide_type": "slide"
    }
   },
   "source": [
    "## 刪除"
   ]
  },
  {
   "cell_type": "markdown",
   "metadata": {
    "slideshow": {
     "slide_type": "subslide"
    }
   },
   "source": [
    "## 以 `DELETE` 語法刪除觀測值\n",
    "\n",
    "```sql\n",
    "DELETE FROM movies\n",
    "      WHERE title = 'The Godfather';\n",
    "```"
   ]
  },
  {
   "cell_type": "markdown",
   "metadata": {
    "slideshow": {
     "slide_type": "subslide"
    }
   },
   "source": [
    "## 以 `DROP` 語法刪除表格\n",
    "\n",
    "```sql\n",
    "DROP TABLE movies;\n",
    "```"
   ]
  }
 ],
 "metadata": {
  "celltoolbar": "Slideshow",
  "kernelspec": {
   "display_name": "Python Data Analysis",
   "language": "python",
   "name": "pyda"
  },
  "language_info": {
   "codemirror_mode": {
    "name": "ipython",
    "version": 3
   },
   "file_extension": ".py",
   "mimetype": "text/x-python",
   "name": "python",
   "nbconvert_exporter": "python",
   "pygments_lexer": "ipython3",
   "version": "3.6.8"
  }
 },
 "nbformat": 4,
 "nbformat_minor": 4
}
