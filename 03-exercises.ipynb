{
 "cells": [
  {
   "cell_type": "markdown",
   "metadata": {
    "slideshow": {
     "slide_type": "slide"
    }
   },
   "source": [
    "# SQL 語法入門\n",
    "\n",
    "> 資料分析：隨堂練習\n",
    "\n",
    "郭耀仁"
   ]
  },
  {
   "cell_type": "code",
   "execution_count": null,
   "metadata": {
    "slideshow": {
     "slide_type": "subslide"
    }
   },
   "outputs": [],
   "source": [
    "import sqlite3\n",
    "import pandas as pd\n",
    "from sqlFrameCheck import checkAnsQuery\n",
    "from test_queries.test_queries_03 import extract_test_queries as etq\n",
    "\n",
    "conn_twelection = sqlite3.connect('twelection.db')\n",
    "conn_nba = sqlite3.connect('nba.db')"
   ]
  },
  {
   "cell_type": "markdown",
   "metadata": {
    "slideshow": {
     "slide_type": "slide"
    }
   },
   "source": [
    "## 隨堂練習：以 `COUNT()` 函式查詢 `teams` 暸解 NBA 東區（`confName = 'East'`）共有幾支球隊，將答案命名為 `n_teams`"
   ]
  },
  {
   "cell_type": "code",
   "execution_count": null,
   "metadata": {
    "slideshow": {
     "slide_type": "-"
    }
   },
   "outputs": [],
   "source": [
    "ans_query = \"\"\"\n",
    "-- 將查詢語法寫在這裡\n",
    "\"\"\"\n",
    "# 試跑看看結果\n",
    "pd.read_sql(ans_query, conn_nba)"
   ]
  },
  {
   "cell_type": "markdown",
   "metadata": {
    "slideshow": {
     "slide_type": "subslide"
    }
   },
   "source": [
    "## 測資比對"
   ]
  },
  {
   "cell_type": "code",
   "execution_count": null,
   "metadata": {},
   "outputs": [],
   "source": [
    "caq = checkAnsQuery(etq('0301'), ans_query, conn_nba)\n",
    "caq.run_test()"
   ]
  },
  {
   "cell_type": "markdown",
   "metadata": {
    "slideshow": {
     "slide_type": "slide"
    }
   },
   "source": [
    "## 隨堂練習：以 `COUNT()` 函式查詢 `teams` 暸解 NBA 西區（`confName = 'West'`）共有幾支球隊，將答案命名為 `n_teams`"
   ]
  },
  {
   "cell_type": "code",
   "execution_count": null,
   "metadata": {},
   "outputs": [],
   "source": [
    "ans_query = \"\"\"\n",
    "-- 將查詢語法寫在這裡\n",
    "\"\"\"\n",
    "# 試跑看看結果\n",
    "pd.read_sql(ans_query, conn_nba)"
   ]
  },
  {
   "cell_type": "markdown",
   "metadata": {
    "slideshow": {
     "slide_type": "subslide"
    }
   },
   "source": [
    "## 測資比對"
   ]
  },
  {
   "cell_type": "code",
   "execution_count": null,
   "metadata": {},
   "outputs": [],
   "source": [
    "caq = checkAnsQuery(etq('0302'), ans_query, conn_nba)\n",
    "caq.run_test()"
   ]
  },
  {
   "cell_type": "markdown",
   "metadata": {
    "slideshow": {
     "slide_type": "slide"
    }
   },
   "source": [
    "## 隨堂練習：使用 `COUNT()` 函式查詢 `presidential2020` 有幾個觀測值，將答案命名為 `n_obs`"
   ]
  },
  {
   "cell_type": "code",
   "execution_count": null,
   "metadata": {},
   "outputs": [],
   "source": [
    "ans_query = \"\"\"\n",
    "-- 將查詢語法寫在這裡\n",
    "\"\"\"\n",
    "# 試跑看看結果\n",
    "pd.read_sql(ans_query, conn_twelection)"
   ]
  },
  {
   "cell_type": "markdown",
   "metadata": {
    "slideshow": {
     "slide_type": "subslide"
    }
   },
   "source": [
    "## 測資比對"
   ]
  },
  {
   "cell_type": "code",
   "execution_count": null,
   "metadata": {},
   "outputs": [],
   "source": [
    "caq = checkAnsQuery(etq('0303'), ans_query, conn_twelection)\n",
    "caq.run_test()"
   ]
  },
  {
   "cell_type": "markdown",
   "metadata": {
    "slideshow": {
     "slide_type": "slide"
    }
   },
   "source": [
    "## 隨堂練習：使用 `COUNT()` 函式搭配 `PRAGMA_TABLE_INFO()` 函式查詢 `presidential2020` 有幾個欄位數，並命名為 `n_cols`"
   ]
  },
  {
   "cell_type": "code",
   "execution_count": null,
   "metadata": {},
   "outputs": [],
   "source": [
    "ans_query = \"\"\"\n",
    "-- 將查詢語法寫在這裡\n",
    "\"\"\"\n",
    "# 試跑看看結果\n",
    "pd.read_sql(ans_query, conn_twelection)"
   ]
  },
  {
   "cell_type": "markdown",
   "metadata": {
    "slideshow": {
     "slide_type": "subslide"
    }
   },
   "source": [
    "## 測資比對"
   ]
  },
  {
   "cell_type": "code",
   "execution_count": null,
   "metadata": {},
   "outputs": [],
   "source": [
    "caq = checkAnsQuery(etq('0304'), ans_query, conn_twelection)\n",
    "caq.run_test()"
   ]
  },
  {
   "cell_type": "markdown",
   "metadata": {
    "slideshow": {
     "slide_type": "slide"
    }
   },
   "source": [
    "## 隨堂練習：查詢 `careerSummaries` 生涯場均得分 `ppg` 超過 20 分的球員有幾位，並命名為 `n_players`"
   ]
  },
  {
   "cell_type": "code",
   "execution_count": null,
   "metadata": {},
   "outputs": [],
   "source": [
    "ans_query = \"\"\"\n",
    "-- 將查詢語法寫在這裡\n",
    "\"\"\"\n",
    "# 試跑看看結果\n",
    "pd.read_sql(ans_query, conn_nba)"
   ]
  },
  {
   "cell_type": "markdown",
   "metadata": {
    "slideshow": {
     "slide_type": "subslide"
    }
   },
   "source": [
    "## 測資比對"
   ]
  },
  {
   "cell_type": "code",
   "execution_count": null,
   "metadata": {},
   "outputs": [],
   "source": [
    "caq = checkAnsQuery(etq('0305'), ans_query, conn_nba)\n",
    "caq.run_test()"
   ]
  },
  {
   "cell_type": "markdown",
   "metadata": {
    "slideshow": {
     "slide_type": "slide"
    }
   },
   "source": [
    "## 隨堂練習：使用 `SUM()` 函式將 `presidential2020` 的票數加總，並命名為 `total_votes`"
   ]
  },
  {
   "cell_type": "code",
   "execution_count": null,
   "metadata": {},
   "outputs": [],
   "source": [
    "ans_query = \"\"\"\n",
    "-- 將查詢語法寫在這裡\n",
    "\"\"\"\n",
    "# 試跑看看結果\n",
    "pd.read_sql(ans_query, conn_twelection)"
   ]
  },
  {
   "cell_type": "markdown",
   "metadata": {
    "slideshow": {
     "slide_type": "subslide"
    }
   },
   "source": [
    "## 測資比對"
   ]
  },
  {
   "cell_type": "code",
   "execution_count": null,
   "metadata": {},
   "outputs": [],
   "source": [
    "caq = checkAnsQuery(etq('0306'), ans_query, conn_twelection)\n",
    "caq.run_test()"
   ]
  },
  {
   "cell_type": "markdown",
   "metadata": {
    "slideshow": {
     "slide_type": "slide"
    }
   },
   "source": [
    "## 隨堂練習：使用 `SUM()` 函式與 `GROUP BY` 將 `presidential2020` 三組候選人的票數加總，並命名為 `total_votes`，選擇 `number`、`candidates` 與 `total_votes` 這三個變數"
   ]
  },
  {
   "cell_type": "code",
   "execution_count": null,
   "metadata": {},
   "outputs": [],
   "source": [
    "ans_query = \"\"\"\n",
    "-- 將查詢語法寫在這裡\n",
    "\"\"\"\n",
    "# 試跑看看結果\n",
    "pd.read_sql(ans_query, conn_twelection)"
   ]
  },
  {
   "cell_type": "markdown",
   "metadata": {
    "slideshow": {
     "slide_type": "subslide"
    }
   },
   "source": [
    "## 測資比對"
   ]
  },
  {
   "cell_type": "code",
   "execution_count": null,
   "metadata": {},
   "outputs": [],
   "source": [
    "caq = checkAnsQuery(etq('0307'), ans_query, conn_twelection)\n",
    "caq.run_test()"
   ]
  },
  {
   "cell_type": "markdown",
   "metadata": {
    "slideshow": {
     "slide_type": "slide"
    }
   },
   "source": [
    "## 隨堂練習：使用 `SUM()` 函式、 `GROUP BY` 與 `HAVING` 找出 `presidential2020` 臺北市總票數超過 10 萬的行政區，總票數命名為 `total_votes`，選擇 `town` 與 `total_votes` 這兩個變數"
   ]
  },
  {
   "cell_type": "code",
   "execution_count": null,
   "metadata": {},
   "outputs": [],
   "source": [
    "ans_query = \"\"\"\n",
    "-- 將查詢語法寫在這裡\n",
    "\"\"\"\n",
    "# 試跑看看結果\n",
    "pd.read_sql(ans_query, conn_twelection)"
   ]
  },
  {
   "cell_type": "markdown",
   "metadata": {
    "slideshow": {
     "slide_type": "subslide"
    }
   },
   "source": [
    "## 測資比對"
   ]
  },
  {
   "cell_type": "code",
   "execution_count": null,
   "metadata": {},
   "outputs": [],
   "source": [
    "caq = checkAnsQuery(etq('0308'), ans_query, conn_twelection)\n",
    "caq.run_test()"
   ]
  },
  {
   "cell_type": "markdown",
   "metadata": {
    "slideshow": {
     "slide_type": "slide"
    }
   },
   "source": [
    "## 隨堂練習：使用 `CASE` 敘述，將 `presidential2020` 三組候選人的票數加總分類為六都（臺北市、新北市、桃園市、臺中市、臺南市與高雄市）和非六都，命名這個類別為 `county_type`，總票數命名為 `total_votes`，選擇 `county_type` 與 `total_votes` 這兩個變數"
   ]
  },
  {
   "cell_type": "code",
   "execution_count": null,
   "metadata": {},
   "outputs": [],
   "source": [
    "ans_query = \"\"\"\n",
    "-- 將查詢語法寫在這裡\n",
    "\"\"\"\n",
    "# 試跑看看結果\n",
    "pd.read_sql(ans_query, conn_twelection)"
   ]
  },
  {
   "cell_type": "markdown",
   "metadata": {
    "slideshow": {
     "slide_type": "subslide"
    }
   },
   "source": [
    "## 測資比對"
   ]
  },
  {
   "cell_type": "code",
   "execution_count": null,
   "metadata": {},
   "outputs": [],
   "source": [
    "caq = checkAnsQuery(etq('0309'), ans_query, conn_twelection)\n",
    "caq.run_test()"
   ]
  },
  {
   "cell_type": "markdown",
   "metadata": {
    "slideshow": {
     "slide_type": "slide"
    }
   },
   "source": [
    "## 隨堂練習：使用 `CASE` 敘述，計算 `presidential2020` 三組候選人的在六都（臺北市、新北市、桃園市、臺中市、臺南市與高雄市）和非六都的得票數個為何，命名這個類別為 `county_type`，總票數命名為 `total_votes`，選擇 `number`、`candidates`、`county_type` 與 `total_votes` 這四個變數"
   ]
  },
  {
   "cell_type": "code",
   "execution_count": null,
   "metadata": {},
   "outputs": [],
   "source": [
    "ans_query = \"\"\"\n",
    "-- 將查詢語法寫在這裡\n",
    "\"\"\"\n",
    "# 試跑看看結果\n",
    "pd.read_sql(ans_query, conn_twelection)"
   ]
  },
  {
   "cell_type": "markdown",
   "metadata": {
    "slideshow": {
     "slide_type": "subslide"
    }
   },
   "source": [
    "## 測資比對"
   ]
  },
  {
   "cell_type": "code",
   "execution_count": null,
   "metadata": {},
   "outputs": [],
   "source": [
    "caq = checkAnsQuery(etq('0310'), ans_query, conn_twelection)\n",
    "caq.run_test()"
   ]
  },
  {
   "cell_type": "markdown",
   "metadata": {
    "slideshow": {
     "slide_type": "slide"
    }
   },
   "source": [
    "## 隨堂練習：查詢 `nba.db` 目前生涯總助攻數（`assists`）最高的球員是誰"
   ]
  },
  {
   "cell_type": "code",
   "execution_count": null,
   "metadata": {},
   "outputs": [],
   "source": [
    "ans_query = \"\"\"\n",
    "-- 將查詢語法寫在這裡\n",
    "\"\"\"\n",
    "# 試跑看看結果\n",
    "pd.read_sql(ans_query, conn_nba)"
   ]
  },
  {
   "cell_type": "markdown",
   "metadata": {
    "slideshow": {
     "slide_type": "subslide"
    }
   },
   "source": [
    "## 測資比對"
   ]
  },
  {
   "cell_type": "code",
   "execution_count": null,
   "metadata": {},
   "outputs": [],
   "source": [
    "caq = checkAnsQuery(etq('0311'), ans_query, conn_nba)\n",
    "caq.run_test()"
   ]
  },
  {
   "cell_type": "markdown",
   "metadata": {
    "slideshow": {
     "slide_type": "slide"
    }
   },
   "source": [
    "## 隨堂練習：查詢 `nba.db` 目前生涯總籃板球 `totReb` 最高的球員是誰"
   ]
  },
  {
   "cell_type": "code",
   "execution_count": null,
   "metadata": {},
   "outputs": [],
   "source": [
    "ans_query = \"\"\"\n",
    "-- 將查詢語法寫在這裡\n",
    "\"\"\"\n",
    "# 試跑看看結果\n",
    "pd.read_sql(ans_query, conn_nba)"
   ]
  },
  {
   "cell_type": "markdown",
   "metadata": {
    "slideshow": {
     "slide_type": "subslide"
    }
   },
   "source": [
    "## 測資比對"
   ]
  },
  {
   "cell_type": "code",
   "execution_count": null,
   "metadata": {},
   "outputs": [],
   "source": [
    "caq = checkAnsQuery(etq('0312'), ans_query, conn_nba)\n",
    "caq.run_test()"
   ]
  },
  {
   "cell_type": "markdown",
   "metadata": {
    "slideshow": {
     "slide_type": "slide"
    }
   },
   "source": [
    "## 隨堂練習：查詢 `nba.db` 目前公鹿隊（Milwaukee Bucks）的球員陣容有誰"
   ]
  },
  {
   "cell_type": "code",
   "execution_count": null,
   "metadata": {},
   "outputs": [],
   "source": [
    "ans_query = \"\"\"\n",
    "-- 將查詢語法寫在這裡\n",
    "\"\"\"\n",
    "# 試跑看看結果\n",
    "pd.read_sql(ans_query, conn_nba)"
   ]
  },
  {
   "cell_type": "markdown",
   "metadata": {
    "slideshow": {
     "slide_type": "subslide"
    }
   },
   "source": [
    "## 測資比對"
   ]
  },
  {
   "cell_type": "code",
   "execution_count": null,
   "metadata": {},
   "outputs": [],
   "source": [
    "caq = checkAnsQuery(etq('0313'), ans_query, conn_nba)\n",
    "caq.run_test()"
   ]
  },
  {
   "cell_type": "markdown",
   "metadata": {
    "slideshow": {
     "slide_type": "subslide"
    }
   },
   "source": [
    "## 隨堂練習：查詢 `presidential2016` 三組候選人的得票率為何，選擇 `number`、`candidates` 與 `votes_percentage`"
   ]
  },
  {
   "cell_type": "code",
   "execution_count": null,
   "metadata": {},
   "outputs": [],
   "source": [
    "ans_query = \"\"\"\n",
    "-- 將查詢語法寫在這裡\n",
    "\"\"\"\n",
    "# 試跑看看結果\n",
    "pd.read_sql(ans_query, conn_twelection)"
   ]
  },
  {
   "cell_type": "markdown",
   "metadata": {
    "slideshow": {
     "slide_type": "subslide"
    }
   },
   "source": [
    "## 測資比對"
   ]
  },
  {
   "cell_type": "code",
   "execution_count": null,
   "metadata": {},
   "outputs": [],
   "source": [
    "caq = checkAnsQuery(etq('0314'), ans_query, conn_twelection)\n",
    "caq.run_test()"
   ]
  },
  {
   "cell_type": "markdown",
   "metadata": {
    "slideshow": {
     "slide_type": "subslide"
    }
   },
   "source": [
    "## 隨堂練習：查詢 `presidential2020` 三組候選人的得票率為何，選擇 `number`、`candidates` 與 `votes_percentage`"
   ]
  },
  {
   "cell_type": "code",
   "execution_count": null,
   "metadata": {},
   "outputs": [],
   "source": [
    "ans_query = \"\"\"\n",
    "-- 將查詢語法寫在這裡\n",
    "\"\"\"\n",
    "# 試跑看看結果\n",
    "pd.read_sql(ans_query, conn_twelection)"
   ]
  },
  {
   "cell_type": "markdown",
   "metadata": {
    "slideshow": {
     "slide_type": "subslide"
    }
   },
   "source": [
    "## 測資比對"
   ]
  },
  {
   "cell_type": "code",
   "execution_count": null,
   "metadata": {},
   "outputs": [],
   "source": [
    "caq = checkAnsQuery(etq('0315'), ans_query, conn_twelection)\n",
    "caq.run_test()"
   ]
  },
  {
   "cell_type": "markdown",
   "metadata": {
    "slideshow": {
     "slide_type": "subslide"
    }
   },
   "source": [
    "## 隨堂練習：將 `presidential2016` 與 `presidential2020` 三組候選人的得票數以 `UNION` 垂直合併，創建 `year` 變數區分 `number`、`candidates` 與 `total_votes`"
   ]
  },
  {
   "cell_type": "code",
   "execution_count": null,
   "metadata": {},
   "outputs": [],
   "source": [
    "ans_query = \"\"\"\n",
    "-- 將查詢語法寫在這裡\n",
    "\"\"\"\n",
    "# 試跑看看結果\n",
    "pd.read_sql(ans_query, conn_twelection)"
   ]
  },
  {
   "cell_type": "markdown",
   "metadata": {
    "slideshow": {
     "slide_type": "subslide"
    }
   },
   "source": [
    "## 測資比對"
   ]
  },
  {
   "cell_type": "code",
   "execution_count": null,
   "metadata": {},
   "outputs": [],
   "source": [
    "caq = checkAnsQuery(etq('0316'), ans_query, conn_twelection)\n",
    "caq.run_test()"
   ]
  },
  {
   "cell_type": "markdown",
   "metadata": {
    "slideshow": {
     "slide_type": "subslide"
    }
   },
   "source": [
    "## 隨堂練習：將 `presidential2016` 與 `presidential2020` 三組候選人的得票率以 `UNION` 垂直合併，創建 `year` 變數區分 `number`、`candidates` 與 `votes_percentage`"
   ]
  },
  {
   "cell_type": "code",
   "execution_count": null,
   "metadata": {},
   "outputs": [],
   "source": [
    "ans_query = \"\"\"\n",
    "-- 將查詢語法寫在這裡\n",
    "\"\"\"\n",
    "# 試跑看看結果\n",
    "pd.read_sql(ans_query, conn_twelection)"
   ]
  },
  {
   "cell_type": "markdown",
   "metadata": {
    "slideshow": {
     "slide_type": "subslide"
    }
   },
   "source": [
    "## 測資比對"
   ]
  },
  {
   "cell_type": "code",
   "execution_count": null,
   "metadata": {},
   "outputs": [],
   "source": [
    "caq = checkAnsQuery(etq('0317'), ans_query, conn_twelection)\n",
    "caq.run_test()"
   ]
  },
  {
   "cell_type": "markdown",
   "metadata": {
    "slideshow": {
     "slide_type": "slide"
    }
   },
   "source": [
    "## 隨堂練習：查詢 `nba.db` 目前湖人隊（Los Angeles Lakers）的球員陣容生涯場均得分（`ppg`）、場均籃板（`rpg`）與場均助攻（`apg`），選擇 `fullName`、`firstName`、`lastName`、`ppg`、`rpg`、`apg` 並以 `firstName` 遞增排序"
   ]
  },
  {
   "cell_type": "code",
   "execution_count": null,
   "metadata": {},
   "outputs": [],
   "source": [
    "ans_query = \"\"\"\n",
    "-- 將查詢語法寫在這裡\n",
    "\"\"\"\n",
    "# 試跑看看結果\n",
    "pd.read_sql(ans_query, conn_nba)"
   ]
  },
  {
   "cell_type": "markdown",
   "metadata": {
    "slideshow": {
     "slide_type": "subslide"
    }
   },
   "source": [
    "## 測資比對"
   ]
  },
  {
   "cell_type": "code",
   "execution_count": null,
   "metadata": {},
   "outputs": [],
   "source": [
    "caq = checkAnsQuery(etq('0320'), ans_query, conn_nba)\n",
    "caq.run_test()"
   ]
  },
  {
   "cell_type": "markdown",
   "metadata": {
    "slideshow": {
     "slide_type": "subslide"
    }
   },
   "source": [
    "## 隨堂練習：計算 `presidential2020` 韓國瑜/張善政與蔡英文/賴清德這兩組候選人在臺北市 12 個行政區中各自的得票數，選擇 `town`、`Kuo_Cheng` 與 `Ing_Te` 三個變數"
   ]
  },
  {
   "cell_type": "code",
   "execution_count": null,
   "metadata": {},
   "outputs": [],
   "source": [
    "ans_query = \"\"\"\n",
    "-- 將查詢語法寫在這裡\n",
    "\"\"\"\n",
    "# 試跑看看結果\n",
    "pd.read_sql(ans_query, conn_twelection)"
   ]
  },
  {
   "cell_type": "markdown",
   "metadata": {
    "slideshow": {
     "slide_type": "subslide"
    }
   },
   "source": [
    "## 測資比對"
   ]
  },
  {
   "cell_type": "code",
   "execution_count": null,
   "metadata": {},
   "outputs": [],
   "source": [
    "caq = checkAnsQuery(etq('0318'), ans_query, conn_twelection)\n",
    "caq.run_test()"
   ]
  },
  {
   "cell_type": "markdown",
   "metadata": {
    "slideshow": {
     "slide_type": "subslide"
    }
   },
   "source": [
    "## 隨堂練習：計算 `presidential2020` 韓國瑜/張善政與蔡英文/賴清德這兩組候選人在臺北市 12 個行政區中各自的得票數，選擇 `town`、`Kuo_Cheng` 與 `Ing_Te` 三個變數，並找出韓國瑜/張善政在哪些行政區得票數較多"
   ]
  },
  {
   "cell_type": "code",
   "execution_count": null,
   "metadata": {},
   "outputs": [],
   "source": [
    "ans_query = \"\"\"\n",
    "-- 將查詢語法寫在這裡\n",
    "\"\"\"\n",
    "# 試跑看看結果\n",
    "pd.read_sql(ans_query, conn_twelection)"
   ]
  },
  {
   "cell_type": "markdown",
   "metadata": {
    "slideshow": {
     "slide_type": "subslide"
    }
   },
   "source": [
    "## 測資比對"
   ]
  },
  {
   "cell_type": "code",
   "execution_count": null,
   "metadata": {},
   "outputs": [],
   "source": [
    "caq = checkAnsQuery(etq('0319'), ans_query, conn_twelection)\n",
    "caq.run_test()"
   ]
  }
 ],
 "metadata": {
  "celltoolbar": "Slideshow",
  "kernelspec": {
   "display_name": "Python Data Analysis",
   "language": "python",
   "name": "pyda"
  },
  "language_info": {
   "codemirror_mode": {
    "name": "ipython",
    "version": 3
   },
   "file_extension": ".py",
   "mimetype": "text/x-python",
   "name": "python",
   "nbconvert_exporter": "python",
   "pygments_lexer": "ipython3",
   "version": "3.6.8"
  }
 },
 "nbformat": 4,
 "nbformat_minor": 4
}
