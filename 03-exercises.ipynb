{
 "cells": [
  {
   "cell_type": "markdown",
   "metadata": {
    "slideshow": {
     "slide_type": "slide"
    }
   },
   "source": [
    "# SQL 語法入門\n",
    "\n",
    "> 資料分析：隨堂練習\n",
    "\n",
    "郭耀仁"
   ]
  },
  {
   "cell_type": "code",
   "execution_count": 1,
   "metadata": {
    "slideshow": {
     "slide_type": "subslide"
    }
   },
   "outputs": [],
   "source": [
    "import sqlite3\n",
    "import pandas as pd\n",
    "from sqlFrameCheck import checkAnsQuery\n",
    "\n",
    "conn_twelection = sqlite3.connect('twelection.db')\n",
    "conn_nba = sqlite3.connect('nba.db')"
   ]
  },
  {
   "cell_type": "markdown",
   "metadata": {
    "slideshow": {
     "slide_type": "slide"
    }
   },
   "source": [
    "## 隨堂練習：以 `COUNT()` 函式查詢 `teams` 暸解 NBA 東區（`confName = 'East'`）共有幾支球隊，將答案命名為 `n_teams`"
   ]
  },
  {
   "cell_type": "code",
   "execution_count": 2,
   "metadata": {
    "slideshow": {
     "slide_type": "-"
    }
   },
   "outputs": [],
   "source": [
    "ans_query = \"\"\"\n",
    "-- 將查詢語法寫在這裡\n",
    "\"\"\"\n",
    "# 試跑看看結果\n",
    "#pd.read_sql(ans_query, conn_nba)"
   ]
  },
  {
   "cell_type": "code",
   "execution_count": 3,
   "metadata": {
    "slideshow": {
     "slide_type": "skip"
    }
   },
   "outputs": [],
   "source": [
    "test_query = \"\"\"\n",
    "SELECT COUNT(*) AS n_teams\n",
    "  FROM teams\n",
    " WHERE confName = 'East';\n",
    "\"\"\""
   ]
  },
  {
   "cell_type": "markdown",
   "metadata": {
    "slideshow": {
     "slide_type": "subslide"
    }
   },
   "source": [
    "## 預期輸出"
   ]
  },
  {
   "cell_type": "code",
   "execution_count": 4,
   "metadata": {
    "slideshow": {
     "slide_type": "-"
    }
   },
   "outputs": [
    {
     "data": {
      "text/html": [
       "<div>\n",
       "<style scoped>\n",
       "    .dataframe tbody tr th:only-of-type {\n",
       "        vertical-align: middle;\n",
       "    }\n",
       "\n",
       "    .dataframe tbody tr th {\n",
       "        vertical-align: top;\n",
       "    }\n",
       "\n",
       "    .dataframe thead th {\n",
       "        text-align: right;\n",
       "    }\n",
       "</style>\n",
       "<table border=\"1\" class=\"dataframe\">\n",
       "  <thead>\n",
       "    <tr style=\"text-align: right;\">\n",
       "      <th></th>\n",
       "      <th>n_teams</th>\n",
       "    </tr>\n",
       "  </thead>\n",
       "  <tbody>\n",
       "    <tr>\n",
       "      <th>0</th>\n",
       "      <td>15</td>\n",
       "    </tr>\n",
       "  </tbody>\n",
       "</table>\n",
       "</div>"
      ],
      "text/plain": [
       "   n_teams\n",
       "0       15"
      ]
     },
     "execution_count": 4,
     "metadata": {},
     "output_type": "execute_result"
    }
   ],
   "source": [
    "pd.read_sql(test_query, conn_nba)"
   ]
  },
  {
   "cell_type": "markdown",
   "metadata": {
    "slideshow": {
     "slide_type": "subslide"
    }
   },
   "source": [
    "## 參考解答"
   ]
  },
  {
   "cell_type": "code",
   "execution_count": 5,
   "metadata": {},
   "outputs": [],
   "source": [
    "test_query = \"\"\"\n",
    "SELECT COUNT(*) AS n_teams\n",
    "  FROM teams\n",
    " WHERE confName = 'East';\n",
    "\"\"\""
   ]
  },
  {
   "cell_type": "markdown",
   "metadata": {
    "slideshow": {
     "slide_type": "subslide"
    }
   },
   "source": [
    "## 測資比對"
   ]
  },
  {
   "cell_type": "code",
   "execution_count": 6,
   "metadata": {},
   "outputs": [
    {
     "name": "stdout",
     "output_type": "stream",
     "text": [
      "查詢語法有誤，錯誤訊息為：\n",
      "\n",
      "'NoneType' object is not iterable\n"
     ]
    }
   ],
   "source": [
    "caq = checkAnsQuery(test_query, ans_query, conn_nba)\n",
    "caq.run_test()"
   ]
  },
  {
   "cell_type": "markdown",
   "metadata": {
    "slideshow": {
     "slide_type": "slide"
    }
   },
   "source": [
    "## 隨堂練習：以 `COUNT()` 函式查詢 `teams` 暸解 NBA 西區（`confName = 'West'`）共有幾支球隊，將答案命名為 `n_teams`"
   ]
  },
  {
   "cell_type": "code",
   "execution_count": 7,
   "metadata": {},
   "outputs": [],
   "source": [
    "ans_query = \"\"\"\n",
    "-- 將查詢語法寫在這裡\n",
    "\"\"\"\n",
    "# 試跑看看結果\n",
    "#pd.read_sql(ans_query, conn_nba)"
   ]
  },
  {
   "cell_type": "code",
   "execution_count": 8,
   "metadata": {
    "slideshow": {
     "slide_type": "skip"
    }
   },
   "outputs": [],
   "source": [
    "test_query = \"\"\"\n",
    "SELECT COUNT(*) AS n_teams\n",
    "  FROM teams\n",
    " WHERE confName = 'West';\n",
    "\"\"\""
   ]
  },
  {
   "cell_type": "markdown",
   "metadata": {
    "slideshow": {
     "slide_type": "subslide"
    }
   },
   "source": [
    "## 預期輸出"
   ]
  },
  {
   "cell_type": "code",
   "execution_count": 9,
   "metadata": {},
   "outputs": [
    {
     "data": {
      "text/html": [
       "<div>\n",
       "<style scoped>\n",
       "    .dataframe tbody tr th:only-of-type {\n",
       "        vertical-align: middle;\n",
       "    }\n",
       "\n",
       "    .dataframe tbody tr th {\n",
       "        vertical-align: top;\n",
       "    }\n",
       "\n",
       "    .dataframe thead th {\n",
       "        text-align: right;\n",
       "    }\n",
       "</style>\n",
       "<table border=\"1\" class=\"dataframe\">\n",
       "  <thead>\n",
       "    <tr style=\"text-align: right;\">\n",
       "      <th></th>\n",
       "      <th>n_teams</th>\n",
       "    </tr>\n",
       "  </thead>\n",
       "  <tbody>\n",
       "    <tr>\n",
       "      <th>0</th>\n",
       "      <td>15</td>\n",
       "    </tr>\n",
       "  </tbody>\n",
       "</table>\n",
       "</div>"
      ],
      "text/plain": [
       "   n_teams\n",
       "0       15"
      ]
     },
     "execution_count": 9,
     "metadata": {},
     "output_type": "execute_result"
    }
   ],
   "source": [
    "pd.read_sql(test_query, conn_nba)"
   ]
  },
  {
   "cell_type": "markdown",
   "metadata": {
    "slideshow": {
     "slide_type": "subslide"
    }
   },
   "source": [
    "## 參考解答"
   ]
  },
  {
   "cell_type": "code",
   "execution_count": 10,
   "metadata": {},
   "outputs": [],
   "source": [
    "test_query = \"\"\"\n",
    "SELECT COUNT(*) AS n_teams\n",
    "  FROM teams\n",
    " WHERE confName = 'West';\n",
    "\"\"\""
   ]
  },
  {
   "cell_type": "markdown",
   "metadata": {
    "slideshow": {
     "slide_type": "subslide"
    }
   },
   "source": [
    "## 測資比對"
   ]
  },
  {
   "cell_type": "code",
   "execution_count": 11,
   "metadata": {},
   "outputs": [
    {
     "name": "stdout",
     "output_type": "stream",
     "text": [
      "查詢語法有誤，錯誤訊息為：\n",
      "\n",
      "'NoneType' object is not iterable\n"
     ]
    }
   ],
   "source": [
    "caq = checkAnsQuery(test_query, ans_query, conn_nba)\n",
    "caq.run_test()"
   ]
  },
  {
   "cell_type": "markdown",
   "metadata": {
    "slideshow": {
     "slide_type": "slide"
    }
   },
   "source": [
    "## 隨堂練習：使用 `COUNT()` 函式查詢 `presidential2020` 有幾個觀測值，將答案命名為 `n_obs`"
   ]
  },
  {
   "cell_type": "code",
   "execution_count": 12,
   "metadata": {},
   "outputs": [],
   "source": [
    "ans_query = \"\"\"\n",
    "-- 將查詢語法寫在這裡\n",
    "\"\"\"\n",
    "# 試跑看看結果\n",
    "#pd.read_sql(ans_query, conn_twelection)"
   ]
  },
  {
   "cell_type": "code",
   "execution_count": 13,
   "metadata": {
    "slideshow": {
     "slide_type": "skip"
    }
   },
   "outputs": [],
   "source": [
    "test_query = \"\"\"\n",
    "SELECT COUNT(*) AS n_obs\n",
    "  FROM presidential2020;\n",
    "\"\"\""
   ]
  },
  {
   "cell_type": "markdown",
   "metadata": {
    "slideshow": {
     "slide_type": "subslide"
    }
   },
   "source": [
    "## 預期輸出"
   ]
  },
  {
   "cell_type": "code",
   "execution_count": 14,
   "metadata": {},
   "outputs": [
    {
     "data": {
      "text/html": [
       "<div>\n",
       "<style scoped>\n",
       "    .dataframe tbody tr th:only-of-type {\n",
       "        vertical-align: middle;\n",
       "    }\n",
       "\n",
       "    .dataframe tbody tr th {\n",
       "        vertical-align: top;\n",
       "    }\n",
       "\n",
       "    .dataframe thead th {\n",
       "        text-align: right;\n",
       "    }\n",
       "</style>\n",
       "<table border=\"1\" class=\"dataframe\">\n",
       "  <thead>\n",
       "    <tr style=\"text-align: right;\">\n",
       "      <th></th>\n",
       "      <th>n_obs</th>\n",
       "    </tr>\n",
       "  </thead>\n",
       "  <tbody>\n",
       "    <tr>\n",
       "      <th>0</th>\n",
       "      <td>51678</td>\n",
       "    </tr>\n",
       "  </tbody>\n",
       "</table>\n",
       "</div>"
      ],
      "text/plain": [
       "   n_obs\n",
       "0  51678"
      ]
     },
     "execution_count": 14,
     "metadata": {},
     "output_type": "execute_result"
    }
   ],
   "source": [
    "pd.read_sql(test_query, conn_twelection)"
   ]
  },
  {
   "cell_type": "markdown",
   "metadata": {
    "slideshow": {
     "slide_type": "subslide"
    }
   },
   "source": [
    "## 參考解答"
   ]
  },
  {
   "cell_type": "code",
   "execution_count": 15,
   "metadata": {},
   "outputs": [],
   "source": [
    "test_query = \"\"\"\n",
    "SELECT COUNT(*) AS n_obs\n",
    "  FROM presidential2020;\n",
    "\"\"\""
   ]
  },
  {
   "cell_type": "markdown",
   "metadata": {
    "slideshow": {
     "slide_type": "subslide"
    }
   },
   "source": [
    "## 測資比對"
   ]
  },
  {
   "cell_type": "code",
   "execution_count": 16,
   "metadata": {},
   "outputs": [
    {
     "name": "stdout",
     "output_type": "stream",
     "text": [
      "查詢語法有誤，錯誤訊息為：\n",
      "\n",
      "'NoneType' object is not iterable\n"
     ]
    }
   ],
   "source": [
    "caq = checkAnsQuery(test_query, ans_query, conn_twelection)\n",
    "caq.run_test()"
   ]
  },
  {
   "cell_type": "markdown",
   "metadata": {
    "slideshow": {
     "slide_type": "slide"
    }
   },
   "source": [
    "## 隨堂練習：使用 `COUNT()` 函式搭配 `PRAGMA_TABLE_INFO()` 函式查詢 `presidential2020` 有幾個欄位數，並命名為 `n_cols`"
   ]
  },
  {
   "cell_type": "code",
   "execution_count": 17,
   "metadata": {},
   "outputs": [],
   "source": [
    "ans_query = \"\"\"\n",
    "-- 將查詢語法寫在這裡\n",
    "\"\"\"\n",
    "# 試跑看看結果\n",
    "#pd.read_sql(ans_query, conn_twelection)"
   ]
  },
  {
   "cell_type": "code",
   "execution_count": 18,
   "metadata": {
    "slideshow": {
     "slide_type": "skip"
    }
   },
   "outputs": [],
   "source": [
    "test_query = \"\"\"\n",
    "SELECT COUNT(*) AS n_cols\n",
    "  FROM PRAGMA_TABLE_INFO('presidential2020');\n",
    "\"\"\""
   ]
  },
  {
   "cell_type": "markdown",
   "metadata": {
    "slideshow": {
     "slide_type": "subslide"
    }
   },
   "source": [
    "## 預期輸出"
   ]
  },
  {
   "cell_type": "code",
   "execution_count": 19,
   "metadata": {},
   "outputs": [
    {
     "data": {
      "text/html": [
       "<div>\n",
       "<style scoped>\n",
       "    .dataframe tbody tr th:only-of-type {\n",
       "        vertical-align: middle;\n",
       "    }\n",
       "\n",
       "    .dataframe tbody tr th {\n",
       "        vertical-align: top;\n",
       "    }\n",
       "\n",
       "    .dataframe thead th {\n",
       "        text-align: right;\n",
       "    }\n",
       "</style>\n",
       "<table border=\"1\" class=\"dataframe\">\n",
       "  <thead>\n",
       "    <tr style=\"text-align: right;\">\n",
       "      <th></th>\n",
       "      <th>n_cols</th>\n",
       "    </tr>\n",
       "  </thead>\n",
       "  <tbody>\n",
       "    <tr>\n",
       "      <th>0</th>\n",
       "      <td>7</td>\n",
       "    </tr>\n",
       "  </tbody>\n",
       "</table>\n",
       "</div>"
      ],
      "text/plain": [
       "   n_cols\n",
       "0       7"
      ]
     },
     "execution_count": 19,
     "metadata": {},
     "output_type": "execute_result"
    }
   ],
   "source": [
    "pd.read_sql(test_query, conn_twelection)"
   ]
  },
  {
   "cell_type": "markdown",
   "metadata": {
    "slideshow": {
     "slide_type": "subslide"
    }
   },
   "source": [
    "## 參考解答"
   ]
  },
  {
   "cell_type": "code",
   "execution_count": 20,
   "metadata": {},
   "outputs": [],
   "source": [
    "test_query = \"\"\"\n",
    "SELECT COUNT(*) AS n_cols\n",
    "  FROM PRAGMA_TABLE_INFO('presidential2020');\n",
    "\"\"\""
   ]
  },
  {
   "cell_type": "markdown",
   "metadata": {
    "slideshow": {
     "slide_type": "subslide"
    }
   },
   "source": [
    "## 測資比對"
   ]
  },
  {
   "cell_type": "code",
   "execution_count": 21,
   "metadata": {},
   "outputs": [
    {
     "name": "stdout",
     "output_type": "stream",
     "text": [
      "查詢語法有誤，錯誤訊息為：\n",
      "\n",
      "'NoneType' object is not iterable\n"
     ]
    }
   ],
   "source": [
    "caq = checkAnsQuery(test_query, ans_query, conn_twelection)\n",
    "caq.run_test()"
   ]
  },
  {
   "cell_type": "markdown",
   "metadata": {
    "slideshow": {
     "slide_type": "slide"
    }
   },
   "source": [
    "## 隨堂練習：查詢 `careerSummary` 生涯場均得分 `ppg` 超過 20 分的球員有幾位，並命名為 `n_players`"
   ]
  },
  {
   "cell_type": "code",
   "execution_count": 22,
   "metadata": {},
   "outputs": [],
   "source": [
    "ans_query = \"\"\"\n",
    "-- 將查詢語法寫在這裡\n",
    "\"\"\"\n",
    "# 試跑看看結果\n",
    "#pd.read_sql(ans_query, conn_nba)"
   ]
  },
  {
   "cell_type": "code",
   "execution_count": 23,
   "metadata": {
    "slideshow": {
     "slide_type": "skip"
    }
   },
   "outputs": [],
   "source": [
    "test_query = \"\"\"\n",
    "SELECT COUNT(*) AS n_players\n",
    "  FROM careerSummaries\n",
    " WHERE ppg > 20;\n",
    "\"\"\""
   ]
  },
  {
   "cell_type": "markdown",
   "metadata": {
    "slideshow": {
     "slide_type": "subslide"
    }
   },
   "source": [
    "## 預期輸出"
   ]
  },
  {
   "cell_type": "code",
   "execution_count": 24,
   "metadata": {},
   "outputs": [
    {
     "data": {
      "text/html": [
       "<div>\n",
       "<style scoped>\n",
       "    .dataframe tbody tr th:only-of-type {\n",
       "        vertical-align: middle;\n",
       "    }\n",
       "\n",
       "    .dataframe tbody tr th {\n",
       "        vertical-align: top;\n",
       "    }\n",
       "\n",
       "    .dataframe thead th {\n",
       "        text-align: right;\n",
       "    }\n",
       "</style>\n",
       "<table border=\"1\" class=\"dataframe\">\n",
       "  <thead>\n",
       "    <tr style=\"text-align: right;\">\n",
       "      <th></th>\n",
       "      <th>n_players</th>\n",
       "    </tr>\n",
       "  </thead>\n",
       "  <tbody>\n",
       "    <tr>\n",
       "      <th>0</th>\n",
       "      <td>18</td>\n",
       "    </tr>\n",
       "  </tbody>\n",
       "</table>\n",
       "</div>"
      ],
      "text/plain": [
       "   n_players\n",
       "0         18"
      ]
     },
     "execution_count": 24,
     "metadata": {},
     "output_type": "execute_result"
    }
   ],
   "source": [
    "pd.read_sql(test_query, conn_nba)"
   ]
  },
  {
   "cell_type": "markdown",
   "metadata": {
    "slideshow": {
     "slide_type": "subslide"
    }
   },
   "source": [
    "## 參考解答"
   ]
  },
  {
   "cell_type": "code",
   "execution_count": 25,
   "metadata": {},
   "outputs": [],
   "source": [
    "test_query = \"\"\"\n",
    "SELECT COUNT(*) AS n_players\n",
    "  FROM careerSummaries\n",
    " WHERE ppg > 20;\n",
    "\"\"\""
   ]
  },
  {
   "cell_type": "markdown",
   "metadata": {
    "slideshow": {
     "slide_type": "subslide"
    }
   },
   "source": [
    "## 測資比對"
   ]
  },
  {
   "cell_type": "code",
   "execution_count": 26,
   "metadata": {},
   "outputs": [
    {
     "name": "stdout",
     "output_type": "stream",
     "text": [
      "查詢語法有誤，錯誤訊息為：\n",
      "\n",
      "'NoneType' object is not iterable\n"
     ]
    }
   ],
   "source": [
    "caq = checkAnsQuery(test_query, ans_query, conn_nba)\n",
    "caq.run_test()"
   ]
  },
  {
   "cell_type": "markdown",
   "metadata": {
    "slideshow": {
     "slide_type": "slide"
    }
   },
   "source": [
    "## 隨堂練習：使用 `SUM()` 函式將 `presidential2020` 的票數加總，並命名為 `total_votes`"
   ]
  },
  {
   "cell_type": "code",
   "execution_count": 27,
   "metadata": {},
   "outputs": [],
   "source": [
    "ans_query = \"\"\"\n",
    "-- 將查詢語法寫在這裡\n",
    "\"\"\"\n",
    "# 試跑看看結果\n",
    "#pd.read_sql(ans_query, conn_twelection)"
   ]
  },
  {
   "cell_type": "code",
   "execution_count": 28,
   "metadata": {
    "slideshow": {
     "slide_type": "skip"
    }
   },
   "outputs": [],
   "source": [
    "test_query = \"\"\"\n",
    "SELECT SUM(votes) AS total_votes\n",
    "  FROM presidential2020;\n",
    "\"\"\""
   ]
  },
  {
   "cell_type": "markdown",
   "metadata": {
    "slideshow": {
     "slide_type": "subslide"
    }
   },
   "source": [
    "## 預期輸出"
   ]
  },
  {
   "cell_type": "code",
   "execution_count": 29,
   "metadata": {},
   "outputs": [
    {
     "data": {
      "text/html": [
       "<div>\n",
       "<style scoped>\n",
       "    .dataframe tbody tr th:only-of-type {\n",
       "        vertical-align: middle;\n",
       "    }\n",
       "\n",
       "    .dataframe tbody tr th {\n",
       "        vertical-align: top;\n",
       "    }\n",
       "\n",
       "    .dataframe thead th {\n",
       "        text-align: right;\n",
       "    }\n",
       "</style>\n",
       "<table border=\"1\" class=\"dataframe\">\n",
       "  <thead>\n",
       "    <tr style=\"text-align: right;\">\n",
       "      <th></th>\n",
       "      <th>total_votes</th>\n",
       "    </tr>\n",
       "  </thead>\n",
       "  <tbody>\n",
       "    <tr>\n",
       "      <th>0</th>\n",
       "      <td>14300940</td>\n",
       "    </tr>\n",
       "  </tbody>\n",
       "</table>\n",
       "</div>"
      ],
      "text/plain": [
       "   total_votes\n",
       "0     14300940"
      ]
     },
     "execution_count": 29,
     "metadata": {},
     "output_type": "execute_result"
    }
   ],
   "source": [
    "pd.read_sql(test_query, conn_twelection)"
   ]
  },
  {
   "cell_type": "markdown",
   "metadata": {
    "slideshow": {
     "slide_type": "subslide"
    }
   },
   "source": [
    "## 參考解答"
   ]
  },
  {
   "cell_type": "code",
   "execution_count": 30,
   "metadata": {},
   "outputs": [],
   "source": [
    "test_query = \"\"\"\n",
    "SELECT SUM(votes) AS total_votes\n",
    "  FROM presidential2020;\n",
    "\"\"\""
   ]
  },
  {
   "cell_type": "markdown",
   "metadata": {
    "slideshow": {
     "slide_type": "subslide"
    }
   },
   "source": [
    "## 測資比對"
   ]
  },
  {
   "cell_type": "code",
   "execution_count": 31,
   "metadata": {},
   "outputs": [
    {
     "name": "stdout",
     "output_type": "stream",
     "text": [
      "查詢語法有誤，錯誤訊息為：\n",
      "\n",
      "'NoneType' object is not iterable\n"
     ]
    }
   ],
   "source": [
    "caq = checkAnsQuery(test_query, ans_query, conn_twelection)\n",
    "caq.run_test()"
   ]
  },
  {
   "cell_type": "markdown",
   "metadata": {
    "slideshow": {
     "slide_type": "slide"
    }
   },
   "source": [
    "## 隨堂練習：使用 `SUM()` 函式與 `GROUP BY` 將 `presidential2020` 三組候選人的票數加總，並命名為 `total_votes`，選擇 `number`、`candidates` 與 `total_votes` 這三個變數"
   ]
  },
  {
   "cell_type": "code",
   "execution_count": 32,
   "metadata": {},
   "outputs": [],
   "source": [
    "ans_query = \"\"\"\n",
    "-- 將查詢語法寫在這裡\n",
    "\"\"\"\n",
    "# 試跑看看結果\n",
    "#pd.read_sql(ans_query, conn_twelection)"
   ]
  },
  {
   "cell_type": "code",
   "execution_count": 33,
   "metadata": {
    "slideshow": {
     "slide_type": "skip"
    }
   },
   "outputs": [],
   "source": [
    "test_query = \"\"\"\n",
    "SELECT number,\n",
    "       candidates,\n",
    "       SUM(votes) AS total_votes\n",
    "  FROM presidential2020\n",
    " GROUP BY number;\n",
    "\"\"\""
   ]
  },
  {
   "cell_type": "markdown",
   "metadata": {
    "slideshow": {
     "slide_type": "subslide"
    }
   },
   "source": [
    "## 預期輸出"
   ]
  },
  {
   "cell_type": "code",
   "execution_count": 34,
   "metadata": {},
   "outputs": [
    {
     "data": {
      "text/html": [
       "<div>\n",
       "<style scoped>\n",
       "    .dataframe tbody tr th:only-of-type {\n",
       "        vertical-align: middle;\n",
       "    }\n",
       "\n",
       "    .dataframe tbody tr th {\n",
       "        vertical-align: top;\n",
       "    }\n",
       "\n",
       "    .dataframe thead th {\n",
       "        text-align: right;\n",
       "    }\n",
       "</style>\n",
       "<table border=\"1\" class=\"dataframe\">\n",
       "  <thead>\n",
       "    <tr style=\"text-align: right;\">\n",
       "      <th></th>\n",
       "      <th>number</th>\n",
       "      <th>candidates</th>\n",
       "      <th>total_votes</th>\n",
       "    </tr>\n",
       "  </thead>\n",
       "  <tbody>\n",
       "    <tr>\n",
       "      <th>0</th>\n",
       "      <td>1</td>\n",
       "      <td>宋楚瑜/余湘</td>\n",
       "      <td>608590</td>\n",
       "    </tr>\n",
       "    <tr>\n",
       "      <th>1</th>\n",
       "      <td>2</td>\n",
       "      <td>韓國瑜/張善政</td>\n",
       "      <td>5522119</td>\n",
       "    </tr>\n",
       "    <tr>\n",
       "      <th>2</th>\n",
       "      <td>3</td>\n",
       "      <td>蔡英文/賴清德</td>\n",
       "      <td>8170231</td>\n",
       "    </tr>\n",
       "  </tbody>\n",
       "</table>\n",
       "</div>"
      ],
      "text/plain": [
       "   number candidates  total_votes\n",
       "0       1     宋楚瑜/余湘       608590\n",
       "1       2    韓國瑜/張善政      5522119\n",
       "2       3    蔡英文/賴清德      8170231"
      ]
     },
     "execution_count": 34,
     "metadata": {},
     "output_type": "execute_result"
    }
   ],
   "source": [
    "pd.read_sql(test_query, conn_twelection)"
   ]
  },
  {
   "cell_type": "markdown",
   "metadata": {
    "slideshow": {
     "slide_type": "subslide"
    }
   },
   "source": [
    "## 參考解答"
   ]
  },
  {
   "cell_type": "code",
   "execution_count": 35,
   "metadata": {},
   "outputs": [],
   "source": [
    "test_query = \"\"\"\n",
    "SELECT number,\n",
    "       candidates,\n",
    "       SUM(votes) AS total_votes\n",
    "  FROM presidential2020\n",
    " GROUP BY number;\n",
    "\"\"\""
   ]
  },
  {
   "cell_type": "markdown",
   "metadata": {
    "slideshow": {
     "slide_type": "subslide"
    }
   },
   "source": [
    "## 測資比對"
   ]
  },
  {
   "cell_type": "code",
   "execution_count": 36,
   "metadata": {},
   "outputs": [
    {
     "name": "stdout",
     "output_type": "stream",
     "text": [
      "查詢語法有誤，錯誤訊息為：\n",
      "\n",
      "'NoneType' object is not iterable\n"
     ]
    }
   ],
   "source": [
    "caq = checkAnsQuery(test_query, ans_query, conn_twelection)\n",
    "caq.run_test()"
   ]
  },
  {
   "cell_type": "markdown",
   "metadata": {
    "slideshow": {
     "slide_type": "slide"
    }
   },
   "source": [
    "## 隨堂練習：使用 `SUM()` 函式、 `GROUP BY` 與 `HAVING` 找出 `presidential2020` 臺北市總票數超過 10 萬的行政區，總票數命名為 `total_votes`，選擇 `town` 與 `total_votes` 這兩個變數"
   ]
  },
  {
   "cell_type": "code",
   "execution_count": 37,
   "metadata": {},
   "outputs": [],
   "source": [
    "ans_query = \"\"\"\n",
    "-- 將查詢語法寫在這裡\n",
    "\"\"\"\n",
    "# 試跑看看結果\n",
    "#pd.read_sql(ans_query, conn_twelection)"
   ]
  },
  {
   "cell_type": "code",
   "execution_count": 38,
   "metadata": {
    "slideshow": {
     "slide_type": "skip"
    }
   },
   "outputs": [],
   "source": [
    "test_query = \"\"\"\n",
    "SELECT town,\n",
    "       SUM(votes) AS total_votes\n",
    "  FROM presidential2020\n",
    " WHERE county = '臺北市'\n",
    " GROUP BY town\n",
    "HAVING total_votes > 100000\n",
    "ORDER BY total_votes DESC;\n",
    "\"\"\""
   ]
  },
  {
   "cell_type": "markdown",
   "metadata": {
    "slideshow": {
     "slide_type": "subslide"
    }
   },
   "source": [
    "## 預期輸出"
   ]
  },
  {
   "cell_type": "code",
   "execution_count": 39,
   "metadata": {},
   "outputs": [
    {
     "data": {
      "text/html": [
       "<div>\n",
       "<style scoped>\n",
       "    .dataframe tbody tr th:only-of-type {\n",
       "        vertical-align: middle;\n",
       "    }\n",
       "\n",
       "    .dataframe tbody tr th {\n",
       "        vertical-align: top;\n",
       "    }\n",
       "\n",
       "    .dataframe thead th {\n",
       "        text-align: right;\n",
       "    }\n",
       "</style>\n",
       "<table border=\"1\" class=\"dataframe\">\n",
       "  <thead>\n",
       "    <tr style=\"text-align: right;\">\n",
       "      <th></th>\n",
       "      <th>town</th>\n",
       "      <th>total_votes</th>\n",
       "    </tr>\n",
       "  </thead>\n",
       "  <tbody>\n",
       "    <tr>\n",
       "      <th>0</th>\n",
       "      <td>大安區</td>\n",
       "      <td>182001</td>\n",
       "    </tr>\n",
       "    <tr>\n",
       "      <th>1</th>\n",
       "      <td>士林區</td>\n",
       "      <td>177249</td>\n",
       "    </tr>\n",
       "    <tr>\n",
       "      <th>2</th>\n",
       "      <td>內湖區</td>\n",
       "      <td>177062</td>\n",
       "    </tr>\n",
       "    <tr>\n",
       "      <th>3</th>\n",
       "      <td>文山區</td>\n",
       "      <td>167936</td>\n",
       "    </tr>\n",
       "    <tr>\n",
       "      <th>4</th>\n",
       "      <td>北投區</td>\n",
       "      <td>156354</td>\n",
       "    </tr>\n",
       "    <tr>\n",
       "      <th>5</th>\n",
       "      <td>中山區</td>\n",
       "      <td>141880</td>\n",
       "    </tr>\n",
       "    <tr>\n",
       "      <th>6</th>\n",
       "      <td>信義區</td>\n",
       "      <td>138516</td>\n",
       "    </tr>\n",
       "    <tr>\n",
       "      <th>7</th>\n",
       "      <td>松山區</td>\n",
       "      <td>125561</td>\n",
       "    </tr>\n",
       "    <tr>\n",
       "      <th>8</th>\n",
       "      <td>萬華區</td>\n",
       "      <td>118574</td>\n",
       "    </tr>\n",
       "  </tbody>\n",
       "</table>\n",
       "</div>"
      ],
      "text/plain": [
       "  town  total_votes\n",
       "0  大安區       182001\n",
       "1  士林區       177249\n",
       "2  內湖區       177062\n",
       "3  文山區       167936\n",
       "4  北投區       156354\n",
       "5  中山區       141880\n",
       "6  信義區       138516\n",
       "7  松山區       125561\n",
       "8  萬華區       118574"
      ]
     },
     "execution_count": 39,
     "metadata": {},
     "output_type": "execute_result"
    }
   ],
   "source": [
    "pd.read_sql(test_query, conn_twelection)"
   ]
  },
  {
   "cell_type": "markdown",
   "metadata": {
    "slideshow": {
     "slide_type": "subslide"
    }
   },
   "source": [
    "## 參考解答"
   ]
  },
  {
   "cell_type": "code",
   "execution_count": 40,
   "metadata": {
    "slideshow": {
     "slide_type": "-"
    }
   },
   "outputs": [],
   "source": [
    "test_query = \"\"\"\n",
    "SELECT town,\n",
    "       SUM(votes) AS total_votes\n",
    "  FROM presidential2020\n",
    " WHERE county = '臺北市'\n",
    " GROUP BY town\n",
    "HAVING total_votes > 100000\n",
    "ORDER BY total_votes DESC;\n",
    "\"\"\""
   ]
  },
  {
   "cell_type": "markdown",
   "metadata": {
    "slideshow": {
     "slide_type": "subslide"
    }
   },
   "source": [
    "## 測資比對"
   ]
  },
  {
   "cell_type": "code",
   "execution_count": 41,
   "metadata": {},
   "outputs": [
    {
     "name": "stdout",
     "output_type": "stream",
     "text": [
      "查詢語法有誤，錯誤訊息為：\n",
      "\n",
      "'NoneType' object is not iterable\n"
     ]
    }
   ],
   "source": [
    "caq = checkAnsQuery(test_query, ans_query, conn_twelection)\n",
    "caq.run_test()"
   ]
  },
  {
   "cell_type": "markdown",
   "metadata": {
    "slideshow": {
     "slide_type": "slide"
    }
   },
   "source": [
    "## 隨堂練習：使用 `CASE` 敘述，將 `presidential2020` 三組候選人的票數加總分類為六都（臺北市、新北市、桃園市、臺中市、臺南市與高雄市）和非六都，命名這個類別為 `county_type`，總票數命名為 `total_votes`，選擇 `county_type` 與 `total_votes` 這兩個變數"
   ]
  },
  {
   "cell_type": "code",
   "execution_count": 42,
   "metadata": {},
   "outputs": [],
   "source": [
    "ans_query = \"\"\"\n",
    "-- 將查詢語法寫在這裡\n",
    "\"\"\"\n",
    "# 試跑看看結果\n",
    "#pd.read_sql(ans_query, conn_twelection)"
   ]
  },
  {
   "cell_type": "code",
   "execution_count": 43,
   "metadata": {
    "slideshow": {
     "slide_type": "skip"
    }
   },
   "outputs": [],
   "source": [
    "test_query = \"\"\"\n",
    "SELECT CASE WHEN county IN ('臺北市', '新北市', '桃園市', '臺中市', '臺南市', '高雄市') THEN '六都'\n",
    "       ELSE '非六都'\n",
    "       END AS county_type,\n",
    "       SUM(votes) AS total_votes\n",
    "  FROM presidential2020\n",
    " GROUP BY county_type;\n",
    "\"\"\""
   ]
  },
  {
   "cell_type": "markdown",
   "metadata": {
    "slideshow": {
     "slide_type": "subslide"
    }
   },
   "source": [
    "## 預期輸出"
   ]
  },
  {
   "cell_type": "code",
   "execution_count": 44,
   "metadata": {},
   "outputs": [
    {
     "data": {
      "text/html": [
       "<div>\n",
       "<style scoped>\n",
       "    .dataframe tbody tr th:only-of-type {\n",
       "        vertical-align: middle;\n",
       "    }\n",
       "\n",
       "    .dataframe tbody tr th {\n",
       "        vertical-align: top;\n",
       "    }\n",
       "\n",
       "    .dataframe thead th {\n",
       "        text-align: right;\n",
       "    }\n",
       "</style>\n",
       "<table border=\"1\" class=\"dataframe\">\n",
       "  <thead>\n",
       "    <tr style=\"text-align: right;\">\n",
       "      <th></th>\n",
       "      <th>county_type</th>\n",
       "      <th>total_votes</th>\n",
       "    </tr>\n",
       "  </thead>\n",
       "  <tbody>\n",
       "    <tr>\n",
       "      <th>0</th>\n",
       "      <td>六都</td>\n",
       "      <td>10039325</td>\n",
       "    </tr>\n",
       "    <tr>\n",
       "      <th>1</th>\n",
       "      <td>非六都</td>\n",
       "      <td>4261615</td>\n",
       "    </tr>\n",
       "  </tbody>\n",
       "</table>\n",
       "</div>"
      ],
      "text/plain": [
       "  county_type  total_votes\n",
       "0          六都     10039325\n",
       "1         非六都      4261615"
      ]
     },
     "execution_count": 44,
     "metadata": {},
     "output_type": "execute_result"
    }
   ],
   "source": [
    "pd.read_sql(test_query, conn_twelection)"
   ]
  },
  {
   "cell_type": "markdown",
   "metadata": {
    "slideshow": {
     "slide_type": "subslide"
    }
   },
   "source": [
    "## 參考解答"
   ]
  },
  {
   "cell_type": "code",
   "execution_count": 45,
   "metadata": {
    "slideshow": {
     "slide_type": "-"
    }
   },
   "outputs": [],
   "source": [
    "test_query = \"\"\"\n",
    "SELECT CASE WHEN county IN ('臺北市', '新北市', '桃園市', '臺中市', '臺南市', '高雄市') THEN '六都'\n",
    "       ELSE '非六都'\n",
    "       END AS county_type,\n",
    "       SUM(votes) AS total_votes\n",
    "  FROM presidential2020\n",
    " GROUP BY county_type;\n",
    "\"\"\""
   ]
  },
  {
   "cell_type": "markdown",
   "metadata": {
    "slideshow": {
     "slide_type": "subslide"
    }
   },
   "source": [
    "## 測資比對"
   ]
  },
  {
   "cell_type": "code",
   "execution_count": 46,
   "metadata": {},
   "outputs": [
    {
     "name": "stdout",
     "output_type": "stream",
     "text": [
      "查詢語法有誤，錯誤訊息為：\n",
      "\n",
      "'NoneType' object is not iterable\n"
     ]
    }
   ],
   "source": [
    "caq = checkAnsQuery(test_query, ans_query, conn_twelection)\n",
    "caq.run_test()"
   ]
  },
  {
   "cell_type": "markdown",
   "metadata": {
    "slideshow": {
     "slide_type": "slide"
    }
   },
   "source": [
    "## 隨堂練習：查詢 `nba.db` 目前生涯總助攻數（`assists`）最高的球員是誰"
   ]
  },
  {
   "cell_type": "code",
   "execution_count": 47,
   "metadata": {},
   "outputs": [],
   "source": [
    "ans_query = \"\"\"\n",
    "-- 將查詢語法寫在這裡\n",
    "\"\"\"\n",
    "# 試跑看看結果\n",
    "#pd.read_sql(ans_query, conn_nba)"
   ]
  },
  {
   "cell_type": "code",
   "execution_count": 48,
   "metadata": {
    "slideshow": {
     "slide_type": "skip"
    }
   },
   "outputs": [],
   "source": [
    "test_query = \"\"\"\n",
    "SELECT firstName,\n",
    "       lastName\n",
    "  FROM players\n",
    " WHERE personId = (\n",
    "           SELECT personId\n",
    "             FROM careerSummaries\n",
    "            WHERE assists = (\n",
    "                SELECT MAX(assists)\n",
    "                  FROM careerSummaries\n",
    "            )\n",
    "       );\n",
    "\"\"\""
   ]
  },
  {
   "cell_type": "markdown",
   "metadata": {
    "slideshow": {
     "slide_type": "subslide"
    }
   },
   "source": [
    "## 預期輸出"
   ]
  },
  {
   "cell_type": "code",
   "execution_count": 49,
   "metadata": {},
   "outputs": [
    {
     "data": {
      "text/html": [
       "<div>\n",
       "<style scoped>\n",
       "    .dataframe tbody tr th:only-of-type {\n",
       "        vertical-align: middle;\n",
       "    }\n",
       "\n",
       "    .dataframe tbody tr th {\n",
       "        vertical-align: top;\n",
       "    }\n",
       "\n",
       "    .dataframe thead th {\n",
       "        text-align: right;\n",
       "    }\n",
       "</style>\n",
       "<table border=\"1\" class=\"dataframe\">\n",
       "  <thead>\n",
       "    <tr style=\"text-align: right;\">\n",
       "      <th></th>\n",
       "      <th>firstName</th>\n",
       "      <th>lastName</th>\n",
       "    </tr>\n",
       "  </thead>\n",
       "  <tbody>\n",
       "    <tr>\n",
       "      <th>0</th>\n",
       "      <td>Chris</td>\n",
       "      <td>Paul</td>\n",
       "    </tr>\n",
       "  </tbody>\n",
       "</table>\n",
       "</div>"
      ],
      "text/plain": [
       "  firstName lastName\n",
       "0     Chris     Paul"
      ]
     },
     "execution_count": 49,
     "metadata": {},
     "output_type": "execute_result"
    }
   ],
   "source": [
    "pd.read_sql(test_query, conn_nba)"
   ]
  },
  {
   "cell_type": "markdown",
   "metadata": {
    "slideshow": {
     "slide_type": "subslide"
    }
   },
   "source": [
    "## 參考解答"
   ]
  },
  {
   "cell_type": "code",
   "execution_count": 50,
   "metadata": {
    "slideshow": {
     "slide_type": "-"
    }
   },
   "outputs": [],
   "source": [
    "test_query = \"\"\"\n",
    "SELECT firstName,\n",
    "       lastName\n",
    "  FROM players\n",
    " WHERE personId = (\n",
    "           SELECT personId\n",
    "             FROM careerSummaries\n",
    "            WHERE assists = (\n",
    "                SELECT MAX(assists)\n",
    "                  FROM careerSummaries\n",
    "            )\n",
    "       );\n",
    "\"\"\""
   ]
  },
  {
   "cell_type": "markdown",
   "metadata": {
    "slideshow": {
     "slide_type": "subslide"
    }
   },
   "source": [
    "## 測資比對"
   ]
  },
  {
   "cell_type": "code",
   "execution_count": 51,
   "metadata": {},
   "outputs": [
    {
     "name": "stdout",
     "output_type": "stream",
     "text": [
      "查詢語法有誤，錯誤訊息為：\n",
      "\n",
      "'NoneType' object is not iterable\n"
     ]
    }
   ],
   "source": [
    "caq = checkAnsQuery(test_query, ans_query, conn_nba)\n",
    "caq.run_test()"
   ]
  },
  {
   "cell_type": "markdown",
   "metadata": {
    "slideshow": {
     "slide_type": "slide"
    }
   },
   "source": [
    "## 隨堂練習：查詢 `nba.db` 目前生涯總籃板球 `totReb` 最高的球員是誰"
   ]
  },
  {
   "cell_type": "code",
   "execution_count": 52,
   "metadata": {},
   "outputs": [],
   "source": [
    "ans_query = \"\"\"\n",
    "-- 將查詢語法寫在這裡\n",
    "\"\"\"\n",
    "# 試跑看看結果\n",
    "#pd.read_sql(ans_query, conn_nba)"
   ]
  },
  {
   "cell_type": "code",
   "execution_count": 53,
   "metadata": {
    "slideshow": {
     "slide_type": "skip"
    }
   },
   "outputs": [],
   "source": [
    "test_query = \"\"\"\n",
    "SELECT firstName,\n",
    "       lastName\n",
    "  FROM players\n",
    " WHERE personId = (\n",
    "           SELECT personId\n",
    "             FROM careerSummaries\n",
    "            WHERE totReb = (\n",
    "                SELECT MAX(totReb)\n",
    "                  FROM careerSummaries\n",
    "            )\n",
    "       );\n",
    "\"\"\""
   ]
  },
  {
   "cell_type": "markdown",
   "metadata": {
    "slideshow": {
     "slide_type": "subslide"
    }
   },
   "source": [
    "## 預期輸出"
   ]
  },
  {
   "cell_type": "code",
   "execution_count": 54,
   "metadata": {},
   "outputs": [
    {
     "data": {
      "text/html": [
       "<div>\n",
       "<style scoped>\n",
       "    .dataframe tbody tr th:only-of-type {\n",
       "        vertical-align: middle;\n",
       "    }\n",
       "\n",
       "    .dataframe tbody tr th {\n",
       "        vertical-align: top;\n",
       "    }\n",
       "\n",
       "    .dataframe thead th {\n",
       "        text-align: right;\n",
       "    }\n",
       "</style>\n",
       "<table border=\"1\" class=\"dataframe\">\n",
       "  <thead>\n",
       "    <tr style=\"text-align: right;\">\n",
       "      <th></th>\n",
       "      <th>firstName</th>\n",
       "      <th>lastName</th>\n",
       "    </tr>\n",
       "  </thead>\n",
       "  <tbody>\n",
       "    <tr>\n",
       "      <th>0</th>\n",
       "      <td>Dwight</td>\n",
       "      <td>Howard</td>\n",
       "    </tr>\n",
       "  </tbody>\n",
       "</table>\n",
       "</div>"
      ],
      "text/plain": [
       "  firstName lastName\n",
       "0    Dwight   Howard"
      ]
     },
     "execution_count": 54,
     "metadata": {},
     "output_type": "execute_result"
    }
   ],
   "source": [
    "pd.read_sql(test_query, conn_nba)"
   ]
  },
  {
   "cell_type": "markdown",
   "metadata": {
    "slideshow": {
     "slide_type": "subslide"
    }
   },
   "source": [
    "## 參考解答"
   ]
  },
  {
   "cell_type": "code",
   "execution_count": 55,
   "metadata": {
    "slideshow": {
     "slide_type": "-"
    }
   },
   "outputs": [],
   "source": [
    "test_query = \"\"\"\n",
    "SELECT firstName,\n",
    "       lastName\n",
    "  FROM players\n",
    " WHERE personId = (\n",
    "           SELECT personId\n",
    "             FROM careerSummaries\n",
    "            WHERE totReb = (\n",
    "                SELECT MAX(totReb)\n",
    "                  FROM careerSummaries\n",
    "            )\n",
    "       );\n",
    "\"\"\""
   ]
  },
  {
   "cell_type": "markdown",
   "metadata": {
    "slideshow": {
     "slide_type": "subslide"
    }
   },
   "source": [
    "## 測資比對"
   ]
  },
  {
   "cell_type": "code",
   "execution_count": 56,
   "metadata": {},
   "outputs": [
    {
     "name": "stdout",
     "output_type": "stream",
     "text": [
      "查詢語法有誤，錯誤訊息為：\n",
      "\n",
      "'NoneType' object is not iterable\n"
     ]
    }
   ],
   "source": [
    "caq = checkAnsQuery(test_query, ans_query, conn_nba)\n",
    "caq.run_test()"
   ]
  },
  {
   "cell_type": "markdown",
   "metadata": {
    "slideshow": {
     "slide_type": "slide"
    }
   },
   "source": [
    "## 隨堂練習：查詢 `nba.db` 目前公鹿隊（Milwaukee Bucks）的球員陣容有誰"
   ]
  },
  {
   "cell_type": "code",
   "execution_count": 57,
   "metadata": {},
   "outputs": [],
   "source": [
    "ans_query = \"\"\"\n",
    "-- 將查詢語法寫在這裡\n",
    "\"\"\"\n",
    "# 試跑看看結果\n",
    "#pd.read_sql(ans_query, conn_nba)"
   ]
  },
  {
   "cell_type": "code",
   "execution_count": 58,
   "metadata": {
    "slideshow": {
     "slide_type": "skip"
    }
   },
   "outputs": [],
   "source": [
    "test_query = \"\"\"\n",
    "SELECT firstName,\n",
    "       lastName\n",
    "  FROM players\n",
    " WHERE personId IN (\n",
    "           SELECT personId\n",
    "             FROM rosters\n",
    "            WHERE teamId = (SELECT teamId\n",
    "                              FROM teams\n",
    "                             WHERE nickname = 'Bucks')\n",
    "       );\n",
    "\"\"\""
   ]
  },
  {
   "cell_type": "markdown",
   "metadata": {
    "slideshow": {
     "slide_type": "subslide"
    }
   },
   "source": [
    "## 預期輸出"
   ]
  },
  {
   "cell_type": "code",
   "execution_count": 59,
   "metadata": {
    "slideshow": {
     "slide_type": "-"
    }
   },
   "outputs": [
    {
     "data": {
      "text/html": [
       "<div>\n",
       "<style scoped>\n",
       "    .dataframe tbody tr th:only-of-type {\n",
       "        vertical-align: middle;\n",
       "    }\n",
       "\n",
       "    .dataframe tbody tr th {\n",
       "        vertical-align: top;\n",
       "    }\n",
       "\n",
       "    .dataframe thead th {\n",
       "        text-align: right;\n",
       "    }\n",
       "</style>\n",
       "<table border=\"1\" class=\"dataframe\">\n",
       "  <thead>\n",
       "    <tr style=\"text-align: right;\">\n",
       "      <th></th>\n",
       "      <th>firstName</th>\n",
       "      <th>lastName</th>\n",
       "    </tr>\n",
       "  </thead>\n",
       "  <tbody>\n",
       "    <tr>\n",
       "      <th>0</th>\n",
       "      <td>Kyle</td>\n",
       "      <td>Korver</td>\n",
       "    </tr>\n",
       "    <tr>\n",
       "      <th>1</th>\n",
       "      <td>Marvin</td>\n",
       "      <td>Williams</td>\n",
       "    </tr>\n",
       "    <tr>\n",
       "      <th>2</th>\n",
       "      <td>Ersan</td>\n",
       "      <td>Ilyasova</td>\n",
       "    </tr>\n",
       "    <tr>\n",
       "      <th>3</th>\n",
       "      <td>Brook</td>\n",
       "      <td>Lopez</td>\n",
       "    </tr>\n",
       "    <tr>\n",
       "      <th>4</th>\n",
       "      <td>Robin</td>\n",
       "      <td>Lopez</td>\n",
       "    </tr>\n",
       "    <tr>\n",
       "      <th>5</th>\n",
       "      <td>George</td>\n",
       "      <td>Hill</td>\n",
       "    </tr>\n",
       "    <tr>\n",
       "      <th>6</th>\n",
       "      <td>Wesley</td>\n",
       "      <td>Matthews</td>\n",
       "    </tr>\n",
       "    <tr>\n",
       "      <th>7</th>\n",
       "      <td>Eric</td>\n",
       "      <td>Bledsoe</td>\n",
       "    </tr>\n",
       "    <tr>\n",
       "      <th>8</th>\n",
       "      <td>Khris</td>\n",
       "      <td>Middleton</td>\n",
       "    </tr>\n",
       "    <tr>\n",
       "      <th>9</th>\n",
       "      <td>Giannis</td>\n",
       "      <td>Antetokounmpo</td>\n",
       "    </tr>\n",
       "    <tr>\n",
       "      <th>10</th>\n",
       "      <td>Thanasis</td>\n",
       "      <td>Antetokounmpo</td>\n",
       "    </tr>\n",
       "    <tr>\n",
       "      <th>11</th>\n",
       "      <td>Pat</td>\n",
       "      <td>Connaughton</td>\n",
       "    </tr>\n",
       "    <tr>\n",
       "      <th>12</th>\n",
       "      <td>D.J.</td>\n",
       "      <td>Wilson</td>\n",
       "    </tr>\n",
       "    <tr>\n",
       "      <th>13</th>\n",
       "      <td>Frank</td>\n",
       "      <td>Mason</td>\n",
       "    </tr>\n",
       "    <tr>\n",
       "      <th>14</th>\n",
       "      <td>Sterling</td>\n",
       "      <td>Brown</td>\n",
       "    </tr>\n",
       "    <tr>\n",
       "      <th>15</th>\n",
       "      <td>Donte</td>\n",
       "      <td>DiVincenzo</td>\n",
       "    </tr>\n",
       "    <tr>\n",
       "      <th>16</th>\n",
       "      <td>Cameron</td>\n",
       "      <td>Reynolds</td>\n",
       "    </tr>\n",
       "  </tbody>\n",
       "</table>\n",
       "</div>"
      ],
      "text/plain": [
       "   firstName       lastName\n",
       "0       Kyle         Korver\n",
       "1     Marvin       Williams\n",
       "2      Ersan       Ilyasova\n",
       "3      Brook          Lopez\n",
       "4      Robin          Lopez\n",
       "5     George           Hill\n",
       "6     Wesley       Matthews\n",
       "7       Eric        Bledsoe\n",
       "8      Khris      Middleton\n",
       "9    Giannis  Antetokounmpo\n",
       "10  Thanasis  Antetokounmpo\n",
       "11       Pat    Connaughton\n",
       "12      D.J.         Wilson\n",
       "13     Frank          Mason\n",
       "14  Sterling          Brown\n",
       "15     Donte     DiVincenzo\n",
       "16   Cameron       Reynolds"
      ]
     },
     "execution_count": 59,
     "metadata": {},
     "output_type": "execute_result"
    }
   ],
   "source": [
    "pd.read_sql(test_query, conn_nba)"
   ]
  },
  {
   "cell_type": "markdown",
   "metadata": {
    "slideshow": {
     "slide_type": "subslide"
    }
   },
   "source": [
    "## 參考解答"
   ]
  },
  {
   "cell_type": "code",
   "execution_count": 60,
   "metadata": {
    "slideshow": {
     "slide_type": "-"
    }
   },
   "outputs": [],
   "source": [
    "test_query = \"\"\"\n",
    "SELECT firstName,\n",
    "       lastName\n",
    "  FROM players\n",
    " WHERE personId IN (\n",
    "           SELECT personId\n",
    "             FROM rosters\n",
    "            WHERE teamId = (SELECT teamId\n",
    "                              FROM teams\n",
    "                             WHERE nickname = 'Bucks')\n",
    "       );\n",
    "\"\"\""
   ]
  },
  {
   "cell_type": "markdown",
   "metadata": {
    "slideshow": {
     "slide_type": "subslide"
    }
   },
   "source": [
    "## 測資比對"
   ]
  },
  {
   "cell_type": "code",
   "execution_count": 61,
   "metadata": {},
   "outputs": [
    {
     "name": "stdout",
     "output_type": "stream",
     "text": [
      "查詢語法有誤，錯誤訊息為：\n",
      "\n",
      "'NoneType' object is not iterable\n"
     ]
    }
   ],
   "source": [
    "caq = checkAnsQuery(test_query, ans_query, conn_nba)\n",
    "caq.run_test()"
   ]
  },
  {
   "cell_type": "markdown",
   "metadata": {
    "slideshow": {
     "slide_type": "subslide"
    }
   },
   "source": [
    "## 隨堂練習：查詢 `presidential2016` 三組候選人的得票率為何，選擇 `number`、`candidates` 與 `votes_percentage`"
   ]
  },
  {
   "cell_type": "code",
   "execution_count": 62,
   "metadata": {},
   "outputs": [],
   "source": [
    "ans_query = \"\"\"\n",
    "-- 將查詢語法寫在這裡\n",
    "\"\"\"\n",
    "# 試跑看看結果\n",
    "#pd.read_sql(ans_query, conn_twelection)"
   ]
  },
  {
   "cell_type": "code",
   "execution_count": 63,
   "metadata": {
    "slideshow": {
     "slide_type": "skip"
    }
   },
   "outputs": [],
   "source": [
    "test_query = \"\"\"\n",
    "SELECT number,\n",
    "       candidates,\n",
    "       CAST(SUM(votes) AS REAL) / CAST((SELECT SUM(votes) FROM presidential2016) AS REAL) AS votes_percentage\n",
    "  FROM presidential2016\n",
    " GROUP BY number;\n",
    "\"\"\""
   ]
  },
  {
   "cell_type": "markdown",
   "metadata": {
    "slideshow": {
     "slide_type": "subslide"
    }
   },
   "source": [
    "## 預期輸出"
   ]
  },
  {
   "cell_type": "code",
   "execution_count": 64,
   "metadata": {},
   "outputs": [
    {
     "data": {
      "text/html": [
       "<div>\n",
       "<style scoped>\n",
       "    .dataframe tbody tr th:only-of-type {\n",
       "        vertical-align: middle;\n",
       "    }\n",
       "\n",
       "    .dataframe tbody tr th {\n",
       "        vertical-align: top;\n",
       "    }\n",
       "\n",
       "    .dataframe thead th {\n",
       "        text-align: right;\n",
       "    }\n",
       "</style>\n",
       "<table border=\"1\" class=\"dataframe\">\n",
       "  <thead>\n",
       "    <tr style=\"text-align: right;\">\n",
       "      <th></th>\n",
       "      <th>number</th>\n",
       "      <th>candidates</th>\n",
       "      <th>votes_percentage</th>\n",
       "    </tr>\n",
       "  </thead>\n",
       "  <tbody>\n",
       "    <tr>\n",
       "      <th>0</th>\n",
       "      <td>1</td>\n",
       "      <td>朱立倫/王如玄</td>\n",
       "      <td>0.310409</td>\n",
       "    </tr>\n",
       "    <tr>\n",
       "      <th>1</th>\n",
       "      <td>2</td>\n",
       "      <td>蔡英文/陳建仁</td>\n",
       "      <td>0.561234</td>\n",
       "    </tr>\n",
       "    <tr>\n",
       "      <th>2</th>\n",
       "      <td>3</td>\n",
       "      <td>宋楚瑜/徐欣瑩</td>\n",
       "      <td>0.128357</td>\n",
       "    </tr>\n",
       "  </tbody>\n",
       "</table>\n",
       "</div>"
      ],
      "text/plain": [
       "   number candidates  votes_percentage\n",
       "0       1    朱立倫/王如玄          0.310409\n",
       "1       2    蔡英文/陳建仁          0.561234\n",
       "2       3    宋楚瑜/徐欣瑩          0.128357"
      ]
     },
     "execution_count": 64,
     "metadata": {},
     "output_type": "execute_result"
    }
   ],
   "source": [
    "pd.read_sql(test_query, conn_twelection)"
   ]
  },
  {
   "cell_type": "markdown",
   "metadata": {
    "slideshow": {
     "slide_type": "subslide"
    }
   },
   "source": [
    "## 參考解答"
   ]
  },
  {
   "cell_type": "code",
   "execution_count": 65,
   "metadata": {
    "slideshow": {
     "slide_type": "-"
    }
   },
   "outputs": [],
   "source": [
    "test_query = \"\"\"\n",
    "SELECT number,\n",
    "       candidates,\n",
    "       CAST(SUM(votes) AS REAL) / CAST((SELECT SUM(votes) FROM presidential2016) AS REAL) AS votes_percentage\n",
    "  FROM presidential2016\n",
    " GROUP BY number;\n",
    "\"\"\""
   ]
  },
  {
   "cell_type": "markdown",
   "metadata": {
    "slideshow": {
     "slide_type": "subslide"
    }
   },
   "source": [
    "## 測資比對"
   ]
  },
  {
   "cell_type": "code",
   "execution_count": 66,
   "metadata": {},
   "outputs": [
    {
     "name": "stdout",
     "output_type": "stream",
     "text": [
      "查詢語法有誤，錯誤訊息為：\n",
      "\n",
      "'NoneType' object is not iterable\n"
     ]
    }
   ],
   "source": [
    "caq = checkAnsQuery(test_query, ans_query, conn_twelection)\n",
    "caq.run_test()"
   ]
  },
  {
   "cell_type": "markdown",
   "metadata": {
    "slideshow": {
     "slide_type": "subslide"
    }
   },
   "source": [
    "## 隨堂練習：查詢 `presidential2020` 三組候選人的得票率為何，選擇 `number`、`candidates` 與 `votes_percentage`"
   ]
  },
  {
   "cell_type": "code",
   "execution_count": 67,
   "metadata": {},
   "outputs": [],
   "source": [
    "ans_query = \"\"\"\n",
    "-- 將查詢語法寫在這裡\n",
    "\"\"\"\n",
    "# 試跑看看結果\n",
    "#pd.read_sql(ans_query, conn_twelection)"
   ]
  },
  {
   "cell_type": "code",
   "execution_count": 68,
   "metadata": {
    "slideshow": {
     "slide_type": "skip"
    }
   },
   "outputs": [],
   "source": [
    "test_query = \"\"\"\n",
    "SELECT number,\n",
    "       candidates,\n",
    "       CAST(SUM(votes) AS REAL) / CAST((SELECT SUM(votes) FROM presidential2020) AS REAL) AS votes_percentage\n",
    "  FROM presidential2020\n",
    " GROUP BY number;\n",
    "\"\"\""
   ]
  },
  {
   "cell_type": "markdown",
   "metadata": {
    "slideshow": {
     "slide_type": "subslide"
    }
   },
   "source": [
    "## 預期輸出"
   ]
  },
  {
   "cell_type": "code",
   "execution_count": 69,
   "metadata": {},
   "outputs": [
    {
     "data": {
      "text/html": [
       "<div>\n",
       "<style scoped>\n",
       "    .dataframe tbody tr th:only-of-type {\n",
       "        vertical-align: middle;\n",
       "    }\n",
       "\n",
       "    .dataframe tbody tr th {\n",
       "        vertical-align: top;\n",
       "    }\n",
       "\n",
       "    .dataframe thead th {\n",
       "        text-align: right;\n",
       "    }\n",
       "</style>\n",
       "<table border=\"1\" class=\"dataframe\">\n",
       "  <thead>\n",
       "    <tr style=\"text-align: right;\">\n",
       "      <th></th>\n",
       "      <th>number</th>\n",
       "      <th>candidates</th>\n",
       "      <th>votes_percentage</th>\n",
       "    </tr>\n",
       "  </thead>\n",
       "  <tbody>\n",
       "    <tr>\n",
       "      <th>0</th>\n",
       "      <td>1</td>\n",
       "      <td>宋楚瑜/余湘</td>\n",
       "      <td>0.042556</td>\n",
       "    </tr>\n",
       "    <tr>\n",
       "      <th>1</th>\n",
       "      <td>2</td>\n",
       "      <td>韓國瑜/張善政</td>\n",
       "      <td>0.386137</td>\n",
       "    </tr>\n",
       "    <tr>\n",
       "      <th>2</th>\n",
       "      <td>3</td>\n",
       "      <td>蔡英文/賴清德</td>\n",
       "      <td>0.571307</td>\n",
       "    </tr>\n",
       "  </tbody>\n",
       "</table>\n",
       "</div>"
      ],
      "text/plain": [
       "   number candidates  votes_percentage\n",
       "0       1     宋楚瑜/余湘          0.042556\n",
       "1       2    韓國瑜/張善政          0.386137\n",
       "2       3    蔡英文/賴清德          0.571307"
      ]
     },
     "execution_count": 69,
     "metadata": {},
     "output_type": "execute_result"
    }
   ],
   "source": [
    "pd.read_sql(test_query, conn_twelection)"
   ]
  },
  {
   "cell_type": "markdown",
   "metadata": {
    "slideshow": {
     "slide_type": "subslide"
    }
   },
   "source": [
    "## 參考解答"
   ]
  },
  {
   "cell_type": "code",
   "execution_count": 70,
   "metadata": {
    "slideshow": {
     "slide_type": "-"
    }
   },
   "outputs": [],
   "source": [
    "test_query = \"\"\"\n",
    "SELECT number,\n",
    "       candidates,\n",
    "       CAST(SUM(votes) AS REAL) / CAST((SELECT SUM(votes) FROM presidential2020) AS REAL) AS votes_percentage\n",
    "  FROM presidential2020\n",
    " GROUP BY number;\n",
    "\"\"\""
   ]
  },
  {
   "cell_type": "markdown",
   "metadata": {
    "slideshow": {
     "slide_type": "subslide"
    }
   },
   "source": [
    "## 測資比對"
   ]
  },
  {
   "cell_type": "code",
   "execution_count": 71,
   "metadata": {},
   "outputs": [
    {
     "name": "stdout",
     "output_type": "stream",
     "text": [
      "查詢語法有誤，錯誤訊息為：\n",
      "\n",
      "'NoneType' object is not iterable\n"
     ]
    }
   ],
   "source": [
    "caq = checkAnsQuery(test_query, ans_query, conn_twelection)\n",
    "caq.run_test()"
   ]
  },
  {
   "cell_type": "markdown",
   "metadata": {
    "slideshow": {
     "slide_type": "slide"
    }
   },
   "source": [
    "## 隨堂練習：查詢 `nba.db` 目前湖人隊（Los Angeles Lakers）的球員陣容生涯場均得分（`ppg`）、場均籃板（`rpg`）與場均助攻（`apg`），選擇 `fullName`、`firstName`、`lastName`、`ppg`、`rpg`、`apg` 並以 `firstName` 遞增排序"
   ]
  },
  {
   "cell_type": "code",
   "execution_count": 72,
   "metadata": {},
   "outputs": [],
   "source": [
    "ans_query = \"\"\"\n",
    "-- 將查詢語法寫在這裡\n",
    "\"\"\"\n",
    "# 試跑看看結果\n",
    "#pd.read_sql(ans_query, conn_nba)"
   ]
  },
  {
   "cell_type": "code",
   "execution_count": 73,
   "metadata": {
    "slideshow": {
     "slide_type": "skip"
    }
   },
   "outputs": [],
   "source": [
    "test_query = \"\"\"\n",
    "SELECT teams.fullName,\n",
    "       players.firstName,\n",
    "       players.lastName,\n",
    "       careerSummaries.ppg,\n",
    "       careerSummaries.rpg,\n",
    "       careerSummaries.apg\n",
    "  FROM players\n",
    "  JOIN teams\n",
    "    ON players.teamId = teams.teamId\n",
    "  JOIN careerSummaries\n",
    "    ON players.personId = careerSummaries.personId\n",
    " WHERE teams.nickname = 'Lakers'\n",
    " ORDER BY players.firstName;\n",
    "\"\"\""
   ]
  },
  {
   "cell_type": "markdown",
   "metadata": {
    "slideshow": {
     "slide_type": "subslide"
    }
   },
   "source": [
    "## 預期輸出"
   ]
  },
  {
   "cell_type": "code",
   "execution_count": 74,
   "metadata": {},
   "outputs": [
    {
     "data": {
      "text/html": [
       "<div>\n",
       "<style scoped>\n",
       "    .dataframe tbody tr th:only-of-type {\n",
       "        vertical-align: middle;\n",
       "    }\n",
       "\n",
       "    .dataframe tbody tr th {\n",
       "        vertical-align: top;\n",
       "    }\n",
       "\n",
       "    .dataframe thead th {\n",
       "        text-align: right;\n",
       "    }\n",
       "</style>\n",
       "<table border=\"1\" class=\"dataframe\">\n",
       "  <thead>\n",
       "    <tr style=\"text-align: right;\">\n",
       "      <th></th>\n",
       "      <th>fullName</th>\n",
       "      <th>firstName</th>\n",
       "      <th>lastName</th>\n",
       "      <th>ppg</th>\n",
       "      <th>rpg</th>\n",
       "      <th>apg</th>\n",
       "    </tr>\n",
       "  </thead>\n",
       "  <tbody>\n",
       "    <tr>\n",
       "      <th>0</th>\n",
       "      <td>Los Angeles Lakers</td>\n",
       "      <td>Alex</td>\n",
       "      <td>Caruso</td>\n",
       "      <td>5.7</td>\n",
       "      <td>2.0</td>\n",
       "      <td>2.1</td>\n",
       "    </tr>\n",
       "    <tr>\n",
       "      <th>1</th>\n",
       "      <td>Los Angeles Lakers</td>\n",
       "      <td>Anthony</td>\n",
       "      <td>Davis</td>\n",
       "      <td>24.0</td>\n",
       "      <td>10.4</td>\n",
       "      <td>2.2</td>\n",
       "    </tr>\n",
       "    <tr>\n",
       "      <th>2</th>\n",
       "      <td>Los Angeles Lakers</td>\n",
       "      <td>Avery</td>\n",
       "      <td>Bradley</td>\n",
       "      <td>11.8</td>\n",
       "      <td>2.9</td>\n",
       "      <td>1.8</td>\n",
       "    </tr>\n",
       "    <tr>\n",
       "      <th>3</th>\n",
       "      <td>Los Angeles Lakers</td>\n",
       "      <td>Danny</td>\n",
       "      <td>Green</td>\n",
       "      <td>8.9</td>\n",
       "      <td>3.5</td>\n",
       "      <td>1.6</td>\n",
       "    </tr>\n",
       "    <tr>\n",
       "      <th>4</th>\n",
       "      <td>Los Angeles Lakers</td>\n",
       "      <td>Devontae</td>\n",
       "      <td>Cacok</td>\n",
       "      <td>0.0</td>\n",
       "      <td>0.0</td>\n",
       "      <td>0.0</td>\n",
       "    </tr>\n",
       "    <tr>\n",
       "      <th>5</th>\n",
       "      <td>Los Angeles Lakers</td>\n",
       "      <td>Dion</td>\n",
       "      <td>Waiters</td>\n",
       "      <td>13.2</td>\n",
       "      <td>2.7</td>\n",
       "      <td>2.8</td>\n",
       "    </tr>\n",
       "    <tr>\n",
       "      <th>6</th>\n",
       "      <td>Los Angeles Lakers</td>\n",
       "      <td>Dwight</td>\n",
       "      <td>Howard</td>\n",
       "      <td>16.8</td>\n",
       "      <td>12.3</td>\n",
       "      <td>1.4</td>\n",
       "    </tr>\n",
       "    <tr>\n",
       "      <th>7</th>\n",
       "      <td>Los Angeles Lakers</td>\n",
       "      <td>JR</td>\n",
       "      <td>Smith</td>\n",
       "      <td>12.5</td>\n",
       "      <td>3.2</td>\n",
       "      <td>2.1</td>\n",
       "    </tr>\n",
       "    <tr>\n",
       "      <th>8</th>\n",
       "      <td>Los Angeles Lakers</td>\n",
       "      <td>JaVale</td>\n",
       "      <td>McGee</td>\n",
       "      <td>7.9</td>\n",
       "      <td>5.1</td>\n",
       "      <td>0.4</td>\n",
       "    </tr>\n",
       "    <tr>\n",
       "      <th>9</th>\n",
       "      <td>Los Angeles Lakers</td>\n",
       "      <td>Jared</td>\n",
       "      <td>Dudley</td>\n",
       "      <td>7.5</td>\n",
       "      <td>3.2</td>\n",
       "      <td>1.6</td>\n",
       "    </tr>\n",
       "    <tr>\n",
       "      <th>10</th>\n",
       "      <td>Los Angeles Lakers</td>\n",
       "      <td>Kentavious</td>\n",
       "      <td>Caldwell-Pope</td>\n",
       "      <td>11.6</td>\n",
       "      <td>3.2</td>\n",
       "      <td>1.6</td>\n",
       "    </tr>\n",
       "    <tr>\n",
       "      <th>11</th>\n",
       "      <td>Los Angeles Lakers</td>\n",
       "      <td>Kostas</td>\n",
       "      <td>Antetokounmpo</td>\n",
       "      <td>0.4</td>\n",
       "      <td>0.4</td>\n",
       "      <td>0.2</td>\n",
       "    </tr>\n",
       "    <tr>\n",
       "      <th>12</th>\n",
       "      <td>Los Angeles Lakers</td>\n",
       "      <td>Kyle</td>\n",
       "      <td>Kuzma</td>\n",
       "      <td>16.0</td>\n",
       "      <td>5.5</td>\n",
       "      <td>1.9</td>\n",
       "    </tr>\n",
       "    <tr>\n",
       "      <th>13</th>\n",
       "      <td>Los Angeles Lakers</td>\n",
       "      <td>LeBron</td>\n",
       "      <td>James</td>\n",
       "      <td>27.1</td>\n",
       "      <td>7.4</td>\n",
       "      <td>7.4</td>\n",
       "    </tr>\n",
       "    <tr>\n",
       "      <th>14</th>\n",
       "      <td>Los Angeles Lakers</td>\n",
       "      <td>Markieff</td>\n",
       "      <td>Morris</td>\n",
       "      <td>11.5</td>\n",
       "      <td>5.4</td>\n",
       "      <td>1.7</td>\n",
       "    </tr>\n",
       "    <tr>\n",
       "      <th>15</th>\n",
       "      <td>Los Angeles Lakers</td>\n",
       "      <td>Quinn</td>\n",
       "      <td>Cook</td>\n",
       "      <td>6.8</td>\n",
       "      <td>1.8</td>\n",
       "      <td>1.7</td>\n",
       "    </tr>\n",
       "    <tr>\n",
       "      <th>16</th>\n",
       "      <td>Los Angeles Lakers</td>\n",
       "      <td>Rajon</td>\n",
       "      <td>Rondo</td>\n",
       "      <td>10.2</td>\n",
       "      <td>4.7</td>\n",
       "      <td>8.3</td>\n",
       "    </tr>\n",
       "    <tr>\n",
       "      <th>17</th>\n",
       "      <td>Los Angeles Lakers</td>\n",
       "      <td>Talen</td>\n",
       "      <td>Horton-Tucker</td>\n",
       "      <td>0.0</td>\n",
       "      <td>0.0</td>\n",
       "      <td>1.0</td>\n",
       "    </tr>\n",
       "  </tbody>\n",
       "</table>\n",
       "</div>"
      ],
      "text/plain": [
       "              fullName   firstName       lastName   ppg   rpg  apg\n",
       "0   Los Angeles Lakers        Alex         Caruso   5.7   2.0  2.1\n",
       "1   Los Angeles Lakers     Anthony          Davis  24.0  10.4  2.2\n",
       "2   Los Angeles Lakers       Avery        Bradley  11.8   2.9  1.8\n",
       "3   Los Angeles Lakers       Danny          Green   8.9   3.5  1.6\n",
       "4   Los Angeles Lakers    Devontae          Cacok   0.0   0.0  0.0\n",
       "5   Los Angeles Lakers        Dion        Waiters  13.2   2.7  2.8\n",
       "6   Los Angeles Lakers      Dwight         Howard  16.8  12.3  1.4\n",
       "7   Los Angeles Lakers          JR          Smith  12.5   3.2  2.1\n",
       "8   Los Angeles Lakers      JaVale          McGee   7.9   5.1  0.4\n",
       "9   Los Angeles Lakers       Jared         Dudley   7.5   3.2  1.6\n",
       "10  Los Angeles Lakers  Kentavious  Caldwell-Pope  11.6   3.2  1.6\n",
       "11  Los Angeles Lakers      Kostas  Antetokounmpo   0.4   0.4  0.2\n",
       "12  Los Angeles Lakers        Kyle          Kuzma  16.0   5.5  1.9\n",
       "13  Los Angeles Lakers      LeBron          James  27.1   7.4  7.4\n",
       "14  Los Angeles Lakers    Markieff         Morris  11.5   5.4  1.7\n",
       "15  Los Angeles Lakers       Quinn           Cook   6.8   1.8  1.7\n",
       "16  Los Angeles Lakers       Rajon          Rondo  10.2   4.7  8.3\n",
       "17  Los Angeles Lakers       Talen  Horton-Tucker   0.0   0.0  1.0"
      ]
     },
     "execution_count": 74,
     "metadata": {},
     "output_type": "execute_result"
    }
   ],
   "source": [
    "pd.read_sql(test_query, conn_nba)"
   ]
  },
  {
   "cell_type": "markdown",
   "metadata": {
    "slideshow": {
     "slide_type": "subslide"
    }
   },
   "source": [
    "## 參考解答"
   ]
  },
  {
   "cell_type": "code",
   "execution_count": 75,
   "metadata": {
    "slideshow": {
     "slide_type": "-"
    }
   },
   "outputs": [],
   "source": [
    "test_query = \"\"\"\n",
    "SELECT teams.fullName,\n",
    "       players.firstName,\n",
    "       players.lastName,\n",
    "       careerSummaries.ppg,\n",
    "       careerSummaries.rpg,\n",
    "       careerSummaries.apg\n",
    "  FROM players\n",
    "  JOIN teams\n",
    "    ON players.teamId = teams.teamId\n",
    "  JOIN careerSummaries\n",
    "    ON players.personId = careerSummaries.personId\n",
    " WHERE teams.nickname = 'Lakers'\n",
    " ORDER BY players.firstName;\n",
    "\"\"\""
   ]
  },
  {
   "cell_type": "markdown",
   "metadata": {
    "slideshow": {
     "slide_type": "subslide"
    }
   },
   "source": [
    "## 測資比對"
   ]
  },
  {
   "cell_type": "code",
   "execution_count": 76,
   "metadata": {},
   "outputs": [
    {
     "name": "stdout",
     "output_type": "stream",
     "text": [
      "查詢語法有誤，錯誤訊息為：\n",
      "\n",
      "'NoneType' object is not iterable\n"
     ]
    }
   ],
   "source": [
    "caq = checkAnsQuery(test_query, ans_query, conn_nba)\n",
    "caq.run_test()"
   ]
  }
 ],
 "metadata": {
  "celltoolbar": "Slideshow",
  "kernelspec": {
   "display_name": "Python Data Analysis",
   "language": "python",
   "name": "pyda"
  },
  "language_info": {
   "codemirror_mode": {
    "name": "ipython",
    "version": 3
   },
   "file_extension": ".py",
   "mimetype": "text/x-python",
   "name": "python",
   "nbconvert_exporter": "python",
   "pygments_lexer": "ipython3",
   "version": "3.6.8"
  }
 },
 "nbformat": 4,
 "nbformat_minor": 4
}
